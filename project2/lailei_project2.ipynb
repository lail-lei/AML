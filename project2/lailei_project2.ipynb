{
  "nbformat": 4,
  "nbformat_minor": 0,
  "metadata": {
    "colab": {
      "name": "lailei_project2.ipynb",
      "provenance": [],
      "authorship_tag": "ABX9TyNFiOSYU7wdGBlyvkayIrqD",
      "include_colab_link": true
    },
    "kernelspec": {
      "name": "python3",
      "display_name": "Python 3"
    },
    "language_info": {
      "name": "python"
    }
  },
  "cells": [
    {
      "cell_type": "markdown",
      "metadata": {
        "id": "view-in-github",
        "colab_type": "text"
      },
      "source": [
        "<a href=\"https://colab.research.google.com/github/lail-lei/AML/blob/main/project2/lailei_project2.ipynb\" target=\"_parent\"><img src=\"https://colab.research.google.com/assets/colab-badge.svg\" alt=\"Open In Colab\"/></a>"
      ]
    },
    {
      "cell_type": "markdown",
      "metadata": {
        "id": "TsnBb9rU5Dhw"
      },
      "source": [
        "# **Import Pandas and Create DataFrame**"
      ]
    },
    {
      "cell_type": "code",
      "metadata": {
        "id": "uRZEC5MmJvDC"
      },
      "source": [
        "# Pandas is mainly used for data analysis. Pandas allows importing data from various file formats \n",
        "# such as comma-separated values, JSON, SQL, Microsoft Excel. \n",
        "# Pandas allows various data manipulation operations such as merging, reshaping, selecting, \n",
        "# as well as data cleaning, and data wrangling features.\n",
        "import pandas as pd\n",
        "\n",
        "\n",
        "# NumPy has support for large, multi-dimensional arrays and matrices, along with \n",
        "# a large collection of high-level mathematical functions to operate on these arrays.\n",
        "import numpy as np\n",
        "\n",
        "\n",
        "# Import matplotlib and seaborn libraries to visualize the data\n",
        "import matplotlib.pyplot as plt \n",
        "import seaborn as sbn\n",
        "\n",
        "# Read raw file from github into a dataframe\n",
        "# forrest_fire data \n",
        "df = pd.read_csv('https://raw.githubusercontent.com/lail-lei/AML/main/project2/epi_r.csv')"
      ],
      "execution_count": 204,
      "outputs": []
    },
    {
      "cell_type": "markdown",
      "metadata": {
        "id": "9PdNnNGR_n9Y"
      },
      "source": [
        "# **Data Preparation 1**\n",
        " \n",
        "*  Removed irrelevant atttributes.  \n",
        "*  Duplicate recipes deleted.  \n",
        "*  Missing values replaced with median value.\n",
        "*  Removed 98th percentile outliers\n",
        "*  Normalized data using log10.\n",
        "*  As an alternative to normalization, tried scaling data (using standard scaler and min max). \n",
        "\n"
      ]
    },
    {
      "cell_type": "markdown",
      "metadata": {
        "id": "fgWdJLZo_zNT"
      },
      "source": [
        "## **Remove Irrelevant Attributes**"
      ]
    },
    {
      "cell_type": "code",
      "metadata": {
        "id": "-flQPP0d8xMT"
      },
      "source": [
        "# drop all columns except for relevant ones\n",
        "df.drop(df.columns.difference(['title','rating','calories', 'protein', 'fat', 'sodium', 'bake', 'birthday', 'cake', '#cakeweek',  'christmas', 'dairy free', \"dessert\", \"kid-friendly\", \"low cal\", \"no-cook\", \"peanut free\", \"quick & easy\", \"thanksgiving\"]), 1, inplace=True)"
      ],
      "execution_count": 205,
      "outputs": []
    },
    {
      "cell_type": "code",
      "metadata": {
        "colab": {
          "base_uri": "https://localhost:8080/"
        },
        "id": "Vd-zfPXHUGre",
        "outputId": "2a09edab-dd31-4dc8-ae9b-b857d32131b7"
      },
      "source": [
        "# Check the dimensionality of the dataframe\n",
        "df.shape"
      ],
      "execution_count": 206,
      "outputs": [
        {
          "output_type": "execute_result",
          "data": {
            "text/plain": [
              "(20052, 19)"
            ]
          },
          "metadata": {
            "tags": []
          },
          "execution_count": 206
        }
      ]
    },
    {
      "cell_type": "code",
      "metadata": {
        "colab": {
          "base_uri": "https://localhost:8080/"
        },
        "id": "Tlb7kUOc9kpk",
        "outputId": "67b6d277-6246-46e6-8d2c-0d59b1197511"
      },
      "source": [
        "# Get basic info about the dataframe\n",
        "df.info()"
      ],
      "execution_count": 207,
      "outputs": [
        {
          "output_type": "stream",
          "text": [
            "<class 'pandas.core.frame.DataFrame'>\n",
            "RangeIndex: 20052 entries, 0 to 20051\n",
            "Data columns (total 19 columns):\n",
            " #   Column        Non-Null Count  Dtype  \n",
            "---  ------        --------------  -----  \n",
            " 0   title         20052 non-null  object \n",
            " 1   rating        20052 non-null  float64\n",
            " 2   calories      15935 non-null  float64\n",
            " 3   protein       15890 non-null  float64\n",
            " 4   fat           15869 non-null  float64\n",
            " 5   sodium        15933 non-null  float64\n",
            " 6   #cakeweek     20052 non-null  float64\n",
            " 7   bake          20052 non-null  float64\n",
            " 8   birthday      20052 non-null  float64\n",
            " 9   cake          20052 non-null  float64\n",
            " 10  christmas     20052 non-null  float64\n",
            " 11  dairy free    20052 non-null  float64\n",
            " 12  dessert       20052 non-null  float64\n",
            " 13  kid-friendly  20052 non-null  float64\n",
            " 14  low cal       20052 non-null  float64\n",
            " 15  no-cook       20052 non-null  float64\n",
            " 16  peanut free   20052 non-null  float64\n",
            " 17  quick & easy  20052 non-null  float64\n",
            " 18  thanksgiving  20052 non-null  float64\n",
            "dtypes: float64(18), object(1)\n",
            "memory usage: 2.9+ MB\n"
          ],
          "name": "stdout"
        }
      ]
    },
    {
      "cell_type": "markdown",
      "metadata": {
        "id": "qTj_Zlr8AJb2"
      },
      "source": [
        "## **Find and Remove Duplicate Recipes**"
      ]
    },
    {
      "cell_type": "code",
      "metadata": {
        "colab": {
          "base_uri": "https://localhost:8080/"
        },
        "id": "kgeY9J8-EE5B",
        "outputId": "e6f876d3-afb7-4cb2-9473-6a1c539f88a0"
      },
      "source": [
        "# Find out how many duplicate rows exist in data frame (same title, nutritional values, rating, and classifications)\n",
        "df.duplicated(keep='first').sum()"
      ],
      "execution_count": 208,
      "outputs": [
        {
          "output_type": "execute_result",
          "data": {
            "text/plain": [
              "1810"
            ]
          },
          "metadata": {
            "tags": []
          },
          "execution_count": 208
        }
      ]
    },
    {
      "cell_type": "markdown",
      "metadata": {
        "id": "zZE0IBLqEiHd"
      },
      "source": [
        "There are 1810 duplicated recipes.\n",
        "\n",
        "There should be 18242 unique recipes."
      ]
    },
    {
      "cell_type": "code",
      "metadata": {
        "id": "EvUJAnnwATg8"
      },
      "source": [
        "# Drop duplicate values\n",
        "# Keep first instance of recipe, all after are discarded\n",
        "df.drop_duplicates(keep='first',inplace=True)"
      ],
      "execution_count": 209,
      "outputs": []
    },
    {
      "cell_type": "code",
      "metadata": {
        "colab": {
          "base_uri": "https://localhost:8080/"
        },
        "id": "jlr7VUwVAsox",
        "outputId": "5eb6dde7-c45f-479e-80c5-7b3a01c3d450"
      },
      "source": [
        "# Check new dimensions of data frame. This checks out.\n",
        "df.shape"
      ],
      "execution_count": 210,
      "outputs": [
        {
          "output_type": "execute_result",
          "data": {
            "text/plain": [
              "(18242, 19)"
            ]
          },
          "metadata": {
            "tags": []
          },
          "execution_count": 210
        }
      ]
    },
    {
      "cell_type": "markdown",
      "metadata": {
        "id": "lOVc9anzQ-T0"
      },
      "source": [
        "## **Missing Data**"
      ]
    },
    {
      "cell_type": "code",
      "metadata": {
        "colab": {
          "base_uri": "https://localhost:8080/"
        },
        "id": "h5117q1-F57D",
        "outputId": "165dc563-63aa-408b-fe12-a8799768dc69"
      },
      "source": [
        "# Show how many null values per column \n",
        "df.isnull().sum()"
      ],
      "execution_count": 211,
      "outputs": [
        {
          "output_type": "execute_result",
          "data": {
            "text/plain": [
              "title              0\n",
              "rating             0\n",
              "calories        3747\n",
              "protein         3778\n",
              "fat             3798\n",
              "sodium          3748\n",
              "#cakeweek          0\n",
              "bake               0\n",
              "birthday           0\n",
              "cake               0\n",
              "christmas          0\n",
              "dairy free         0\n",
              "dessert            0\n",
              "kid-friendly       0\n",
              "low cal            0\n",
              "no-cook            0\n",
              "peanut free        0\n",
              "quick & easy       0\n",
              "thanksgiving       0\n",
              "dtype: int64"
            ]
          },
          "metadata": {
            "tags": []
          },
          "execution_count": 211
        }
      ]
    },
    {
      "cell_type": "markdown",
      "metadata": {
        "id": "VRvV0-MPImlt"
      },
      "source": [
        "~3,800 recipes are missing at least 1 nutritional value. Let's create a data frame with only numerical attributes. Then use an imputer to replace all null values with the median of each column."
      ]
    },
    {
      "cell_type": "code",
      "metadata": {
        "id": "vsUjbqEJX1ck"
      },
      "source": [
        "# Create data frame with only numerical attributes\n",
        "df_nums = df.drop(\"title\", axis=1)"
      ],
      "execution_count": 212,
      "outputs": []
    },
    {
      "cell_type": "code",
      "metadata": {
        "id": "PaUNCgnlW9vD"
      },
      "source": [
        "# Import Imputer to replace null values with median values for that column\n",
        "from sklearn.impute import SimpleImputer\n",
        "imputer = SimpleImputer(strategy='median')\n",
        "\n",
        "# Train the imputer\n",
        "imputer.fit(df_nums)\n",
        "\n",
        "# Transform df_nums\n",
        "X = imputer.transform(df_nums)\n",
        "\n",
        "# Create dataframe from transformed array\n",
        "df_nums_tr = pd.DataFrame(X, columns=df_nums.columns, index=df_nums.index);\n"
      ],
      "execution_count": 213,
      "outputs": []
    },
    {
      "cell_type": "markdown",
      "metadata": {
        "id": "CzvHtRQURF5n"
      },
      "source": [
        "## **Visualizing Distributions**"
      ]
    },
    {
      "cell_type": "code",
      "metadata": {
        "colab": {
          "base_uri": "https://localhost:8080/",
          "height": 621
        },
        "id": "XJIZF-bpQhyQ",
        "outputId": "76646fe6-f9a4-452c-e715-524f9366aad6"
      },
      "source": [
        "# Visualize distribution of continuous attributes\n",
        "%matplotlib inline\n",
        "import matplotlib.pyplot as plt\n",
        "df_nums_tr.hist([\"rating\", \"calories\", \"protein\", \"fat\", \"sodium\"], bins=5, figsize=(10,10))\n",
        "plt.show()"
      ],
      "execution_count": 214,
      "outputs": [
        {
          "output_type": "display_data",
          "data": {
            "image/png": "[encoded data removed]",
            "text/plain": [
              "<Figure size 720x720 with 6 Axes>"
            ]
          },
          "metadata": {
            "tags": [],
            "needs_background": "light"
          }
        }
      ]
    },
    {
      "cell_type": "code",
      "metadata": {
        "colab": {
          "base_uri": "https://localhost:8080/",
          "height": 334
        },
        "id": "G2uk78saj3-7",
        "outputId": "90c94499-2330-47d0-d4e4-645cb8d71319"
      },
      "source": [
        "# Let's describe the data to find the max and min values\n",
        "df_nums_tr.describe()"
      ],
      "execution_count": 215,
      "outputs": [
        {
          "output_type": "execute_result",
          "data": {
            "text/html": [
              "<div>\n",
              "<style scoped>\n",
              "    .dataframe tbody tr th:only-of-type {\n",
              "        vertical-align: middle;\n",
              "    }\n",
              "\n",
              "    .dataframe tbody tr th {\n",
              "        vertical-align: top;\n",
              "    }\n",
              "\n",
              "    .dataframe thead th {\n",
              "        text-align: right;\n",
              "    }\n",
              "</style>\n",
              "<table border=\"1\" class=\"dataframe\">\n",
              "  <thead>\n",
              "    <tr style=\"text-align: right;\">\n",
              "      <th></th>\n",
              "      <th>rating</th>\n",
              "      <th>calories</th>\n",
              "      <th>protein</th>\n",
              "      <th>fat</th>\n",
              "      <th>sodium</th>\n",
              "      <th>#cakeweek</th>\n",
              "      <th>bake</th>\n",
              "      <th>birthday</th>\n",
              "      <th>cake</th>\n",
              "      <th>christmas</th>\n",
              "      <th>dairy free</th>\n",
              "      <th>dessert</th>\n",
              "      <th>kid-friendly</th>\n",
              "      <th>low cal</th>\n",
              "      <th>no-cook</th>\n",
              "      <th>peanut free</th>\n",
              "      <th>quick &amp; easy</th>\n",
              "      <th>thanksgiving</th>\n",
              "    </tr>\n",
              "  </thead>\n",
              "  <tbody>\n",
              "    <tr>\n",
              "      <th>count</th>\n",
              "      <td>18242.000000</td>\n",
              "      <td>1.824200e+04</td>\n",
              "      <td>18242.000000</td>\n",
              "      <td>1.824200e+04</td>\n",
              "      <td>1.824200e+04</td>\n",
              "      <td>18242.000000</td>\n",
              "      <td>18242.000000</td>\n",
              "      <td>18242.000000</td>\n",
              "      <td>18242.000000</td>\n",
              "      <td>18242.000000</td>\n",
              "      <td>18242.000000</td>\n",
              "      <td>18242.000000</td>\n",
              "      <td>18242.000000</td>\n",
              "      <td>18242.000000</td>\n",
              "      <td>18242.000000</td>\n",
              "      <td>18242.000000</td>\n",
              "      <td>18242.000000</td>\n",
              "      <td>18242.000000</td>\n",
              "    </tr>\n",
              "    <tr>\n",
              "      <th>mean</th>\n",
              "      <td>3.714985</td>\n",
              "      <td>5.335228e+03</td>\n",
              "      <td>75.019406</td>\n",
              "      <td>2.916016e+02</td>\n",
              "      <td>5.288214e+03</td>\n",
              "      <td>0.000329</td>\n",
              "      <td>0.225249</td>\n",
              "      <td>0.009429</td>\n",
              "      <td>0.037112</td>\n",
              "      <td>0.050817</td>\n",
              "      <td>0.159029</td>\n",
              "      <td>0.177283</td>\n",
              "      <td>0.092095</td>\n",
              "      <td>0.052407</td>\n",
              "      <td>0.058162</td>\n",
              "      <td>0.421993</td>\n",
              "      <td>0.266034</td>\n",
              "      <td>0.070223</td>\n",
              "    </tr>\n",
              "    <tr>\n",
              "      <th>std</th>\n",
              "      <td>1.332754</td>\n",
              "      <td>3.341687e+05</td>\n",
              "      <td>3127.839920</td>\n",
              "      <td>1.900907e+04</td>\n",
              "      <td>3.106517e+05</td>\n",
              "      <td>0.018133</td>\n",
              "      <td>0.417758</td>\n",
              "      <td>0.096646</td>\n",
              "      <td>0.189042</td>\n",
              "      <td>0.219629</td>\n",
              "      <td>0.365713</td>\n",
              "      <td>0.381919</td>\n",
              "      <td>0.289168</td>\n",
              "      <td>0.222852</td>\n",
              "      <td>0.234057</td>\n",
              "      <td>0.493891</td>\n",
              "      <td>0.441895</td>\n",
              "      <td>0.255529</td>\n",
              "    </tr>\n",
              "    <tr>\n",
              "      <th>min</th>\n",
              "      <td>0.000000</td>\n",
              "      <td>0.000000e+00</td>\n",
              "      <td>0.000000</td>\n",
              "      <td>0.000000e+00</td>\n",
              "      <td>0.000000e+00</td>\n",
              "      <td>0.000000</td>\n",
              "      <td>0.000000</td>\n",
              "      <td>0.000000</td>\n",
              "      <td>0.000000</td>\n",
              "      <td>0.000000</td>\n",
              "      <td>0.000000</td>\n",
              "      <td>0.000000</td>\n",
              "      <td>0.000000</td>\n",
              "      <td>0.000000</td>\n",
              "      <td>0.000000</td>\n",
              "      <td>0.000000</td>\n",
              "      <td>0.000000</td>\n",
              "      <td>0.000000</td>\n",
              "    </tr>\n",
              "    <tr>\n",
              "      <th>25%</th>\n",
              "      <td>3.750000</td>\n",
              "      <td>2.380000e+02</td>\n",
              "      <td>4.000000</td>\n",
              "      <td>1.100000e+01</td>\n",
              "      <td>1.320000e+02</td>\n",
              "      <td>0.000000</td>\n",
              "      <td>0.000000</td>\n",
              "      <td>0.000000</td>\n",
              "      <td>0.000000</td>\n",
              "      <td>0.000000</td>\n",
              "      <td>0.000000</td>\n",
              "      <td>0.000000</td>\n",
              "      <td>0.000000</td>\n",
              "      <td>0.000000</td>\n",
              "      <td>0.000000</td>\n",
              "      <td>0.000000</td>\n",
              "      <td>0.000000</td>\n",
              "      <td>0.000000</td>\n",
              "    </tr>\n",
              "    <tr>\n",
              "      <th>50%</th>\n",
              "      <td>4.375000</td>\n",
              "      <td>3.450000e+02</td>\n",
              "      <td>9.000000</td>\n",
              "      <td>1.800000e+01</td>\n",
              "      <td>3.045000e+02</td>\n",
              "      <td>0.000000</td>\n",
              "      <td>0.000000</td>\n",
              "      <td>0.000000</td>\n",
              "      <td>0.000000</td>\n",
              "      <td>0.000000</td>\n",
              "      <td>0.000000</td>\n",
              "      <td>0.000000</td>\n",
              "      <td>0.000000</td>\n",
              "      <td>0.000000</td>\n",
              "      <td>0.000000</td>\n",
              "      <td>0.000000</td>\n",
              "      <td>0.000000</td>\n",
              "      <td>0.000000</td>\n",
              "    </tr>\n",
              "    <tr>\n",
              "      <th>75%</th>\n",
              "      <td>4.375000</td>\n",
              "      <td>5.170000e+02</td>\n",
              "      <td>21.000000</td>\n",
              "      <td>2.800000e+01</td>\n",
              "      <td>5.890000e+02</td>\n",
              "      <td>0.000000</td>\n",
              "      <td>0.000000</td>\n",
              "      <td>0.000000</td>\n",
              "      <td>0.000000</td>\n",
              "      <td>0.000000</td>\n",
              "      <td>0.000000</td>\n",
              "      <td>0.000000</td>\n",
              "      <td>0.000000</td>\n",
              "      <td>0.000000</td>\n",
              "      <td>0.000000</td>\n",
              "      <td>1.000000</td>\n",
              "      <td>1.000000</td>\n",
              "      <td>0.000000</td>\n",
              "    </tr>\n",
              "    <tr>\n",
              "      <th>max</th>\n",
              "      <td>5.000000</td>\n",
              "      <td>3.011122e+07</td>\n",
              "      <td>236489.000000</td>\n",
              "      <td>1.722763e+06</td>\n",
              "      <td>2.767511e+07</td>\n",
              "      <td>1.000000</td>\n",
              "      <td>1.000000</td>\n",
              "      <td>1.000000</td>\n",
              "      <td>1.000000</td>\n",
              "      <td>1.000000</td>\n",
              "      <td>1.000000</td>\n",
              "      <td>1.000000</td>\n",
              "      <td>1.000000</td>\n",
              "      <td>1.000000</td>\n",
              "      <td>1.000000</td>\n",
              "      <td>1.000000</td>\n",
              "      <td>1.000000</td>\n",
              "      <td>1.000000</td>\n",
              "    </tr>\n",
              "  </tbody>\n",
              "</table>\n",
              "</div>"
            ],
            "text/plain": [
              "             rating      calories  ...  quick & easy  thanksgiving\n",
              "count  18242.000000  1.824200e+04  ...  18242.000000  18242.000000\n",
              "mean       3.714985  5.335228e+03  ...      0.266034      0.070223\n",
              "std        1.332754  3.341687e+05  ...      0.441895      0.255529\n",
              "min        0.000000  0.000000e+00  ...      0.000000      0.000000\n",
              "25%        3.750000  2.380000e+02  ...      0.000000      0.000000\n",
              "50%        4.375000  3.450000e+02  ...      0.000000      0.000000\n",
              "75%        4.375000  5.170000e+02  ...      1.000000      0.000000\n",
              "max        5.000000  3.011122e+07  ...      1.000000      1.000000\n",
              "\n",
              "[8 rows x 18 columns]"
            ]
          },
          "metadata": {
            "tags": []
          },
          "execution_count": 215
        }
      ]
    },
    {
      "cell_type": "markdown",
      "metadata": {
        "id": "Ce0kV1OJkgOM"
      },
      "source": [
        "I'm assuming that nutritional data are supposed to be per-serving, and not for the total recipe. Even still, 4-6 servings of a recipe shouldn't have 3.011122e+07 calories.\n",
        "\n",
        "I will need to get rid of outliers (bad data).  "
      ]
    },
    {
      "cell_type": "markdown",
      "metadata": {
        "id": "GWP7M-c230J_"
      },
      "source": [
        "## **Handling Outliers**"
      ]
    },
    {
      "cell_type": "code",
      "metadata": {
        "colab": {
          "base_uri": "https://localhost:8080/",
          "height": 334
        },
        "id": "g3sm4LxezsHY",
        "outputId": "33cdac27-3665-4edc-9228-d82c6b0daa29"
      },
      "source": [
        "# Get value of 98% quartile\n",
        "cq = df[\"calories\"].quantile(0.98)\n",
        "sq = df[\"sodium\"].quantile(0.98)\n",
        "fq = df[\"fat\"].quantile(0.98)\n",
        "pq = df[\"protein\"].quantile(0.98)\n",
        "\n",
        "# Remove outliers where rain is more than 98% quartile\n",
        "df_nums_tr = df_nums_tr[(df_nums_tr['calories'] < cq) &\n",
        "                        (df_nums_tr['sodium'] < sq) & \n",
        "                        (df_nums_tr['fat'] < fq) & \n",
        "                        (df_nums_tr['protein'] < pq)];\n",
        "\n",
        "df_nums_tr.describe()\n",
        "\n"
      ],
      "execution_count": 216,
      "outputs": [
        {
          "output_type": "execute_result",
          "data": {
            "text/html": [
              "<div>\n",
              "<style scoped>\n",
              "    .dataframe tbody tr th:only-of-type {\n",
              "        vertical-align: middle;\n",
              "    }\n",
              "\n",
              "    .dataframe tbody tr th {\n",
              "        vertical-align: top;\n",
              "    }\n",
              "\n",
              "    .dataframe thead th {\n",
              "        text-align: right;\n",
              "    }\n",
              "</style>\n",
              "<table border=\"1\" class=\"dataframe\">\n",
              "  <thead>\n",
              "    <tr style=\"text-align: right;\">\n",
              "      <th></th>\n",
              "      <th>rating</th>\n",
              "      <th>calories</th>\n",
              "      <th>protein</th>\n",
              "      <th>fat</th>\n",
              "      <th>sodium</th>\n",
              "      <th>#cakeweek</th>\n",
              "      <th>bake</th>\n",
              "      <th>birthday</th>\n",
              "      <th>cake</th>\n",
              "      <th>christmas</th>\n",
              "      <th>dairy free</th>\n",
              "      <th>dessert</th>\n",
              "      <th>kid-friendly</th>\n",
              "      <th>low cal</th>\n",
              "      <th>no-cook</th>\n",
              "      <th>peanut free</th>\n",
              "      <th>quick &amp; easy</th>\n",
              "      <th>thanksgiving</th>\n",
              "    </tr>\n",
              "  </thead>\n",
              "  <tbody>\n",
              "    <tr>\n",
              "      <th>count</th>\n",
              "      <td>17572.000000</td>\n",
              "      <td>17572.000000</td>\n",
              "      <td>17572.000000</td>\n",
              "      <td>17572.000000</td>\n",
              "      <td>17572.000000</td>\n",
              "      <td>17572.000000</td>\n",
              "      <td>17572.000000</td>\n",
              "      <td>17572.000000</td>\n",
              "      <td>17572.000000</td>\n",
              "      <td>17572.000000</td>\n",
              "      <td>17572.000000</td>\n",
              "      <td>17572.000000</td>\n",
              "      <td>17572.000000</td>\n",
              "      <td>17572.000000</td>\n",
              "      <td>17572.000000</td>\n",
              "      <td>17572.000000</td>\n",
              "      <td>17572.000000</td>\n",
              "      <td>17572.000000</td>\n",
              "    </tr>\n",
              "    <tr>\n",
              "      <th>mean</th>\n",
              "      <td>3.706749</td>\n",
              "      <td>402.221773</td>\n",
              "      <td>15.250911</td>\n",
              "      <td>22.091168</td>\n",
              "      <td>437.755748</td>\n",
              "      <td>0.000228</td>\n",
              "      <td>0.225700</td>\n",
              "      <td>0.009447</td>\n",
              "      <td>0.036649</td>\n",
              "      <td>0.048828</td>\n",
              "      <td>0.159231</td>\n",
              "      <td>0.179832</td>\n",
              "      <td>0.092761</td>\n",
              "      <td>0.053665</td>\n",
              "      <td>0.059868</td>\n",
              "      <td>0.423799</td>\n",
              "      <td>0.270885</td>\n",
              "      <td>0.067038</td>\n",
              "    </tr>\n",
              "    <tr>\n",
              "      <th>std</th>\n",
              "      <td>1.336433</td>\n",
              "      <td>275.809938</td>\n",
              "      <td>18.227227</td>\n",
              "      <td>19.903666</td>\n",
              "      <td>498.548732</td>\n",
              "      <td>0.015086</td>\n",
              "      <td>0.418054</td>\n",
              "      <td>0.096737</td>\n",
              "      <td>0.187904</td>\n",
              "      <td>0.215514</td>\n",
              "      <td>0.365901</td>\n",
              "      <td>0.384058</td>\n",
              "      <td>0.290106</td>\n",
              "      <td>0.225362</td>\n",
              "      <td>0.237249</td>\n",
              "      <td>0.494173</td>\n",
              "      <td>0.444430</td>\n",
              "      <td>0.250096</td>\n",
              "    </tr>\n",
              "    <tr>\n",
              "      <th>min</th>\n",
              "      <td>0.000000</td>\n",
              "      <td>0.000000</td>\n",
              "      <td>0.000000</td>\n",
              "      <td>0.000000</td>\n",
              "      <td>0.000000</td>\n",
              "      <td>0.000000</td>\n",
              "      <td>0.000000</td>\n",
              "      <td>0.000000</td>\n",
              "      <td>0.000000</td>\n",
              "      <td>0.000000</td>\n",
              "      <td>0.000000</td>\n",
              "      <td>0.000000</td>\n",
              "      <td>0.000000</td>\n",
              "      <td>0.000000</td>\n",
              "      <td>0.000000</td>\n",
              "      <td>0.000000</td>\n",
              "      <td>0.000000</td>\n",
              "      <td>0.000000</td>\n",
              "    </tr>\n",
              "    <tr>\n",
              "      <th>25%</th>\n",
              "      <td>3.750000</td>\n",
              "      <td>233.000000</td>\n",
              "      <td>4.000000</td>\n",
              "      <td>10.000000</td>\n",
              "      <td>124.000000</td>\n",
              "      <td>0.000000</td>\n",
              "      <td>0.000000</td>\n",
              "      <td>0.000000</td>\n",
              "      <td>0.000000</td>\n",
              "      <td>0.000000</td>\n",
              "      <td>0.000000</td>\n",
              "      <td>0.000000</td>\n",
              "      <td>0.000000</td>\n",
              "      <td>0.000000</td>\n",
              "      <td>0.000000</td>\n",
              "      <td>0.000000</td>\n",
              "      <td>0.000000</td>\n",
              "      <td>0.000000</td>\n",
              "    </tr>\n",
              "    <tr>\n",
              "      <th>50%</th>\n",
              "      <td>4.375000</td>\n",
              "      <td>345.000000</td>\n",
              "      <td>9.000000</td>\n",
              "      <td>18.000000</td>\n",
              "      <td>304.500000</td>\n",
              "      <td>0.000000</td>\n",
              "      <td>0.000000</td>\n",
              "      <td>0.000000</td>\n",
              "      <td>0.000000</td>\n",
              "      <td>0.000000</td>\n",
              "      <td>0.000000</td>\n",
              "      <td>0.000000</td>\n",
              "      <td>0.000000</td>\n",
              "      <td>0.000000</td>\n",
              "      <td>0.000000</td>\n",
              "      <td>0.000000</td>\n",
              "      <td>0.000000</td>\n",
              "      <td>0.000000</td>\n",
              "    </tr>\n",
              "    <tr>\n",
              "      <th>75%</th>\n",
              "      <td>4.375000</td>\n",
              "      <td>486.000000</td>\n",
              "      <td>18.000000</td>\n",
              "      <td>26.000000</td>\n",
              "      <td>521.000000</td>\n",
              "      <td>0.000000</td>\n",
              "      <td>0.000000</td>\n",
              "      <td>0.000000</td>\n",
              "      <td>0.000000</td>\n",
              "      <td>0.000000</td>\n",
              "      <td>0.000000</td>\n",
              "      <td>0.000000</td>\n",
              "      <td>0.000000</td>\n",
              "      <td>0.000000</td>\n",
              "      <td>0.000000</td>\n",
              "      <td>1.000000</td>\n",
              "      <td>1.000000</td>\n",
              "      <td>0.000000</td>\n",
              "    </tr>\n",
              "    <tr>\n",
              "      <th>max</th>\n",
              "      <td>5.000000</td>\n",
              "      <td>2094.000000</td>\n",
              "      <td>118.000000</td>\n",
              "      <td>140.000000</td>\n",
              "      <td>3536.000000</td>\n",
              "      <td>1.000000</td>\n",
              "      <td>1.000000</td>\n",
              "      <td>1.000000</td>\n",
              "      <td>1.000000</td>\n",
              "      <td>1.000000</td>\n",
              "      <td>1.000000</td>\n",
              "      <td>1.000000</td>\n",
              "      <td>1.000000</td>\n",
              "      <td>1.000000</td>\n",
              "      <td>1.000000</td>\n",
              "      <td>1.000000</td>\n",
              "      <td>1.000000</td>\n",
              "      <td>1.000000</td>\n",
              "    </tr>\n",
              "  </tbody>\n",
              "</table>\n",
              "</div>"
            ],
            "text/plain": [
              "             rating      calories  ...  quick & easy  thanksgiving\n",
              "count  17572.000000  17572.000000  ...  17572.000000  17572.000000\n",
              "mean       3.706749    402.221773  ...      0.270885      0.067038\n",
              "std        1.336433    275.809938  ...      0.444430      0.250096\n",
              "min        0.000000      0.000000  ...      0.000000      0.000000\n",
              "25%        3.750000    233.000000  ...      0.000000      0.000000\n",
              "50%        4.375000    345.000000  ...      0.000000      0.000000\n",
              "75%        4.375000    486.000000  ...      1.000000      0.000000\n",
              "max        5.000000   2094.000000  ...      1.000000      1.000000\n",
              "\n",
              "[8 rows x 18 columns]"
            ]
          },
          "metadata": {
            "tags": []
          },
          "execution_count": 216
        }
      ]
    },
    {
      "cell_type": "code",
      "metadata": {
        "colab": {
          "base_uri": "https://localhost:8080/",
          "height": 607
        },
        "id": "pfGGYR3u3mZn",
        "outputId": "9269ac2c-2d98-462a-cfc6-ac664d048125"
      },
      "source": [
        "# Visualize distribution of continuous attributes\n",
        "%matplotlib inline\n",
        "import matplotlib.pyplot as plt\n",
        "df_nums_tr.hist([\"rating\", \"calories\", \"protein\", \"fat\", \"sodium\"], bins=5, figsize=(10,10))\n",
        "plt.show()"
      ],
      "execution_count": 217,
      "outputs": [
        {
          "output_type": "display_data",
          "data": {
            "image/png": "[encoded data removed]",
            "text/plain": [
              "<Figure size 720x720 with 6 Axes>"
            ]
          },
          "metadata": {
            "tags": [],
            "needs_background": "light"
          }
        }
      ]
    },
    {
      "cell_type": "markdown",
      "metadata": {
        "id": "JyCVOJ1T4BVD"
      },
      "source": [
        "The distributions are still very skewed, but much more acceptable than before we removed outliers. My gut instinct is that the scale was being mostly affected by these outliers. I want to try normalizing the data first, before I standardize the scale."
      ]
    },
    {
      "cell_type": "markdown",
      "metadata": {
        "id": "b1A-o-ur4bCN"
      },
      "source": [
        "## **Normalized Data**"
      ]
    },
    {
      "cell_type": "code",
      "metadata": {
        "id": "bkLk0k7C6lSc"
      },
      "source": [
        "# Save columns to be normalized\n",
        "norm_calories = pd.DataFrame(df_nums_tr[\"calories\"])\n",
        "norm_sodium = pd.DataFrame(df_nums_tr[\"sodium\"])\n",
        "norm_protein = pd.DataFrame(df_nums_tr[\"protein\"])\n",
        "norm_fat = pd.DataFrame(df_nums_tr[\"fat\"])\n",
        "norm_rating = pd.DataFrame(df_nums_tr[\"rating\"])\n",
        "\n",
        "\n",
        "# Normalize the data using np log method (natural log). \n",
        "# Used a constant + 1 because the area contains many zeros and using a logarithm translation. \n",
        "norm_calories = np.log10(norm_calories + 1)\n",
        "norm_sodium = np.log10(norm_sodium + 1)\n",
        "norm_protein = np.log10(norm_protein + 1)\n",
        "norm_fat = np.log10(norm_fat + 1)\n",
        "norm_rating = np.log10(norm_rating + 1)\n",
        "\n",
        "data = [norm_rating, norm_calories, norm_sodium, norm_protein, norm_fat, df_nums_tr[\"bake\"], df_nums_tr[\"birthday\"], df_nums_tr[\"cake\"], df_nums_tr[\"#cakeweek\"], df_nums_tr[\"christmas\"], df_nums_tr[\"dairy free\"], df_nums_tr[\"dessert\"], df_nums_tr[\"kid-friendly\"], df_nums_tr[\"low cal\"], df_nums_tr[\"no-cook\"], df_nums_tr[\"peanut free\"], df_nums_tr[\"quick & easy\"], df_nums_tr[\"thanksgiving\"]]\n",
        "\n",
        "\n",
        "\n"
      ],
      "execution_count": 218,
      "outputs": []
    },
    {
      "cell_type": "code",
      "metadata": {
        "colab": {
          "base_uri": "https://localhost:8080/",
          "height": 334
        },
        "id": "mTqf4v_B86D9",
        "outputId": "283591f5-5315-4a20-e789-d1ac84663589"
      },
      "source": [
        "# create a new DataFrame containing all normalized values\n",
        "prepared = pd.concat(data, axis=1)\n",
        "prepared.describe()"
      ],
      "execution_count": 219,
      "outputs": [
        {
          "output_type": "execute_result",
          "data": {
            "text/html": [
              "<div>\n",
              "<style scoped>\n",
              "    .dataframe tbody tr th:only-of-type {\n",
              "        vertical-align: middle;\n",
              "    }\n",
              "\n",
              "    .dataframe tbody tr th {\n",
              "        vertical-align: top;\n",
              "    }\n",
              "\n",
              "    .dataframe thead th {\n",
              "        text-align: right;\n",
              "    }\n",
              "</style>\n",
              "<table border=\"1\" class=\"dataframe\">\n",
              "  <thead>\n",
              "    <tr style=\"text-align: right;\">\n",
              "      <th></th>\n",
              "      <th>rating</th>\n",
              "      <th>calories</th>\n",
              "      <th>sodium</th>\n",
              "      <th>protein</th>\n",
              "      <th>fat</th>\n",
              "      <th>bake</th>\n",
              "      <th>birthday</th>\n",
              "      <th>cake</th>\n",
              "      <th>#cakeweek</th>\n",
              "      <th>christmas</th>\n",
              "      <th>dairy free</th>\n",
              "      <th>dessert</th>\n",
              "      <th>kid-friendly</th>\n",
              "      <th>low cal</th>\n",
              "      <th>no-cook</th>\n",
              "      <th>peanut free</th>\n",
              "      <th>quick &amp; easy</th>\n",
              "      <th>thanksgiving</th>\n",
              "    </tr>\n",
              "  </thead>\n",
              "  <tbody>\n",
              "    <tr>\n",
              "      <th>count</th>\n",
              "      <td>17572.000000</td>\n",
              "      <td>17572.000000</td>\n",
              "      <td>17572.000000</td>\n",
              "      <td>17572.000000</td>\n",
              "      <td>17572.000000</td>\n",
              "      <td>17572.000000</td>\n",
              "      <td>17572.000000</td>\n",
              "      <td>17572.000000</td>\n",
              "      <td>17572.000000</td>\n",
              "      <td>17572.000000</td>\n",
              "      <td>17572.000000</td>\n",
              "      <td>17572.000000</td>\n",
              "      <td>17572.000000</td>\n",
              "      <td>17572.000000</td>\n",
              "      <td>17572.000000</td>\n",
              "      <td>17572.000000</td>\n",
              "      <td>17572.000000</td>\n",
              "      <td>17572.000000</td>\n",
              "    </tr>\n",
              "    <tr>\n",
              "      <th>mean</th>\n",
              "      <td>0.637294</td>\n",
              "      <td>2.504614</td>\n",
              "      <td>2.333837</td>\n",
              "      <td>0.991003</td>\n",
              "      <td>1.191204</td>\n",
              "      <td>0.225700</td>\n",
              "      <td>0.009447</td>\n",
              "      <td>0.036649</td>\n",
              "      <td>0.000228</td>\n",
              "      <td>0.048828</td>\n",
              "      <td>0.159231</td>\n",
              "      <td>0.179832</td>\n",
              "      <td>0.092761</td>\n",
              "      <td>0.053665</td>\n",
              "      <td>0.059868</td>\n",
              "      <td>0.423799</td>\n",
              "      <td>0.270885</td>\n",
              "      <td>0.067038</td>\n",
              "    </tr>\n",
              "    <tr>\n",
              "      <th>std</th>\n",
              "      <td>0.211482</td>\n",
              "      <td>0.327938</td>\n",
              "      <td>0.641564</td>\n",
              "      <td>0.446338</td>\n",
              "      <td>0.448779</td>\n",
              "      <td>0.418054</td>\n",
              "      <td>0.096737</td>\n",
              "      <td>0.187904</td>\n",
              "      <td>0.015086</td>\n",
              "      <td>0.215514</td>\n",
              "      <td>0.365901</td>\n",
              "      <td>0.384058</td>\n",
              "      <td>0.290106</td>\n",
              "      <td>0.225362</td>\n",
              "      <td>0.237249</td>\n",
              "      <td>0.494173</td>\n",
              "      <td>0.444430</td>\n",
              "      <td>0.250096</td>\n",
              "    </tr>\n",
              "    <tr>\n",
              "      <th>min</th>\n",
              "      <td>0.000000</td>\n",
              "      <td>0.000000</td>\n",
              "      <td>0.000000</td>\n",
              "      <td>0.000000</td>\n",
              "      <td>0.000000</td>\n",
              "      <td>0.000000</td>\n",
              "      <td>0.000000</td>\n",
              "      <td>0.000000</td>\n",
              "      <td>0.000000</td>\n",
              "      <td>0.000000</td>\n",
              "      <td>0.000000</td>\n",
              "      <td>0.000000</td>\n",
              "      <td>0.000000</td>\n",
              "      <td>0.000000</td>\n",
              "      <td>0.000000</td>\n",
              "      <td>0.000000</td>\n",
              "      <td>0.000000</td>\n",
              "      <td>0.000000</td>\n",
              "    </tr>\n",
              "    <tr>\n",
              "      <th>25%</th>\n",
              "      <td>0.676694</td>\n",
              "      <td>2.369216</td>\n",
              "      <td>2.096910</td>\n",
              "      <td>0.698970</td>\n",
              "      <td>1.041393</td>\n",
              "      <td>0.000000</td>\n",
              "      <td>0.000000</td>\n",
              "      <td>0.000000</td>\n",
              "      <td>0.000000</td>\n",
              "      <td>0.000000</td>\n",
              "      <td>0.000000</td>\n",
              "      <td>0.000000</td>\n",
              "      <td>0.000000</td>\n",
              "      <td>0.000000</td>\n",
              "      <td>0.000000</td>\n",
              "      <td>0.000000</td>\n",
              "      <td>0.000000</td>\n",
              "      <td>0.000000</td>\n",
              "    </tr>\n",
              "    <tr>\n",
              "      <th>50%</th>\n",
              "      <td>0.730378</td>\n",
              "      <td>2.539076</td>\n",
              "      <td>2.485011</td>\n",
              "      <td>1.000000</td>\n",
              "      <td>1.278754</td>\n",
              "      <td>0.000000</td>\n",
              "      <td>0.000000</td>\n",
              "      <td>0.000000</td>\n",
              "      <td>0.000000</td>\n",
              "      <td>0.000000</td>\n",
              "      <td>0.000000</td>\n",
              "      <td>0.000000</td>\n",
              "      <td>0.000000</td>\n",
              "      <td>0.000000</td>\n",
              "      <td>0.000000</td>\n",
              "      <td>0.000000</td>\n",
              "      <td>0.000000</td>\n",
              "      <td>0.000000</td>\n",
              "    </tr>\n",
              "    <tr>\n",
              "      <th>75%</th>\n",
              "      <td>0.730378</td>\n",
              "      <td>2.687529</td>\n",
              "      <td>2.717671</td>\n",
              "      <td>1.278754</td>\n",
              "      <td>1.431364</td>\n",
              "      <td>0.000000</td>\n",
              "      <td>0.000000</td>\n",
              "      <td>0.000000</td>\n",
              "      <td>0.000000</td>\n",
              "      <td>0.000000</td>\n",
              "      <td>0.000000</td>\n",
              "      <td>0.000000</td>\n",
              "      <td>0.000000</td>\n",
              "      <td>0.000000</td>\n",
              "      <td>0.000000</td>\n",
              "      <td>1.000000</td>\n",
              "      <td>1.000000</td>\n",
              "      <td>0.000000</td>\n",
              "    </tr>\n",
              "    <tr>\n",
              "      <th>max</th>\n",
              "      <td>0.778151</td>\n",
              "      <td>3.321184</td>\n",
              "      <td>3.548635</td>\n",
              "      <td>2.075547</td>\n",
              "      <td>2.149219</td>\n",
              "      <td>1.000000</td>\n",
              "      <td>1.000000</td>\n",
              "      <td>1.000000</td>\n",
              "      <td>1.000000</td>\n",
              "      <td>1.000000</td>\n",
              "      <td>1.000000</td>\n",
              "      <td>1.000000</td>\n",
              "      <td>1.000000</td>\n",
              "      <td>1.000000</td>\n",
              "      <td>1.000000</td>\n",
              "      <td>1.000000</td>\n",
              "      <td>1.000000</td>\n",
              "      <td>1.000000</td>\n",
              "    </tr>\n",
              "  </tbody>\n",
              "</table>\n",
              "</div>"
            ],
            "text/plain": [
              "             rating      calories  ...  quick & easy  thanksgiving\n",
              "count  17572.000000  17572.000000  ...  17572.000000  17572.000000\n",
              "mean       0.637294      2.504614  ...      0.270885      0.067038\n",
              "std        0.211482      0.327938  ...      0.444430      0.250096\n",
              "min        0.000000      0.000000  ...      0.000000      0.000000\n",
              "25%        0.676694      2.369216  ...      0.000000      0.000000\n",
              "50%        0.730378      2.539076  ...      0.000000      0.000000\n",
              "75%        0.730378      2.687529  ...      1.000000      0.000000\n",
              "max        0.778151      3.321184  ...      1.000000      1.000000\n",
              "\n",
              "[8 rows x 18 columns]"
            ]
          },
          "metadata": {
            "tags": []
          },
          "execution_count": 219
        }
      ]
    },
    {
      "cell_type": "code",
      "metadata": {
        "colab": {
          "base_uri": "https://localhost:8080/",
          "height": 607
        },
        "id": "6Jp287tK8469",
        "outputId": "21ceaf1b-68d7-4265-b994-7c8f913f9057"
      },
      "source": [
        "# now let's visualize our prepared data frame\n",
        "prepared.hist([\"rating\", \"calories\", \"protein\", \"fat\", \"sodium\"], bins=5, figsize=(10,10))\n",
        "plt.show()"
      ],
      "execution_count": 220,
      "outputs": [
        {
          "output_type": "display_data",
          "data": {
            "image/png": "[encoded data removed]",
            "text/plain": [
              "<Figure size 720x720 with 6 Axes>"
            ]
          },
          "metadata": {
            "tags": [],
            "needs_background": "light"
          }
        }
      ]
    },
    {
      "cell_type": "markdown",
      "metadata": {
        "id": "5_W9vyNS9exF"
      },
      "source": [
        "Those distributions look much better! I think using just normalized data might be enough to run this module's experiements, but to be sure, let's try scaling our data instead. "
      ]
    },
    {
      "cell_type": "markdown",
      "metadata": {
        "id": "A1PI57SBBp3k"
      },
      "source": [
        "## **Scaled Data**"
      ]
    },
    {
      "cell_type": "markdown",
      "metadata": {
        "id": "xSwud7otB2Td"
      },
      "source": [
        "As an alternative to normalizing, let's scale the scrubbed data and visualize the distributions."
      ]
    },
    {
      "cell_type": "markdown",
      "metadata": {
        "id": "nAsXIPqMETZm"
      },
      "source": [
        "### Standard Scaler"
      ]
    },
    {
      "cell_type": "code",
      "metadata": {
        "colab": {
          "base_uri": "https://localhost:8080/",
          "height": 607
        },
        "id": "_8jkqs0XCDtp",
        "outputId": "df86ed94-5013-4b2f-96ea-fafc65b30861"
      },
      "source": [
        "# import our pipeline \n",
        "from sklearn.pipeline import Pipeline\n",
        "# import our standard scaler \n",
        "from sklearn.preprocessing import StandardScaler\n",
        "\n",
        "# create pipeline\n",
        "# would use imputer here, but already did it a few steps above\n",
        "num_pipeline = Pipeline([(\"std_scaler\", StandardScaler())])\n",
        "\n",
        "# get numpy array of scaled data\n",
        "scaled = num_pipeline.fit_transform(df_nums_tr)\n",
        "# turn to data frame\n",
        "scaled = pd.DataFrame(scaled, columns=df_nums_tr.columns, index=df_nums_tr.index);\n",
        "\n",
        "# visualize \n",
        "scaled.hist([\"rating\", \"calories\", \"protein\", \"fat\", \"sodium\"], bins=5, figsize=(10,10))\n",
        "plt.show()\n"
      ],
      "execution_count": 221,
      "outputs": [
        {
          "output_type": "display_data",
          "data": {
            "image/png": "[encoded data removed]",
            "text/plain": [
              "<Figure size 720x720 with 6 Axes>"
            ]
          },
          "metadata": {
            "tags": [],
            "needs_background": "light"
          }
        }
      ]
    },
    {
      "cell_type": "markdown",
      "metadata": {
        "id": "zoX6XhexEJ7h"
      },
      "source": [
        "The standard scaler doesn't seem to help the distribution as much as the normalizer. Let's try another scaler "
      ]
    },
    {
      "cell_type": "markdown",
      "metadata": {
        "id": "8osOfGDLEWZF"
      },
      "source": [
        "### Min Max Scaler"
      ]
    },
    {
      "cell_type": "code",
      "metadata": {
        "colab": {
          "base_uri": "https://localhost:8080/",
          "height": 607
        },
        "id": "_0pvZseGEWZG",
        "outputId": "01dd9984-63da-45fc-f240-d078d1814391"
      },
      "source": [
        "# import our pipeline \n",
        "from sklearn.pipeline import Pipeline\n",
        "# import our min max scaler \n",
        "from sklearn.preprocessing import MinMaxScaler\n",
        "\n",
        "# create pipeline\n",
        "# would use imputer here, but already did it a few steps above\n",
        "num_pipeline = Pipeline([(\"min_max_scaler\", MinMaxScaler())])\n",
        "\n",
        "# get numpy array of scaled data\n",
        "scaled = num_pipeline.fit_transform(df_nums_tr)\n",
        "# turn to data frame\n",
        "scaled = pd.DataFrame(scaled, columns=df_nums_tr.columns, index=df_nums_tr.index);\n",
        "\n",
        "# visualize \n",
        "scaled.hist([\"rating\", \"calories\", \"protein\", \"fat\", \"sodium\"], bins=5, figsize=(10,10))\n",
        "plt.show()\n"
      ],
      "execution_count": 222,
      "outputs": [
        {
          "output_type": "display_data",
          "data": {
            "image/png": "[encoded data removed]",
            "text/plain": [
              "<Figure size 720x720 with 6 Axes>"
            ]
          },
          "metadata": {
            "tags": [],
            "needs_background": "light"
          }
        }
      ]
    },
    {
      "cell_type": "markdown",
      "metadata": {
        "id": "IVTFy0yYEWZH"
      },
      "source": [
        "The min max scaler seems affects the distribution about as much as the standard scaler. I think the best option is to perform PCA and logistic regression on the normalized data rather than the scaled data."
      ]
    },
    {
      "cell_type": "markdown",
      "metadata": {
        "id": "gbPKW9i8FJA_"
      },
      "source": [
        "# **Pearson's Correlation 1**\n",
        "Looked at the relationship between rating and normalized continous attributes (nutritional values)."
      ]
    },
    {
      "cell_type": "code",
      "metadata": {
        "colab": {
          "base_uri": "https://localhost:8080/"
        },
        "id": "OMGx2ulCHBHh",
        "outputId": "14358a98-9e46-451f-c63f-c7aa3415c748"
      },
      "source": [
        "# We want to see the correlation only between rating and continuous attributes\n",
        "continuous = prepared[['rating', 'calories', 'protein', 'fat', 'sodium']]\n",
        "\n",
        "# Create the correlation matrix from our continuous prepared data \n",
        "corr_matrix=continuous.corr()\n",
        "\n",
        "# Create the correlation matrix from our prepared data \n",
        "corr_matrix[\"rating\"].sort_values(ascending=False)\n"
      ],
      "execution_count": 223,
      "outputs": [
        {
          "output_type": "execute_result",
          "data": {
            "text/plain": [
              "rating      1.000000\n",
              "fat         0.192250\n",
              "protein     0.185152\n",
              "sodium      0.169159\n",
              "calories    0.136014\n",
              "Name: rating, dtype: float64"
            ]
          },
          "metadata": {
            "tags": []
          },
          "execution_count": 223
        }
      ]
    },
    {
      "cell_type": "markdown",
      "metadata": {
        "id": "KeLsQGmVNbJO"
      },
      "source": [
        "It seems like fat and protein have the strongest correlation with recipe rating. This makes sense to me, because people like butter and people like meat. Conversely, a recipe that is low in fat and low in protein is likely to contain more vegetables, right? It might be less filling and less popular with people. "
      ]
    },
    {
      "cell_type": "markdown",
      "metadata": {
        "id": "Ko61TMSePApE"
      },
      "source": [
        "# **PCA 1**\n",
        "Performed PCA on normalized dataset of continuous attributes (nutritional values)"
      ]
    },
    {
      "cell_type": "code",
      "metadata": {
        "id": "qI7szfdCPnAE"
      },
      "source": [
        "\n",
        "from sklearn.decomposition import PCA\n",
        "\n",
        "# PCA with reduced dimensionalty to 2 \n",
        "pca1 = PCA(n_components=5)\n",
        "pca1.fit(continuous)\n",
        "\n",
        "# perform PCA without reducing dimensionality\n",
        "# select all components that explain 95% of the variance\n",
        "pca2 = PCA()\n",
        "# fit to prepared data\n",
        "pca2.fit(continuous)\n",
        "# compute the minimum number of dimensions required to preserve 95% of data's variance\n",
        "cumsum = np.cumsum(pca2.explained_variance_ratio_)\n",
        "d = np.argmax(cumsum >= 0.95) + 1\n",
        "\n",
        "# transform the data to its first 2 principal components\n",
        "x_pca1 = pca1.transform(continuous)\n",
        "\n",
        "# transform the data to its top 95% variance principal components\n",
        "x_pca2 = pca2.transform(continuous)\n",
        "\n"
      ],
      "execution_count": 224,
      "outputs": []
    },
    {
      "cell_type": "code",
      "metadata": {
        "colab": {
          "base_uri": "https://localhost:8080/"
        },
        "id": "4jGUytvFHAHD",
        "outputId": "800f962e-f851-4486-ec02-51794dc00deb"
      },
      "source": [
        "\n",
        "# Let's examine the results\n",
        "print ('Prepared data shape: ', continuous.shape)\n",
        "print ('Transformed data shape: ', x_pca1.shape)\n",
        "print ('Explained variance by 2 components: ', pca1.explained_variance_ratio_)\n",
        "print ('# Components explaining 95% of variance: ', d)"
      ],
      "execution_count": 225,
      "outputs": [
        {
          "output_type": "stream",
          "text": [
            "Prepared data shape:  (17572, 5)\n",
            "Transformed data shape:  (17572, 5)\n",
            "Explained variance by 2 components:  [0.71763127 0.14963166 0.05818169 0.04466234 0.02989303]\n",
            "# Components explaining 95% of variance:  4\n"
          ],
          "name": "stdout"
        }
      ]
    },
    {
      "cell_type": "markdown",
      "metadata": {
        "id": "qULUd-DGb9Iz"
      },
      "source": [
        "**4 components explain 95% of the data set's variance. One component contributes ~72% to the variance!**\n",
        "\n"
      ]
    },
    {
      "cell_type": "code",
      "metadata": {
        "colab": {
          "base_uri": "https://localhost:8080/",
          "height": 295
        },
        "id": "paf2WmjPH_xV",
        "outputId": "a07eb6a0-254d-40a9-c2b8-309b9b521056"
      },
      "source": [
        "# The elbow plot of the explained variance\n",
        "\n",
        "plt.plot(cumsum)\n",
        "plt.xlabel('No. of Components')\n",
        "plt.ylabel('Explained Variance')\n",
        "plt.title('Elbow Plot')\n",
        "plt.show()"
      ],
      "execution_count": 226,
      "outputs": [
        {
          "output_type": "display_data",
          "data": {
            "image/png": "[encoded data removed]",
            "text/plain": [
              "<Figure size 432x288 with 1 Axes>"
            ]
          },
          "metadata": {
            "tags": [],
            "needs_background": "light"
          }
        }
      ]
    },
    {
      "cell_type": "markdown",
      "metadata": {
        "id": "fxniJcMOD1WB"
      },
      "source": [
        "# **Logistic Regression 1**\n",
        "Performed Logistic Regression for \n",
        "* the tag \"#cakeweek\" using normalized continuous data\n",
        "* the tag \"cake\" using normalized continuous data\n",
        "* the tag \"cake\" using normalized continuous data and additional recipe tags\n",
        "* the most-frequently occuring recipe tag, \"peanut free\"\n",
        "* another frequently occuring recipe tag, \"dessert\""
      ]
    },
    {
      "cell_type": "markdown",
      "metadata": {
        "id": "1P_Ik6C4Q0Z4"
      },
      "source": [
        "### **Logistic Regression for #cakeweek**"
      ]
    },
    {
      "cell_type": "code",
      "metadata": {
        "colab": {
          "base_uri": "https://localhost:8080/",
          "height": 162
        },
        "id": "MxLTy-ssEFY4",
        "outputId": "d92389a8-77f0-4455-9410-64deded326c3"
      },
      "source": [
        "from sklearn.model_selection import train_test_split\n",
        "\n",
        "# need to use continuous data for x \n",
        "X = continuous\n",
        "\n",
        "# labels \n",
        "# choose between 'cake', '#cakeweek',  'christmas', 'dairy free', \"dessert\", \"no-cook\", \"peanut free\", \"quick & easy\", \"thanksgiving\"\n",
        "Y = prepared[\"#cakeweek\"]\n",
        "\n",
        "# Split the data set and perform logistic regression\n",
        "# Split the dataset into the training set (70%) and testing (30%)\n",
        "# random_state Controls the shuffling applied to the data before applying the split. \n",
        "# Pass an int for reproducible output across multiple function calls.\n",
        "X_train, X_test, Y_train, Y_test = train_test_split(X, Y, test_size = 0.30, random_state = 5)\n",
        "\n",
        "# Perform logistic regression for the binary output 0 (not #cakeweek) and 1 (#cakeweek)\n",
        "from sklearn.linear_model import LogisticRegression\n",
        "classifier = LogisticRegression()\n",
        "classifier.fit(X_train, Y_train)\n",
        "\n",
        "# measure model accuracy\n",
        "Y_pred = classifier.predict(X_test)\n",
        "\n",
        "from sklearn.metrics import confusion_matrix\n",
        "import pandas as pd\n",
        "import numpy as np\n",
        "\n",
        "# labels are: #cakeweek (1) vs. not #cakeweek (0)\n",
        "labels = [0, 1]\n",
        "cm = confusion_matrix(Y_test, Y_pred, labels=labels)\n",
        "\n",
        "print ('#Total cases', X.shape)\n",
        "print ('#Training and testing cases', X_train.shape, X_test.shape)\n",
        "print ('Confusion matrix:')\n",
        "pd.DataFrame(cm, index=labels, columns=labels)\n",
        "\n",
        "\n",
        "\n",
        "\n"
      ],
      "execution_count": 305,
      "outputs": [
        {
          "output_type": "stream",
          "text": [
            "#Total cases (17572, 5)\n",
            "#Training and testing cases (12300, 5) (5272, 5)\n",
            "Confusion matrix:\n"
          ],
          "name": "stdout"
        },
        {
          "output_type": "execute_result",
          "data": {
            "text/html": [
              "<div>\n",
              "<style scoped>\n",
              "    .dataframe tbody tr th:only-of-type {\n",
              "        vertical-align: middle;\n",
              "    }\n",
              "\n",
              "    .dataframe tbody tr th {\n",
              "        vertical-align: top;\n",
              "    }\n",
              "\n",
              "    .dataframe thead th {\n",
              "        text-align: right;\n",
              "    }\n",
              "</style>\n",
              "<table border=\"1\" class=\"dataframe\">\n",
              "  <thead>\n",
              "    <tr style=\"text-align: right;\">\n",
              "      <th></th>\n",
              "      <th>0</th>\n",
              "      <th>1</th>\n",
              "    </tr>\n",
              "  </thead>\n",
              "  <tbody>\n",
              "    <tr>\n",
              "      <th>0</th>\n",
              "      <td>5272</td>\n",
              "      <td>0</td>\n",
              "    </tr>\n",
              "    <tr>\n",
              "      <th>1</th>\n",
              "      <td>0</td>\n",
              "      <td>0</td>\n",
              "    </tr>\n",
              "  </tbody>\n",
              "</table>\n",
              "</div>"
            ],
            "text/plain": [
              "      0  1\n",
              "0  5272  0\n",
              "1     0  0"
            ]
          },
          "metadata": {
            "tags": []
          },
          "execution_count": 305
        }
      ]
    },
    {
      "cell_type": "markdown",
      "metadata": {
        "id": "3ZultunZcnwm"
      },
      "source": [
        "It looks like there was no #cakeweek recipes in the test set (5272) when I performed logistic regression on a 70-30 train/test set. This suggests that number of recipes tagged #cakeweek is probably too low to perform logistic regression for this feature. "
      ]
    },
    {
      "cell_type": "code",
      "metadata": {
        "colab": {
          "base_uri": "https://localhost:8080/"
        },
        "id": "FrAdofOwdcto",
        "outputId": "ea6aea2b-e87b-41db-bb05-8e2f3b282920"
      },
      "source": [
        "# Sum the column to find out how many recipes are tagged  \"#cakeweek\"\n",
        "\n",
        "total_cakeweek = prepared[\"#cakeweek\"].sum()\n",
        "print(total_cakeweek)\n",
        "\n",
        "# there are only 4 recipes out of 17,572 that are tagged #cakeweek"
      ],
      "execution_count": 287,
      "outputs": [
        {
          "output_type": "stream",
          "text": [
            "4.0\n"
          ],
          "name": "stdout"
        }
      ]
    },
    {
      "cell_type": "markdown",
      "metadata": {
        "id": "MrLqRZFcfEHg"
      },
      "source": [
        "**There are only 4 recipes out of 17,572 that are tagged #cakeweek!** \n",
        "\n",
        "Let's try again with another classification. The simpler tag \"cake\" might have more recipes. "
      ]
    },
    {
      "cell_type": "code",
      "metadata": {
        "colab": {
          "base_uri": "https://localhost:8080/"
        },
        "id": "6VFf6umPfhJD",
        "outputId": "0ace6b9c-6fef-4840-8668-dd7db9fa90e4"
      },
      "source": [
        "# Sum the column to find out how many recipes are tagged \"cake\"\n",
        "\n",
        "total_cake = prepared[\"cake\"].sum()\n",
        "print(total_cake)\n",
        "\n",
        "# there are 644 recipes out of 17,572 that are tagged #cakeweek"
      ],
      "execution_count": 288,
      "outputs": [
        {
          "output_type": "stream",
          "text": [
            "644.0\n"
          ],
          "name": "stdout"
        }
      ]
    },
    {
      "cell_type": "markdown",
      "metadata": {
        "id": "GZh_ZcM4f6LQ"
      },
      "source": [
        "###**Logistic Regression for cake (continuous attributes)**\n",
        "There are 644 recipes out of 17,572 that are tagged cake. This is still a tiny number of recipes (~3%) but much better than #cakeweek. Let's try doing a logistic regression for \"cake\". "
      ]
    },
    {
      "cell_type": "code",
      "metadata": {
        "colab": {
          "base_uri": "https://localhost:8080/",
          "height": 162
        },
        "id": "8ySGtuaWgaED",
        "outputId": "5bc92603-f4d3-4d92-e81d-b0c23575c0fc"
      },
      "source": [
        "\n",
        "# need to use continuous data for x \n",
        "X = continuous\n",
        "\n",
        "# labels \n",
        "# choose between 'cake', '#cakeweek',  'christmas', 'dairy free', \"no-cook\", \"peanut free\", \"quick & easy\", \"thanksgiving\"\n",
        "Y = prepared[\"cake\"]\n",
        "\n",
        "# Split the data set and perform logistic regression\n",
        "# Split the dataset into the training set (70%) and testing (30%)\n",
        "# random_state Controls the shuffling applied to the data before applying the split. \n",
        "# Pass an int for reproducible output across multiple function calls.\n",
        "X_train, X_test, Y_train, Y_test = train_test_split(X, Y, test_size = 0.30, random_state = 5)\n",
        "\n",
        "# Perform logistic regression for the binary output 0 (not cake) and 1 (cake)\n",
        "from sklearn.linear_model import LogisticRegression\n",
        "classifier = LogisticRegression()\n",
        "classifier.fit(X_train, Y_train)\n",
        "\n",
        "# measure model accuracy\n",
        "Y_pred = classifier.predict(X_test)\n",
        "\n",
        "from sklearn.metrics import confusion_matrix\n",
        "import pandas as pd\n",
        "import numpy as np\n",
        "\n",
        "# labels are: cake (1) vs. not cake (0)\n",
        "labels = [0, 1]\n",
        "cm = confusion_matrix(Y_test, Y_pred, labels=labels)\n",
        "\n",
        "print ('#Total cases', X.shape)\n",
        "print ('#Training and testing cases', X_train.shape, X_test.shape)\n",
        "print ('Confusion matrix:')\n",
        "pd.DataFrame(cm, index=labels, columns=labels)\n",
        "\n",
        "\n",
        "\n",
        "\n"
      ],
      "execution_count": 289,
      "outputs": [
        {
          "output_type": "stream",
          "text": [
            "#Total cases (17572, 5)\n",
            "#Training and testing cases (12300, 5) (5272, 5)\n",
            "Confusion matrix:\n"
          ],
          "name": "stdout"
        },
        {
          "output_type": "execute_result",
          "data": {
            "text/html": [
              "<div>\n",
              "<style scoped>\n",
              "    .dataframe tbody tr th:only-of-type {\n",
              "        vertical-align: middle;\n",
              "    }\n",
              "\n",
              "    .dataframe tbody tr th {\n",
              "        vertical-align: top;\n",
              "    }\n",
              "\n",
              "    .dataframe thead th {\n",
              "        text-align: right;\n",
              "    }\n",
              "</style>\n",
              "<table border=\"1\" class=\"dataframe\">\n",
              "  <thead>\n",
              "    <tr style=\"text-align: right;\">\n",
              "      <th></th>\n",
              "      <th>0</th>\n",
              "      <th>1</th>\n",
              "    </tr>\n",
              "  </thead>\n",
              "  <tbody>\n",
              "    <tr>\n",
              "      <th>0</th>\n",
              "      <td>5064</td>\n",
              "      <td>6</td>\n",
              "    </tr>\n",
              "    <tr>\n",
              "      <th>1</th>\n",
              "      <td>202</td>\n",
              "      <td>0</td>\n",
              "    </tr>\n",
              "  </tbody>\n",
              "</table>\n",
              "</div>"
            ],
            "text/plain": [
              "      0  1\n",
              "0  5064  6\n",
              "1   202  0"
            ]
          },
          "metadata": {
            "tags": []
          },
          "execution_count": 289
        }
      ]
    },
    {
      "cell_type": "markdown",
      "metadata": {
        "id": "x0fHEqixg3lf"
      },
      "source": [
        "The logistic regression for cake performed poorly. \n",
        "\n",
        "Accuracy: 96%\n",
        "\n",
        "Recall/sensitivity : 0%\n",
        "\n",
        "Specificity rate: ~98.8%\n",
        "\n",
        "Precision: 0%\n",
        "\n",
        "F1 score: 0.0\n",
        "\n",
        "It classified 5,064/5,070 non cake recipes as non cake recipes.\n",
        "It misclassified 6 / 5,070 non cake recipes as cake recipes.\n",
        "\n",
        "It misclassified all 202 cake recipes as non cake recipes. \n",
        "\n",
        "It appears difficult to use fat, protein, calories, and sodium to classify a cake recipe as a cake recipe. \n",
        "\n",
        "But what if we included another tag that is related to cakes, but has a more significant number of recipes.\n"
      ]
    },
    {
      "cell_type": "markdown",
      "metadata": {
        "id": "IGYOGAOiKI73"
      },
      "source": [
        "###**Logistic Regression for cake on a custom dataframe including tag dessert**"
      ]
    },
    {
      "cell_type": "code",
      "metadata": {
        "colab": {
          "base_uri": "https://localhost:8080/",
          "height": 0
        },
        "id": "oEBZFw3Ql8b2",
        "outputId": "ee87de71-1366-4034-e084-4589f46af5be"
      },
      "source": [
        "# add dessert tag to continuous data for x \n",
        "continuous_dessert = continuous.copy()\n",
        "dessert = prepared[\"dessert\"]\n",
        "continuous_dessert[\"dessert\"] = dessert\n",
        "\n",
        "X = continuous_dessert;\n",
        "\n",
        "# labels \n",
        "Y = prepared[\"cake\"]\n",
        "\n",
        "# Split the data set and perform logistic regression\n",
        "# Split the dataset into the training set (70%) and testing (30%)\n",
        "# random_state Controls the shuffling applied to the data before applying the split. \n",
        "# Pass an int for reproducible output across multiple function calls.\n",
        "X_train, X_test, Y_train, Y_test = train_test_split(X, Y, test_size = 0.30, random_state = 5)\n",
        "\n",
        "# Perform logistic regression for the binary output 0 (not dessert) and 1 (dessert)\n",
        "from sklearn.linear_model import LogisticRegression\n",
        "classifier = LogisticRegression()\n",
        "classifier.fit(X_train, Y_train)\n",
        "\n",
        "# measure model accuracy\n",
        "Y_pred = classifier.predict(X_test)\n",
        "\n",
        "from sklearn.metrics import confusion_matrix\n",
        "import pandas as pd\n",
        "import numpy as np\n",
        "\n",
        "# labels are: dessert  (1) vs. not dessert (0)\n",
        "labels = [0, 1]\n",
        "cm = confusion_matrix(Y_test, Y_pred, labels=labels)\n",
        "\n",
        "print ('#Total cases', X.shape)\n",
        "print ('#Training and testing cases', X_train.shape, X_test.shape)\n",
        "print ('Confusion matrix:')\n",
        "pd.DataFrame(cm, index=labels, columns=labels)\n",
        "\n",
        "\n",
        "\n",
        "\n"
      ],
      "execution_count": 290,
      "outputs": [
        {
          "output_type": "stream",
          "text": [
            "#Total cases (17572, 6)\n",
            "#Training and testing cases (12300, 6) (5272, 6)\n",
            "Confusion matrix:\n"
          ],
          "name": "stdout"
        },
        {
          "output_type": "execute_result",
          "data": {
            "text/html": [
              "<div>\n",
              "<style scoped>\n",
              "    .dataframe tbody tr th:only-of-type {\n",
              "        vertical-align: middle;\n",
              "    }\n",
              "\n",
              "    .dataframe tbody tr th {\n",
              "        vertical-align: top;\n",
              "    }\n",
              "\n",
              "    .dataframe thead th {\n",
              "        text-align: right;\n",
              "    }\n",
              "</style>\n",
              "<table border=\"1\" class=\"dataframe\">\n",
              "  <thead>\n",
              "    <tr style=\"text-align: right;\">\n",
              "      <th></th>\n",
              "      <th>0</th>\n",
              "      <th>1</th>\n",
              "    </tr>\n",
              "  </thead>\n",
              "  <tbody>\n",
              "    <tr>\n",
              "      <th>0</th>\n",
              "      <td>5062</td>\n",
              "      <td>8</td>\n",
              "    </tr>\n",
              "    <tr>\n",
              "      <th>1</th>\n",
              "      <td>197</td>\n",
              "      <td>5</td>\n",
              "    </tr>\n",
              "  </tbody>\n",
              "</table>\n",
              "</div>"
            ],
            "text/plain": [
              "      0  1\n",
              "0  5062  8\n",
              "1   197  5"
            ]
          },
          "metadata": {
            "tags": []
          },
          "execution_count": 290
        }
      ]
    },
    {
      "cell_type": "markdown",
      "metadata": {
        "id": "pN7BspospbEw"
      },
      "source": [
        "The logistic regression for cake with a dessert tag performed marginally better than just nutritional information alone. \n",
        "\n",
        "It still has an accuracy rate of 96%. It's recall, however, improved from 0% to 2%. It's specificity rate is still around 99.8%. It's precision improved the most, from 0% to around 38%. It's F1 score improved from 0 to ~0.05.\n",
        "\n",
        "It classified 5,062/5,070 non cake recipes as non cake recipes.\n",
        "It misclassified 8 / 5,070 non cake recipes as cake recipes.\n",
        "It misclassified 197 cake recipes as non cake recipes, but correctly identified 5 cake recipes.\n",
        "\n"
      ]
    },
    {
      "cell_type": "markdown",
      "metadata": {
        "id": "biTpOzIIKeVf"
      },
      "source": [
        "###**Logistic Regression for cake on a custom dataframe including many tags**"
      ]
    },
    {
      "cell_type": "code",
      "metadata": {
        "colab": {
          "base_uri": "https://localhost:8080/",
          "height": 0
        },
        "id": "IRC4W183si1z",
        "outputId": "717ad35c-69f1-452a-8802-acad997e618e"
      },
      "source": [
        "\n",
        "# custom dataframe\n",
        "data= [prepared[\"calories\"], prepared[\"fat\"], prepared[\"sodium\"], prepared[\"dessert\"], prepared[\"bake\"], prepared[\"birthday\"], prepared[\"kid-friendly\"]]\n",
        "cal_fat_dessert = pd.concat(data, axis=1);\n",
        "\n",
        "X = cal_fat_dessert;\n",
        "\n",
        "# labels \n",
        "Y = prepared[\"cake\"]\n",
        "\n",
        "# Split the data set and perform logistic regression\n",
        "# Split the dataset into the training set (70%) and testing (30%)\n",
        "# random_state Controls the shuffling applied to the data before applying the split. \n",
        "# Pass an int for reproducible output across multiple function calls.\n",
        "X_train, X_test, Y_train, Y_test = train_test_split(X, Y, test_size = 0.30, random_state = 5)\n",
        "\n",
        "# Perform logistic regression for the binary output 0 (not cake) and 1 (cake)\n",
        "from sklearn.linear_model import LogisticRegression\n",
        "classifier = LogisticRegression()\n",
        "classifier.fit(X_train, Y_train)\n",
        "\n",
        "# measure model accuracy\n",
        "Y_pred = classifier.predict(X_test)\n",
        "\n",
        "from sklearn.metrics import confusion_matrix\n",
        "import pandas as pd\n",
        "import numpy as np\n",
        "\n",
        "# labels are: cake (1) vs. not cake (0)\n",
        "labels = [0, 1]\n",
        "cm = confusion_matrix(Y_test, Y_pred, labels=labels)\n",
        "\n",
        "print ('#Total cases', X.shape)\n",
        "print ('#Training and testing cases', X_train.shape, X_test.shape)\n",
        "print ('Confusion matrix:')\n",
        "pd.DataFrame(cm, index=labels, columns=labels)\n",
        "\n",
        "\n",
        "\n",
        "\n",
        "\n",
        "\n"
      ],
      "execution_count": 291,
      "outputs": [
        {
          "output_type": "stream",
          "text": [
            "#Total cases (17572, 7)\n",
            "#Training and testing cases (12300, 7) (5272, 7)\n",
            "Confusion matrix:\n"
          ],
          "name": "stdout"
        },
        {
          "output_type": "execute_result",
          "data": {
            "text/html": [
              "<div>\n",
              "<style scoped>\n",
              "    .dataframe tbody tr th:only-of-type {\n",
              "        vertical-align: middle;\n",
              "    }\n",
              "\n",
              "    .dataframe tbody tr th {\n",
              "        vertical-align: top;\n",
              "    }\n",
              "\n",
              "    .dataframe thead th {\n",
              "        text-align: right;\n",
              "    }\n",
              "</style>\n",
              "<table border=\"1\" class=\"dataframe\">\n",
              "  <thead>\n",
              "    <tr style=\"text-align: right;\">\n",
              "      <th></th>\n",
              "      <th>0</th>\n",
              "      <th>1</th>\n",
              "    </tr>\n",
              "  </thead>\n",
              "  <tbody>\n",
              "    <tr>\n",
              "      <th>0</th>\n",
              "      <td>5059</td>\n",
              "      <td>11</td>\n",
              "    </tr>\n",
              "    <tr>\n",
              "      <th>1</th>\n",
              "      <td>176</td>\n",
              "      <td>26</td>\n",
              "    </tr>\n",
              "  </tbody>\n",
              "</table>\n",
              "</div>"
            ],
            "text/plain": [
              "      0   1\n",
              "0  5059  11\n",
              "1   176  26"
            ]
          },
          "metadata": {
            "tags": []
          },
          "execution_count": 291
        }
      ]
    },
    {
      "cell_type": "markdown",
      "metadata": {
        "id": "T4izdXgfyOiD"
      },
      "source": [
        "The logistic regression for this custom dataframe performed better than all nutritional values + dessert.\n",
        "\n",
        "It still has an accuracy rate of 96%. It's recall, however, improved from 2% to ~13%. It's specificity rate is still around 99.8%. It's precision improved the most, from ~38% to 70%. It's F1 score improved significantly from ~0.05 to ~0.22.\n",
        "\n",
        "It classified 5,059/5,070 non cake recipes as non cake recipes.\n",
        "It misclassified 11 / 5,070 non cake recipes as cake recipes.\n",
        "It misclassified 176 cake recipes as non cake recipes, and correctly classified 26 cake recipes. \n",
        "\n"
      ]
    },
    {
      "cell_type": "markdown",
      "metadata": {
        "id": "Mg8Ujh9s-V7p"
      },
      "source": [
        "### **Find the most frequently occuring recipe tags**\n",
        "Let's try logistic regression on a larger recipe tag than cake or cakeweek"
      ]
    },
    {
      "cell_type": "code",
      "metadata": {
        "colab": {
          "base_uri": "https://localhost:8080/"
        },
        "id": "hvB5zxPm9kln",
        "outputId": "eb7a8e7d-0589-493a-fcd3-ddf215eb4c62"
      },
      "source": [
        "# choose between bake', 'birthday', 'cake', '#cakeweek',  'christmas', 'dairy free', \"dessert\", \"kid-friendly\", \"low cal\", \"no-cook\", \"peanut free\", \"quick & easy\", \"thanksgiving\"\n",
        "# Sum the column to find out most frequently appearing classification\n",
        "total = prepared[\"bake\"].sum()\n",
        "print(total)"
      ],
      "execution_count": 292,
      "outputs": [
        {
          "output_type": "stream",
          "text": [
            "3966.0\n"
          ],
          "name": "stdout"
        }
      ]
    },
    {
      "cell_type": "code",
      "metadata": {
        "colab": {
          "base_uri": "https://localhost:8080/"
        },
        "id": "ffcO1aly9D-T",
        "outputId": "5d13d3d0-4ba8-4f21-c9ac-5afcc3a06e15"
      },
      "source": [
        "total = prepared[\"dairy free\"].sum()\n",
        "print(total)"
      ],
      "execution_count": 293,
      "outputs": [
        {
          "output_type": "stream",
          "text": [
            "2798.0\n"
          ],
          "name": "stdout"
        }
      ]
    },
    {
      "cell_type": "code",
      "metadata": {
        "colab": {
          "base_uri": "https://localhost:8080/"
        },
        "id": "MMaP6xPB82EV",
        "outputId": "4ee1f2e9-5d86-47e5-ab2e-82aa50120293"
      },
      "source": [
        "total = prepared[\"dessert\"].sum()\n",
        "print(total)"
      ],
      "execution_count": 294,
      "outputs": [
        {
          "output_type": "stream",
          "text": [
            "3160.0\n"
          ],
          "name": "stdout"
        }
      ]
    },
    {
      "cell_type": "code",
      "metadata": {
        "colab": {
          "base_uri": "https://localhost:8080/"
        },
        "id": "8rggQyBo95Ds",
        "outputId": "260a7fb2-080d-4615-df76-f1e9394d55d0"
      },
      "source": [
        "total = prepared[\"kid-friendly\"].sum()\n",
        "print(total)"
      ],
      "execution_count": 295,
      "outputs": [
        {
          "output_type": "stream",
          "text": [
            "1630.0\n"
          ],
          "name": "stdout"
        }
      ]
    },
    {
      "cell_type": "code",
      "metadata": {
        "colab": {
          "base_uri": "https://localhost:8080/"
        },
        "id": "hLvWBnzF-Avz",
        "outputId": "ced21f8c-a3f4-4993-be52-b9d69dedf281"
      },
      "source": [
        "total = prepared[\"no-cook\"].sum()\n",
        "print(total)"
      ],
      "execution_count": 296,
      "outputs": [
        {
          "output_type": "stream",
          "text": [
            "1052.0\n"
          ],
          "name": "stdout"
        }
      ]
    },
    {
      "cell_type": "code",
      "metadata": {
        "colab": {
          "base_uri": "https://localhost:8080/"
        },
        "id": "LOjshK_f-Ghb",
        "outputId": "a4dd5c39-6591-4a20-98b1-b6ed1800519c"
      },
      "source": [
        "total = prepared[\"peanut free\"].sum()\n",
        "print(total)"
      ],
      "execution_count": 297,
      "outputs": [
        {
          "output_type": "stream",
          "text": [
            "7447.0\n"
          ],
          "name": "stdout"
        }
      ]
    },
    {
      "cell_type": "code",
      "metadata": {
        "colab": {
          "base_uri": "https://localhost:8080/"
        },
        "id": "3H5TRRMt-KLC",
        "outputId": "ba9770fc-8884-470e-f741-20882fbaa4c7"
      },
      "source": [
        "total = prepared[\"quick & easy\"].sum()\n",
        "print(total)"
      ],
      "execution_count": 298,
      "outputs": [
        {
          "output_type": "stream",
          "text": [
            "4760.0\n"
          ],
          "name": "stdout"
        }
      ]
    },
    {
      "cell_type": "code",
      "metadata": {
        "colab": {
          "base_uri": "https://localhost:8080/"
        },
        "id": "59wPacou-NuK",
        "outputId": "5d4e80a2-3beb-4bde-cf11-3ab76d6bd342"
      },
      "source": [
        "total = prepared[\"thanksgiving\"].sum()\n",
        "print(total)"
      ],
      "execution_count": 299,
      "outputs": [
        {
          "output_type": "stream",
          "text": [
            "1178.0\n"
          ],
          "name": "stdout"
        }
      ]
    },
    {
      "cell_type": "code",
      "metadata": {
        "colab": {
          "base_uri": "https://localhost:8080/"
        },
        "id": "d_SKJxzVqmWI",
        "outputId": "453cee78-277c-4f49-ff66-878ff0778263"
      },
      "source": [
        "total = prepared[\"low cal\"].sum()\n",
        "print(total)"
      ],
      "execution_count": 302,
      "outputs": [
        {
          "output_type": "stream",
          "text": [
            "943.0\n"
          ],
          "name": "stdout"
        }
      ]
    },
    {
      "cell_type": "markdown",
      "metadata": {
        "id": "0jTjw1VR797O"
      },
      "source": [
        "Peanut free occurs 7,447 times. This appears to be the most frequently used tag amongs the columns I kept. Let's run a logistic regression on peanut free recipes. "
      ]
    },
    {
      "cell_type": "markdown",
      "metadata": {
        "id": "_ZLz9FY1Kme2"
      },
      "source": [
        "### **Logistic Regression for dessert**\n",
        "Let's try logistic regression on a larger recipe tag than cake or cakeweek"
      ]
    },
    {
      "cell_type": "code",
      "metadata": {
        "colab": {
          "base_uri": "https://localhost:8080/",
          "height": 0
        },
        "id": "sv19sEu1Kme4",
        "outputId": "bec79209-4b6c-4baf-fc41-6408b4d563ce"
      },
      "source": [
        "\n",
        "# need to use continuous data for x \n",
        "X = continuous\n",
        "\n",
        "# labels \n",
        "# choose between 'cake', '#cakeweek',  'christmas', 'dairy free', \"dessert\", \"no-cook\", \"peanut free\", \"quick & easy\", \"thanksgiving\"\n",
        "Y = prepared[\"dessert\"]\n",
        "\n",
        "# Split the data set and perform logistic regression\n",
        "# Split the dataset into the training set (70%) and testing (30%)\n",
        "# random_state Controls the shuffling applied to the data before applying the split. \n",
        "# Pass an int for reproducible output across multiple function calls.\n",
        "X_train, X_test, Y_train, Y_test = train_test_split(X, Y, test_size = 0.30, random_state = 5)\n",
        "\n",
        "# Perform logistic regression for the binary output 0 (not dessert) and 1 (dessert)\n",
        "from sklearn.linear_model import LogisticRegression\n",
        "classifier = LogisticRegression()\n",
        "classifier.fit(X_train, Y_train)\n",
        "\n",
        "# measure model accuracy\n",
        "Y_pred = classifier.predict(X_test)\n",
        "\n",
        "from sklearn.metrics import confusion_matrix\n",
        "import pandas as pd\n",
        "import numpy as np\n",
        "\n",
        "# labels are: dessert (1) vs. not dessert (0)\n",
        "labels = [0, 1]\n",
        "cm = confusion_matrix(Y_test, Y_pred, labels=labels)\n",
        "\n",
        "print ('#Total cases', X.shape)\n",
        "print ('#Training and testing cases', X_train.shape, X_test.shape)\n",
        "print ('Confusion matrix:')\n",
        "pd.DataFrame(cm, index=labels, columns=labels)\n",
        "\n",
        "\n",
        "\n",
        "\n"
      ],
      "execution_count": 300,
      "outputs": [
        {
          "output_type": "stream",
          "text": [
            "#Total cases (17572, 5)\n",
            "#Training and testing cases (12300, 5) (5272, 5)\n",
            "Confusion matrix:\n"
          ],
          "name": "stdout"
        },
        {
          "output_type": "execute_result",
          "data": {
            "text/html": [
              "<div>\n",
              "<style scoped>\n",
              "    .dataframe tbody tr th:only-of-type {\n",
              "        vertical-align: middle;\n",
              "    }\n",
              "\n",
              "    .dataframe tbody tr th {\n",
              "        vertical-align: top;\n",
              "    }\n",
              "\n",
              "    .dataframe thead th {\n",
              "        text-align: right;\n",
              "    }\n",
              "</style>\n",
              "<table border=\"1\" class=\"dataframe\">\n",
              "  <thead>\n",
              "    <tr style=\"text-align: right;\">\n",
              "      <th></th>\n",
              "      <th>0</th>\n",
              "      <th>1</th>\n",
              "    </tr>\n",
              "  </thead>\n",
              "  <tbody>\n",
              "    <tr>\n",
              "      <th>0</th>\n",
              "      <td>4140</td>\n",
              "      <td>185</td>\n",
              "    </tr>\n",
              "    <tr>\n",
              "      <th>1</th>\n",
              "      <td>809</td>\n",
              "      <td>138</td>\n",
              "    </tr>\n",
              "  </tbody>\n",
              "</table>\n",
              "</div>"
            ],
            "text/plain": [
              "      0    1\n",
              "0  4140  185\n",
              "1   809  138"
            ]
          },
          "metadata": {
            "tags": []
          },
          "execution_count": 300
        }
      ]
    },
    {
      "cell_type": "markdown",
      "metadata": {
        "id": "rIsTMVFaKmfC"
      },
      "source": [
        "The logistic regression for dessert performed relatively poorly.\n",
        "\n",
        "Accuracy: ~81%. \n",
        "\n",
        "Recall/sensitivity : ~15%\n",
        "\n",
        "Specificity rate: ~96%\n",
        "\n",
        "Precision: ~42%\n",
        "\n",
        "F1 score: ~0.22\n",
        "\n"
      ]
    },
    {
      "cell_type": "markdown",
      "metadata": {
        "id": "sCECsgoL5EG-"
      },
      "source": [
        "### **Logistic Regression for peanut free**\n",
        "Let's try logistic regression on a larger recipe tag than cake or cakeweek"
      ]
    },
    {
      "cell_type": "code",
      "metadata": {
        "colab": {
          "base_uri": "https://localhost:8080/",
          "height": 162
        },
        "id": "lJH6gWoW_j-4",
        "outputId": "5d6c0ffd-28df-450e-89f8-1a9ef5a05b06"
      },
      "source": [
        "\n",
        "# need to use continuous data for x \n",
        "X = continuous\n",
        "\n",
        "# labels \n",
        "# choose between 'cake', '#cakeweek',  'christmas', 'dairy free', \"dessert\", \"no-cook\", \"peanut free\", \"quick & easy\", \"thanksgiving\"\n",
        "Y = prepared[\"peanut free\"]\n",
        "\n",
        "# Split the data set and perform logistic regression\n",
        "# Split the dataset into the training set (70%) and testing (30%)\n",
        "# random_state Controls the shuffling applied to the data before applying the split. \n",
        "# Pass an int for reproducible output across multiple function calls.\n",
        "X_train, X_test, Y_train, Y_test = train_test_split(X, Y, test_size = 0.30, random_state = 5)\n",
        "\n",
        "# Perform logistic regression for the binary output 0 (not peanut free) and 1 (peanut free)\n",
        "from sklearn.linear_model import LogisticRegression\n",
        "classifier = LogisticRegression()\n",
        "classifier.fit(X_train, Y_train)\n",
        "\n",
        "# measure model accuracy\n",
        "Y_pred = classifier.predict(X_test)\n",
        "\n",
        "from sklearn.metrics import confusion_matrix\n",
        "import pandas as pd\n",
        "import numpy as np\n",
        "\n",
        "# labels are: peanut free (1) vs. not peanut free (0)\n",
        "labels = [0, 1]\n",
        "cm = confusion_matrix(Y_test, Y_pred, labels=labels)\n",
        "\n",
        "print ('#Total cases', X.shape)\n",
        "print ('#Training and testing cases', X_train.shape, X_test.shape)\n",
        "print ('Confusion matrix:')\n",
        "pd.DataFrame(cm, index=labels, columns=labels)\n",
        "\n",
        "\n",
        "\n",
        "\n"
      ],
      "execution_count": 301,
      "outputs": [
        {
          "output_type": "stream",
          "text": [
            "#Total cases (17572, 5)\n",
            "#Training and testing cases (12300, 5) (5272, 5)\n",
            "Confusion matrix:\n"
          ],
          "name": "stdout"
        },
        {
          "output_type": "execute_result",
          "data": {
            "text/html": [
              "<div>\n",
              "<style scoped>\n",
              "    .dataframe tbody tr th:only-of-type {\n",
              "        vertical-align: middle;\n",
              "    }\n",
              "\n",
              "    .dataframe tbody tr th {\n",
              "        vertical-align: top;\n",
              "    }\n",
              "\n",
              "    .dataframe thead th {\n",
              "        text-align: right;\n",
              "    }\n",
              "</style>\n",
              "<table border=\"1\" class=\"dataframe\">\n",
              "  <thead>\n",
              "    <tr style=\"text-align: right;\">\n",
              "      <th></th>\n",
              "      <th>0</th>\n",
              "      <th>1</th>\n",
              "    </tr>\n",
              "  </thead>\n",
              "  <tbody>\n",
              "    <tr>\n",
              "      <th>0</th>\n",
              "      <td>2726</td>\n",
              "      <td>311</td>\n",
              "    </tr>\n",
              "    <tr>\n",
              "      <th>1</th>\n",
              "      <td>1868</td>\n",
              "      <td>367</td>\n",
              "    </tr>\n",
              "  </tbody>\n",
              "</table>\n",
              "</div>"
            ],
            "text/plain": [
              "      0    1\n",
              "0  2726  311\n",
              "1  1868  367"
            ]
          },
          "metadata": {
            "tags": []
          },
          "execution_count": 301
        }
      ]
    },
    {
      "cell_type": "markdown",
      "metadata": {
        "id": "hLBcE9um_2za"
      },
      "source": [
        "The logistic regression for peanut free performed poorly. It doesn't look like nutritional values can really be used to predict if a recipe is peanut free. \n",
        "\n",
        "Accuracy: ~59%. \n",
        "\n",
        "Recall/sensitivity : ~16%\n",
        "\n",
        "Specificity rate: ~89.8%\n",
        "\n",
        "Precision: ~54%\n",
        "\n",
        "F1 score: ~0.25\n",
        "\n",
        "\n",
        "\n"
      ]
    },
    {
      "cell_type": "markdown",
      "metadata": {
        "id": "c5Ni-Ifcq5RV"
      },
      "source": [
        "### **Logistic Regression for low cal**\n",
        "Let's try logistic regression on a larger recipe tag than cake or cakeweek"
      ]
    },
    {
      "cell_type": "code",
      "metadata": {
        "colab": {
          "base_uri": "https://localhost:8080/",
          "height": 162
        },
        "id": "5N9G_PKRq5RW",
        "outputId": "ef8030a1-56c1-43ad-f1b8-67a397b6b81b"
      },
      "source": [
        "\n",
        "# need to use continuous data for x \n",
        "X = continuous\n",
        "\n",
        "# labels \n",
        "# choose between 'cake', '#cakeweek',  'christmas', 'dairy free', \"dessert\", \"no-cook\", \"peanut free\", \"quick & easy\", \"thanksgiving\"\n",
        "Y = prepared[\"low cal\"]\n",
        "\n",
        "# Split the data set and perform logistic regression\n",
        "# Split the dataset into the training set (70%) and testing (30%)\n",
        "# random_state Controls the shuffling applied to the data before applying the split. \n",
        "# Pass an int for reproducible output across multiple function calls.\n",
        "X_train, X_test, Y_train, Y_test = train_test_split(X, Y, test_size = 0.30, random_state = 5)\n",
        "\n",
        "# Perform logistic regression for the binary output 0 (not low cal) and 1 (low cal)\n",
        "from sklearn.linear_model import LogisticRegression\n",
        "classifier = LogisticRegression()\n",
        "classifier.fit(X_train, Y_train)\n",
        "\n",
        "# measure model accuracy\n",
        "Y_pred = classifier.predict(X_test)\n",
        "\n",
        "from sklearn.metrics import confusion_matrix\n",
        "import pandas as pd\n",
        "import numpy as np\n",
        "\n",
        "# labels are: low cal (1) vs. not low cal(0)\n",
        "labels = [0, 1]\n",
        "cm = confusion_matrix(Y_test, Y_pred, labels=labels)\n",
        "\n",
        "print ('#Total cases', X.shape)\n",
        "print ('#Training and testing cases', X_train.shape, X_test.shape)\n",
        "print ('Confusion matrix:')\n",
        "pd.DataFrame(cm, index=labels, columns=labels)\n",
        "\n",
        "\n",
        "\n",
        "\n"
      ],
      "execution_count": 306,
      "outputs": [
        {
          "output_type": "stream",
          "text": [
            "#Total cases (17572, 5)\n",
            "#Training and testing cases (12300, 5) (5272, 5)\n",
            "Confusion matrix:\n"
          ],
          "name": "stdout"
        },
        {
          "output_type": "execute_result",
          "data": {
            "text/html": [
              "<div>\n",
              "<style scoped>\n",
              "    .dataframe tbody tr th:only-of-type {\n",
              "        vertical-align: middle;\n",
              "    }\n",
              "\n",
              "    .dataframe tbody tr th {\n",
              "        vertical-align: top;\n",
              "    }\n",
              "\n",
              "    .dataframe thead th {\n",
              "        text-align: right;\n",
              "    }\n",
              "</style>\n",
              "<table border=\"1\" class=\"dataframe\">\n",
              "  <thead>\n",
              "    <tr style=\"text-align: right;\">\n",
              "      <th></th>\n",
              "      <th>0</th>\n",
              "      <th>1</th>\n",
              "    </tr>\n",
              "  </thead>\n",
              "  <tbody>\n",
              "    <tr>\n",
              "      <th>0</th>\n",
              "      <td>4992</td>\n",
              "      <td>0</td>\n",
              "    </tr>\n",
              "    <tr>\n",
              "      <th>1</th>\n",
              "      <td>280</td>\n",
              "      <td>0</td>\n",
              "    </tr>\n",
              "  </tbody>\n",
              "</table>\n",
              "</div>"
            ],
            "text/plain": [
              "      0  1\n",
              "0  4992  0\n",
              "1   280  0"
            ]
          },
          "metadata": {
            "tags": []
          },
          "execution_count": 306
        }
      ]
    },
    {
      "cell_type": "markdown",
      "metadata": {
        "id": "ECzgLq8lq5RY"
      },
      "source": [
        "The logistic regression for low cal performed poorly. While the model could identify what was not a low cal recipe, it couldn't identify any low cal recipes. \n",
        "\n",
        "Accuracy: ~95%. \n",
        "\n",
        "Recall/sensitivity : 0%\n",
        "\n",
        "Specificity rate: 100%\n",
        "\n",
        "Precision: 0%\n",
        "\n",
        "F1 score: 0\n",
        "\n"
      ]
    },
    {
      "cell_type": "markdown",
      "metadata": {
        "id": "wMtDjGmGBHtP"
      },
      "source": [
        "# **Feature Engineering**"
      ]
    },
    {
      "cell_type": "markdown",
      "metadata": {
        "id": "_MXG-6IKBSCh"
      },
      "source": [
        "## **Defining \"healthy\"**"
      ]
    },
    {
      "cell_type": "markdown",
      "metadata": {
        "id": "MfoMkEbQtqEH"
      },
      "source": [
        "It's hard to create \"general\" criteria for \"healthy\" recipes based only on the recipe's fat, sodium, calories and protein. I decided to look up the daily recommended intake for protein, calories, sodium and fat. If the daily recommneded intake was different between sexes (e.g., men are recommended 2.5k calories a day and women are recommended 2k), I averaged male/female recommendations. Then, I divided each of the daily recommended intakes by 3, working with the assumption that most recipes are for a meal (not a snack) and that most people eat 3 meals a day. Following these averaged recommendations, a recipe may be considered healthy if it contains no more than:\n",
        "\n",
        "1. 17 grams of protein \n",
        "2. 750 calories \n",
        "3. 500 mg of sodium \n",
        "4. 25 gms of fat\n",
        "\n",
        "\n"
      ]
    },
    {
      "cell_type": "code",
      "metadata": {
        "colab": {
          "base_uri": "https://localhost:8080/",
          "height": 334
        },
        "id": "jRIo11OQ1K-7",
        "outputId": "ad88fce7-b472-4c1e-c744-d7ae0f906ded"
      },
      "source": [
        "# Initialize a new column \n",
        "prepared[\"healthy\"] = 0;\n",
        "\n",
        "# need to run log10 on the critera to match the normalized values in continuous attributes\n",
        "# normalization of continuous attributes = np.log10(value + 1)\n",
        "\n",
        "logged_protein =  np.log10(17 + 1)\n",
        "logged_cals = np.log10(750 + 1)\n",
        "logged_sodium =  np.log10(500 + 1) \n",
        "logged_fat =  np.log10(25 + 1)\n",
        "\n",
        "prepared[\"healthy\"] = np.where(((prepared.fat <= logged_fat) & \n",
        "                                (prepared.calories <= logged_cals) & \n",
        "                                (prepared.sodium < logged_sodium) & \n",
        "                                (prepared.protein < logged_protein) \n",
        "                                ),1, prepared.healthy)\n",
        "\n",
        "prepared.describe()\n"
      ],
      "execution_count": 243,
      "outputs": [
        {
          "output_type": "execute_result",
          "data": {
            "text/html": [
              "<div>\n",
              "<style scoped>\n",
              "    .dataframe tbody tr th:only-of-type {\n",
              "        vertical-align: middle;\n",
              "    }\n",
              "\n",
              "    .dataframe tbody tr th {\n",
              "        vertical-align: top;\n",
              "    }\n",
              "\n",
              "    .dataframe thead th {\n",
              "        text-align: right;\n",
              "    }\n",
              "</style>\n",
              "<table border=\"1\" class=\"dataframe\">\n",
              "  <thead>\n",
              "    <tr style=\"text-align: right;\">\n",
              "      <th></th>\n",
              "      <th>rating</th>\n",
              "      <th>calories</th>\n",
              "      <th>sodium</th>\n",
              "      <th>protein</th>\n",
              "      <th>fat</th>\n",
              "      <th>bake</th>\n",
              "      <th>birthday</th>\n",
              "      <th>cake</th>\n",
              "      <th>#cakeweek</th>\n",
              "      <th>christmas</th>\n",
              "      <th>dairy free</th>\n",
              "      <th>dessert</th>\n",
              "      <th>kid-friendly</th>\n",
              "      <th>low cal</th>\n",
              "      <th>no-cook</th>\n",
              "      <th>peanut free</th>\n",
              "      <th>quick &amp; easy</th>\n",
              "      <th>thanksgiving</th>\n",
              "      <th>healthy</th>\n",
              "    </tr>\n",
              "  </thead>\n",
              "  <tbody>\n",
              "    <tr>\n",
              "      <th>count</th>\n",
              "      <td>17572.000000</td>\n",
              "      <td>17572.000000</td>\n",
              "      <td>17572.000000</td>\n",
              "      <td>17572.000000</td>\n",
              "      <td>17572.000000</td>\n",
              "      <td>17572.000000</td>\n",
              "      <td>17572.000000</td>\n",
              "      <td>17572.000000</td>\n",
              "      <td>17572.000000</td>\n",
              "      <td>17572.000000</td>\n",
              "      <td>17572.000000</td>\n",
              "      <td>17572.000000</td>\n",
              "      <td>17572.000000</td>\n",
              "      <td>17572.000000</td>\n",
              "      <td>17572.000000</td>\n",
              "      <td>17572.000000</td>\n",
              "      <td>17572.000000</td>\n",
              "      <td>17572.000000</td>\n",
              "      <td>17572.000000</td>\n",
              "    </tr>\n",
              "    <tr>\n",
              "      <th>mean</th>\n",
              "      <td>0.637294</td>\n",
              "      <td>2.504614</td>\n",
              "      <td>2.333837</td>\n",
              "      <td>0.991003</td>\n",
              "      <td>1.191204</td>\n",
              "      <td>0.225700</td>\n",
              "      <td>0.009447</td>\n",
              "      <td>0.036649</td>\n",
              "      <td>0.000228</td>\n",
              "      <td>0.048828</td>\n",
              "      <td>0.159231</td>\n",
              "      <td>0.179832</td>\n",
              "      <td>0.092761</td>\n",
              "      <td>0.053665</td>\n",
              "      <td>0.059868</td>\n",
              "      <td>0.423799</td>\n",
              "      <td>0.270885</td>\n",
              "      <td>0.067038</td>\n",
              "      <td>0.584282</td>\n",
              "    </tr>\n",
              "    <tr>\n",
              "      <th>std</th>\n",
              "      <td>0.211482</td>\n",
              "      <td>0.327938</td>\n",
              "      <td>0.641564</td>\n",
              "      <td>0.446338</td>\n",
              "      <td>0.448779</td>\n",
              "      <td>0.418054</td>\n",
              "      <td>0.096737</td>\n",
              "      <td>0.187904</td>\n",
              "      <td>0.015086</td>\n",
              "      <td>0.215514</td>\n",
              "      <td>0.365901</td>\n",
              "      <td>0.384058</td>\n",
              "      <td>0.290106</td>\n",
              "      <td>0.225362</td>\n",
              "      <td>0.237249</td>\n",
              "      <td>0.494173</td>\n",
              "      <td>0.444430</td>\n",
              "      <td>0.250096</td>\n",
              "      <td>0.492859</td>\n",
              "    </tr>\n",
              "    <tr>\n",
              "      <th>min</th>\n",
              "      <td>0.000000</td>\n",
              "      <td>0.000000</td>\n",
              "      <td>0.000000</td>\n",
              "      <td>0.000000</td>\n",
              "      <td>0.000000</td>\n",
              "      <td>0.000000</td>\n",
              "      <td>0.000000</td>\n",
              "      <td>0.000000</td>\n",
              "      <td>0.000000</td>\n",
              "      <td>0.000000</td>\n",
              "      <td>0.000000</td>\n",
              "      <td>0.000000</td>\n",
              "      <td>0.000000</td>\n",
              "      <td>0.000000</td>\n",
              "      <td>0.000000</td>\n",
              "      <td>0.000000</td>\n",
              "      <td>0.000000</td>\n",
              "      <td>0.000000</td>\n",
              "      <td>0.000000</td>\n",
              "    </tr>\n",
              "    <tr>\n",
              "      <th>25%</th>\n",
              "      <td>0.676694</td>\n",
              "      <td>2.369216</td>\n",
              "      <td>2.096910</td>\n",
              "      <td>0.698970</td>\n",
              "      <td>1.041393</td>\n",
              "      <td>0.000000</td>\n",
              "      <td>0.000000</td>\n",
              "      <td>0.000000</td>\n",
              "      <td>0.000000</td>\n",
              "      <td>0.000000</td>\n",
              "      <td>0.000000</td>\n",
              "      <td>0.000000</td>\n",
              "      <td>0.000000</td>\n",
              "      <td>0.000000</td>\n",
              "      <td>0.000000</td>\n",
              "      <td>0.000000</td>\n",
              "      <td>0.000000</td>\n",
              "      <td>0.000000</td>\n",
              "      <td>0.000000</td>\n",
              "    </tr>\n",
              "    <tr>\n",
              "      <th>50%</th>\n",
              "      <td>0.730378</td>\n",
              "      <td>2.539076</td>\n",
              "      <td>2.485011</td>\n",
              "      <td>1.000000</td>\n",
              "      <td>1.278754</td>\n",
              "      <td>0.000000</td>\n",
              "      <td>0.000000</td>\n",
              "      <td>0.000000</td>\n",
              "      <td>0.000000</td>\n",
              "      <td>0.000000</td>\n",
              "      <td>0.000000</td>\n",
              "      <td>0.000000</td>\n",
              "      <td>0.000000</td>\n",
              "      <td>0.000000</td>\n",
              "      <td>0.000000</td>\n",
              "      <td>0.000000</td>\n",
              "      <td>0.000000</td>\n",
              "      <td>0.000000</td>\n",
              "      <td>1.000000</td>\n",
              "    </tr>\n",
              "    <tr>\n",
              "      <th>75%</th>\n",
              "      <td>0.730378</td>\n",
              "      <td>2.687529</td>\n",
              "      <td>2.717671</td>\n",
              "      <td>1.278754</td>\n",
              "      <td>1.431364</td>\n",
              "      <td>0.000000</td>\n",
              "      <td>0.000000</td>\n",
              "      <td>0.000000</td>\n",
              "      <td>0.000000</td>\n",
              "      <td>0.000000</td>\n",
              "      <td>0.000000</td>\n",
              "      <td>0.000000</td>\n",
              "      <td>0.000000</td>\n",
              "      <td>0.000000</td>\n",
              "      <td>0.000000</td>\n",
              "      <td>1.000000</td>\n",
              "      <td>1.000000</td>\n",
              "      <td>0.000000</td>\n",
              "      <td>1.000000</td>\n",
              "    </tr>\n",
              "    <tr>\n",
              "      <th>max</th>\n",
              "      <td>0.778151</td>\n",
              "      <td>3.321184</td>\n",
              "      <td>3.548635</td>\n",
              "      <td>2.075547</td>\n",
              "      <td>2.149219</td>\n",
              "      <td>1.000000</td>\n",
              "      <td>1.000000</td>\n",
              "      <td>1.000000</td>\n",
              "      <td>1.000000</td>\n",
              "      <td>1.000000</td>\n",
              "      <td>1.000000</td>\n",
              "      <td>1.000000</td>\n",
              "      <td>1.000000</td>\n",
              "      <td>1.000000</td>\n",
              "      <td>1.000000</td>\n",
              "      <td>1.000000</td>\n",
              "      <td>1.000000</td>\n",
              "      <td>1.000000</td>\n",
              "      <td>1.000000</td>\n",
              "    </tr>\n",
              "  </tbody>\n",
              "</table>\n",
              "</div>"
            ],
            "text/plain": [
              "             rating      calories  ...  thanksgiving       healthy\n",
              "count  17572.000000  17572.000000  ...  17572.000000  17572.000000\n",
              "mean       0.637294      2.504614  ...      0.067038      0.584282\n",
              "std        0.211482      0.327938  ...      0.250096      0.492859\n",
              "min        0.000000      0.000000  ...      0.000000      0.000000\n",
              "25%        0.676694      2.369216  ...      0.000000      0.000000\n",
              "50%        0.730378      2.539076  ...      0.000000      1.000000\n",
              "75%        0.730378      2.687529  ...      0.000000      1.000000\n",
              "max        0.778151      3.321184  ...      1.000000      1.000000\n",
              "\n",
              "[8 rows x 19 columns]"
            ]
          },
          "metadata": {
            "tags": []
          },
          "execution_count": 243
        }
      ]
    },
    {
      "cell_type": "code",
      "metadata": {
        "colab": {
          "base_uri": "https://localhost:8080/"
        },
        "id": "836y9uK26uTt",
        "outputId": "ba17696e-bedd-4af9-c2a5-83640255f5ba"
      },
      "source": [
        "# Sum healthy column to find out its frequency\n",
        "total = prepared[\"healthy\"].sum()\n",
        "print(total)\n",
        "#10,267 recipes meet the \"healthy critera\""
      ],
      "execution_count": 244,
      "outputs": [
        {
          "output_type": "stream",
          "text": [
            "10267\n"
          ],
          "name": "stdout"
        }
      ]
    },
    {
      "cell_type": "markdown",
      "metadata": {
        "id": "Y80rrlIh79WX"
      },
      "source": [
        "## **Pearson's Correlation 2**\n",
        "Looking at the relationship between rating, nutritional values, and our new healthy category."
      ]
    },
    {
      "cell_type": "code",
      "metadata": {
        "colab": {
          "base_uri": "https://localhost:8080/"
        },
        "id": "RGvmAcA779Wb",
        "outputId": "87f93c9d-8c6f-42c4-fc15-762d36d79f61"
      },
      "source": [
        "# We want to see the correlation only between rating and continuous attributes\n",
        "continuous_healthy = prepared[['rating', 'calories', 'protein', 'fat', 'sodium', 'healthy']]\n",
        "\n",
        "# Create the correlation matrix from our continuous prepared data \n",
        "corr_matrix=continuous_healthy.corr()\n",
        "\n",
        "# Create the correlation matrix from our prepared data \n",
        "corr_matrix[\"rating\"].sort_values(ascending=False)\n"
      ],
      "execution_count": 245,
      "outputs": [
        {
          "output_type": "execute_result",
          "data": {
            "text/plain": [
              "rating      1.000000\n",
              "fat         0.192250\n",
              "protein     0.185152\n",
              "sodium      0.169159\n",
              "calories    0.136014\n",
              "healthy    -0.136349\n",
              "Name: rating, dtype: float64"
            ]
          },
          "metadata": {
            "tags": []
          },
          "execution_count": 245
        }
      ]
    },
    {
      "cell_type": "markdown",
      "metadata": {
        "id": "QQOAlWHj79Wc"
      },
      "source": [
        "It looks like healthy recipes are inversely related to rating- people don't like healthy recipes, but they do like butter!! "
      ]
    },
    {
      "cell_type": "markdown",
      "metadata": {
        "id": "76LuvNhxFDHO"
      },
      "source": [
        "## **Logistic Regression for Healthy**"
      ]
    },
    {
      "cell_type": "code",
      "metadata": {
        "colab": {
          "base_uri": "https://localhost:8080/",
          "height": 162
        },
        "id": "SbSlcRUaFDHO",
        "outputId": "7dfbab85-f832-40af-ff75-8d7768f7a455"
      },
      "source": [
        "\n",
        "# need to use continuous data for x \n",
        "X = continuous\n",
        "\n",
        "# labels \n",
        "Y = prepared[\"healthy\"]\n",
        "\n",
        "# Split the data set and perform logistic regression\n",
        "# Split the dataset into the training set (70%) and testing (30%)\n",
        "# random_state Controls the shuffling applied to the data before applying the split. \n",
        "# Pass an int for reproducible output across multiple function calls.\n",
        "X_train, X_test, Y_train, Y_test = train_test_split(X, Y, test_size = 0.30, random_state = 5)\n",
        "\n",
        "# Perform logistic regression for the binary output 0 (not healthy) and 1 (healthy)\n",
        "from sklearn.linear_model import LogisticRegression\n",
        "classifier = LogisticRegression()\n",
        "classifier.fit(X_train, Y_train)\n",
        "\n",
        "# measure model accuracy\n",
        "Y_pred = classifier.predict(X_test)\n",
        "\n",
        "from sklearn.metrics import confusion_matrix\n",
        "import pandas as pd\n",
        "import numpy as np\n",
        "\n",
        "# labels are: 0 (not healthy) and 1 (healthy)\n",
        "labels = [0, 1]\n",
        "cm = confusion_matrix(Y_test, Y_pred, labels=labels)\n",
        "\n",
        "print ('#Total cases', X.shape)\n",
        "print ('#Training and testing cases', X_train.shape, X_test.shape)\n",
        "print ('Confusion matrix:')\n",
        "pd.DataFrame(cm, index=labels, columns=labels)\n",
        "\n",
        "\n",
        "\n",
        "\n"
      ],
      "execution_count": 284,
      "outputs": [
        {
          "output_type": "stream",
          "text": [
            "#Total cases (17572, 5)\n",
            "#Training and testing cases (12300, 5) (5272, 5)\n",
            "Confusion matrix:\n"
          ],
          "name": "stdout"
        },
        {
          "output_type": "execute_result",
          "data": {
            "text/html": [
              "<div>\n",
              "<style scoped>\n",
              "    .dataframe tbody tr th:only-of-type {\n",
              "        vertical-align: middle;\n",
              "    }\n",
              "\n",
              "    .dataframe tbody tr th {\n",
              "        vertical-align: top;\n",
              "    }\n",
              "\n",
              "    .dataframe thead th {\n",
              "        text-align: right;\n",
              "    }\n",
              "</style>\n",
              "<table border=\"1\" class=\"dataframe\">\n",
              "  <thead>\n",
              "    <tr style=\"text-align: right;\">\n",
              "      <th></th>\n",
              "      <th>0</th>\n",
              "      <th>1</th>\n",
              "    </tr>\n",
              "  </thead>\n",
              "  <tbody>\n",
              "    <tr>\n",
              "      <th>0</th>\n",
              "      <td>1713</td>\n",
              "      <td>495</td>\n",
              "    </tr>\n",
              "    <tr>\n",
              "      <th>1</th>\n",
              "      <td>42</td>\n",
              "      <td>3022</td>\n",
              "    </tr>\n",
              "  </tbody>\n",
              "</table>\n",
              "</div>"
            ],
            "text/plain": [
              "      0     1\n",
              "0  1713   495\n",
              "1    42  3022"
            ]
          },
          "metadata": {
            "tags": []
          },
          "execution_count": 284
        }
      ]
    },
    {
      "cell_type": "markdown",
      "metadata": {
        "id": "cgy1ORQAFDHP"
      },
      "source": [
        "The logistic regression for healthy performed pretty well. It was very good at recognizing healthy recipes as healthy recipes (high sensitivity). It did over classify some unhealthy recipes as healthy (specificity at 77%). \n",
        "\n",
        "The model's high performance might make sense, though, as a recipe's healthiness is dependent entirely upon it continuous attributes.\n",
        "\n",
        "Accuracy rate: ~90%\n",
        "\n",
        "Recall/sensitivity: ~99%\n",
        "\n",
        "Specificity rate: ~78% \n",
        "\n",
        "Precision: ~86%\n",
        "\n",
        "F1 score: ~0.92\n",
        "\n"
      ]
    },
    {
      "cell_type": "code",
      "metadata": {
        "colab": {
          "base_uri": "https://localhost:8080/"
        },
        "id": "m08vwmwNIDlL",
        "outputId": "6dd46669-845e-44d4-901e-982cbfe1c75b"
      },
      "source": [
        "# Create the correlation matrix from our continuous prepared data \n",
        "corr_matrix=continuous_healthy.corr()\n",
        "\n",
        "# Create the correlation matrix from our prepared data for healthy attribute\n",
        "corr_matrix[\"healthy\"].sort_values(ascending=False)\n"
      ],
      "execution_count": 285,
      "outputs": [
        {
          "output_type": "execute_result",
          "data": {
            "text/plain": [
              "healthy     1.000000\n",
              "rating     -0.136349\n",
              "fat        -0.486659\n",
              "calories   -0.514308\n",
              "sodium     -0.521983\n",
              "protein    -0.623568\n",
              "Name: healthy, dtype: float64"
            ]
          },
          "metadata": {
            "tags": []
          },
          "execution_count": 285
        }
      ]
    },
    {
      "cell_type": "markdown",
      "metadata": {
        "id": "FYxBrT9jIPDY"
      },
      "source": [
        "Sodium, protein, fat and calories are all fairly-to-strongly correlated to a recipe's health score. \n"
      ]
    },
    {
      "cell_type": "markdown",
      "metadata": {
        "id": "vEPSKenvIhCP"
      },
      "source": [
        "## **Logistic Regression for Peanut Free (using healthy)**"
      ]
    },
    {
      "cell_type": "code",
      "metadata": {
        "colab": {
          "base_uri": "https://localhost:8080/",
          "height": 162
        },
        "id": "UUT6HECjIhCb",
        "outputId": "2932e9ac-d2ae-4c70-d5b7-762ea8284fe3"
      },
      "source": [
        "\n",
        "# need to use continuous data for x \n",
        "X = continuous_healthy\n",
        "\n",
        "# labels \n",
        "Y = prepared[\"peanut free\"]\n",
        "\n",
        "# Split the data set and perform logistic regression\n",
        "# Split the dataset into the training set (70%) and testing (30%)\n",
        "# random_state Controls the shuffling applied to the data before applying the split. \n",
        "# Pass an int for reproducible output across multiple function calls.\n",
        "X_train, X_test, Y_train, Y_test = train_test_split(X, Y, test_size = 0.30, random_state = 5)\n",
        "\n",
        "# Perform logistic regression for the binary output 0 (not peanut free) and 1 (peanut free)\n",
        "from sklearn.linear_model import LogisticRegression\n",
        "classifier = LogisticRegression()\n",
        "classifier.fit(X_train, Y_train)\n",
        "\n",
        "# measure model accuracy\n",
        "Y_pred = classifier.predict(X_test)\n",
        "\n",
        "from sklearn.metrics import confusion_matrix\n",
        "import pandas as pd\n",
        "import numpy as np\n",
        "\n",
        "# labels are: peanut free (1) vs. not peanut free (0)\n",
        "labels = [0, 1]\n",
        "cm = confusion_matrix(Y_test, Y_pred, labels=labels)\n",
        "\n",
        "print ('#Total cases', X.shape)\n",
        "print ('#Training and testing cases', X_train.shape, X_test.shape)\n",
        "print ('Confusion matrix:')\n",
        "pd.DataFrame(cm, index=labels, columns=labels)\n",
        "\n",
        "\n",
        "\n",
        "\n"
      ],
      "execution_count": 258,
      "outputs": [
        {
          "output_type": "stream",
          "text": [
            "#Total cases (17572, 6)\n",
            "#Training and testing cases (12300, 6) (5272, 6)\n",
            "Confusion matrix:\n"
          ],
          "name": "stdout"
        },
        {
          "output_type": "execute_result",
          "data": {
            "text/html": [
              "<div>\n",
              "<style scoped>\n",
              "    .dataframe tbody tr th:only-of-type {\n",
              "        vertical-align: middle;\n",
              "    }\n",
              "\n",
              "    .dataframe tbody tr th {\n",
              "        vertical-align: top;\n",
              "    }\n",
              "\n",
              "    .dataframe thead th {\n",
              "        text-align: right;\n",
              "    }\n",
              "</style>\n",
              "<table border=\"1\" class=\"dataframe\">\n",
              "  <thead>\n",
              "    <tr style=\"text-align: right;\">\n",
              "      <th></th>\n",
              "      <th>0</th>\n",
              "      <th>1</th>\n",
              "    </tr>\n",
              "  </thead>\n",
              "  <tbody>\n",
              "    <tr>\n",
              "      <th>0</th>\n",
              "      <td>2672</td>\n",
              "      <td>365</td>\n",
              "    </tr>\n",
              "    <tr>\n",
              "      <th>1</th>\n",
              "      <td>1872</td>\n",
              "      <td>363</td>\n",
              "    </tr>\n",
              "  </tbody>\n",
              "</table>\n",
              "</div>"
            ],
            "text/plain": [
              "      0    1\n",
              "0  2672  365\n",
              "1  1872  363"
            ]
          },
          "metadata": {
            "tags": []
          },
          "execution_count": 258
        }
      ]
    },
    {
      "cell_type": "markdown",
      "metadata": {
        "id": "4tJR9zZCIhCd"
      },
      "source": [
        "The logistic regression for peanut free performed about the same when the dataset included the attribute healthy. \n",
        "\n",
        "Accuracy rate: ~59%\n",
        "\n",
        "Recall/sensitivity: 16%\n",
        "\n",
        "Specificity rate: ~88% \n",
        "\n",
        "Precision: ~50%\n",
        "\n",
        "F1 score: 0.25"
      ]
    },
    {
      "cell_type": "markdown",
      "metadata": {
        "id": "lOTvxoQkSoTT"
      },
      "source": [
        "### **Pearson's Correlation 3**\n",
        "Looking at the relationship between peanut free, healthy, and the nutritional values"
      ]
    },
    {
      "cell_type": "code",
      "metadata": {
        "colab": {
          "base_uri": "https://localhost:8080/"
        },
        "id": "GBcSUSYMSoTU",
        "outputId": "c499ee5c-b007-4b0a-c324-955e4aed4233"
      },
      "source": [
        "# We want to see the correlation only between rating and continuous attributes\n",
        "continuous_healthy_peanut = prepared[['rating', 'calories', 'protein', 'fat', 'sodium', 'healthy', 'peanut free']]\n",
        "\n",
        "# Create the correlation matrix from our continuous prepared data \n",
        "corr_matrix=continuous_healthy_peanut.corr()\n",
        "\n",
        "# Create the correlation matrix from our prepared data \n",
        "corr_matrix[\"peanut free\"].sort_values(ascending=False)\n"
      ],
      "execution_count": 249,
      "outputs": [
        {
          "output_type": "execute_result",
          "data": {
            "text/plain": [
              "peanut free    1.000000\n",
              "rating         0.104541\n",
              "fat            0.057505\n",
              "healthy        0.037586\n",
              "calories       0.032007\n",
              "sodium         0.011179\n",
              "protein       -0.024874\n",
              "Name: peanut free, dtype: float64"
            ]
          },
          "metadata": {
            "tags": []
          },
          "execution_count": 249
        }
      ]
    },
    {
      "cell_type": "markdown",
      "metadata": {
        "id": "X8k14rCOSoTV"
      },
      "source": [
        "There doesn't seem to be a very strong relationship between the attribute peanut free and any of the nutritional value attributes."
      ]
    },
    {
      "cell_type": "markdown",
      "metadata": {
        "id": "351fiyc2MgIC"
      },
      "source": [
        "## **Logistic Regression for Dessert (using continous dataset with healthy)**"
      ]
    },
    {
      "cell_type": "code",
      "metadata": {
        "colab": {
          "base_uri": "https://localhost:8080/",
          "height": 162
        },
        "id": "q-lNrkySMgIN",
        "outputId": "8024bd76-ac43-4057-bf45-01bfcbbd5f1c"
      },
      "source": [
        "X = continuous_healthy\n",
        "\n",
        "# labels \n",
        "# choose between 'cake', '#cakeweek',  'christmas', 'dairy free', \"dessert\", \"no-cook\", \"peanut free\", \"quick & easy\", \"thanksgiving\"\n",
        "Y = prepared[\"dessert\"]\n",
        "\n",
        "# Split the data set and perform logistic regression\n",
        "# Split the dataset into the training set (70%) and testing (30%)\n",
        "# random_state Controls the shuffling applied to the data before applying the split. \n",
        "# Pass an int for reproducible output across multiple function calls.\n",
        "X_train, X_test, Y_train, Y_test = train_test_split(X, Y, test_size = 0.30, random_state = 5)\n",
        "\n",
        "# Perform logistic regression for the binary output 0 (not dessert) and 1 (dessert)\n",
        "from sklearn.linear_model import LogisticRegression\n",
        "classifier = LogisticRegression()\n",
        "classifier.fit(X_train, Y_train)\n",
        "\n",
        "# measure model accuracy\n",
        "Y_pred = classifier.predict(X_test)\n",
        "\n",
        "from sklearn.metrics import confusion_matrix\n",
        "import pandas as pd\n",
        "import numpy as np\n",
        "\n",
        "# labels are: dessert (1) vs. not dessert (0)\n",
        "labels = [0, 1]\n",
        "cm = confusion_matrix(Y_test, Y_pred, labels=labels)\n",
        "\n",
        "print ('#Total cases', X.shape)\n",
        "print ('#Training and testing cases', X_train.shape, X_test.shape)\n",
        "print ('Confusion matrix:')\n",
        "pd.DataFrame(cm, index=labels, columns=labels)\n"
      ],
      "execution_count": 250,
      "outputs": [
        {
          "output_type": "stream",
          "text": [
            "#Total cases (17572, 6)\n",
            "#Training and testing cases (12300, 6) (5272, 6)\n",
            "Confusion matrix:\n"
          ],
          "name": "stdout"
        },
        {
          "output_type": "execute_result",
          "data": {
            "text/html": [
              "<div>\n",
              "<style scoped>\n",
              "    .dataframe tbody tr th:only-of-type {\n",
              "        vertical-align: middle;\n",
              "    }\n",
              "\n",
              "    .dataframe tbody tr th {\n",
              "        vertical-align: top;\n",
              "    }\n",
              "\n",
              "    .dataframe thead th {\n",
              "        text-align: right;\n",
              "    }\n",
              "</style>\n",
              "<table border=\"1\" class=\"dataframe\">\n",
              "  <thead>\n",
              "    <tr style=\"text-align: right;\">\n",
              "      <th></th>\n",
              "      <th>0</th>\n",
              "      <th>1</th>\n",
              "    </tr>\n",
              "  </thead>\n",
              "  <tbody>\n",
              "    <tr>\n",
              "      <th>0</th>\n",
              "      <td>4157</td>\n",
              "      <td>168</td>\n",
              "    </tr>\n",
              "    <tr>\n",
              "      <th>1</th>\n",
              "      <td>810</td>\n",
              "      <td>137</td>\n",
              "    </tr>\n",
              "  </tbody>\n",
              "</table>\n",
              "</div>"
            ],
            "text/plain": [
              "      0    1\n",
              "0  4157  168\n",
              "1   810  137"
            ]
          },
          "metadata": {
            "tags": []
          },
          "execution_count": 250
        }
      ]
    },
    {
      "cell_type": "markdown",
      "metadata": {
        "id": "1A3TNiECMgIO"
      },
      "source": [
        "The logistic regression for dessert peformed about the same when dataset included healthy tag than when it only included nutritional values.\n",
        "\n",
        "Accuracy: ~81%. \n",
        "\n",
        "Recall/sensitivity : ~14%\n",
        "\n",
        "Specificity rate: ~96%\n",
        "\n",
        "Precision: ~45%\n",
        "\n",
        "F1 score: ~0.22\n"
      ]
    },
    {
      "cell_type": "markdown",
      "metadata": {
        "id": "hLClAOkvTKtl"
      },
      "source": [
        "### **Pearson's Correlation 4**\n",
        "Looking at the relationship between dessert, the tag healthy, and nutritional values"
      ]
    },
    {
      "cell_type": "code",
      "metadata": {
        "colab": {
          "base_uri": "https://localhost:8080/"
        },
        "id": "3g3vSqX0TKtw",
        "outputId": "bff24154-4e38-4760-b854-562ff1c3d8e7"
      },
      "source": [
        "# We want to see the correlation only between rating and continuous attributes\n",
        "continuous_healthy_dessert = prepared[['rating', 'calories', 'protein', 'fat', 'sodium', 'healthy', 'dessert']]\n",
        "\n",
        "# Create the correlation matrix from our continuous prepared data \n",
        "corr_matrix=continuous_healthy_dessert.corr()\n",
        "\n",
        "# Create the correlation matrix from our prepared data \n",
        "corr_matrix[\"dessert\"].sort_values(ascending=False)\n"
      ],
      "execution_count": 251,
      "outputs": [
        {
          "output_type": "execute_result",
          "data": {
            "text/plain": [
              "dessert     1.000000\n",
              "healthy     0.151436\n",
              "calories    0.043674\n",
              "rating      0.030649\n",
              "fat        -0.005883\n",
              "protein    -0.217122\n",
              "sodium     -0.220005\n",
              "Name: dessert, dtype: float64"
            ]
          },
          "metadata": {
            "tags": []
          },
          "execution_count": 251
        }
      ]
    },
    {
      "cell_type": "markdown",
      "metadata": {
        "id": "Nsd_alPKTKtx"
      },
      "source": [
        "There is a positive relationship between the dessert tag and the \"healthy\" tag. There is also relatively strong inverse relationships between protien and dessert and sodium and dessert. \n",
        "\n",
        "It makes sense that desserts would be low protein as desserts generally don't have meat/protein rich food in them. Desserts are also typically sweet rather than salty, so the more sodium-heavy recipes are probably savory. \n",
        "\n",
        "It's interesting that the healthy category is somewhat related to the dessert tag when calories and fat are not. \n",
        "My hypothesis is that because desserts tend to score low in sodium and protein, the model is more likely to score them as healthy over recipes that may be equal in calories/fats but contain a lot of meat or salt. I didn't expect a positive relationship between the healthy tag and the dessert tag.  "
      ]
    },
    {
      "cell_type": "markdown",
      "metadata": {
        "id": "cXuKSRjUWjsU"
      },
      "source": [
        "### **Re-defining \"healthy\"**\n",
        "If healthy didn't take in account sodium or protein, how would it affect it's correlation with the dessert tag?"
      ]
    },
    {
      "cell_type": "markdown",
      "metadata": {
        "id": "9v1TJVURWjsg"
      },
      "source": [
        "Let's define a new healthy category that gets rid of our sodium and protein requirements. Now, a healthy recipe must only have no more than:\n",
        "1. 750 calories \n",
        "2. 25 gms of fat\n",
        "\n",
        "\n"
      ]
    },
    {
      "cell_type": "code",
      "metadata": {
        "colab": {
          "base_uri": "https://localhost:8080/",
          "height": 334
        },
        "id": "ouuhFiHuWjsg",
        "outputId": "8eb143c9-8a0d-4fc7-dbc3-c6f87183646b"
      },
      "source": [
        "# Initialize a new column \n",
        "prepared[\"healthy_calsfats_only\"] = 0;\n",
        "\n",
        "# need to run log10 on the critera to match the normalized values in continuous attributes\n",
        "# normalization of continuous attributes = np.log10(value) + 1 \n",
        "prepared[\"healthy_calsfats_only\"] = np.where((prepared.calories < np.log10(750 + 1)) & \n",
        "                                              (prepared.fat < np.log10(25 +1)),1, prepared.healthy_calsfats_only)\n",
        "\n",
        "prepared.describe()\n"
      ],
      "execution_count": 263,
      "outputs": [
        {
          "output_type": "execute_result",
          "data": {
            "text/html": [
              "<div>\n",
              "<style scoped>\n",
              "    .dataframe tbody tr th:only-of-type {\n",
              "        vertical-align: middle;\n",
              "    }\n",
              "\n",
              "    .dataframe tbody tr th {\n",
              "        vertical-align: top;\n",
              "    }\n",
              "\n",
              "    .dataframe thead th {\n",
              "        text-align: right;\n",
              "    }\n",
              "</style>\n",
              "<table border=\"1\" class=\"dataframe\">\n",
              "  <thead>\n",
              "    <tr style=\"text-align: right;\">\n",
              "      <th></th>\n",
              "      <th>rating</th>\n",
              "      <th>calories</th>\n",
              "      <th>sodium</th>\n",
              "      <th>protein</th>\n",
              "      <th>fat</th>\n",
              "      <th>bake</th>\n",
              "      <th>birthday</th>\n",
              "      <th>cake</th>\n",
              "      <th>#cakeweek</th>\n",
              "      <th>christmas</th>\n",
              "      <th>dairy free</th>\n",
              "      <th>dessert</th>\n",
              "      <th>kid-friendly</th>\n",
              "      <th>low cal</th>\n",
              "      <th>no-cook</th>\n",
              "      <th>peanut free</th>\n",
              "      <th>quick &amp; easy</th>\n",
              "      <th>thanksgiving</th>\n",
              "      <th>healthy</th>\n",
              "      <th>healthy_calsfats_only</th>\n",
              "    </tr>\n",
              "  </thead>\n",
              "  <tbody>\n",
              "    <tr>\n",
              "      <th>count</th>\n",
              "      <td>17572.000000</td>\n",
              "      <td>17572.000000</td>\n",
              "      <td>17572.000000</td>\n",
              "      <td>17572.000000</td>\n",
              "      <td>17572.000000</td>\n",
              "      <td>17572.000000</td>\n",
              "      <td>17572.000000</td>\n",
              "      <td>17572.000000</td>\n",
              "      <td>17572.000000</td>\n",
              "      <td>17572.000000</td>\n",
              "      <td>17572.000000</td>\n",
              "      <td>17572.000000</td>\n",
              "      <td>17572.000000</td>\n",
              "      <td>17572.000000</td>\n",
              "      <td>17572.000000</td>\n",
              "      <td>17572.000000</td>\n",
              "      <td>17572.000000</td>\n",
              "      <td>17572.000000</td>\n",
              "      <td>17572.000000</td>\n",
              "      <td>17572.000000</td>\n",
              "    </tr>\n",
              "    <tr>\n",
              "      <th>mean</th>\n",
              "      <td>0.637294</td>\n",
              "      <td>2.504614</td>\n",
              "      <td>2.333837</td>\n",
              "      <td>0.991003</td>\n",
              "      <td>1.191204</td>\n",
              "      <td>0.225700</td>\n",
              "      <td>0.009447</td>\n",
              "      <td>0.036649</td>\n",
              "      <td>0.000228</td>\n",
              "      <td>0.048828</td>\n",
              "      <td>0.159231</td>\n",
              "      <td>0.179832</td>\n",
              "      <td>0.092761</td>\n",
              "      <td>0.053665</td>\n",
              "      <td>0.059868</td>\n",
              "      <td>0.423799</td>\n",
              "      <td>0.270885</td>\n",
              "      <td>0.067038</td>\n",
              "      <td>0.584282</td>\n",
              "      <td>0.723481</td>\n",
              "    </tr>\n",
              "    <tr>\n",
              "      <th>std</th>\n",
              "      <td>0.211482</td>\n",
              "      <td>0.327938</td>\n",
              "      <td>0.641564</td>\n",
              "      <td>0.446338</td>\n",
              "      <td>0.448779</td>\n",
              "      <td>0.418054</td>\n",
              "      <td>0.096737</td>\n",
              "      <td>0.187904</td>\n",
              "      <td>0.015086</td>\n",
              "      <td>0.215514</td>\n",
              "      <td>0.365901</td>\n",
              "      <td>0.384058</td>\n",
              "      <td>0.290106</td>\n",
              "      <td>0.225362</td>\n",
              "      <td>0.237249</td>\n",
              "      <td>0.494173</td>\n",
              "      <td>0.444430</td>\n",
              "      <td>0.250096</td>\n",
              "      <td>0.492859</td>\n",
              "      <td>0.447289</td>\n",
              "    </tr>\n",
              "    <tr>\n",
              "      <th>min</th>\n",
              "      <td>0.000000</td>\n",
              "      <td>0.000000</td>\n",
              "      <td>0.000000</td>\n",
              "      <td>0.000000</td>\n",
              "      <td>0.000000</td>\n",
              "      <td>0.000000</td>\n",
              "      <td>0.000000</td>\n",
              "      <td>0.000000</td>\n",
              "      <td>0.000000</td>\n",
              "      <td>0.000000</td>\n",
              "      <td>0.000000</td>\n",
              "      <td>0.000000</td>\n",
              "      <td>0.000000</td>\n",
              "      <td>0.000000</td>\n",
              "      <td>0.000000</td>\n",
              "      <td>0.000000</td>\n",
              "      <td>0.000000</td>\n",
              "      <td>0.000000</td>\n",
              "      <td>0.000000</td>\n",
              "      <td>0.000000</td>\n",
              "    </tr>\n",
              "    <tr>\n",
              "      <th>25%</th>\n",
              "      <td>0.676694</td>\n",
              "      <td>2.369216</td>\n",
              "      <td>2.096910</td>\n",
              "      <td>0.698970</td>\n",
              "      <td>1.041393</td>\n",
              "      <td>0.000000</td>\n",
              "      <td>0.000000</td>\n",
              "      <td>0.000000</td>\n",
              "      <td>0.000000</td>\n",
              "      <td>0.000000</td>\n",
              "      <td>0.000000</td>\n",
              "      <td>0.000000</td>\n",
              "      <td>0.000000</td>\n",
              "      <td>0.000000</td>\n",
              "      <td>0.000000</td>\n",
              "      <td>0.000000</td>\n",
              "      <td>0.000000</td>\n",
              "      <td>0.000000</td>\n",
              "      <td>0.000000</td>\n",
              "      <td>0.000000</td>\n",
              "    </tr>\n",
              "    <tr>\n",
              "      <th>50%</th>\n",
              "      <td>0.730378</td>\n",
              "      <td>2.539076</td>\n",
              "      <td>2.485011</td>\n",
              "      <td>1.000000</td>\n",
              "      <td>1.278754</td>\n",
              "      <td>0.000000</td>\n",
              "      <td>0.000000</td>\n",
              "      <td>0.000000</td>\n",
              "      <td>0.000000</td>\n",
              "      <td>0.000000</td>\n",
              "      <td>0.000000</td>\n",
              "      <td>0.000000</td>\n",
              "      <td>0.000000</td>\n",
              "      <td>0.000000</td>\n",
              "      <td>0.000000</td>\n",
              "      <td>0.000000</td>\n",
              "      <td>0.000000</td>\n",
              "      <td>0.000000</td>\n",
              "      <td>1.000000</td>\n",
              "      <td>1.000000</td>\n",
              "    </tr>\n",
              "    <tr>\n",
              "      <th>75%</th>\n",
              "      <td>0.730378</td>\n",
              "      <td>2.687529</td>\n",
              "      <td>2.717671</td>\n",
              "      <td>1.278754</td>\n",
              "      <td>1.431364</td>\n",
              "      <td>0.000000</td>\n",
              "      <td>0.000000</td>\n",
              "      <td>0.000000</td>\n",
              "      <td>0.000000</td>\n",
              "      <td>0.000000</td>\n",
              "      <td>0.000000</td>\n",
              "      <td>0.000000</td>\n",
              "      <td>0.000000</td>\n",
              "      <td>0.000000</td>\n",
              "      <td>0.000000</td>\n",
              "      <td>1.000000</td>\n",
              "      <td>1.000000</td>\n",
              "      <td>0.000000</td>\n",
              "      <td>1.000000</td>\n",
              "      <td>1.000000</td>\n",
              "    </tr>\n",
              "    <tr>\n",
              "      <th>max</th>\n",
              "      <td>0.778151</td>\n",
              "      <td>3.321184</td>\n",
              "      <td>3.548635</td>\n",
              "      <td>2.075547</td>\n",
              "      <td>2.149219</td>\n",
              "      <td>1.000000</td>\n",
              "      <td>1.000000</td>\n",
              "      <td>1.000000</td>\n",
              "      <td>1.000000</td>\n",
              "      <td>1.000000</td>\n",
              "      <td>1.000000</td>\n",
              "      <td>1.000000</td>\n",
              "      <td>1.000000</td>\n",
              "      <td>1.000000</td>\n",
              "      <td>1.000000</td>\n",
              "      <td>1.000000</td>\n",
              "      <td>1.000000</td>\n",
              "      <td>1.000000</td>\n",
              "      <td>1.000000</td>\n",
              "      <td>1.000000</td>\n",
              "    </tr>\n",
              "  </tbody>\n",
              "</table>\n",
              "</div>"
            ],
            "text/plain": [
              "             rating      calories  ...       healthy  healthy_calsfats_only\n",
              "count  17572.000000  17572.000000  ...  17572.000000           17572.000000\n",
              "mean       0.637294      2.504614  ...      0.584282               0.723481\n",
              "std        0.211482      0.327938  ...      0.492859               0.447289\n",
              "min        0.000000      0.000000  ...      0.000000               0.000000\n",
              "25%        0.676694      2.369216  ...      0.000000               0.000000\n",
              "50%        0.730378      2.539076  ...      1.000000               1.000000\n",
              "75%        0.730378      2.687529  ...      1.000000               1.000000\n",
              "max        0.778151      3.321184  ...      1.000000               1.000000\n",
              "\n",
              "[8 rows x 20 columns]"
            ]
          },
          "metadata": {
            "tags": []
          },
          "execution_count": 263
        }
      ]
    },
    {
      "cell_type": "code",
      "metadata": {
        "colab": {
          "base_uri": "https://localhost:8080/"
        },
        "id": "5YTUiNhDWjsh",
        "outputId": "1f16f60f-1b25-43f9-b282-ff16b487ac8f"
      },
      "source": [
        "# Sum healthy column to find out its frequency\n",
        "total = prepared[\"healthy_calsfats_only\"].sum()\n",
        "print(total)\n",
        "#12,713 recipes meet the new \"healthy critera\""
      ],
      "execution_count": 264,
      "outputs": [
        {
          "output_type": "stream",
          "text": [
            "12713\n"
          ],
          "name": "stdout"
        }
      ]
    },
    {
      "cell_type": "markdown",
      "metadata": {
        "id": "hYFeTK6okXaS"
      },
      "source": [
        "### **Pearson's correlation 5 and logistic regression** "
      ]
    },
    {
      "cell_type": "code",
      "metadata": {
        "colab": {
          "base_uri": "https://localhost:8080/"
        },
        "id": "ZhE-IjkMlaoE",
        "outputId": "ca6afef1-1310-464c-d52e-3896377c4ecb"
      },
      "source": [
        "# We want to see the correlation only between dessert, heathly, and continuous attributes\n",
        "continuous_healthy_2_dessert = prepared[['rating', 'calories', 'protein', 'fat', 'sodium', 'healthy_calsfats_only', 'dessert']]\n",
        "\n",
        "# Create the correlation matrix from our continuous prepared data \n",
        "corr_matrix=continuous_healthy_2_dessert.corr()\n",
        "\n",
        "# Create the correlation matrix from our prepared data \n",
        "corr_matrix[\"dessert\"].sort_values(ascending=False)\n"
      ],
      "execution_count": 282,
      "outputs": [
        {
          "output_type": "execute_result",
          "data": {
            "text/plain": [
              "dessert                  1.000000\n",
              "calories                 0.043674\n",
              "rating                   0.030649\n",
              "healthy_calsfats_only    0.015174\n",
              "fat                     -0.005883\n",
              "protein                 -0.217122\n",
              "sodium                  -0.220005\n",
              "Name: dessert, dtype: float64"
            ]
          },
          "metadata": {
            "tags": []
          },
          "execution_count": 282
        }
      ]
    },
    {
      "cell_type": "markdown",
      "metadata": {
        "id": "OjJAH79AlqLj"
      },
      "source": [
        "As predicted, when sodium and protein are removed from the definition of healthy, the relationship between healthy and dessert is weakened considerably. It also doesn't improve the regression model, as shown below:"
      ]
    },
    {
      "cell_type": "code",
      "metadata": {
        "colab": {
          "base_uri": "https://localhost:8080/",
          "height": 162
        },
        "id": "X096hKquoFEP",
        "outputId": "0a8c75bb-6eee-4c19-96e5-95c7638dfdd8"
      },
      "source": [
        "X = prepared[['rating', 'calories', 'protein', 'fat', 'sodium', 'healthy_calsfats_only']]\n",
        "\n",
        "# labels \n",
        "# choose between 'cake', '#cakeweek',  'christmas', 'dairy free', \"dessert\", \"no-cook\", \"peanut free\", \"quick & easy\", \"thanksgiving\"\n",
        "Y = prepared[\"dessert\"]\n",
        "\n",
        "# Split the data set and perform logistic regression\n",
        "# Split the dataset into the training set (70%) and testing (30%)\n",
        "# random_state Controls the shuffling applied to the data before applying the split. \n",
        "# Pass an int for reproducible output across multiple function calls.\n",
        "X_train, X_test, Y_train, Y_test = train_test_split(X, Y, test_size = 0.30, random_state = 5)\n",
        "\n",
        "# Perform logistic regression for the binary output 0 (not dessert) and 1 (dessert)\n",
        "from sklearn.linear_model import LogisticRegression\n",
        "classifier = LogisticRegression()\n",
        "classifier.fit(X_train, Y_train)\n",
        "\n",
        "# measure model accuracy\n",
        "Y_pred = classifier.predict(X_test)\n",
        "\n",
        "from sklearn.metrics import confusion_matrix\n",
        "import pandas as pd\n",
        "import numpy as np\n",
        "\n",
        "# labels are: dessert (1) vs. not dessert (0)\n",
        "labels = [0, 1]\n",
        "cm = confusion_matrix(Y_test, Y_pred, labels=labels)\n",
        "\n",
        "print ('#Total cases', X.shape)\n",
        "print ('#Training and testing cases', X_train.shape, X_test.shape)\n",
        "print ('Confusion matrix:')\n",
        "pd.DataFrame(cm, index=labels, columns=labels)\n"
      ],
      "execution_count": 283,
      "outputs": [
        {
          "output_type": "stream",
          "text": [
            "#Total cases (17572, 6)\n",
            "#Training and testing cases (12300, 6) (5272, 6)\n",
            "Confusion matrix:\n"
          ],
          "name": "stdout"
        },
        {
          "output_type": "execute_result",
          "data": {
            "text/html": [
              "<div>\n",
              "<style scoped>\n",
              "    .dataframe tbody tr th:only-of-type {\n",
              "        vertical-align: middle;\n",
              "    }\n",
              "\n",
              "    .dataframe tbody tr th {\n",
              "        vertical-align: top;\n",
              "    }\n",
              "\n",
              "    .dataframe thead th {\n",
              "        text-align: right;\n",
              "    }\n",
              "</style>\n",
              "<table border=\"1\" class=\"dataframe\">\n",
              "  <thead>\n",
              "    <tr style=\"text-align: right;\">\n",
              "      <th></th>\n",
              "      <th>0</th>\n",
              "      <th>1</th>\n",
              "    </tr>\n",
              "  </thead>\n",
              "  <tbody>\n",
              "    <tr>\n",
              "      <th>0</th>\n",
              "      <td>4147</td>\n",
              "      <td>178</td>\n",
              "    </tr>\n",
              "    <tr>\n",
              "      <th>1</th>\n",
              "      <td>809</td>\n",
              "      <td>138</td>\n",
              "    </tr>\n",
              "  </tbody>\n",
              "</table>\n",
              "</div>"
            ],
            "text/plain": [
              "      0    1\n",
              "0  4147  178\n",
              "1   809  138"
            ]
          },
          "metadata": {
            "tags": []
          },
          "execution_count": 283
        }
      ]
    },
    {
      "cell_type": "markdown",
      "metadata": {
        "id": "I7uMfiK7tHQS"
      },
      "source": [
        "## **Logistic Regression for low cal (using continous dataset with healthy)**"
      ]
    },
    {
      "cell_type": "code",
      "metadata": {
        "colab": {
          "base_uri": "https://localhost:8080/",
          "height": 162
        },
        "id": "8Mdxj_zKtOEB",
        "outputId": "c5d7766e-4dae-4a58-f063-c2f78e3fe4bd"
      },
      "source": [
        "X = continuous_healthy\n",
        "# labels \n",
        "# choose between 'cake', '#cakeweek',  'christmas', 'dairy free', \"dessert\", \"no-cook\", \"peanut free\", \"quick & easy\", \"thanksgiving\"\n",
        "Y = prepared[\"low cal\"]\n",
        "\n",
        "# Split the data set and perform logistic regression\n",
        "# Split the dataset into the training set (70%) and testing (30%)\n",
        "# random_state Controls the shuffling applied to the data before applying the split. \n",
        "# Pass an int for reproducible output across multiple function calls.\n",
        "X_train, X_test, Y_train, Y_test = train_test_split(X, Y, test_size = 0.30, random_state = 5)\n",
        "\n",
        "# Perform logistic regression for the binary output 0 (not low cal) and 1 (low cal)\n",
        "from sklearn.linear_model import LogisticRegression\n",
        "classifier = LogisticRegression()\n",
        "classifier.fit(X_train, Y_train)\n",
        "\n",
        "# measure model accuracy\n",
        "Y_pred = classifier.predict(X_test)\n",
        "\n",
        "from sklearn.metrics import confusion_matrix\n",
        "import pandas as pd\n",
        "import numpy as np\n",
        "\n",
        "# labels are: not low cal (1) vs. low cal (0)\n",
        "labels = [0, 1]\n",
        "cm = confusion_matrix(Y_test, Y_pred, labels=labels)\n",
        "\n",
        "print ('#Total cases', X.shape)\n",
        "print ('#Training and testing cases', X_train.shape, X_test.shape)\n",
        "print ('Confusion matrix:')\n",
        "pd.DataFrame(cm, index=labels, columns=labels)\n"
      ],
      "execution_count": 309,
      "outputs": [
        {
          "output_type": "stream",
          "text": [
            "#Total cases (17572, 6)\n",
            "#Training and testing cases (12300, 6) (5272, 6)\n",
            "Confusion matrix:\n"
          ],
          "name": "stdout"
        },
        {
          "output_type": "execute_result",
          "data": {
            "text/html": [
              "<div>\n",
              "<style scoped>\n",
              "    .dataframe tbody tr th:only-of-type {\n",
              "        vertical-align: middle;\n",
              "    }\n",
              "\n",
              "    .dataframe tbody tr th {\n",
              "        vertical-align: top;\n",
              "    }\n",
              "\n",
              "    .dataframe thead th {\n",
              "        text-align: right;\n",
              "    }\n",
              "</style>\n",
              "<table border=\"1\" class=\"dataframe\">\n",
              "  <thead>\n",
              "    <tr style=\"text-align: right;\">\n",
              "      <th></th>\n",
              "      <th>0</th>\n",
              "      <th>1</th>\n",
              "    </tr>\n",
              "  </thead>\n",
              "  <tbody>\n",
              "    <tr>\n",
              "      <th>0</th>\n",
              "      <td>4992</td>\n",
              "      <td>0</td>\n",
              "    </tr>\n",
              "    <tr>\n",
              "      <th>1</th>\n",
              "      <td>280</td>\n",
              "      <td>0</td>\n",
              "    </tr>\n",
              "  </tbody>\n",
              "</table>\n",
              "</div>"
            ],
            "text/plain": [
              "      0  1\n",
              "0  4992  0\n",
              "1   280  0"
            ]
          },
          "metadata": {
            "tags": []
          },
          "execution_count": 309
        }
      ]
    },
    {
      "cell_type": "markdown",
      "metadata": {
        "id": "jMYNMSFltu2V"
      },
      "source": [
        "The original healthy attribute doesn't seem to improve the logistic regression model for the tag \"low cal.\" \n",
        "\n",
        "What if we try regression with our revised definition of healthy (low calories and fats)? "
      ]
    },
    {
      "cell_type": "code",
      "metadata": {
        "colab": {
          "base_uri": "https://localhost:8080/",
          "height": 162
        },
        "id": "FxoUf7CFuBey",
        "outputId": "bdc8fc56-d236-4b8d-e580-dbe0f295b0a5"
      },
      "source": [
        "X = prepared[['rating', 'calories', 'protein', 'fat', 'sodium', 'healthy_calsfats_only']]\n",
        "\n",
        "# labels \n",
        "# choose between 'cake', '#cakeweek',  'christmas', 'dairy free', \"dessert\", \"no-cook\", \"peanut free\", \"quick & easy\", \"thanksgiving\"\n",
        "Y = prepared[\"low cal\"]\n",
        "\n",
        "# Split the data set and perform logistic regression\n",
        "# Split the dataset into the training set (70%) and testing (30%)\n",
        "# random_state Controls the shuffling applied to the data before applying the split. \n",
        "# Pass an int for reproducible output across multiple function calls.\n",
        "X_train, X_test, Y_train, Y_test = train_test_split(X, Y, test_size = 0.30, random_state = 5)\n",
        "\n",
        "# Perform logistic regression for the binary output 0 (not low cal) and 1 (low cal)\n",
        "from sklearn.linear_model import LogisticRegression\n",
        "classifier = LogisticRegression()\n",
        "classifier.fit(X_train, Y_train)\n",
        "\n",
        "# measure model accuracy\n",
        "Y_pred = classifier.predict(X_test)\n",
        "\n",
        "from sklearn.metrics import confusion_matrix\n",
        "import pandas as pd\n",
        "import numpy as np\n",
        "\n",
        "# labels are: low cal (1) vs. not low cal (0)\n",
        "labels = [0, 1]\n",
        "cm = confusion_matrix(Y_test, Y_pred, labels=labels)\n",
        "\n",
        "print ('#Total cases', X.shape)\n",
        "print ('#Training and testing cases', X_train.shape, X_test.shape)\n",
        "print ('Confusion matrix:')\n",
        "pd.DataFrame(cm, index=labels, columns=labels)\n"
      ],
      "execution_count": 311,
      "outputs": [
        {
          "output_type": "stream",
          "text": [
            "#Total cases (17572, 6)\n",
            "#Training and testing cases (12300, 6) (5272, 6)\n",
            "Confusion matrix:\n"
          ],
          "name": "stdout"
        },
        {
          "output_type": "execute_result",
          "data": {
            "text/html": [
              "<div>\n",
              "<style scoped>\n",
              "    .dataframe tbody tr th:only-of-type {\n",
              "        vertical-align: middle;\n",
              "    }\n",
              "\n",
              "    .dataframe tbody tr th {\n",
              "        vertical-align: top;\n",
              "    }\n",
              "\n",
              "    .dataframe thead th {\n",
              "        text-align: right;\n",
              "    }\n",
              "</style>\n",
              "<table border=\"1\" class=\"dataframe\">\n",
              "  <thead>\n",
              "    <tr style=\"text-align: right;\">\n",
              "      <th></th>\n",
              "      <th>0</th>\n",
              "      <th>1</th>\n",
              "    </tr>\n",
              "  </thead>\n",
              "  <tbody>\n",
              "    <tr>\n",
              "      <th>0</th>\n",
              "      <td>4992</td>\n",
              "      <td>0</td>\n",
              "    </tr>\n",
              "    <tr>\n",
              "      <th>1</th>\n",
              "      <td>280</td>\n",
              "      <td>0</td>\n",
              "    </tr>\n",
              "  </tbody>\n",
              "</table>\n",
              "</div>"
            ],
            "text/plain": [
              "      0  1\n",
              "0  4992  0\n",
              "1   280  0"
            ]
          },
          "metadata": {
            "tags": []
          },
          "execution_count": 311
        }
      ]
    },
    {
      "cell_type": "markdown",
      "metadata": {
        "id": "3Wne_sOtuXMH"
      },
      "source": [
        "Not here either. Out of curiousity, what is the correlation matrix for low cal, our continous attributes, and our two healthy tags?"
      ]
    },
    {
      "cell_type": "code",
      "metadata": {
        "colab": {
          "base_uri": "https://localhost:8080/"
        },
        "id": "5MP3kvYBuklU",
        "outputId": "f9620886-bd62-497f-c8ff-3d14a3f49646"
      },
      "source": [
        "# We want to see the correlation only between dessert, heathly, and continuous attributes\n",
        "continuous_healthy_2 = prepared[['rating', 'calories', 'protein', 'fat', 'sodium', 'healthy_calsfats_only', 'healthy', 'low cal']]\n",
        "\n",
        "# Create the correlation matrix from our continuous prepared data \n",
        "corr_matrix=continuous_healthy_2.corr()\n",
        "\n",
        "# Create the correlation matrix from our prepared data \n",
        "corr_matrix[\"low cal\"].sort_values(ascending=False)\n"
      ],
      "execution_count": 312,
      "outputs": [
        {
          "output_type": "execute_result",
          "data": {
            "text/plain": [
              "low cal                  1.000000\n",
              "healthy_calsfats_only    0.100361\n",
              "healthy                  0.083019\n",
              "rating                   0.039227\n",
              "sodium                  -0.000179\n",
              "protein                 -0.019321\n",
              "fat                     -0.045264\n",
              "calories                -0.063042\n",
              "Name: low cal, dtype: float64"
            ]
          },
          "metadata": {
            "tags": []
          },
          "execution_count": 312
        }
      ]
    },
    {
      "cell_type": "markdown",
      "metadata": {
        "id": "Rtzh-2NZvval"
      },
      "source": [
        "It seems that calories, healthy, and healthy_calsfats_only are not very related, even though common sense would dictate a much stronger relationship. \n",
        "\n",
        "This might be because there are so few recipes (~900) that contain the tag \"low cal\" that the model is unable to isolate the relationships between calories and the low calorie tag itself. "
      ]
    },
    {
      "cell_type": "markdown",
      "metadata": {
        "id": "HRUEDHvjl-_m"
      },
      "source": [
        "##**Does the addition of the attribute \"healthy\" improve our logistic regression models?**\n",
        "\n",
        "For the tags peanut free, low cal, and dessert, no. \n",
        "\n",
        "The performance of the model makes sense for peanut free and dessert. Here, the nutritional attributes that are fairly-to-strongly correlated to our \"healthy\" attribute are not strongly correlated to either tag \"peanut free\" or \"dessert\".\n",
        "\n",
        "For low cal, the continued poor performance of the model might be explained by the relatively low number of low cal recipes (fewer than 5 percent of recipes are low cal). \n",
        "\n",
        "\n",
        "\n",
        "\n"
      ]
    }
  ]
}