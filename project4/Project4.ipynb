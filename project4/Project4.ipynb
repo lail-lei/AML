{
  "nbformat": 4,
  "nbformat_minor": 0,
  "metadata": {
    "colab": {
      "name": "Project4.ipynb",
      "provenance": [],
      "authorship_tag": "ABX9TyPcr51P8MY2lJL6bGa4by29",
      "include_colab_link": true
    },
    "kernelspec": {
      "name": "python3",
      "display_name": "Python 3"
    },
    "language_info": {
      "name": "python"
    }
  },
  "cells": [
    {
      "cell_type": "markdown",
      "metadata": {
        "id": "view-in-github",
        "colab_type": "text"
      },
      "source": [
        "<a href=\"https://colab.research.google.com/github/lail-lei/AML/blob/main/project4/Project4.ipynb\" target=\"_parent\"><img src=\"https://colab.research.google.com/assets/colab-badge.svg\" alt=\"Open In Colab\"/></a>"
      ]
    },
    {
      "cell_type": "markdown",
      "metadata": {
        "id": "TsnBb9rU5Dhw"
      },
      "source": [
        "# **Import Pandas and Create DataFrames**"
      ]
    },
    {
      "cell_type": "code",
      "metadata": {
        "id": "uRZEC5MmJvDC"
      },
      "source": [
        "# Pandas is mainly used for data analysis. Pandas allows importing data from various file formats \n",
        "# such as comma-separated values, JSON, SQL, Microsoft Excel. \n",
        "# Pandas allows various data manipulation operations such as merging, reshaping, selecting, \n",
        "# as well as data cleaning, and data wrangling features.\n",
        "import pandas as pd\n",
        "\n",
        "# NumPy has support for large, multi-dimensional arrays and matrices, along with \n",
        "# a large collection of high-level mathematical functions to operate on these arrays.\n",
        "import numpy as np\n",
        "\n",
        "# Import matplotlib \n",
        "import matplotlib.pyplot as plt \n",
        "# Import seaborn for graphing \n",
        "import seaborn as sbn\n",
        "\n",
        "# Read raw file from github into dataframes \n",
        "df_train = pd.read_csv('https://raw.githubusercontent.com/lail-lei/AML/main/project4/Train.csv')\n",
        "df_test = pd.read_csv('https://raw.githubusercontent.com/lail-lei/AML/main/project4/Test.csv')"
      ],
      "execution_count": 1,
      "outputs": []
    },
    {
      "cell_type": "code",
      "metadata": {
        "id": "lmCvGtbKzNoT"
      },
      "source": [
        "# entire dataset for preliminary analysis \n",
        "df_complete_set = df_train.append(df_test, ignore_index='true');"
      ],
      "execution_count": 2,
      "outputs": []
    },
    {
      "cell_type": "markdown",
      "metadata": {
        "id": "xTV9OWRK9YZt"
      },
      "source": [
        "# **Preliminary Analysis**"
      ]
    },
    {
      "cell_type": "markdown",
      "metadata": {
        "id": "cqHp-GKY9g_-"
      },
      "source": [
        "## **Preprocess Data**\n",
        "\n",
        "\n"
      ]
    },
    {
      "cell_type": "markdown",
      "metadata": {
        "id": "Ag0H8iLE-PnZ"
      },
      "source": [
        "### **Imputing and Ordinal Encoding**"
      ]
    },
    {
      "cell_type": "markdown",
      "metadata": {
        "id": "dSqdzKNt-YTE"
      },
      "source": [
        "Before cross tabulation, the target class and other categorical attributes must be encoded. I used ordinal encoding to keep things simple."
      ]
    },
    {
      "cell_type": "code",
      "metadata": {
        "id": "js5F-WOCptIF"
      },
      "source": [
        "# import imputer and encoder\n",
        "from sklearn.impute import SimpleImputer\n",
        "from sklearn.preprocessing import OrdinalEncoder\n",
        "\n",
        "# prelimin processing\n",
        "def ordinal_encode_impute (column):\n",
        "  \n",
        "  # first, replace missing values with most frequently occuring\n",
        "  # create imputer\n",
        "  imputer = SimpleImputer(strategy='most_frequent')\n",
        "  # Train the imputer\n",
        "  imputer.fit(column)\n",
        "  # Transform column\n",
        "  X = imputer.transform(column)\n",
        "  \n",
        "  # then encode categorical values\n",
        "  enc = OrdinalEncoder()\n",
        "  enc.fit(X)\n",
        "  return enc.transform(X)"
      ],
      "execution_count": 3,
      "outputs": []
    },
    {
      "cell_type": "markdown",
      "metadata": {
        "id": "FnhXwdeE-A5Q"
      },
      "source": [
        "I will run the preliminary analysis on the entire dataset.\n"
      ]
    },
    {
      "cell_type": "code",
      "metadata": {
        "id": "Q62WKLHdzpY7"
      },
      "source": [
        "\n",
        "df_complete_set_processed = df_complete_set.copy(deep=True)\n",
        "\n",
        "# for categorical values, need to preprocess before preliminary analysis \n",
        "cat_cols = [\"Gender\", \"Ever_Married\", \"Graduated\", \"Profession\", \"Spending_Score\", \"Var_1\", \"Segmentation\"];\n",
        "\n",
        "# for each categorical col, ordinal encode and impute \n",
        "for col in cat_cols:\n",
        "  df_complete_set_processed[col] = ordinal_encode_impute(pd.DataFrame(df_complete_set[col]))\n"
      ],
      "execution_count": 4,
      "outputs": []
    },
    {
      "cell_type": "markdown",
      "metadata": {
        "id": "a1__svwr-kvO"
      },
      "source": [
        "### **Grouping Continuous Data**"
      ]
    },
    {
      "cell_type": "markdown",
      "metadata": {
        "id": "xkobdNsJ-r6g"
      },
      "source": [
        "Before we can run cross tabulation, let's group the continous data so that it can be more easily visualied in graphs. "
      ]
    },
    {
      "cell_type": "code",
      "metadata": {
        "id": "hOuo7W0q4UXp"
      },
      "source": [
        "# let's group continous column values into ranges so can be visualized better \n",
        "groupedX = df_complete_set.copy(deep=True)\n",
        "\n",
        "# break each column down by quartile\n",
        "def create_conditions (column):\n",
        "    return [ groupedX[column] <= groupedX[column].quantile(.25), \n",
        "             groupedX[column] <= groupedX[column].quantile(.5), \n",
        "             groupedX[column] <= groupedX[column].quantile(.75),\n",
        "             groupedX[column] <= groupedX[column].quantile(1.0)\n",
        "            ]\n",
        "\n",
        "# labels to correspond with quartiles\n",
        "choices = [0, 1, 2, 3]\n",
        "\n",
        "# create conditions and replace values with new labels\n",
        "\n",
        "# for age\n",
        "age_conditions = create_conditions(\"Age\")\n",
        "groupedX[\"Age\"] = pd.DataFrame(np.select(age_conditions, choices, default=0))\n",
        "\n",
        "# for family_size\n",
        "fam_conditions = create_conditions(\"Family_Size\")\n",
        "groupedX[\"Family_Size\"] = pd.DataFrame(np.select(fam_conditions, choices, default=0))\n",
        "\n",
        "# for work experience\n",
        "work_conditions = create_conditions(\"Work_Experience\")\n",
        "groupedX[\"Work_Experience\"] = pd.DataFrame(np.select(work_conditions, choices, default=0))\n",
        "\n"
      ],
      "execution_count": 5,
      "outputs": []
    },
    {
      "cell_type": "code",
      "metadata": {
        "colab": {
          "base_uri": "https://localhost:8080/",
          "height": 0
        },
        "id": "zNXL19IXEWHa",
        "outputId": "f7f4fd48-d5c6-450d-8027-4a07d3f58584"
      },
      "source": [
        "groupedX.head(20)"
      ],
      "execution_count": 6,
      "outputs": [
        {
          "output_type": "execute_result",
          "data": {
            "text/html": [
              "<div>\n",
              "<style scoped>\n",
              "    .dataframe tbody tr th:only-of-type {\n",
              "        vertical-align: middle;\n",
              "    }\n",
              "\n",
              "    .dataframe tbody tr th {\n",
              "        vertical-align: top;\n",
              "    }\n",
              "\n",
              "    .dataframe thead th {\n",
              "        text-align: right;\n",
              "    }\n",
              "</style>\n",
              "<table border=\"1\" class=\"dataframe\">\n",
              "  <thead>\n",
              "    <tr style=\"text-align: right;\">\n",
              "      <th></th>\n",
              "      <th>ID</th>\n",
              "      <th>Gender</th>\n",
              "      <th>Ever_Married</th>\n",
              "      <th>Age</th>\n",
              "      <th>Graduated</th>\n",
              "      <th>Profession</th>\n",
              "      <th>Work_Experience</th>\n",
              "      <th>Spending_Score</th>\n",
              "      <th>Family_Size</th>\n",
              "      <th>Var_1</th>\n",
              "      <th>Segmentation</th>\n",
              "    </tr>\n",
              "  </thead>\n",
              "  <tbody>\n",
              "    <tr>\n",
              "      <th>0</th>\n",
              "      <td>462809</td>\n",
              "      <td>Male</td>\n",
              "      <td>No</td>\n",
              "      <td>0</td>\n",
              "      <td>No</td>\n",
              "      <td>Healthcare</td>\n",
              "      <td>1</td>\n",
              "      <td>Low</td>\n",
              "      <td>2</td>\n",
              "      <td>Cat_4</td>\n",
              "      <td>D</td>\n",
              "    </tr>\n",
              "    <tr>\n",
              "      <th>1</th>\n",
              "      <td>462643</td>\n",
              "      <td>Female</td>\n",
              "      <td>Yes</td>\n",
              "      <td>1</td>\n",
              "      <td>Yes</td>\n",
              "      <td>Engineer</td>\n",
              "      <td>0</td>\n",
              "      <td>Average</td>\n",
              "      <td>1</td>\n",
              "      <td>Cat_4</td>\n",
              "      <td>A</td>\n",
              "    </tr>\n",
              "    <tr>\n",
              "      <th>2</th>\n",
              "      <td>466315</td>\n",
              "      <td>Female</td>\n",
              "      <td>Yes</td>\n",
              "      <td>3</td>\n",
              "      <td>Yes</td>\n",
              "      <td>Engineer</td>\n",
              "      <td>1</td>\n",
              "      <td>Low</td>\n",
              "      <td>0</td>\n",
              "      <td>Cat_6</td>\n",
              "      <td>B</td>\n",
              "    </tr>\n",
              "    <tr>\n",
              "      <th>3</th>\n",
              "      <td>461735</td>\n",
              "      <td>Male</td>\n",
              "      <td>Yes</td>\n",
              "      <td>3</td>\n",
              "      <td>Yes</td>\n",
              "      <td>Lawyer</td>\n",
              "      <td>0</td>\n",
              "      <td>High</td>\n",
              "      <td>0</td>\n",
              "      <td>Cat_6</td>\n",
              "      <td>B</td>\n",
              "    </tr>\n",
              "    <tr>\n",
              "      <th>4</th>\n",
              "      <td>462669</td>\n",
              "      <td>Female</td>\n",
              "      <td>Yes</td>\n",
              "      <td>1</td>\n",
              "      <td>Yes</td>\n",
              "      <td>Entertainment</td>\n",
              "      <td>0</td>\n",
              "      <td>High</td>\n",
              "      <td>3</td>\n",
              "      <td>Cat_6</td>\n",
              "      <td>A</td>\n",
              "    </tr>\n",
              "    <tr>\n",
              "      <th>5</th>\n",
              "      <td>461319</td>\n",
              "      <td>Male</td>\n",
              "      <td>Yes</td>\n",
              "      <td>3</td>\n",
              "      <td>No</td>\n",
              "      <td>Artist</td>\n",
              "      <td>0</td>\n",
              "      <td>Average</td>\n",
              "      <td>0</td>\n",
              "      <td>Cat_6</td>\n",
              "      <td>C</td>\n",
              "    </tr>\n",
              "    <tr>\n",
              "      <th>6</th>\n",
              "      <td>460156</td>\n",
              "      <td>Male</td>\n",
              "      <td>No</td>\n",
              "      <td>1</td>\n",
              "      <td>Yes</td>\n",
              "      <td>Healthcare</td>\n",
              "      <td>1</td>\n",
              "      <td>Low</td>\n",
              "      <td>1</td>\n",
              "      <td>Cat_6</td>\n",
              "      <td>C</td>\n",
              "    </tr>\n",
              "    <tr>\n",
              "      <th>7</th>\n",
              "      <td>464347</td>\n",
              "      <td>Female</td>\n",
              "      <td>No</td>\n",
              "      <td>1</td>\n",
              "      <td>Yes</td>\n",
              "      <td>Healthcare</td>\n",
              "      <td>1</td>\n",
              "      <td>Low</td>\n",
              "      <td>1</td>\n",
              "      <td>Cat_6</td>\n",
              "      <td>D</td>\n",
              "    </tr>\n",
              "    <tr>\n",
              "      <th>8</th>\n",
              "      <td>465015</td>\n",
              "      <td>Female</td>\n",
              "      <td>Yes</td>\n",
              "      <td>3</td>\n",
              "      <td>Yes</td>\n",
              "      <td>Engineer</td>\n",
              "      <td>0</td>\n",
              "      <td>Low</td>\n",
              "      <td>1</td>\n",
              "      <td>Cat_7</td>\n",
              "      <td>D</td>\n",
              "    </tr>\n",
              "    <tr>\n",
              "      <th>9</th>\n",
              "      <td>465176</td>\n",
              "      <td>Female</td>\n",
              "      <td>Yes</td>\n",
              "      <td>3</td>\n",
              "      <td>Yes</td>\n",
              "      <td>Artist</td>\n",
              "      <td>1</td>\n",
              "      <td>Average</td>\n",
              "      <td>2</td>\n",
              "      <td>Cat_6</td>\n",
              "      <td>C</td>\n",
              "    </tr>\n",
              "    <tr>\n",
              "      <th>10</th>\n",
              "      <td>464041</td>\n",
              "      <td>Female</td>\n",
              "      <td>No</td>\n",
              "      <td>0</td>\n",
              "      <td>Yes</td>\n",
              "      <td>Engineer</td>\n",
              "      <td>1</td>\n",
              "      <td>Low</td>\n",
              "      <td>1</td>\n",
              "      <td>Cat_6</td>\n",
              "      <td>A</td>\n",
              "    </tr>\n",
              "    <tr>\n",
              "      <th>11</th>\n",
              "      <td>464942</td>\n",
              "      <td>Male</td>\n",
              "      <td>No</td>\n",
              "      <td>0</td>\n",
              "      <td>No</td>\n",
              "      <td>Healthcare</td>\n",
              "      <td>2</td>\n",
              "      <td>Low</td>\n",
              "      <td>2</td>\n",
              "      <td>Cat_4</td>\n",
              "      <td>D</td>\n",
              "    </tr>\n",
              "    <tr>\n",
              "      <th>12</th>\n",
              "      <td>461230</td>\n",
              "      <td>Female</td>\n",
              "      <td>No</td>\n",
              "      <td>0</td>\n",
              "      <td>No</td>\n",
              "      <td>Executive</td>\n",
              "      <td>0</td>\n",
              "      <td>Low</td>\n",
              "      <td>0</td>\n",
              "      <td>Cat_3</td>\n",
              "      <td>D</td>\n",
              "    </tr>\n",
              "    <tr>\n",
              "      <th>13</th>\n",
              "      <td>459573</td>\n",
              "      <td>Male</td>\n",
              "      <td>Yes</td>\n",
              "      <td>3</td>\n",
              "      <td>No</td>\n",
              "      <td>Lawyer</td>\n",
              "      <td>0</td>\n",
              "      <td>Low</td>\n",
              "      <td>0</td>\n",
              "      <td>Cat_6</td>\n",
              "      <td>A</td>\n",
              "    </tr>\n",
              "    <tr>\n",
              "      <th>14</th>\n",
              "      <td>460849</td>\n",
              "      <td>Female</td>\n",
              "      <td>Yes</td>\n",
              "      <td>3</td>\n",
              "      <td>No</td>\n",
              "      <td>Doctor</td>\n",
              "      <td>0</td>\n",
              "      <td>Low</td>\n",
              "      <td>0</td>\n",
              "      <td>Cat_3</td>\n",
              "      <td>B</td>\n",
              "    </tr>\n",
              "    <tr>\n",
              "      <th>15</th>\n",
              "      <td>460563</td>\n",
              "      <td>Female</td>\n",
              "      <td>No</td>\n",
              "      <td>1</td>\n",
              "      <td>No</td>\n",
              "      <td>Healthcare</td>\n",
              "      <td>1</td>\n",
              "      <td>Low</td>\n",
              "      <td>0</td>\n",
              "      <td>Cat_1</td>\n",
              "      <td>C</td>\n",
              "    </tr>\n",
              "    <tr>\n",
              "      <th>16</th>\n",
              "      <td>466865</td>\n",
              "      <td>Female</td>\n",
              "      <td>No</td>\n",
              "      <td>1</td>\n",
              "      <td>No</td>\n",
              "      <td>Homemaker</td>\n",
              "      <td>3</td>\n",
              "      <td>Low</td>\n",
              "      <td>3</td>\n",
              "      <td>Cat_3</td>\n",
              "      <td>D</td>\n",
              "    </tr>\n",
              "    <tr>\n",
              "      <th>17</th>\n",
              "      <td>461644</td>\n",
              "      <td>Male</td>\n",
              "      <td>No</td>\n",
              "      <td>1</td>\n",
              "      <td>No</td>\n",
              "      <td>Healthcare</td>\n",
              "      <td>1</td>\n",
              "      <td>Low</td>\n",
              "      <td>3</td>\n",
              "      <td>Cat_6</td>\n",
              "      <td>B</td>\n",
              "    </tr>\n",
              "    <tr>\n",
              "      <th>18</th>\n",
              "      <td>466772</td>\n",
              "      <td>Male</td>\n",
              "      <td>Yes</td>\n",
              "      <td>3</td>\n",
              "      <td>Yes</td>\n",
              "      <td>Entertainment</td>\n",
              "      <td>1</td>\n",
              "      <td>Average</td>\n",
              "      <td>2</td>\n",
              "      <td>Cat_6</td>\n",
              "      <td>B</td>\n",
              "    </tr>\n",
              "    <tr>\n",
              "      <th>19</th>\n",
              "      <td>464291</td>\n",
              "      <td>Female</td>\n",
              "      <td>Yes</td>\n",
              "      <td>3</td>\n",
              "      <td>Yes</td>\n",
              "      <td>Artist</td>\n",
              "      <td>0</td>\n",
              "      <td>High</td>\n",
              "      <td>0</td>\n",
              "      <td>Cat_6</td>\n",
              "      <td>C</td>\n",
              "    </tr>\n",
              "  </tbody>\n",
              "</table>\n",
              "</div>"
            ],
            "text/plain": [
              "        ID  Gender Ever_Married  ...  Family_Size  Var_1 Segmentation\n",
              "0   462809    Male           No  ...            2  Cat_4            D\n",
              "1   462643  Female          Yes  ...            1  Cat_4            A\n",
              "2   466315  Female          Yes  ...            0  Cat_6            B\n",
              "3   461735    Male          Yes  ...            0  Cat_6            B\n",
              "4   462669  Female          Yes  ...            3  Cat_6            A\n",
              "5   461319    Male          Yes  ...            0  Cat_6            C\n",
              "6   460156    Male           No  ...            1  Cat_6            C\n",
              "7   464347  Female           No  ...            1  Cat_6            D\n",
              "8   465015  Female          Yes  ...            1  Cat_7            D\n",
              "9   465176  Female          Yes  ...            2  Cat_6            C\n",
              "10  464041  Female           No  ...            1  Cat_6            A\n",
              "11  464942    Male           No  ...            2  Cat_4            D\n",
              "12  461230  Female           No  ...            0  Cat_3            D\n",
              "13  459573    Male          Yes  ...            0  Cat_6            A\n",
              "14  460849  Female          Yes  ...            0  Cat_3            B\n",
              "15  460563  Female           No  ...            0  Cat_1            C\n",
              "16  466865  Female           No  ...            3  Cat_3            D\n",
              "17  461644    Male           No  ...            3  Cat_6            B\n",
              "18  466772    Male          Yes  ...            2  Cat_6            B\n",
              "19  464291  Female          Yes  ...            0  Cat_6            C\n",
              "\n",
              "[20 rows x 11 columns]"
            ]
          },
          "metadata": {
            "tags": []
          },
          "execution_count": 6
        }
      ]
    },
    {
      "cell_type": "code",
      "metadata": {
        "colab": {
          "base_uri": "https://localhost:8080/",
          "height": 0
        },
        "id": "pBjl4DBxEZ3H",
        "outputId": "825d62b5-ae92-46ba-9858-2b044a1ee2b7"
      },
      "source": [
        "df_complete_set.describe()"
      ],
      "execution_count": 7,
      "outputs": [
        {
          "output_type": "execute_result",
          "data": {
            "text/html": [
              "<div>\n",
              "<style scoped>\n",
              "    .dataframe tbody tr th:only-of-type {\n",
              "        vertical-align: middle;\n",
              "    }\n",
              "\n",
              "    .dataframe tbody tr th {\n",
              "        vertical-align: top;\n",
              "    }\n",
              "\n",
              "    .dataframe thead th {\n",
              "        text-align: right;\n",
              "    }\n",
              "</style>\n",
              "<table border=\"1\" class=\"dataframe\">\n",
              "  <thead>\n",
              "    <tr style=\"text-align: right;\">\n",
              "      <th></th>\n",
              "      <th>ID</th>\n",
              "      <th>Age</th>\n",
              "      <th>Work_Experience</th>\n",
              "      <th>Family_Size</th>\n",
              "    </tr>\n",
              "  </thead>\n",
              "  <tbody>\n",
              "    <tr>\n",
              "      <th>count</th>\n",
              "      <td>10695.000000</td>\n",
              "      <td>10695.000000</td>\n",
              "      <td>9597.000000</td>\n",
              "      <td>10247.000000</td>\n",
              "    </tr>\n",
              "    <tr>\n",
              "      <th>mean</th>\n",
              "      <td>463468.088640</td>\n",
              "      <td>43.511828</td>\n",
              "      <td>2.619777</td>\n",
              "      <td>2.844052</td>\n",
              "    </tr>\n",
              "    <tr>\n",
              "      <th>std</th>\n",
              "      <td>2600.966411</td>\n",
              "      <td>16.774158</td>\n",
              "      <td>3.390790</td>\n",
              "      <td>1.536427</td>\n",
              "    </tr>\n",
              "    <tr>\n",
              "      <th>min</th>\n",
              "      <td>458982.000000</td>\n",
              "      <td>18.000000</td>\n",
              "      <td>0.000000</td>\n",
              "      <td>1.000000</td>\n",
              "    </tr>\n",
              "    <tr>\n",
              "      <th>25%</th>\n",
              "      <td>461220.500000</td>\n",
              "      <td>30.000000</td>\n",
              "      <td>0.000000</td>\n",
              "      <td>2.000000</td>\n",
              "    </tr>\n",
              "    <tr>\n",
              "      <th>50%</th>\n",
              "      <td>463451.000000</td>\n",
              "      <td>41.000000</td>\n",
              "      <td>1.000000</td>\n",
              "      <td>3.000000</td>\n",
              "    </tr>\n",
              "    <tr>\n",
              "      <th>75%</th>\n",
              "      <td>465733.500000</td>\n",
              "      <td>53.000000</td>\n",
              "      <td>4.000000</td>\n",
              "      <td>4.000000</td>\n",
              "    </tr>\n",
              "    <tr>\n",
              "      <th>max</th>\n",
              "      <td>467974.000000</td>\n",
              "      <td>89.000000</td>\n",
              "      <td>14.000000</td>\n",
              "      <td>9.000000</td>\n",
              "    </tr>\n",
              "  </tbody>\n",
              "</table>\n",
              "</div>"
            ],
            "text/plain": [
              "                  ID           Age  Work_Experience   Family_Size\n",
              "count   10695.000000  10695.000000      9597.000000  10247.000000\n",
              "mean   463468.088640     43.511828         2.619777      2.844052\n",
              "std      2600.966411     16.774158         3.390790      1.536427\n",
              "min    458982.000000     18.000000         0.000000      1.000000\n",
              "25%    461220.500000     30.000000         0.000000      2.000000\n",
              "50%    463451.000000     41.000000         1.000000      3.000000\n",
              "75%    465733.500000     53.000000         4.000000      4.000000\n",
              "max    467974.000000     89.000000        14.000000      9.000000"
            ]
          },
          "metadata": {
            "tags": []
          },
          "execution_count": 7
        }
      ]
    },
    {
      "cell_type": "markdown",
      "metadata": {
        "id": "1r0dVPFKDKvH"
      },
      "source": [
        "For work experience:\n",
        "\n",
        "A score of 0 means 0 years of work experience, a score of 1 means 0 - 1 years of work experience, a score of 2 means 1 - 4 years of work experience, and a score of 3 means 4-14 years of work experience.\n",
        "\n",
        "For Age:\n",
        "\n",
        "A score of 0 means age 18 - 30, a score of 1 means age 30 - 41, a score of 2 means an age of 41 - 53 years of work experience, and a score of 3 means age 53-89. \n",
        "\n",
        "\n",
        "For family size:\n",
        "\n",
        "A score of 0 means a size of 1 - 2, a score of 2 means size of 2 - 3, a score of 3 means a size of 3 -4 and and a score of 4 means a size of 4 - 9.\n"
      ]
    },
    {
      "cell_type": "markdown",
      "metadata": {
        "id": "szvIG5S-9TH_"
      },
      "source": [
        "## **Distributions**"
      ]
    },
    {
      "cell_type": "code",
      "metadata": {
        "colab": {
          "base_uri": "https://localhost:8080/"
        },
        "id": "HQ4Jj8v29YwN",
        "outputId": "c85db19f-a6f0-4b69-9517-a7d228a4b8b4"
      },
      "source": [
        "# how many values per class\n",
        "df_complete_set[\"Segmentation\"].value_counts()"
      ],
      "execution_count": 8,
      "outputs": [
        {
          "output_type": "execute_result",
          "data": {
            "text/plain": [
              "D    3027\n",
              "A    2818\n",
              "C    2442\n",
              "B    2408\n",
              "Name: Segmentation, dtype: int64"
            ]
          },
          "metadata": {
            "tags": []
          },
          "execution_count": 8
        }
      ]
    },
    {
      "cell_type": "code",
      "metadata": {
        "colab": {
          "base_uri": "https://localhost:8080/"
        },
        "id": "xEitlZX3953R",
        "outputId": "350bddca-ed18-4484-a77b-2baccc661cb5"
      },
      "source": [
        "# how many values per class\n",
        "df_train[\"Segmentation\"].value_counts()"
      ],
      "execution_count": 9,
      "outputs": [
        {
          "output_type": "execute_result",
          "data": {
            "text/plain": [
              "D    2268\n",
              "A    1972\n",
              "C    1970\n",
              "B    1858\n",
              "Name: Segmentation, dtype: int64"
            ]
          },
          "metadata": {
            "tags": []
          },
          "execution_count": 9
        }
      ]
    },
    {
      "cell_type": "markdown",
      "metadata": {
        "id": "OF36fRE1Tqz8"
      },
      "source": [
        "## **Feature Correlations**"
      ]
    },
    {
      "cell_type": "markdown",
      "metadata": {
        "id": "MA8DasJbnRxx"
      },
      "source": [
        "###**Correlation heatmap**"
      ]
    },
    {
      "cell_type": "code",
      "metadata": {
        "id": "DeD-ccqy1108"
      },
      "source": [
        "import numpy as np\n",
        "from sklearn.datasets import fetch_openml\n",
        "from sklearn.model_selection import train_test_split, cross_val_score, GridSearchCV\n",
        "\n",
        "np.random.seed(42)\n",
        "\n",
        "# x and y \n",
        "# data and target classes\n",
        "heat_X = df_complete_set_processed.copy(deep=True)\n",
        "heat_y = df_complete_set_processed[\"Segmentation\"]\n",
        "\n",
        "# drop target and non-essential columns\n",
        "heat_X.drop(['ID', 'Var_1', 'Segmentation'], axis=1, inplace=True)\n",
        "\n",
        "# use the 80-20 rule for validation\n",
        "X_train, X_test, y_train, y_test = train_test_split(heat_X, heat_y, stratify=heat_y, test_size=0.2)"
      ],
      "execution_count": 10,
      "outputs": []
    },
    {
      "cell_type": "code",
      "metadata": {
        "colab": {
          "base_uri": "https://localhost:8080/",
          "height": 345
        },
        "id": "v0say-0OY2VV",
        "outputId": "9cd6ccf3-fa24-4ed8-a192-4198510b105a"
      },
      "source": [
        "\n",
        "# produce a heatmap of feature correlations\n",
        "\n",
        "import pandas as pd\n",
        "import seaborn as sns\n",
        "\n",
        "X_comb = pd.concat([X_train, y_train.astype(float)], axis=1)\n",
        "g = sns.heatmap(X_comb[[\"Gender\", \"Ever_Married\", \"Age\", \"Graduated\", \"Profession\", \"Work_Experience\", \"Spending_Score\", \"Family_Size\", \"Segmentation\"]].corr(),\n",
        "                annot=True, \n",
        "                cmap = \"cool\")\n"
      ],
      "execution_count": 11,
      "outputs": [
        {
          "output_type": "display_data",
          "data": {
            "image/png": "[encoded data removed]",
            "text/plain": [
              "<Figure size 432x288 with 2 Axes>"
            ]
          },
          "metadata": {
            "tags": [],
            "needs_background": "light"
          }
        }
      ]
    },
    {
      "cell_type": "markdown",
      "metadata": {
        "id": "ENi2zV1OnaBE"
      },
      "source": [
        "The feature with the strongest correlation to the target class (segmenting into class A, B, C, or D) is the customer age. This is an inverse relationship, so the lower the age, the more likely to be classified as a particular class. \n",
        "\n",
        "The next highest feature correlations to the target class is customers martial status and their profession (both are equally strong at -0.18 and 0.18). \n",
        "\n",
        "The third highest feature correlations to the target class were whether the customer had graduated and their family size (both are equally strong at -0.15 and 0.15). "
      ]
    },
    {
      "cell_type": "markdown",
      "metadata": {
        "id": "edd0sbJSERKx"
      },
      "source": [
        "###**Cross tabulation**"
      ]
    },
    {
      "cell_type": "code",
      "metadata": {
        "id": "r74IfN7M8CCS"
      },
      "source": [
        "# drop target and non-essential columns\n",
        "groupedX.drop(['ID', 'Var_1', 'Segmentation'], axis=1, inplace=True)"
      ],
      "execution_count": 12,
      "outputs": []
    },
    {
      "cell_type": "code",
      "metadata": {
        "colab": {
          "base_uri": "https://localhost:8080/",
          "height": 1000
        },
        "id": "ehK8RJ9skrXF",
        "outputId": "3d186f1a-754d-4cc1-bf82-34c705e6b922"
      },
      "source": [
        "\n",
        "figure, axes = plt.subplots(3, 3, figsize=(20, 20))\n",
        "\n",
        "# function to help display subplots \n",
        "\n",
        "classIndex = 0;\n",
        "\n",
        "for row in range(3):\n",
        "  for col in range(3):\n",
        "    if classIndex == 8: \n",
        "      break\n",
        "    ct1 = pd.crosstab(heat_y[:], groupedX[groupedX.columns[classIndex]])\n",
        "    ct1.plot.bar(ax = axes[row][col])\n",
        "    classIndex += 1\n",
        "    \n",
        "\n",
        "plt.show()\n"
      ],
      "execution_count": 13,
      "outputs": [
        {
          "output_type": "display_data",
          "data": {
            "image/png": "[encoded data removed]",
            "text/plain": [
              "<Figure size 1440x1440 with 9 Axes>"
            ]
          },
          "metadata": {
            "tags": [],
            "needs_background": "light"
          }
        }
      ]
    },
    {
      "cell_type": "markdown",
      "metadata": {
        "id": "lHHhQXdlCJLY"
      },
      "source": [
        "##**Summary**\n",
        "\n",
        "**Age and Segmentation**\n",
        "\n",
        "The cross tabulated graph for age and segmentation reflects the relatively strong correlation between these features. \n",
        "\n",
        "Target class 3 skews young. Customers age 18-30 clearly outnumber every other age group in this class. There are twice as many customers age 18-30 in this group than the next most common age group of age 30-40. There are over 4 times as many 18-30 aged customers than any age over 40 (41-53 and 54-89). The customers age (or specifically, youth) has a very strong correlation to whether they are segmented to class 3. \n",
        "\n",
        "Age seems to be a less significant factor for classes 0, 1 and 2. In general, there is a most significant age group per class. The next most significant age group for that class is consistently an age group close to the most significant age group. E.g., for class 3, the most significant age group is 18-30, and the next most significant is 30-40. For class 0, the most significant is 30-40 and the second most is 40-53. \n",
        "\n",
        "In general, when a class has a lot of young customers (18-30), it has few of the oldest customers (54-89). When a class has a lot of older customers (54-89) it has few of the youngest customers (18-30). This suggests that age has a relatively strong correlation to segmentation accross all target classes. \n",
        "\n",
        " \n",
        "**Marital Status and Segmentation**\n",
        "\n",
        "Marital status has a similar distribution as age. Target class 3 has twice as many \"never-married\" customers as married/divorced/widowed customers. This makes sense as people between 18 and 30 are not as likely to be married as people over the age of 30. Target classes with a higher proportion of older customers also have a higher proportion of married customers. \n",
        "\n",
        "In general, when a class has a lot of married/divorced/widowed customers, it has fewer never-married customers (54-89). When a class has a lot of never-married customers, it has fewer married/divorced/widowed customers. Based on the heatmap, it appears that age and marital status have a very strong correlation (0.56). Since the segmentation is correlation with age, it will also be correlated with martial status. \n",
        "\n",
        "**Profession and Segmentation**\n",
        "\n",
        "Certain professions appear frequently in some classes and less frequently in others. Profession 0 is represented significantly more in classes 0, 2, 1 (higher aged classes) and less in class 3 (younger class). In these classes, profession 0 is the most significant profession. Profession 0 ranges from occuring twice to around ten times as often as the next most significant class. In general, as age increase, the prevelance of profession 0 increases.  \n",
        "\n",
        "Profession 0 is underrepresented in classs 3. Profession 5 is over represented in the youngest class (3) and underepresented in the older classes. \n",
        "\n",
        "There appears to be a clear correlation between these two professions and target class.\n",
        "\n",
        "**Education and Segmentation**\n",
        "\n",
        "In general, education (whether the customer has graduated) has a relatively strong correlataion with age (0.24). Since the segmentation is correlation with age, it makes sense that it would also be correlated with education. And in general, older classes have a higher proportion of graduates. The youngest class is the only one where non graduates outnumber graduates.\n",
        "\n",
        "\n",
        "**Family size and Segmentation**\n",
        "\n",
        "In general, family size has a relatively strong correlataion with age (-0.28). Since the segmentation is correlation with age, it makes sense that it would also be correlated with family size. \n",
        "\n",
        "In general, the classes that contain a higher proportion of older customers have smaller family sizes. The class with the smallest families (fewest customers with family size >2) is 30-40.\n",
        "\n",
        "Younger customers may still live with parents/siblings, etc and therefore may be more likely to have larger family sizes.\n"
      ]
    },
    {
      "cell_type": "markdown",
      "metadata": {
        "id": "TOBu9oyzWltM"
      },
      "source": [
        "# **Pipelines**"
      ]
    },
    {
      "cell_type": "markdown",
      "metadata": {
        "id": "TsY6We9bJDja"
      },
      "source": [
        "###**First, separate x and y values for the entire dataset**\n"
      ]
    },
    {
      "cell_type": "code",
      "metadata": {
        "id": "007-9cG_avKx"
      },
      "source": [
        "# create the data to run through pipelines\n",
        "\n",
        "from sklearn.preprocessing import OrdinalEncoder\n",
        "\n",
        "# copy unprocessed data \n",
        "X_train = df_complete_set.copy(deep=True)\n",
        "# drop target and non-essential columns\n",
        "X_train.drop(['ID', 'Var_1', 'Segmentation'], axis=1, inplace=True)\n",
        "\n",
        "# target class (needs to be encoded)\n",
        "enc = OrdinalEncoder()\n",
        "df_target = pd.DataFrame(df_complete_set[\"Segmentation\"]);\n",
        "\n",
        "enc.fit(df_target)\n",
        "df_target[\"y\"]= enc.transform(df_target)\n",
        "y_train = df_target[\"y\"]\n"
      ],
      "execution_count": 15,
      "outputs": []
    },
    {
      "cell_type": "markdown",
      "metadata": {
        "id": "-b9sODM5JYk2"
      },
      "source": [
        "###**Sanity Check- print the X and Y values before submitting to pipeline for imputing/ further encoding**\n"
      ]
    },
    {
      "cell_type": "code",
      "metadata": {
        "colab": {
          "base_uri": "https://localhost:8080/",
          "height": 0
        },
        "id": "A-am_1hM_RZU",
        "outputId": "4e5eb018-ab72-4128-eeb0-dd2649704bfe"
      },
      "source": [
        "df_complete_set.head()"
      ],
      "execution_count": 16,
      "outputs": [
        {
          "output_type": "execute_result",
          "data": {
            "text/html": [
              "<div>\n",
              "<style scoped>\n",
              "    .dataframe tbody tr th:only-of-type {\n",
              "        vertical-align: middle;\n",
              "    }\n",
              "\n",
              "    .dataframe tbody tr th {\n",
              "        vertical-align: top;\n",
              "    }\n",
              "\n",
              "    .dataframe thead th {\n",
              "        text-align: right;\n",
              "    }\n",
              "</style>\n",
              "<table border=\"1\" class=\"dataframe\">\n",
              "  <thead>\n",
              "    <tr style=\"text-align: right;\">\n",
              "      <th></th>\n",
              "      <th>ID</th>\n",
              "      <th>Gender</th>\n",
              "      <th>Ever_Married</th>\n",
              "      <th>Age</th>\n",
              "      <th>Graduated</th>\n",
              "      <th>Profession</th>\n",
              "      <th>Work_Experience</th>\n",
              "      <th>Spending_Score</th>\n",
              "      <th>Family_Size</th>\n",
              "      <th>Var_1</th>\n",
              "      <th>Segmentation</th>\n",
              "    </tr>\n",
              "  </thead>\n",
              "  <tbody>\n",
              "    <tr>\n",
              "      <th>0</th>\n",
              "      <td>462809</td>\n",
              "      <td>Male</td>\n",
              "      <td>No</td>\n",
              "      <td>22</td>\n",
              "      <td>No</td>\n",
              "      <td>Healthcare</td>\n",
              "      <td>1.0</td>\n",
              "      <td>Low</td>\n",
              "      <td>4.0</td>\n",
              "      <td>Cat_4</td>\n",
              "      <td>D</td>\n",
              "    </tr>\n",
              "    <tr>\n",
              "      <th>1</th>\n",
              "      <td>462643</td>\n",
              "      <td>Female</td>\n",
              "      <td>Yes</td>\n",
              "      <td>38</td>\n",
              "      <td>Yes</td>\n",
              "      <td>Engineer</td>\n",
              "      <td>NaN</td>\n",
              "      <td>Average</td>\n",
              "      <td>3.0</td>\n",
              "      <td>Cat_4</td>\n",
              "      <td>A</td>\n",
              "    </tr>\n",
              "    <tr>\n",
              "      <th>2</th>\n",
              "      <td>466315</td>\n",
              "      <td>Female</td>\n",
              "      <td>Yes</td>\n",
              "      <td>67</td>\n",
              "      <td>Yes</td>\n",
              "      <td>Engineer</td>\n",
              "      <td>1.0</td>\n",
              "      <td>Low</td>\n",
              "      <td>1.0</td>\n",
              "      <td>Cat_6</td>\n",
              "      <td>B</td>\n",
              "    </tr>\n",
              "    <tr>\n",
              "      <th>3</th>\n",
              "      <td>461735</td>\n",
              "      <td>Male</td>\n",
              "      <td>Yes</td>\n",
              "      <td>67</td>\n",
              "      <td>Yes</td>\n",
              "      <td>Lawyer</td>\n",
              "      <td>0.0</td>\n",
              "      <td>High</td>\n",
              "      <td>2.0</td>\n",
              "      <td>Cat_6</td>\n",
              "      <td>B</td>\n",
              "    </tr>\n",
              "    <tr>\n",
              "      <th>4</th>\n",
              "      <td>462669</td>\n",
              "      <td>Female</td>\n",
              "      <td>Yes</td>\n",
              "      <td>40</td>\n",
              "      <td>Yes</td>\n",
              "      <td>Entertainment</td>\n",
              "      <td>NaN</td>\n",
              "      <td>High</td>\n",
              "      <td>6.0</td>\n",
              "      <td>Cat_6</td>\n",
              "      <td>A</td>\n",
              "    </tr>\n",
              "  </tbody>\n",
              "</table>\n",
              "</div>"
            ],
            "text/plain": [
              "       ID  Gender Ever_Married  ...  Family_Size  Var_1 Segmentation\n",
              "0  462809    Male           No  ...          4.0  Cat_4            D\n",
              "1  462643  Female          Yes  ...          3.0  Cat_4            A\n",
              "2  466315  Female          Yes  ...          1.0  Cat_6            B\n",
              "3  461735    Male          Yes  ...          2.0  Cat_6            B\n",
              "4  462669  Female          Yes  ...          6.0  Cat_6            A\n",
              "\n",
              "[5 rows x 11 columns]"
            ]
          },
          "metadata": {
            "tags": []
          },
          "execution_count": 16
        }
      ]
    },
    {
      "cell_type": "code",
      "metadata": {
        "colab": {
          "base_uri": "https://localhost:8080/"
        },
        "id": "uBE2E9EAHnQW",
        "outputId": "8130adc2-faf7-4154-8197-727279f724a4"
      },
      "source": [
        "df_complete_set.shape"
      ],
      "execution_count": 17,
      "outputs": [
        {
          "output_type": "execute_result",
          "data": {
            "text/plain": [
              "(10695, 11)"
            ]
          },
          "metadata": {
            "tags": []
          },
          "execution_count": 17
        }
      ]
    },
    {
      "cell_type": "code",
      "metadata": {
        "colab": {
          "base_uri": "https://localhost:8080/",
          "height": 0
        },
        "id": "xJ17KNOldBb8",
        "outputId": "3a112557-2c10-4d2e-d5a1-71b7e1625277"
      },
      "source": [
        "X_train.head()"
      ],
      "execution_count": 18,
      "outputs": [
        {
          "output_type": "execute_result",
          "data": {
            "text/html": [
              "<div>\n",
              "<style scoped>\n",
              "    .dataframe tbody tr th:only-of-type {\n",
              "        vertical-align: middle;\n",
              "    }\n",
              "\n",
              "    .dataframe tbody tr th {\n",
              "        vertical-align: top;\n",
              "    }\n",
              "\n",
              "    .dataframe thead th {\n",
              "        text-align: right;\n",
              "    }\n",
              "</style>\n",
              "<table border=\"1\" class=\"dataframe\">\n",
              "  <thead>\n",
              "    <tr style=\"text-align: right;\">\n",
              "      <th></th>\n",
              "      <th>Gender</th>\n",
              "      <th>Ever_Married</th>\n",
              "      <th>Age</th>\n",
              "      <th>Graduated</th>\n",
              "      <th>Profession</th>\n",
              "      <th>Work_Experience</th>\n",
              "      <th>Spending_Score</th>\n",
              "      <th>Family_Size</th>\n",
              "    </tr>\n",
              "  </thead>\n",
              "  <tbody>\n",
              "    <tr>\n",
              "      <th>0</th>\n",
              "      <td>Male</td>\n",
              "      <td>No</td>\n",
              "      <td>22</td>\n",
              "      <td>No</td>\n",
              "      <td>Healthcare</td>\n",
              "      <td>1.0</td>\n",
              "      <td>Low</td>\n",
              "      <td>4.0</td>\n",
              "    </tr>\n",
              "    <tr>\n",
              "      <th>1</th>\n",
              "      <td>Female</td>\n",
              "      <td>Yes</td>\n",
              "      <td>38</td>\n",
              "      <td>Yes</td>\n",
              "      <td>Engineer</td>\n",
              "      <td>NaN</td>\n",
              "      <td>Average</td>\n",
              "      <td>3.0</td>\n",
              "    </tr>\n",
              "    <tr>\n",
              "      <th>2</th>\n",
              "      <td>Female</td>\n",
              "      <td>Yes</td>\n",
              "      <td>67</td>\n",
              "      <td>Yes</td>\n",
              "      <td>Engineer</td>\n",
              "      <td>1.0</td>\n",
              "      <td>Low</td>\n",
              "      <td>1.0</td>\n",
              "    </tr>\n",
              "    <tr>\n",
              "      <th>3</th>\n",
              "      <td>Male</td>\n",
              "      <td>Yes</td>\n",
              "      <td>67</td>\n",
              "      <td>Yes</td>\n",
              "      <td>Lawyer</td>\n",
              "      <td>0.0</td>\n",
              "      <td>High</td>\n",
              "      <td>2.0</td>\n",
              "    </tr>\n",
              "    <tr>\n",
              "      <th>4</th>\n",
              "      <td>Female</td>\n",
              "      <td>Yes</td>\n",
              "      <td>40</td>\n",
              "      <td>Yes</td>\n",
              "      <td>Entertainment</td>\n",
              "      <td>NaN</td>\n",
              "      <td>High</td>\n",
              "      <td>6.0</td>\n",
              "    </tr>\n",
              "  </tbody>\n",
              "</table>\n",
              "</div>"
            ],
            "text/plain": [
              "   Gender Ever_Married  Age  ... Work_Experience Spending_Score  Family_Size\n",
              "0    Male           No   22  ...             1.0            Low          4.0\n",
              "1  Female          Yes   38  ...             NaN        Average          3.0\n",
              "2  Female          Yes   67  ...             1.0            Low          1.0\n",
              "3    Male          Yes   67  ...             0.0           High          2.0\n",
              "4  Female          Yes   40  ...             NaN           High          6.0\n",
              "\n",
              "[5 rows x 8 columns]"
            ]
          },
          "metadata": {
            "tags": []
          },
          "execution_count": 18
        }
      ]
    },
    {
      "cell_type": "code",
      "metadata": {
        "colab": {
          "base_uri": "https://localhost:8080/"
        },
        "id": "ovtg0C_rHxbO",
        "outputId": "42a5a16c-3fb7-4433-ca93-8b1372b3156f"
      },
      "source": [
        "X_train.shape"
      ],
      "execution_count": 19,
      "outputs": [
        {
          "output_type": "execute_result",
          "data": {
            "text/plain": [
              "(10695, 8)"
            ]
          },
          "metadata": {
            "tags": []
          },
          "execution_count": 19
        }
      ]
    },
    {
      "cell_type": "code",
      "metadata": {
        "colab": {
          "base_uri": "https://localhost:8080/"
        },
        "id": "lA5Ak-3cdEEB",
        "outputId": "f793d9ee-1bfc-4883-b241-8673ed248f1f"
      },
      "source": [
        "y_train.head()"
      ],
      "execution_count": 20,
      "outputs": [
        {
          "output_type": "execute_result",
          "data": {
            "text/plain": [
              "0    3.0\n",
              "1    0.0\n",
              "2    1.0\n",
              "3    1.0\n",
              "4    0.0\n",
              "Name: y, dtype: float64"
            ]
          },
          "metadata": {
            "tags": []
          },
          "execution_count": 20
        }
      ]
    },
    {
      "cell_type": "code",
      "metadata": {
        "colab": {
          "base_uri": "https://localhost:8080/"
        },
        "id": "HR8qFeMuH7df",
        "outputId": "167d4311-c65c-4f16-8a67-6c3a0456c25c"
      },
      "source": [
        "y_train.shape"
      ],
      "execution_count": 21,
      "outputs": [
        {
          "output_type": "execute_result",
          "data": {
            "text/plain": [
              "(10695,)"
            ]
          },
          "metadata": {
            "tags": []
          },
          "execution_count": 21
        }
      ]
    },
    {
      "cell_type": "markdown",
      "metadata": {
        "id": "P6rR-YybJmns"
      },
      "source": [
        "###**Create the pipelines!**\n"
      ]
    },
    {
      "cell_type": "code",
      "metadata": {
        "id": "R22OAaebWsiL"
      },
      "source": [
        "# Columntransformer for preprocessing \n",
        "\n",
        "from sklearn.compose import ColumnTransformer\n",
        "from sklearn.pipeline import Pipeline, make_pipeline\n",
        "from sklearn.impute import SimpleImputer, KNNImputer\n",
        "from sklearn.preprocessing import StandardScaler, OrdinalEncoder, MinMaxScaler\n",
        "\n",
        "\n",
        "########## First create a columntransformer \n",
        "\n",
        "cat_cols = [\"Gender\", \"Ever_Married\", \"Graduated\", \"Profession\", \"Spending_Score\"]\n",
        "\n",
        "cat_transformer = Pipeline(steps=[\n",
        "    # strategies are mean, median, most_frequent, etc.\n",
        "    ('imputer', SimpleImputer(strategy='most_frequent')),\n",
        "\n",
        "    # In ordinal encoding, each unique category value is assigned an integer value.\n",
        "    ('ordinal', OrdinalEncoder())\n",
        "])\n",
        "\n",
        "\n",
        "########## Second create a pipeline for the numeric attributes\n",
        "num_cols = ['Age', 'Family_Size', 'Work_Experience']\n",
        "\n",
        "num_transformer = Pipeline(steps=[\n",
        "    # Number of neighboring samples to use for K-nearest neighor imputation\n",
        "    ('imputer', KNNImputer(n_neighbors=5)),\n",
        "\n",
        "    # StandardScaler makes mean = 0 and scales the data to unit variance \n",
        "    ('scaler', StandardScaler())\n",
        "])\n",
        "\n",
        "\n",
        "########## Finally, apply column transformations\n",
        "preprocessor = ColumnTransformer(\n",
        "    transformers=[\n",
        "        ('num', num_transformer, num_cols),\n",
        "        ('cat', cat_transformer, cat_cols)\n",
        "    ])"
      ],
      "execution_count": 22,
      "outputs": []
    },
    {
      "cell_type": "code",
      "metadata": {
        "colab": {
          "base_uri": "https://localhost:8080/"
        },
        "id": "gNJnCKoJZPCf",
        "outputId": "03b0b999-d0b8-484d-e7a8-39c66d29f193"
      },
      "source": [
        "\n",
        "# Create SVC classifiers\n",
        "\n",
        "from sklearn.svm import SVC\n",
        "\n",
        "\n",
        "########## A poly kernel classifier\n",
        "linear_svc_clf = Pipeline(steps=[('preprocessor', preprocessor),\n",
        "                      ('classifier', SVC(kernel='linear'))])\n",
        "\n",
        "linear_svc_clf_score = cross_val_score(linear_svc_clf, X_train, y_train, cv=3, scoring=\"accuracy\").mean()\n",
        "\n",
        "########## A poly kernel classifier\n",
        "poly_svc_clf = Pipeline(steps=[('preprocessor', preprocessor),\n",
        "                      ('classifier', SVC(kernel='poly'))])\n",
        "poly_svc_clf_score = cross_val_score(poly_svc_clf, X_train, y_train, cv=3, scoring=\"accuracy\").mean()\n",
        "\n",
        "########## An RBF kernel classifier\n",
        "rbf_svc_clf = Pipeline(steps=[('preprocessor', preprocessor),\n",
        "                      ('classifier', SVC(kernel='rbf'))])\n",
        "\n",
        "\n",
        "rbf_svc_clf_score = cross_val_score(rbf_svc_clf, X_train, y_train, cv=3, scoring=\"accuracy\").mean()\n",
        "\n",
        "print(linear_svc_clf_score)\n",
        "print(poly_svc_clf_score)\n",
        "print(rbf_svc_clf_score)\n"
      ],
      "execution_count": 23,
      "outputs": [
        {
          "output_type": "stream",
          "text": [
            "0.44871435250116876\n",
            "0.4518934081346424\n",
            "0.46778868630201026\n"
          ],
          "name": "stdout"
        }
      ]
    },
    {
      "cell_type": "markdown",
      "metadata": {
        "id": "ZSWjjtp4J1Db"
      },
      "source": [
        "These scores are surprisingly low!"
      ]
    },
    {
      "cell_type": "code",
      "metadata": {
        "colab": {
          "base_uri": "https://localhost:8080/"
        },
        "id": "f3tqm1j96O4K",
        "outputId": "d52cba14-e7d5-487f-8b91-50f804cc4563"
      },
      "source": [
        "from sklearn.ensemble import RandomForestClassifier\n",
        "\n",
        "########## A random forest\n",
        "rf_clf = Pipeline(steps=[('preprocessor', preprocessor),\n",
        "                      ('classifier', RandomForestClassifier())])\n",
        "\n",
        "rf_clf_score = cross_val_score(rf_clf, X_train, y_train, cv=3, scoring=\"accuracy\").mean()\n",
        "\n",
        "print(rf_clf_score)\n"
      ],
      "execution_count": 24,
      "outputs": [
        {
          "output_type": "stream",
          "text": [
            "0.4095371669004208\n"
          ],
          "name": "stdout"
        }
      ]
    },
    {
      "cell_type": "markdown",
      "metadata": {
        "id": "7-5_PKZ4J6Xy"
      },
      "source": [
        "This score is even lower!"
      ]
    },
    {
      "cell_type": "code",
      "metadata": {
        "colab": {
          "base_uri": "https://localhost:8080/"
        },
        "id": "-XiL3TbEajkP",
        "outputId": "2be93d94-c8b9-40b8-819a-154f35dc900b"
      },
      "source": [
        "\n",
        "\n",
        "from sklearn.tree import DecisionTreeClassifier\n",
        "from sklearn.ensemble import ExtraTreesClassifier\n",
        "\n",
        "\n",
        "########## A decicion tree with entropy\n",
        "entropy_dt_clf = Pipeline(steps=[('preprocessor', preprocessor),\n",
        "                      ('classifier', DecisionTreeClassifier(criterion='entropy'))])\n",
        "entropy_dt_score = cross_val_score(entropy_dt_clf, X_train, y_train, cv=3, scoring=\"accuracy\").mean()\n",
        "\n",
        "########## A decicion tree with gini\n",
        "gini_dt_clf = Pipeline(steps=[('preprocessor', preprocessor),\n",
        "                      ('classifier', DecisionTreeClassifier(criterion='gini'))])\n",
        "\n",
        "gini_dt_score = cross_val_score(gini_dt_clf, X_train, y_train, cv=3, scoring=\"accuracy\").mean()\n",
        "\n",
        "\n",
        "### Extra trees!\n",
        "extra_tree = Pipeline(steps=[('preprocessor', preprocessor),\n",
        "                      ('classifier', ExtraTreesClassifier())])\n",
        "extra_tree_score = cross_val_score(extra_tree, X_train, y_train, cv=3, scoring=\"accuracy\").mean()\n",
        "\n",
        "print(entropy_dt_score)\n",
        "print(gini_dt_score)\n",
        "print(extra_tree_score)\n"
      ],
      "execution_count": 25,
      "outputs": [
        {
          "output_type": "stream",
          "text": [
            "0.3672744273024778\n",
            "0.37138849929873774\n",
            "0.39784946236559143\n"
          ],
          "name": "stdout"
        }
      ]
    },
    {
      "cell_type": "markdown",
      "metadata": {
        "id": "-zcNSG7CKCJf"
      },
      "source": [
        "These scores are even lower!"
      ]
    },
    {
      "cell_type": "code",
      "metadata": {
        "colab": {
          "base_uri": "https://localhost:8080/",
          "height": 281
        },
        "id": "7Ncbyt3zbz47",
        "outputId": "37cee8f4-bea3-4459-b480-cba3447b0371"
      },
      "source": [
        "\n",
        "# Summarize the findings for all models\n",
        "\n",
        "labels = ['SVC (lin)', 'SVC (RBF)', 'SVC (Poly)', 'DT (Gini)', 'DT (Entropy)', 'RF', 'Extra Tree']\n",
        "training_scores = [linear_svc_clf_score, rbf_svc_clf_score, poly_svc_clf_score, gini_dt_score, entropy_dt_score, rf_clf_score, extra_tree_score]\n",
        "\n",
        "x = np.arange(len(labels))  # the label locations\n",
        "width = 0.35  # the width of the bars\n",
        "\n",
        "fig, ax = plt.subplots()\n",
        "rects1 = ax.bar(x - width/2, training_scores, width, label='CV=3', color='orange')\n",
        "\n",
        "# Add some text for labels, title and custom x-axis tick labels, etc.\n",
        "ax.set_ylabel('Accuracy')\n",
        "ax.set_xticks(x)\n",
        "ax.set_ylim(0,1)\n",
        "ax.set_xticklabels(labels)\n",
        "ax.legend(bbox_to_anchor = (1.3, 1.0), loc='upper right')\n",
        "\n",
        "plt.title('Model Comparisons')\n",
        "plt.show()"
      ],
      "execution_count": 26,
      "outputs": [
        {
          "output_type": "display_data",
          "data": {
            "image/png": "[encoded data removed]",
            "text/plain": [
              "<Figure size 432x288 with 1 Axes>"
            ]
          },
          "metadata": {
            "tags": [],
            "needs_background": "light"
          }
        }
      ]
    },
    {
      "cell_type": "markdown",
      "metadata": {
        "id": "5KbjuoL1KVK5"
      },
      "source": [
        "### **Let's see how these models perform binary classification on the dataset instead**"
      ]
    },
    {
      "cell_type": "code",
      "metadata": {
        "id": "nbYazmsEM4c5"
      },
      "source": [
        "# convert 2 to 0 and 3 to 1\n",
        "\n",
        "y_binarized = y_train.copy(deep=True)\n",
        "\n",
        "for i in range (0, y_binarized.size):\n",
        "  if y_binarized[i] == 2:\n",
        "    y_binarized[i] = 0\n",
        "    continue\n",
        "  if y_binarized[i] == 3:\n",
        "    y_binarized[i] = 1"
      ],
      "execution_count": 27,
      "outputs": []
    },
    {
      "cell_type": "code",
      "metadata": {
        "colab": {
          "base_uri": "https://localhost:8080/"
        },
        "id": "74GfocfbQ-zU",
        "outputId": "fe670af5-ae41-4131-982c-09c800bf56d8"
      },
      "source": [
        "# Create SVC classifiers using y_binarized \n",
        "\n",
        "bin_linear_svc_clf_score = cross_val_score(linear_svc_clf, X_train, y_binarized, cv=3, scoring=\"accuracy\").mean()\n",
        "bin_poly_svc_clf_score = cross_val_score(poly_svc_clf, X_train, y_binarized, cv=3, scoring=\"accuracy\").mean()\n",
        "bin_rbf_svc_clf_score = cross_val_score(rbf_svc_clf, X_train, y_binarized, cv=3, scoring=\"accuracy\").mean()\n",
        "\n",
        "print(\"SVC (linear): \", bin_linear_svc_clf_score)\n",
        "print(\"SVC (poly): \", bin_poly_svc_clf_score)\n",
        "print(\"SVC (rbf): \", bin_rbf_svc_clf_score)\n"
      ],
      "execution_count": 28,
      "outputs": [
        {
          "output_type": "stream",
          "text": [
            "SVC (linear):  0.5957924263674614\n",
            "SVC (poly):  0.5998129967274427\n",
            "SVC (rbf):  0.6077606358111267\n"
          ],
          "name": "stdout"
        }
      ]
    },
    {
      "cell_type": "code",
      "metadata": {
        "colab": {
          "base_uri": "https://localhost:8080/"
        },
        "id": "qmr-aSm2RiAx",
        "outputId": "4a9e1b11-5a91-4660-8100-33affc3e51e9"
      },
      "source": [
        "# Create RF and decision classifiers using y_binarized \n",
        "\n",
        "bin_rf_clf_score = cross_val_score(rf_clf, X_train, y_binarized, cv=3, scoring=\"accuracy\").mean()\n",
        "bin_entropy_dt_score = cross_val_score(entropy_dt_clf, X_train, y_binarized, cv=3, scoring=\"accuracy\").mean()\n",
        "bin_gini_dt_score = cross_val_score(gini_dt_clf, X_train, y_binarized, cv=3, scoring=\"accuracy\").mean()\n",
        "bin_extra_tree_score = cross_val_score(extra_tree, X_train, y_binarized, cv=3, scoring=\"accuracy\").mean()\n",
        "\n",
        "\n",
        "print(\"Rf: \", bin_rf_clf_score)\n",
        "print(\"DT (entropy): \", bin_entropy_dt_score)\n",
        "print(\"DT (gini): \", bin_gini_dt_score)\n",
        "print(\"Extra Trees: \", bin_extra_tree_score)\n"
      ],
      "execution_count": 29,
      "outputs": [
        {
          "output_type": "stream",
          "text": [
            "Rf:  0.5757830762038335\n",
            "DT (entropy):  0.5558672276764843\n",
            "DT (gini):  0.5525011687704534\n",
            "Extra Trees:  0.5737260402057035\n"
          ],
          "name": "stdout"
        }
      ]
    },
    {
      "cell_type": "code",
      "metadata": {
        "colab": {
          "base_uri": "https://localhost:8080/",
          "height": 281
        },
        "id": "sjN4gGqWeqst",
        "outputId": "b96fedc4-bccb-4342-f7ee-8ccf458bc449"
      },
      "source": [
        "\n",
        "# Summarize the findings for all binary models\n",
        "\n",
        "labels = ['SVC (lin)', 'SVC (RBF)', 'SVC (Poly)', 'DT (Gini)', 'DT (Entropy)', 'RF', 'Extra Tree']\n",
        "training_scores = [bin_linear_svc_clf_score, bin_rbf_svc_clf_score, bin_poly_svc_clf_score, bin_gini_dt_score, bin_entropy_dt_score, bin_rf_clf_score, bin_extra_tree_score]\n",
        "\n",
        "x = np.arange(len(labels))  # the label locations\n",
        "width = 0.35  # the width of the bars\n",
        "\n",
        "fig, ax = plt.subplots()\n",
        "rects1 = ax.bar(x - width/2, training_scores, width, label='CV=3', color='orange')\n",
        "\n",
        "# Add some text for labels, title and custom x-axis tick labels, etc.\n",
        "ax.set_ylabel('Accuracy')\n",
        "ax.set_xticks(x)\n",
        "ax.set_ylim(0,1)\n",
        "ax.set_xticklabels(labels)\n",
        "ax.legend(bbox_to_anchor = (1.3, 1.0), loc='upper right')\n",
        "\n",
        "plt.title('Model Comparisons')\n",
        "plt.show()"
      ],
      "execution_count": 30,
      "outputs": [
        {
          "output_type": "display_data",
          "data": {
            "image/png": "[encoded data removed]",
            "text/plain": [
              "<Figure size 432x288 with 1 Axes>"
            ]
          },
          "metadata": {
            "tags": [],
            "needs_background": "light"
          }
        }
      ]
    },
    {
      "cell_type": "markdown",
      "metadata": {
        "id": "0heASpCo8MPX"
      },
      "source": [
        "### **Transparent Models**\n",
        "\n",
        "Let's look at what the Decision tree learned and see what columns are most important"
      ]
    },
    {
      "cell_type": "code",
      "metadata": {
        "colab": {
          "base_uri": "https://localhost:8080/",
          "height": 0
        },
        "id": "YWTplA0-8gYZ",
        "outputId": "20df3411-ba3e-49c0-a448-78b6abe6a858"
      },
      "source": [
        "# Convert the decision tree model to text and graph\n",
        "\n",
        "from matplotlib import pyplot\n",
        "from sklearn.tree import export_text, export_graphviz\n",
        "import graphviz\n",
        "\n",
        "# the DT model is refit to the entire dataset\n",
        "tree_X = df_complete_set.copy(deep=True)\n",
        "tree_y = df_complete_set[\"Segmentation\"]\n",
        "\n",
        "# drop target and non-essential columns\n",
        "tree_X.drop(['ID', 'Var_1', 'Segmentation'], axis=1, inplace=True)\n",
        "\n",
        "\n",
        "# we need to refit the DT model that is part of a composite pipe before exporting it as text\n",
        "entropy_dt_clf['classifier'].fit(preprocessor.fit_transform(tree_X), tree_y)\n",
        "\n",
        "\n",
        "# display the induced decision tree as a series of logical rules\n",
        "text_representation = export_text(entropy_dt_clf['classifier'],\n",
        "                                  feature_names=[\"Profession\", 'Age', 'Family_Size', 'Work_Experience', \"Gender\",  \"Ever_Married\", \"Graduated\", \"Spending_Score\" ],\n",
        "                                  max_depth=2)\n",
        "print(text_representation)\n",
        "\n",
        "\n",
        "# draw the induced decision tree\n",
        "dot_data = export_graphviz(entropy_dt_clf['classifier'],\n",
        "                                  max_depth=2,\n",
        "                                  feature_names=[\"Profession\",'Age', 'Family_Size', 'Work_Experience', \"Gender\", \"Ever_Married\", \"Graduated\",  \"Spending_Score\" ],\n",
        "                                  filled=True)\n",
        "\n",
        "graph = graphviz.Source(dot_data, format=\"png\") \n",
        "graph"
      ],
      "execution_count": 31,
      "outputs": [
        {
          "output_type": "stream",
          "text": [
            "|--- Profession <= -0.57\n",
            "|   |--- Profession <= -1.16\n",
            "|   |   |--- Graduated <= 4.50\n",
            "|   |   |   |--- truncated branch of depth 16\n",
            "|   |   |--- Graduated >  4.50\n",
            "|   |   |   |--- truncated branch of depth 16\n",
            "|   |--- Profession >  -1.16\n",
            "|   |   |--- Graduated <= 3.50\n",
            "|   |   |   |--- truncated branch of depth 21\n",
            "|   |   |--- Graduated >  3.50\n",
            "|   |   |   |--- truncated branch of depth 23\n",
            "|--- Profession >  -0.57\n",
            "|   |--- Spending_Score <= 1.50\n",
            "|   |   |--- Ever_Married <= 0.50\n",
            "|   |   |   |--- truncated branch of depth 24\n",
            "|   |   |--- Ever_Married >  0.50\n",
            "|   |   |   |--- truncated branch of depth 26\n",
            "|   |--- Spending_Score >  1.50\n",
            "|   |   |--- Graduated <= 0.50\n",
            "|   |   |   |--- truncated branch of depth 23\n",
            "|   |   |--- Graduated >  0.50\n",
            "|   |   |   |--- truncated branch of depth 24\n",
            "\n"
          ],
          "name": "stdout"
        },
        {
          "output_type": "execute_result",
          "data": {
            "text/plain": [
              "<graphviz.files.Source at 0x7f46f8f15b50>"
            ],
            "image/svg+xml": "<?xml version=\"1.0\" encoding=\"UTF-8\" standalone=\"no\"?>\n<!DOCTYPE svg PUBLIC \"-//W3C//DTD SVG 1.1//EN\"\n \"http://www.w3.org/Graphics/SVG/1.1/DTD/svg11.dtd\">\n<!-- Generated by graphviz version 2.40.1 (20161225.0304)\n -->\n<!-- Title: Tree Pages: 1 -->\n<svg width=\"810pt\" height=\"356pt\"\n viewBox=\"0.00 0.00 810.00 356.00\" xmlns=\"http://www.w3.org/2000/svg\" xmlns:xlink=\"http://www.w3.org/1999/xlink\">\n<g id=\"graph0\" class=\"graph\" transform=\"scale(1 1) rotate(0) translate(4 352)\">\n<title>Tree</title>\n<polygon fill=\"#ffffff\" stroke=\"transparent\" points=\"-4,4 -4,-352 806,-352 806,4 -4,4\"/>\n<!-- 0 -->\n<g id=\"node1\" class=\"node\">\n<title>0</title>\n<polygon fill=\"#fefafe\" stroke=\"#000000\" points=\"491.5,-348 276.5,-348 276.5,-280 491.5,-280 491.5,-348\"/>\n<text text-anchor=\"middle\" x=\"384\" y=\"-332.8\" font-family=\"Times,serif\" font-size=\"14.00\" fill=\"#000000\">Profession &lt;= &#45;0.567</text>\n<text text-anchor=\"middle\" x=\"384\" y=\"-317.8\" font-family=\"Times,serif\" font-size=\"14.00\" fill=\"#000000\">entropy = 1.993</text>\n<text text-anchor=\"middle\" x=\"384\" y=\"-302.8\" font-family=\"Times,serif\" font-size=\"14.00\" fill=\"#000000\">samples = 10695</text>\n<text text-anchor=\"middle\" x=\"384\" y=\"-287.8\" font-family=\"Times,serif\" font-size=\"14.00\" fill=\"#000000\">value = [2818, 2408, 2442, 3027]</text>\n</g>\n<!-- 1 -->\n<g id=\"node2\" class=\"node\">\n<title>1</title>\n<polygon fill=\"#eeacf4\" stroke=\"#000000\" points=\"369,-244 177,-244 177,-176 369,-176 369,-244\"/>\n<text text-anchor=\"middle\" x=\"273\" y=\"-228.8\" font-family=\"Times,serif\" font-size=\"14.00\" fill=\"#000000\">Profession &lt;= &#45;1.163</text>\n<text text-anchor=\"middle\" x=\"273\" y=\"-213.8\" font-family=\"Times,serif\" font-size=\"14.00\" fill=\"#000000\">entropy = 1.661</text>\n<text text-anchor=\"middle\" x=\"273\" y=\"-198.8\" font-family=\"Times,serif\" font-size=\"14.00\" fill=\"#000000\">samples = 3561</text>\n<text text-anchor=\"middle\" x=\"273\" y=\"-183.8\" font-family=\"Times,serif\" font-size=\"14.00\" fill=\"#000000\">value = [817, 406, 376, 1962]</text>\n</g>\n<!-- 0&#45;&gt;1 -->\n<g id=\"edge1\" class=\"edge\">\n<title>0&#45;&gt;1</title>\n<path fill=\"none\" stroke=\"#000000\" d=\"M347.6544,-279.9465C337.7841,-270.6986 326.9925,-260.5876 316.759,-250.9994\"/>\n<polygon fill=\"#000000\" stroke=\"#000000\" points=\"319.1177,-248.4131 309.4272,-244.13 314.3316,-253.5214 319.1177,-248.4131\"/>\n<text text-anchor=\"middle\" x=\"310.2407\" y=\"-265.4168\" font-family=\"Times,serif\" font-size=\"14.00\" fill=\"#000000\">True</text>\n</g>\n<!-- 3462 -->\n<g id=\"node9\" class=\"node\">\n<title>3462</title>\n<polygon fill=\"#fdfeff\" stroke=\"#000000\" points=\"602.5,-244 387.5,-244 387.5,-176 602.5,-176 602.5,-244\"/>\n<text text-anchor=\"middle\" x=\"495\" y=\"-228.8\" font-family=\"Times,serif\" font-size=\"14.00\" fill=\"#000000\">Spending_Score &lt;= 1.5</text>\n<text text-anchor=\"middle\" x=\"495\" y=\"-213.8\" font-family=\"Times,serif\" font-size=\"14.00\" fill=\"#000000\">entropy = 1.956</text>\n<text text-anchor=\"middle\" x=\"495\" y=\"-198.8\" font-family=\"Times,serif\" font-size=\"14.00\" fill=\"#000000\">samples = 7134</text>\n<text text-anchor=\"middle\" x=\"495\" y=\"-183.8\" font-family=\"Times,serif\" font-size=\"14.00\" fill=\"#000000\">value = [2001, 2002, 2066, 1065]</text>\n</g>\n<!-- 0&#45;&gt;3462 -->\n<g id=\"edge8\" class=\"edge\">\n<title>0&#45;&gt;3462</title>\n<path fill=\"none\" stroke=\"#000000\" d=\"M420.3456,-279.9465C430.2159,-270.6986 441.0075,-260.5876 451.241,-250.9994\"/>\n<polygon fill=\"#000000\" stroke=\"#000000\" points=\"453.6684,-253.5214 458.5728,-244.13 448.8823,-248.4131 453.6684,-253.5214\"/>\n<text text-anchor=\"middle\" x=\"457.7593\" y=\"-265.4168\" font-family=\"Times,serif\" font-size=\"14.00\" fill=\"#000000\">False</text>\n</g>\n<!-- 2 -->\n<g id=\"node3\" class=\"node\">\n<title>2</title>\n<polygon fill=\"#df61ea\" stroke=\"#000000\" points=\"162,-140 0,-140 0,-72 162,-72 162,-140\"/>\n<text text-anchor=\"middle\" x=\"81\" y=\"-124.8\" font-family=\"Times,serif\" font-size=\"14.00\" fill=\"#000000\">Graduated &lt;= 4.5</text>\n<text text-anchor=\"middle\" x=\"81\" y=\"-109.8\" font-family=\"Times,serif\" font-size=\"14.00\" fill=\"#000000\">entropy = 0.974</text>\n<text text-anchor=\"middle\" x=\"81\" y=\"-94.8\" font-family=\"Times,serif\" font-size=\"14.00\" fill=\"#000000\">samples = 1037</text>\n<text text-anchor=\"middle\" x=\"81\" y=\"-79.8\" font-family=\"Times,serif\" font-size=\"14.00\" fill=\"#000000\">value = [85, 56, 50, 846]</text>\n</g>\n<!-- 1&#45;&gt;2 -->\n<g id=\"edge2\" class=\"edge\">\n<title>1&#45;&gt;2</title>\n<path fill=\"none\" stroke=\"#000000\" d=\"M210.132,-175.9465C191.8158,-166.0252 171.6655,-155.1105 152.8408,-144.9138\"/>\n<polygon fill=\"#000000\" stroke=\"#000000\" points=\"154.4692,-141.8154 144.0092,-140.13 151.1351,-147.9704 154.4692,-141.8154\"/>\n</g>\n<!-- 633 -->\n<g id=\"node6\" class=\"node\">\n<title>633</title>\n<polygon fill=\"#f6d5f9\" stroke=\"#000000\" points=\"371.5,-140 180.5,-140 180.5,-72 371.5,-72 371.5,-140\"/>\n<text text-anchor=\"middle\" x=\"276\" y=\"-124.8\" font-family=\"Times,serif\" font-size=\"14.00\" fill=\"#000000\">Graduated &lt;= 3.5</text>\n<text text-anchor=\"middle\" x=\"276\" y=\"-109.8\" font-family=\"Times,serif\" font-size=\"14.00\" fill=\"#000000\">entropy = 1.815</text>\n<text text-anchor=\"middle\" x=\"276\" y=\"-94.8\" font-family=\"Times,serif\" font-size=\"14.00\" fill=\"#000000\">samples = 2524</text>\n<text text-anchor=\"middle\" x=\"276\" y=\"-79.8\" font-family=\"Times,serif\" font-size=\"14.00\" fill=\"#000000\">value = [732, 350, 326, 1116]</text>\n</g>\n<!-- 1&#45;&gt;633 -->\n<g id=\"edge5\" class=\"edge\">\n<title>1&#45;&gt;633</title>\n<path fill=\"none\" stroke=\"#000000\" d=\"M273.9823,-175.9465C274.218,-167.776 274.4731,-158.9318 274.7201,-150.3697\"/>\n<polygon fill=\"#000000\" stroke=\"#000000\" points=\"278.2256,-150.2268 275.0155,-140.13 271.2285,-150.0249 278.2256,-150.2268\"/>\n</g>\n<!-- 3 -->\n<g id=\"node4\" class=\"node\">\n<title>3</title>\n<polygon fill=\"#c0c0c0\" stroke=\"#000000\" points=\"72,-36 18,-36 18,0 72,0 72,-36\"/>\n<text text-anchor=\"middle\" x=\"45\" y=\"-14.3\" font-family=\"Times,serif\" font-size=\"14.00\" fill=\"#000000\">(...)</text>\n</g>\n<!-- 2&#45;&gt;3 -->\n<g id=\"edge3\" class=\"edge\">\n<title>2&#45;&gt;3</title>\n<path fill=\"none\" stroke=\"#000000\" d=\"M67.0815,-71.9769C63.4977,-63.2167 59.6862,-53.8995 56.2564,-45.5157\"/>\n<polygon fill=\"#000000\" stroke=\"#000000\" points=\"59.468,-44.1222 52.4422,-36.192 52.9891,-46.7727 59.468,-44.1222\"/>\n</g>\n<!-- 196 -->\n<g id=\"node5\" class=\"node\">\n<title>196</title>\n<polygon fill=\"#c0c0c0\" stroke=\"#000000\" points=\"144,-36 90,-36 90,0 144,0 144,-36\"/>\n<text text-anchor=\"middle\" x=\"117\" y=\"-14.3\" font-family=\"Times,serif\" font-size=\"14.00\" fill=\"#000000\">(...)</text>\n</g>\n<!-- 2&#45;&gt;196 -->\n<g id=\"edge4\" class=\"edge\">\n<title>2&#45;&gt;196</title>\n<path fill=\"none\" stroke=\"#000000\" d=\"M94.9185,-71.9769C98.5023,-63.2167 102.3138,-53.8995 105.7436,-45.5157\"/>\n<polygon fill=\"#000000\" stroke=\"#000000\" points=\"109.0109,-46.7727 109.5578,-36.192 102.532,-44.1222 109.0109,-46.7727\"/>\n</g>\n<!-- 634 -->\n<g id=\"node7\" class=\"node\">\n<title>634</title>\n<polygon fill=\"#c0c0c0\" stroke=\"#000000\" points=\"286,-36 232,-36 232,0 286,0 286,-36\"/>\n<text text-anchor=\"middle\" x=\"259\" y=\"-14.3\" font-family=\"Times,serif\" font-size=\"14.00\" fill=\"#000000\">(...)</text>\n</g>\n<!-- 633&#45;&gt;634 -->\n<g id=\"edge6\" class=\"edge\">\n<title>633&#45;&gt;634</title>\n<path fill=\"none\" stroke=\"#000000\" d=\"M269.4274,-71.9769C267.7718,-63.4071 266.0133,-54.3043 264.4214,-46.0638\"/>\n<polygon fill=\"#000000\" stroke=\"#000000\" points=\"267.8476,-45.3465 262.5144,-36.192 260.9747,-46.6743 267.8476,-45.3465\"/>\n</g>\n<!-- 2239 -->\n<g id=\"node8\" class=\"node\">\n<title>2239</title>\n<polygon fill=\"#c0c0c0\" stroke=\"#000000\" points=\"358,-36 304,-36 304,0 358,0 358,-36\"/>\n<text text-anchor=\"middle\" x=\"331\" y=\"-14.3\" font-family=\"Times,serif\" font-size=\"14.00\" fill=\"#000000\">(...)</text>\n</g>\n<!-- 633&#45;&gt;2239 -->\n<g id=\"edge7\" class=\"edge\">\n<title>633&#45;&gt;2239</title>\n<path fill=\"none\" stroke=\"#000000\" d=\"M297.2644,-71.9769C302.9181,-62.931 308.943,-53.2913 314.3134,-44.6986\"/>\n<polygon fill=\"#000000\" stroke=\"#000000\" points=\"317.298,-46.527 319.63,-36.192 311.362,-42.8169 317.298,-46.527\"/>\n</g>\n<!-- 3463 -->\n<g id=\"node10\" class=\"node\">\n<title>3463</title>\n<polygon fill=\"#e3f1fb\" stroke=\"#000000\" points=\"592,-140 394,-140 394,-72 592,-72 592,-140\"/>\n<text text-anchor=\"middle\" x=\"493\" y=\"-124.8\" font-family=\"Times,serif\" font-size=\"14.00\" fill=\"#000000\">Ever_Married &lt;= 0.5</text>\n<text text-anchor=\"middle\" x=\"493\" y=\"-109.8\" font-family=\"Times,serif\" font-size=\"14.00\" fill=\"#000000\">entropy = 1.849</text>\n<text text-anchor=\"middle\" x=\"493\" y=\"-94.8\" font-family=\"Times,serif\" font-size=\"14.00\" fill=\"#000000\">samples = 3804</text>\n<text text-anchor=\"middle\" x=\"493\" y=\"-79.8\" font-family=\"Times,serif\" font-size=\"14.00\" fill=\"#000000\">value = [789, 1131, 1511, 373]</text>\n</g>\n<!-- 3462&#45;&gt;3463 -->\n<g id=\"edge9\" class=\"edge\">\n<title>3462&#45;&gt;3463</title>\n<path fill=\"none\" stroke=\"#000000\" d=\"M494.3451,-175.9465C494.188,-167.776 494.0179,-158.9318 493.8533,-150.3697\"/>\n<polygon fill=\"#000000\" stroke=\"#000000\" points=\"497.3481,-150.0608 493.6563,-140.13 490.3494,-150.1955 497.3481,-150.0608\"/>\n</g>\n<!-- 7666 -->\n<g id=\"node13\" class=\"node\">\n<title>7666</title>\n<polygon fill=\"#fbeee4\" stroke=\"#000000\" points=\"802,-140 610,-140 610,-72 802,-72 802,-140\"/>\n<text text-anchor=\"middle\" x=\"706\" y=\"-124.8\" font-family=\"Times,serif\" font-size=\"14.00\" fill=\"#000000\">Graduated &lt;= 0.5</text>\n<text text-anchor=\"middle\" x=\"706\" y=\"-109.8\" font-family=\"Times,serif\" font-size=\"14.00\" fill=\"#000000\">entropy = 1.939</text>\n<text text-anchor=\"middle\" x=\"706\" y=\"-94.8\" font-family=\"Times,serif\" font-size=\"14.00\" fill=\"#000000\">samples = 3330</text>\n<text text-anchor=\"middle\" x=\"706\" y=\"-79.8\" font-family=\"Times,serif\" font-size=\"14.00\" fill=\"#000000\">value = [1212, 871, 555, 692]</text>\n</g>\n<!-- 3462&#45;&gt;7666 -->\n<g id=\"edge12\" class=\"edge\">\n<title>3462&#45;&gt;7666</title>\n<path fill=\"none\" stroke=\"#000000\" d=\"M564.0893,-175.9465C584.4002,-165.9354 606.7633,-154.9129 627.6112,-144.6371\"/>\n<polygon fill=\"#000000\" stroke=\"#000000\" points=\"629.3332,-147.6905 636.7555,-140.13 626.2385,-141.4117 629.3332,-147.6905\"/>\n</g>\n<!-- 3464 -->\n<g id=\"node11\" class=\"node\">\n<title>3464</title>\n<polygon fill=\"#c0c0c0\" stroke=\"#000000\" points=\"464,-36 410,-36 410,0 464,0 464,-36\"/>\n<text text-anchor=\"middle\" x=\"437\" y=\"-14.3\" font-family=\"Times,serif\" font-size=\"14.00\" fill=\"#000000\">(...)</text>\n</g>\n<!-- 3463&#45;&gt;3464 -->\n<g id=\"edge10\" class=\"edge\">\n<title>3463&#45;&gt;3464</title>\n<path fill=\"none\" stroke=\"#000000\" d=\"M471.3489,-71.9769C465.5925,-62.931 459.4581,-53.2913 453.99,-44.6986\"/>\n<polygon fill=\"#000000\" stroke=\"#000000\" points=\"456.8983,-42.7495 448.5767,-36.192 450.9927,-46.5077 456.8983,-42.7495\"/>\n</g>\n<!-- 4713 -->\n<g id=\"node12\" class=\"node\">\n<title>4713</title>\n<polygon fill=\"#c0c0c0\" stroke=\"#000000\" points=\"536,-36 482,-36 482,0 536,0 536,-36\"/>\n<text text-anchor=\"middle\" x=\"509\" y=\"-14.3\" font-family=\"Times,serif\" font-size=\"14.00\" fill=\"#000000\">(...)</text>\n</g>\n<!-- 3463&#45;&gt;4713 -->\n<g id=\"edge11\" class=\"edge\">\n<title>3463&#45;&gt;4713</title>\n<path fill=\"none\" stroke=\"#000000\" d=\"M499.186,-71.9769C500.7442,-63.4071 502.3992,-54.3043 503.8975,-46.0638\"/>\n<polygon fill=\"#000000\" stroke=\"#000000\" points=\"507.347,-46.6568 505.6924,-36.192 500.4599,-45.4045 507.347,-46.6568\"/>\n</g>\n<!-- 7667 -->\n<g id=\"node14\" class=\"node\">\n<title>7667</title>\n<polygon fill=\"#c0c0c0\" stroke=\"#000000\" points=\"697,-36 643,-36 643,0 697,0 697,-36\"/>\n<text text-anchor=\"middle\" x=\"670\" y=\"-14.3\" font-family=\"Times,serif\" font-size=\"14.00\" fill=\"#000000\">(...)</text>\n</g>\n<!-- 7666&#45;&gt;7667 -->\n<g id=\"edge13\" class=\"edge\">\n<title>7666&#45;&gt;7667</title>\n<path fill=\"none\" stroke=\"#000000\" d=\"M692.0815,-71.9769C688.4977,-63.2167 684.6862,-53.8995 681.2564,-45.5157\"/>\n<polygon fill=\"#000000\" stroke=\"#000000\" points=\"684.468,-44.1222 677.4422,-36.192 677.9891,-46.7727 684.468,-44.1222\"/>\n</g>\n<!-- 9224 -->\n<g id=\"node15\" class=\"node\">\n<title>9224</title>\n<polygon fill=\"#c0c0c0\" stroke=\"#000000\" points=\"769,-36 715,-36 715,0 769,0 769,-36\"/>\n<text text-anchor=\"middle\" x=\"742\" y=\"-14.3\" font-family=\"Times,serif\" font-size=\"14.00\" fill=\"#000000\">(...)</text>\n</g>\n<!-- 7666&#45;&gt;9224 -->\n<g id=\"edge14\" class=\"edge\">\n<title>7666&#45;&gt;9224</title>\n<path fill=\"none\" stroke=\"#000000\" d=\"M719.9185,-71.9769C723.5023,-63.2167 727.3138,-53.8995 730.7436,-45.5157\"/>\n<polygon fill=\"#000000\" stroke=\"#000000\" points=\"734.0109,-46.7727 734.5578,-36.192 727.532,-44.1222 734.0109,-46.7727\"/>\n</g>\n</g>\n</svg>\n"
          },
          "metadata": {
            "tags": []
          },
          "execution_count": 31
        }
      ]
    },
    {
      "cell_type": "code",
      "metadata": {
        "colab": {
          "base_uri": "https://localhost:8080/",
          "height": 0
        },
        "id": "bMZvyng8B-TH",
        "outputId": "c10ddcbb-62db-42f2-affe-c8b44845c6c8"
      },
      "source": [
        "# get feature importances from the model\n",
        "importance = entropy_dt_clf['classifier'].feature_importances_\n",
        "\n",
        "# summarize feature importances\n",
        "for i,v in enumerate(importance):\n",
        "\tprint('Feature: %0d, Score: %.5f' % (i,v))\n",
        " \n",
        "# plot feature importances\n",
        "pyplot.bar([x for x in range(len(importance))], importance)\n",
        "pyplot.show()"
      ],
      "execution_count": 32,
      "outputs": [
        {
          "output_type": "stream",
          "text": [
            "Feature: 0, Score: 0.39983\n",
            "Feature: 1, Score: 0.13929\n",
            "Feature: 2, Score: 0.21469\n",
            "Feature: 3, Score: 0.04727\n",
            "Feature: 4, Score: 0.02424\n",
            "Feature: 5, Score: 0.03621\n",
            "Feature: 6, Score: 0.09262\n",
            "Feature: 7, Score: 0.04585\n"
          ],
          "name": "stdout"
        },
        {
          "output_type": "display_data",
          "data": {
            "image/png": "[encoded data removed]",
            "text/plain": [
              "<Figure size 432x288 with 1 Axes>"
            ]
          },
          "metadata": {
            "tags": [],
            "needs_background": "light"
          }
        }
      ]
    },
    {
      "cell_type": "markdown",
      "metadata": {
        "id": "mcSxVZOZ-1oX"
      },
      "source": [
        "According to the decision tree, it looks like spending score and profession are the 2 top columns, followed by graduation status. I'm not sure if the representation of the tree actually describes the feature importance. \n",
        "\n",
        "Running feature importance inside of the pipeline shows that feature 0 is significantly more important than any other feature (it's double as important as the next most important feature). But I am unable to say for certain which feature feature 0 is. \n"
      ]
    },
    {
      "cell_type": "markdown",
      "metadata": {
        "id": "_-ZJcYeRDBFh"
      },
      "source": [
        "### **Feature importance**\n"
      ]
    },
    {
      "cell_type": "code",
      "metadata": {
        "id": "PaUNCgnlW9vD"
      },
      "source": [
        "# Import Imputer to replace null values with median values for that column\n",
        "from sklearn.impute import SimpleImputer\n",
        "imputer = SimpleImputer(strategy='most_frequent')\n",
        "\n",
        "# Train the imputer\n",
        "imputer.fit(tree_X)\n",
        "\n",
        "# Transform df_nums\n",
        "processed_tree_X = imputer.transform(tree_X)\n",
        "\n",
        "# Create dataframe from transformed array\n",
        "processed_tree_X  = pd.DataFrame(processed_tree_X, columns=tree_X.columns, index=tree_X.index);\n"
      ],
      "execution_count": 33,
      "outputs": []
    },
    {
      "cell_type": "code",
      "metadata": {
        "id": "Nv3aRgEMJXWW"
      },
      "source": [
        "#import ordinal encoder\n",
        "from sklearn.preprocessing import OrdinalEncoder\n",
        "\n",
        "# train the model\n",
        "enc = OrdinalEncoder()\n",
        "enc.fit(processed_tree_X);\n",
        "\n",
        "# encode x\n",
        "processed_tree_X = pd.DataFrame(enc.transform(processed_tree_X), columns=processed_tree_X.columns)"
      ],
      "execution_count": 34,
      "outputs": []
    },
    {
      "cell_type": "code",
      "metadata": {
        "colab": {
          "base_uri": "https://localhost:8080/",
          "height": 837
        },
        "id": "DKEDACRKDBFj",
        "outputId": "f5d04db1-f1bc-49f1-a3d0-aca249ed2eb4"
      },
      "source": [
        "########## A decicion tree with entropy\n",
        "no_pipeline_dt = DecisionTreeClassifier(criterion='entropy');\n",
        "no_pipeline_dt = no_pipeline_dt.fit(processed_tree_X, tree_y)\n",
        "\n",
        "# get feature importances from the model\n",
        "importance = no_pipeline_dt.feature_importances_\n",
        "\n",
        "# summarize feature importances\n",
        "for i,v in enumerate(importance):\n",
        "  label = processed_tree_X.columns[i]\n",
        "  print('Feature: %s\\n Score: %.5f\\n' % (label, v))\n",
        " \n",
        "pyplot.figure(figsize=[15, 7])\n",
        "# plot feature importances\n",
        "pyplot.bar(processed_tree_X.columns, importance)\n",
        "\n",
        "\n",
        "pyplot.show()\n"
      ],
      "execution_count": 35,
      "outputs": [
        {
          "output_type": "stream",
          "text": [
            "Feature: Gender\n",
            " Score: 0.05481\n",
            "\n",
            "Feature: Ever_Married\n",
            " Score: 0.02534\n",
            "\n",
            "Feature: Age\n",
            " Score: 0.40909\n",
            "\n",
            "Feature: Graduated\n",
            " Score: 0.03572\n",
            "\n",
            "Feature: Profession\n",
            " Score: 0.09311\n",
            "\n",
            "Feature: Work_Experience\n",
            " Score: 0.20120\n",
            "\n",
            "Feature: Spending_Score\n",
            " Score: 0.04604\n",
            "\n",
            "Feature: Family_Size\n",
            " Score: 0.13468\n",
            "\n"
          ],
          "name": "stdout"
        },
        {
          "output_type": "display_data",
          "data": {
            "image/png": "[encoded data removed]",
            "text/plain": [
              "<Figure size 1080x504 with 1 Axes>"
            ]
          },
          "metadata": {
            "tags": [],
            "needs_background": "light"
          }
        }
      ]
    },
    {
      "cell_type": "markdown",
      "metadata": {
        "id": "GraRgY4ADBFk"
      },
      "source": [
        "The appearance of this graph is pretty similiar to the verison from the pipeline (it looks like the columns have been reordered, but there are the same number of columns with the same values).\n",
        "\n",
        "I'm assuming that without the use of a column transformer (no pipeline), the features are not reordered. Therefore, the features returned by feature_importance correspond with the columns in the order in which they appear in the data frame. If so, it would make sense that age is the most significant feature, based on our cross tabulation charts above. \n"
      ]
    },
    {
      "cell_type": "markdown",
      "metadata": {
        "id": "ZIXu5IhySX10"
      },
      "source": [
        "### **Let's drop less relevant columns from the dataset**\n",
        "\n",
        "Let's set the \"relevancy\" threshold at ~5%. This eliminates Ever_Married and Graduated. "
      ]
    },
    {
      "cell_type": "code",
      "metadata": {
        "id": "uuWqn8T7SyXx"
      },
      "source": [
        "X_reduced = X_train.copy(deep=True)\n",
        "X_reduced.drop([\"Ever_Married\", 'Graduated', 'Spending_Score'], axis=1, inplace=True)\n",
        "\n"
      ],
      "execution_count": 36,
      "outputs": []
    },
    {
      "cell_type": "code",
      "metadata": {
        "id": "F1PcdIZmTZhX"
      },
      "source": [
        "# Columntransformer for preprocessing (reduced)\n",
        "\n",
        "########## First create a columntransformer \n",
        "\n",
        "cat_cols_reduced = ['Profession', 'Gender']\n",
        "\n",
        "cat_transformer_reduced = Pipeline(steps=[\n",
        "    # strategies are mean, median, most_frequent, etc.\n",
        "    ('imputer', SimpleImputer(strategy='most_frequent')),\n",
        "\n",
        "    # In ordinal encoding, each unique category value is assigned an integer value.\n",
        "    ('ordinal', OrdinalEncoder())\n",
        "])\n",
        "\n",
        "########## Second create a pipeline for the numeric attributes\n",
        "num_cols_reduced = ['Age', 'Family_Size', 'Work_Experience']\n",
        "\n",
        "num_transformer_reduced = Pipeline(steps=[\n",
        "    # Number of neighboring samples to use for K-nearest neighor imputation\n",
        "    ('imputer', KNNImputer(n_neighbors=5)),\n",
        "\n",
        "    # StandardScaler makes mean = 0 and scales the data to unit variance \n",
        "    ('scaler', StandardScaler())\n",
        "])\n",
        "\n",
        "\n",
        "########## Finally, apply column transformations\n",
        "preprocessor_reduced = ColumnTransformer(\n",
        "    transformers=[\n",
        "        ('num', num_transformer_reduced, num_cols_reduced),\n",
        "        ('cat', cat_transformer_reduced, cat_cols_reduced)\n",
        "    ])"
      ],
      "execution_count": 37,
      "outputs": []
    },
    {
      "cell_type": "code",
      "metadata": {
        "colab": {
          "base_uri": "https://localhost:8080/"
        },
        "id": "h_edh2rUSX2A",
        "outputId": "0f860cf4-3b38-4aea-aeab-d01ce6ae5030"
      },
      "source": [
        "# Create SVC classifiers using reduced dataset\n",
        "\n",
        "########## A poly kernel classifier\n",
        "reduced_linear_svc_clf = Pipeline(steps=[('preprocessor', preprocessor_reduced),\n",
        "                      ('classifier', SVC(kernel='linear'))])\n",
        "########## A poly kernel classifier\n",
        "reduced_poly_svc_clf = Pipeline(steps=[('preprocessor', preprocessor_reduced),\n",
        "                      ('classifier', SVC(kernel='poly'))])\n",
        "\n",
        "########## An RBF kernel classifier\n",
        "reduced_rbf_svc_clf = Pipeline(steps=[('preprocessor', preprocessor_reduced),\n",
        "                      ('classifier', SVC(kernel='rbf'))])\n",
        "\n",
        "########## A random forest\n",
        "reduced_rf_clf = Pipeline(steps=[('preprocessor', preprocessor_reduced),\n",
        "                      ('classifier', RandomForestClassifier())])\n",
        "\n",
        "########## A decicion tree with entropy\n",
        "reduced_entropy_dt_clf = Pipeline(steps=[('preprocessor', preprocessor_reduced),\n",
        "                      ('classifier', DecisionTreeClassifier(criterion='entropy'))])\n",
        "\n",
        "\n",
        "########## A decicion tree with gini\n",
        "reduced_gini_dt_clf = Pipeline(steps=[('preprocessor', preprocessor_reduced),\n",
        "                      ('classifier', DecisionTreeClassifier(criterion='gini'))])\n",
        "\n",
        "\n",
        "\n",
        "\n",
        "### Extra trees!\n",
        "reduced_extra_tree = Pipeline(steps=[('preprocessor', preprocessor_reduced),\n",
        "                      ('classifier', ExtraTreesClassifier())])\n",
        "\n",
        "\n",
        "\n",
        "reduced_linear_svc_clf_score = cross_val_score(reduced_linear_svc_clf, X_reduced, y_train, cv=3, scoring=\"accuracy\").mean()\n",
        "reduced_poly_svc_clf_score = cross_val_score(reduced_poly_svc_clf, X_reduced, y_train, cv=3, scoring=\"accuracy\").mean()\n",
        "reduced_rbf_svc_clf_score = cross_val_score(reduced_rbf_svc_clf, X_reduced, y_train, cv=3, scoring=\"accuracy\").mean()\n",
        "reduced_rf_clf_score = cross_val_score(reduced_rf_clf, X_reduced, y_train, cv=3, scoring=\"accuracy\").mean()\n",
        "reduced_entropy_dt_score = cross_val_score(reduced_entropy_dt_clf, X_reduced, y_train, cv=3, scoring=\"accuracy\").mean()\n",
        "reduced_gini_dt_score = cross_val_score(reduced_gini_dt_clf, X_reduced, y_train, cv=3, scoring=\"accuracy\").mean()\n",
        "reduced_extra_tree_score = cross_val_score(reduced_extra_tree, X_reduced, y_train, cv=3, scoring=\"accuracy\").mean()\n",
        "\n",
        "print(\"SVC (linear): \", reduced_linear_svc_clf_score)\n",
        "print(\"SVC (poly): \", reduced_poly_svc_clf_score)\n",
        "print(\"SVC (rbf): \", reduced_rbf_svc_clf_score)\n",
        "\n",
        "print(\"RF: \", reduced_rf_clf_score)\n",
        "print(\"DT (entropy): \", reduced_entropy_dt_score)\n",
        "print(\"DT (gini): \", reduced_gini_dt_score)\n",
        "print(\"Extra tree: \", reduced_extra_tree_score)"
      ],
      "execution_count": 38,
      "outputs": [
        {
          "output_type": "stream",
          "text": [
            "SVC (linear):  0.41271622253389434\n",
            "SVC (poly):  0.39869097709209916\n",
            "SVC (rbf):  0.4441327723235156\n",
            "RF:  0.38924731182795697\n",
            "DT (entropy):  0.3602618045815802\n",
            "DT (gini):  0.35820476858345024\n",
            "Extra tree:  0.3808321645628799\n"
          ],
          "name": "stdout"
        }
      ]
    },
    {
      "cell_type": "code",
      "metadata": {
        "colab": {
          "base_uri": "https://localhost:8080/",
          "height": 281
        },
        "id": "8wtlrp6qBXDC",
        "outputId": "6d6c1193-5746-47c9-9cb2-157df13a56a2"
      },
      "source": [
        "\n",
        "# Summarize the findings for all models\n",
        "\n",
        "labels = ['SVC (lin)', 'SVC (RBF)', 'SVC (Poly)', 'DT (Gini)', 'DT (Entropy)', 'RF', 'Extra Tree']\n",
        "training_scores = [reduced_linear_svc_clf_score, reduced_rbf_svc_clf_score, reduced_poly_svc_clf_score, reduced_gini_dt_score, reduced_entropy_dt_score, reduced_rf_clf_score, reduced_extra_tree_score]\n",
        "\n",
        "x = np.arange(len(labels))  # the label locations\n",
        "width = 0.35  # the width of the bars\n",
        "\n",
        "fig, ax = plt.subplots()\n",
        "rects1 = ax.bar(x - width/2, training_scores, width, label='CV=3', color='orange')\n",
        "\n",
        "# Add some text for labels, title and custom x-axis tick labels, etc.\n",
        "ax.set_ylabel('Accuracy')\n",
        "ax.set_xticks(x)\n",
        "ax.set_ylim(0,1)\n",
        "ax.set_xticklabels(labels)\n",
        "ax.legend(bbox_to_anchor = (1.3, 1.0), loc='upper right')\n",
        "\n",
        "plt.title('Model Comparisons')\n",
        "plt.show()"
      ],
      "execution_count": 39,
      "outputs": [
        {
          "output_type": "display_data",
          "data": {
            "image/png": "[encoded data removed]",
            "text/plain": [
              "<Figure size 432x288 with 1 Axes>"
            ]
          },
          "metadata": {
            "tags": [],
            "needs_background": "light"
          }
        }
      ]
    },
    {
      "cell_type": "markdown",
      "metadata": {
        "id": "YHLERoIpAqG7"
      },
      "source": [
        "Reducing the features reduced the performance of all models by 2-6%. The strongest peformer is still SVC (rbf). SVCs of all types outperformed all tree based models (RF, DTs of all types, Extra Tree) by 3-8%.\n",
        "\n"
      ]
    },
    {
      "cell_type": "markdown",
      "metadata": {
        "id": "QEjJQlbrPMok"
      },
      "source": [
        "### **Hyperparemeter Optimization**\n",
        "\n",
        "Find optimum values of hyperparameters using GridSearchCV:"
      ]
    },
    {
      "cell_type": "code",
      "metadata": {
        "colab": {
          "base_uri": "https://localhost:8080/"
        },
        "id": "YAdq9vQ_PY-0",
        "outputId": "02712a1f-ccc0-465b-afb0-5766ec4b136a"
      },
      "source": [
        "# Use GridSearchCV to find optimum hyperparameter values for the DT model\n",
        "\n",
        "# create a dictionary of all values we want to test\n",
        "param_grid1 = { 'criterion':['gini','entropy'],    # impurity criterion\n",
        "              'max_depth': np.arange(3, 15)}      # tree depth \n",
        "   \n",
        "    \n",
        "# use gridsearch to test all values\n",
        "grid_search1 = GridSearchCV(entropy_dt_clf['classifier'], \n",
        "                           param_grid1, \n",
        "                           cv=3)\n",
        "    \n",
        "# fit the model \n",
        "grid_search1.fit(preprocessor.fit_transform(X_train), y_train)\n",
        "\n",
        "   \n",
        "print(\"For DT, the best achieved accuracy after hyperparameter optimization: %.2f \\n\" % (grid_search1.best_score_))\n",
        "\n",
        "print(\"The best DT model hyperparameters:\", grid_search1.best_params_)"
      ],
      "execution_count": 40,
      "outputs": [
        {
          "output_type": "stream",
          "text": [
            "For DT, the best achieved accuracy after hyperparameter optimization: 0.47 \n",
            "\n",
            "The best DT model hyperparameters: {'criterion': 'gini', 'max_depth': 5}\n"
          ],
          "name": "stdout"
        }
      ]
    },
    {
      "cell_type": "code",
      "metadata": {
        "colab": {
          "base_uri": "https://localhost:8080/"
        },
        "id": "PEoXbWUvyoLJ",
        "outputId": "3f059a0f-f1e2-40c7-d014-85f70dcdd0b6"
      },
      "source": [
        "# Use GridSearchCV to find optimum hyperparameter values for the DT model\n",
        "\n",
        "# create a dictionary of all values we want to test\n",
        "param_grid2 = { 'kernel':['rbf','linear', 'poly'],    # kernel\n",
        "                'decision_function_shape': ['ovo', 'ovr'], # decision function (choose between ovo, one verus one, and ovr, one versus rest)\n",
        "                 'C' : np.arange(1, 3),\n",
        "                 'degree': np.arange(1,3)\n",
        "               } \n",
        "   \n",
        "    \n",
        "# use gridsearch to test all values\n",
        "grid_search2 = GridSearchCV(rbf_svc_clf['classifier'], \n",
        "                           param_grid2, \n",
        "                           cv=3)\n",
        "    \n",
        "# fit the model \n",
        "grid_search2.fit(preprocessor.fit_transform(X_train), y_train)\n",
        "\n",
        "   \n",
        "print(\"For SVC, the best achieved accuracy after hyperparameter optimization: %.2f \\n\" % (grid_search2.best_score_))\n",
        "\n",
        "print(\"The best SVC model hyperparameters:\", grid_search2.best_params_)"
      ],
      "execution_count": 41,
      "outputs": [
        {
          "output_type": "stream",
          "text": [
            "For SVC, the best achieved accuracy after hyperparameter optimization: 0.47 \n",
            "\n",
            "The best SVC model hyperparameters: {'C': 2, 'decision_function_shape': 'ovo', 'degree': 1, 'kernel': 'rbf'}\n"
          ],
          "name": "stdout"
        }
      ]
    },
    {
      "cell_type": "markdown",
      "metadata": {
        "id": "fcNQoi9qS4mn"
      },
      "source": [
        "The best DT model hyperparameters are gini for criterion, and 5 for max_depth.\n",
        "\n",
        "The best SVC model hyperparameters are rbf for kernel, 2 for C, 1 for degree, and ovo for decision_function_shape.\n"
      ]
    },
    {
      "cell_type": "code",
      "metadata": {
        "colab": {
          "base_uri": "https://localhost:8080/",
          "height": 281
        },
        "id": "l68kGb0u2SY2",
        "outputId": "bb489635-3d2b-4636-d9e4-18fa6dd071a4"
      },
      "source": [
        "\n",
        "# graph results of grid search for the two models\n",
        "\n",
        "labels = ['DT (Gini)', 'SVC (RBF)']\n",
        "before_optimization_scores = [gini_dt_score, rbf_svc_clf_score]\n",
        "after_optimization_scores = [grid_search1.best_score_, grid_search2.best_score_]\n",
        "\n",
        "x = np.arange(len(labels))  # the label locations\n",
        "width = 0.25                # the width of the bars\n",
        "\n",
        "fig, ax = plt.subplots()\n",
        "rects1 = ax.bar(x - width/2, before_optimization_scores, width, label='Before Optimization', color='gray')\n",
        "rects2 = ax.bar(x + width/2, after_optimization_scores, width, label='After Optimization', color='maroon')\n",
        "\n",
        "# Add some text for labels, title and custom x-axis tick labels, etc.\n",
        "ax.set_ylabel('Accuracy')\n",
        "ax.set_xticks(x)\n",
        "ax.set_ylim(0,1.0)\n",
        "ax.set_xticklabels(labels)\n",
        "ax.legend(bbox_to_anchor = (1.45, 1.0), loc='upper right')\n",
        "\n",
        "plt.title('Hyperparamater Optimization Results')\n",
        "plt.show()"
      ],
      "execution_count": 42,
      "outputs": [
        {
          "output_type": "display_data",
          "data": {
            "image/png": "[encoded data removed]",
            "text/plain": [
              "<Figure size 432x288 with 1 Axes>"
            ]
          },
          "metadata": {
            "tags": [],
            "needs_background": "light"
          }
        }
      ]
    },
    {
      "cell_type": "markdown",
      "metadata": {
        "id": "frUqy_1t2zW_"
      },
      "source": [
        "# **Summary**\n",
        "\n",
        "\n",
        "**Overall Performance**\n",
        "\n",
        "None of the models (decision trees, SVCs, random forest, or extra tree classifer) did a particularly good job classifing this data set.\n",
        "\n",
        "The model with the highest performance was SVC (rbf kernel) with an accuracy of 46.7% and an optimized accuracy of 47%. The rbf kernel only slightly outperformed the other SVCs (by 1-2%).\n",
        "\n",
        "All SVCs (linear, poly, rbf) outperformed all tree based classifiers (decision trees (gini and entropy), random forest, and extra tree classifier, by 7-11%. \n",
        "\n",
        "\n",
        "**SVC Performance**\n",
        "\n",
        "\n",
        "Through hyperparameter optimization (GridSearch) it's clear that the highest possible accuracy for a SVC is 47%. The best performing SVC (either optimized or not optimized) uses an RBF kernel.\n",
        "\n",
        "The next highest perfoming SVC is the poly kernel (45%). The linear kernel had a slightly lower accuracy than the poly kernel (44%). \n",
        "\n",
        "In general, the SVCs performances were comparable (within 3% of each other). \n",
        "\n",
        "\n",
        "**Tree based classifier Performance**\n",
        "\n",
        "\n",
        "Through hyperparameter optimization (GridSearch) it's clear that the highest possible accuracy for a DT is 47%. \n",
        "\n",
        "The best performing DT (either optimized or not optimized) uses the gini coefficent. With optimized hyperparameters, the gini decision tree's performance improves 10% (from 37% to 47%). \n",
        "\n",
        "Random forest outperformed all non-optimized decision trees (40%) and the non-optimized extra tree classifier. \n",
        "\n",
        "In general, the tree-based classifier's performances were comparable (within 4% of each other). \n",
        "\n",
        "\n",
        "**Feature importance and reduced dimensonality**\n",
        "\n",
        "\n",
        "Running feature_importance on the decision tree for the entire dataset showed that the most significant features were age, family size and work experience. The significance of customer age is backed up by our feature correlation in preliminary analysis. \n",
        "\n",
        "I ran the models on a dataset containing only the attributes with a significance score above 5%. All models performed slightly worse on the reduced dataset (-2-6%), which suggests that all features influence segmentation.\n",
        "\n",
        "\n",
        "**Binary classification vs multiclass classification**\n",
        "\n",
        "All models performed better when the number of target classes was reduced from 4 to 2. However, the models didn't perform particularly well as binary classifiers for this dataset either. The highest performing model was again SVC (rbf), with an accuracy rate of only 60%. This low accuracy suggests that this dataset is difficult for models to classify.\n"
      ]
    }
  ]
}