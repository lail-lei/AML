{
  "nbformat": 4,
  "nbformat_minor": 0,
  "metadata": {
    "colab": {
      "name": "lailei_project3.ipynb",
      "provenance": [],
      "authorship_tag": "ABX9TyPw9zuProFYAZLD2cnz6fQX",
      "include_colab_link": true
    },
    "kernelspec": {
      "name": "python3",
      "display_name": "Python 3"
    },
    "language_info": {
      "name": "python"
    }
  },
  "cells": [
    {
      "cell_type": "markdown",
      "metadata": {
        "id": "view-in-github",
        "colab_type": "text"
      },
      "source": [
        "<a href=\"https://colab.research.google.com/github/lail-lei/AML/blob/main/project3/lailei_project3.ipynb\" target=\"_parent\"><img src=\"https://colab.research.google.com/assets/colab-badge.svg\" alt=\"Open In Colab\"/></a>"
      ]
    },
    {
      "cell_type": "markdown",
      "metadata": {
        "id": "TsnBb9rU5Dhw"
      },
      "source": [
        "# **Import Pandas and Create DataFrames**"
      ]
    },
    {
      "cell_type": "code",
      "metadata": {
        "id": "uRZEC5MmJvDC"
      },
      "source": [
        "# Pandas is mainly used for data analysis. Pandas allows importing data from various file formats \n",
        "# such as comma-separated values, JSON, SQL, Microsoft Excel. \n",
        "# Pandas allows various data manipulation operations such as merging, reshaping, selecting, \n",
        "# as well as data cleaning, and data wrangling features.\n",
        "import pandas as pd\n",
        "\n",
        "# NumPy has support for large, multi-dimensional arrays and matrices, along with \n",
        "# a large collection of high-level mathematical functions to operate on these arrays.\n",
        "import numpy as np\n",
        "\n",
        "# Import matplotlib \n",
        "import matplotlib.pyplot as plt \n",
        "# Import seaborn for graphing \n",
        "import seaborn as sbn\n",
        "\n",
        "# Read raw file from github into a dataframe \n",
        "df = pd.read_csv('https://raw.githubusercontent.com/lail-lei/AML/main/project3/heart.csv')"
      ],
      "execution_count": 926,
      "outputs": []
    },
    {
      "cell_type": "markdown",
      "metadata": {
        "id": "aL74S_9_kQU2"
      },
      "source": [
        "## **Target Classes**"
      ]
    },
    {
      "cell_type": "code",
      "metadata": {
        "id": "0GVn04aPLUps"
      },
      "source": [
        "# separate data frame into target classes \n",
        "\n",
        "# heart disease is present\n",
        "positive = pd.DataFrame(df.loc[df['target'] == 1])\n",
        "\n",
        "# heart disease is absent\n",
        "negative = pd.DataFrame(df.loc[df['target'] == 0])"
      ],
      "execution_count": 927,
      "outputs": []
    },
    {
      "cell_type": "markdown",
      "metadata": {
        "id": "Xc9V0hclkWvF"
      },
      "source": [
        "## **Separating Target from Features**"
      ]
    },
    {
      "cell_type": "code",
      "metadata": {
        "id": "y8IslpaNkUgw"
      },
      "source": [
        "# all columns but the target class\n",
        "X = df.drop(['target'],axis=1)\n",
        "\n",
        "# target column\n",
        "y = df['target']"
      ],
      "execution_count": 928,
      "outputs": []
    },
    {
      "cell_type": "markdown",
      "metadata": {
        "id": "utdI5Zh2kLOm"
      },
      "source": [
        "## **Grouped Data**"
      ]
    },
    {
      "cell_type": "code",
      "metadata": {
        "id": "6tSdAnBg2VA2"
      },
      "source": [
        "# let's group continous column values into ranges so can be visualized better \n",
        "groupedX = X.copy(deep=True)\n",
        "\n",
        "# break each column down by quartile\n",
        "def create_conditions (column):\n",
        "    return [ groupedX[column] <= groupedX[column].quantile(.25), \n",
        "             groupedX[column] <= groupedX[column].quantile(.5), \n",
        "             groupedX[column] <= groupedX[column].quantile(.75),\n",
        "             groupedX[column] <= groupedX[column].quantile(1.0)\n",
        "            ]\n",
        "\n",
        "# labels to correspond with quartiles\n",
        "choices = [0, 1, 2, 3]\n",
        "\n",
        "# create conditions and replace values with new labels\n",
        "\n",
        "# for age\n",
        "age_conditions = create_conditions(\"age\")\n",
        "groupedX[\"age\"] = pd.DataFrame(np.select(age_conditions, choices, default=0))\n",
        "\n",
        "# for cholesterol\n",
        "chol_conditions = create_conditions(\"chol\")\n",
        "groupedX[\"chol\"] = pd.DataFrame(np.select(chol_conditions, choices, default=0))\n",
        "\n",
        "# for thalach\n",
        "thalach_conditions = create_conditions(\"thalach\")\n",
        "groupedX[\"thalach\"] = pd.DataFrame(np.select(thalach_conditions, choices, default=0))\n",
        "\n",
        "# for resting blood pressure\n",
        "tres_conditions = create_conditions(\"trestbps\")\n",
        "groupedX[\"trestbps\"] = pd.DataFrame(np.select(tres_conditions, choices, default=0))\n",
        "\n",
        "# for old peak \n",
        "oldpeak_conditions = create_conditions(\"oldpeak\")\n",
        "groupedX[\"oldpeak\"] = pd.DataFrame(np.select(oldpeak_conditions, choices, default=0))\n"
      ],
      "execution_count": 929,
      "outputs": []
    },
    {
      "cell_type": "markdown",
      "metadata": {
        "id": "A1PI57SBBp3k"
      },
      "source": [
        "## **Scaled Data**"
      ]
    },
    {
      "cell_type": "code",
      "metadata": {
        "colab": {
          "base_uri": "https://localhost:8080/",
          "height": 0
        },
        "id": "_8jkqs0XCDtp",
        "outputId": "ab7e9b2f-fb07-45d2-c0e4-409f6991bd32"
      },
      "source": [
        "# import our pipeline \n",
        "from sklearn.pipeline import Pipeline\n",
        "# import our standard scaler \n",
        "from sklearn.preprocessing import StandardScaler\n",
        "\n",
        "# create pipeline\n",
        "# would use imputer here, but already did it a few steps above\n",
        "num_pipeline = Pipeline([(\"std_scaler\", StandardScaler())])\n",
        "\n",
        "# get numpy array of scaled data (s)\n",
        "standard_scaled = num_pipeline.fit_transform(X)\n",
        "# turn to data frame\n",
        "standard_scaled = pd.DataFrame(standard_scaled, columns=X.columns, index=X.index);\n",
        "\n",
        "# describe standard scale\n",
        "standard_scaled.describe()\n"
      ],
      "execution_count": 930,
      "outputs": [
        {
          "output_type": "execute_result",
          "data": {
            "text/html": [
              "<div>\n",
              "<style scoped>\n",
              "    .dataframe tbody tr th:only-of-type {\n",
              "        vertical-align: middle;\n",
              "    }\n",
              "\n",
              "    .dataframe tbody tr th {\n",
              "        vertical-align: top;\n",
              "    }\n",
              "\n",
              "    .dataframe thead th {\n",
              "        text-align: right;\n",
              "    }\n",
              "</style>\n",
              "<table border=\"1\" class=\"dataframe\">\n",
              "  <thead>\n",
              "    <tr style=\"text-align: right;\">\n",
              "      <th></th>\n",
              "      <th>age</th>\n",
              "      <th>sex</th>\n",
              "      <th>cp</th>\n",
              "      <th>trestbps</th>\n",
              "      <th>chol</th>\n",
              "      <th>fbs</th>\n",
              "      <th>restecg</th>\n",
              "      <th>thalach</th>\n",
              "      <th>exang</th>\n",
              "      <th>oldpeak</th>\n",
              "      <th>slope</th>\n",
              "      <th>ca</th>\n",
              "      <th>thal</th>\n",
              "    </tr>\n",
              "  </thead>\n",
              "  <tbody>\n",
              "    <tr>\n",
              "      <th>count</th>\n",
              "      <td>3.030000e+02</td>\n",
              "      <td>3.030000e+02</td>\n",
              "      <td>3.030000e+02</td>\n",
              "      <td>3.030000e+02</td>\n",
              "      <td>3.030000e+02</td>\n",
              "      <td>3.030000e+02</td>\n",
              "      <td>3.030000e+02</td>\n",
              "      <td>3.030000e+02</td>\n",
              "      <td>3.030000e+02</td>\n",
              "      <td>3.030000e+02</td>\n",
              "      <td>3.030000e+02</td>\n",
              "      <td>3.030000e+02</td>\n",
              "      <td>3.030000e+02</td>\n",
              "    </tr>\n",
              "    <tr>\n",
              "      <th>mean</th>\n",
              "      <td>5.825923e-17</td>\n",
              "      <td>-1.319077e-17</td>\n",
              "      <td>-5.562565e-17</td>\n",
              "      <td>-7.146832e-16</td>\n",
              "      <td>-9.828955e-17</td>\n",
              "      <td>-3.664102e-19</td>\n",
              "      <td>2.652810e-16</td>\n",
              "      <td>-5.203025e-16</td>\n",
              "      <td>-5.203025e-16</td>\n",
              "      <td>-3.140136e-16</td>\n",
              "      <td>1.355718e-16</td>\n",
              "      <td>4.752341e-16</td>\n",
              "      <td>3.484561e-16</td>\n",
              "    </tr>\n",
              "    <tr>\n",
              "      <th>std</th>\n",
              "      <td>1.001654e+00</td>\n",
              "      <td>1.001654e+00</td>\n",
              "      <td>1.001654e+00</td>\n",
              "      <td>1.001654e+00</td>\n",
              "      <td>1.001654e+00</td>\n",
              "      <td>1.001654e+00</td>\n",
              "      <td>1.001654e+00</td>\n",
              "      <td>1.001654e+00</td>\n",
              "      <td>1.001654e+00</td>\n",
              "      <td>1.001654e+00</td>\n",
              "      <td>1.001654e+00</td>\n",
              "      <td>1.001654e+00</td>\n",
              "      <td>1.001654e+00</td>\n",
              "    </tr>\n",
              "    <tr>\n",
              "      <th>min</th>\n",
              "      <td>-2.797624e+00</td>\n",
              "      <td>-1.468418e+00</td>\n",
              "      <td>-9.385146e-01</td>\n",
              "      <td>-2.148802e+00</td>\n",
              "      <td>-2.324160e+00</td>\n",
              "      <td>-4.176345e-01</td>\n",
              "      <td>-1.005832e+00</td>\n",
              "      <td>-3.439267e+00</td>\n",
              "      <td>-6.966305e-01</td>\n",
              "      <td>-8.968617e-01</td>\n",
              "      <td>-2.274579e+00</td>\n",
              "      <td>-7.144289e-01</td>\n",
              "      <td>-3.784824e+00</td>\n",
              "    </tr>\n",
              "    <tr>\n",
              "      <th>25%</th>\n",
              "      <td>-7.572802e-01</td>\n",
              "      <td>-1.468418e+00</td>\n",
              "      <td>-9.385146e-01</td>\n",
              "      <td>-6.638668e-01</td>\n",
              "      <td>-6.814943e-01</td>\n",
              "      <td>-4.176345e-01</td>\n",
              "      <td>-1.005832e+00</td>\n",
              "      <td>-7.061105e-01</td>\n",
              "      <td>-6.966305e-01</td>\n",
              "      <td>-8.968617e-01</td>\n",
              "      <td>-6.491132e-01</td>\n",
              "      <td>-7.144289e-01</td>\n",
              "      <td>-5.129219e-01</td>\n",
              "    </tr>\n",
              "    <tr>\n",
              "      <th>50%</th>\n",
              "      <td>6.988599e-02</td>\n",
              "      <td>6.810052e-01</td>\n",
              "      <td>3.203122e-02</td>\n",
              "      <td>-9.273778e-02</td>\n",
              "      <td>-1.210553e-01</td>\n",
              "      <td>-4.176345e-01</td>\n",
              "      <td>8.989622e-01</td>\n",
              "      <td>1.466343e-01</td>\n",
              "      <td>-6.966305e-01</td>\n",
              "      <td>-2.067053e-01</td>\n",
              "      <td>-6.491132e-01</td>\n",
              "      <td>-7.144289e-01</td>\n",
              "      <td>-5.129219e-01</td>\n",
              "    </tr>\n",
              "    <tr>\n",
              "      <th>75%</th>\n",
              "      <td>7.316189e-01</td>\n",
              "      <td>6.810052e-01</td>\n",
              "      <td>1.002577e+00</td>\n",
              "      <td>4.783913e-01</td>\n",
              "      <td>5.456738e-01</td>\n",
              "      <td>-4.176345e-01</td>\n",
              "      <td>8.989622e-01</td>\n",
              "      <td>7.151309e-01</td>\n",
              "      <td>1.435481e+00</td>\n",
              "      <td>4.834512e-01</td>\n",
              "      <td>9.763521e-01</td>\n",
              "      <td>2.650822e-01</td>\n",
              "      <td>1.123029e+00</td>\n",
              "    </tr>\n",
              "    <tr>\n",
              "      <th>max</th>\n",
              "      <td>2.496240e+00</td>\n",
              "      <td>6.810052e-01</td>\n",
              "      <td>1.973123e+00</td>\n",
              "      <td>3.905165e+00</td>\n",
              "      <td>6.140401e+00</td>\n",
              "      <td>2.394438e+00</td>\n",
              "      <td>2.803756e+00</td>\n",
              "      <td>2.289429e+00</td>\n",
              "      <td>1.435481e+00</td>\n",
              "      <td>4.451851e+00</td>\n",
              "      <td>9.763521e-01</td>\n",
              "      <td>3.203615e+00</td>\n",
              "      <td>1.123029e+00</td>\n",
              "    </tr>\n",
              "  </tbody>\n",
              "</table>\n",
              "</div>"
            ],
            "text/plain": [
              "                age           sex  ...            ca          thal\n",
              "count  3.030000e+02  3.030000e+02  ...  3.030000e+02  3.030000e+02\n",
              "mean   5.825923e-17 -1.319077e-17  ...  4.752341e-16  3.484561e-16\n",
              "std    1.001654e+00  1.001654e+00  ...  1.001654e+00  1.001654e+00\n",
              "min   -2.797624e+00 -1.468418e+00  ... -7.144289e-01 -3.784824e+00\n",
              "25%   -7.572802e-01 -1.468418e+00  ... -7.144289e-01 -5.129219e-01\n",
              "50%    6.988599e-02  6.810052e-01  ... -7.144289e-01 -5.129219e-01\n",
              "75%    7.316189e-01  6.810052e-01  ...  2.650822e-01  1.123029e+00\n",
              "max    2.496240e+00  6.810052e-01  ...  3.203615e+00  1.123029e+00\n",
              "\n",
              "[8 rows x 13 columns]"
            ]
          },
          "metadata": {
            "tags": []
          },
          "execution_count": 930
        }
      ]
    },
    {
      "cell_type": "markdown",
      "metadata": {
        "id": "3yh_ghR4k1kJ"
      },
      "source": [
        "### **Min Max Scaler**"
      ]
    },
    {
      "cell_type": "code",
      "metadata": {
        "colab": {
          "base_uri": "https://localhost:8080/",
          "height": 0
        },
        "id": "biiM8zwbk1kJ",
        "outputId": "8926a688-9031-4f78-a14c-01e62ad5069b"
      },
      "source": [
        "# import our pipeline \n",
        "from sklearn.pipeline import Pipeline\n",
        "# import our standard scaler \n",
        "from sklearn.preprocessing import MinMaxScaler\n",
        "\n",
        "# create pipeline\n",
        "# would use imputer here, but already did it a few steps above\n",
        "num_pipeline = Pipeline([(\"min_max_scaler\", MinMaxScaler())])\n",
        "\n",
        "# get numpy array of scaled data (s)\n",
        "mm_scaled = num_pipeline.fit_transform(X)\n",
        "# turn to data frame\n",
        "mm_scaled = pd.DataFrame(mm_scaled, columns=X.columns, index=X.index);\n",
        "\n",
        "# describe standard scale\n",
        "mm_scaled.describe()\n"
      ],
      "execution_count": 931,
      "outputs": [
        {
          "output_type": "execute_result",
          "data": {
            "text/html": [
              "<div>\n",
              "<style scoped>\n",
              "    .dataframe tbody tr th:only-of-type {\n",
              "        vertical-align: middle;\n",
              "    }\n",
              "\n",
              "    .dataframe tbody tr th {\n",
              "        vertical-align: top;\n",
              "    }\n",
              "\n",
              "    .dataframe thead th {\n",
              "        text-align: right;\n",
              "    }\n",
              "</style>\n",
              "<table border=\"1\" class=\"dataframe\">\n",
              "  <thead>\n",
              "    <tr style=\"text-align: right;\">\n",
              "      <th></th>\n",
              "      <th>age</th>\n",
              "      <th>sex</th>\n",
              "      <th>cp</th>\n",
              "      <th>trestbps</th>\n",
              "      <th>chol</th>\n",
              "      <th>fbs</th>\n",
              "      <th>restecg</th>\n",
              "      <th>thalach</th>\n",
              "      <th>exang</th>\n",
              "      <th>oldpeak</th>\n",
              "      <th>slope</th>\n",
              "      <th>ca</th>\n",
              "      <th>thal</th>\n",
              "    </tr>\n",
              "  </thead>\n",
              "  <tbody>\n",
              "    <tr>\n",
              "      <th>count</th>\n",
              "      <td>303.000000</td>\n",
              "      <td>303.000000</td>\n",
              "      <td>303.000000</td>\n",
              "      <td>303.000000</td>\n",
              "      <td>303.000000</td>\n",
              "      <td>303.000000</td>\n",
              "      <td>303.000000</td>\n",
              "      <td>303.000000</td>\n",
              "      <td>303.000000</td>\n",
              "      <td>303.000000</td>\n",
              "      <td>303.000000</td>\n",
              "      <td>303.000000</td>\n",
              "      <td>303.000000</td>\n",
              "    </tr>\n",
              "    <tr>\n",
              "      <th>mean</th>\n",
              "      <td>0.528465</td>\n",
              "      <td>0.683168</td>\n",
              "      <td>0.322332</td>\n",
              "      <td>0.354941</td>\n",
              "      <td>0.274575</td>\n",
              "      <td>0.148515</td>\n",
              "      <td>0.264026</td>\n",
              "      <td>0.600358</td>\n",
              "      <td>0.326733</td>\n",
              "      <td>0.167678</td>\n",
              "      <td>0.699670</td>\n",
              "      <td>0.182343</td>\n",
              "      <td>0.771177</td>\n",
              "    </tr>\n",
              "    <tr>\n",
              "      <th>std</th>\n",
              "      <td>0.189210</td>\n",
              "      <td>0.466011</td>\n",
              "      <td>0.344017</td>\n",
              "      <td>0.165454</td>\n",
              "      <td>0.118335</td>\n",
              "      <td>0.356198</td>\n",
              "      <td>0.262930</td>\n",
              "      <td>0.174849</td>\n",
              "      <td>0.469794</td>\n",
              "      <td>0.187270</td>\n",
              "      <td>0.308113</td>\n",
              "      <td>0.255652</td>\n",
              "      <td>0.204092</td>\n",
              "    </tr>\n",
              "    <tr>\n",
              "      <th>min</th>\n",
              "      <td>0.000000</td>\n",
              "      <td>0.000000</td>\n",
              "      <td>0.000000</td>\n",
              "      <td>0.000000</td>\n",
              "      <td>0.000000</td>\n",
              "      <td>0.000000</td>\n",
              "      <td>0.000000</td>\n",
              "      <td>0.000000</td>\n",
              "      <td>0.000000</td>\n",
              "      <td>0.000000</td>\n",
              "      <td>0.000000</td>\n",
              "      <td>0.000000</td>\n",
              "      <td>0.000000</td>\n",
              "    </tr>\n",
              "    <tr>\n",
              "      <th>25%</th>\n",
              "      <td>0.385417</td>\n",
              "      <td>0.000000</td>\n",
              "      <td>0.000000</td>\n",
              "      <td>0.245283</td>\n",
              "      <td>0.194064</td>\n",
              "      <td>0.000000</td>\n",
              "      <td>0.000000</td>\n",
              "      <td>0.477099</td>\n",
              "      <td>0.000000</td>\n",
              "      <td>0.000000</td>\n",
              "      <td>0.500000</td>\n",
              "      <td>0.000000</td>\n",
              "      <td>0.666667</td>\n",
              "    </tr>\n",
              "    <tr>\n",
              "      <th>50%</th>\n",
              "      <td>0.541667</td>\n",
              "      <td>1.000000</td>\n",
              "      <td>0.333333</td>\n",
              "      <td>0.339623</td>\n",
              "      <td>0.260274</td>\n",
              "      <td>0.000000</td>\n",
              "      <td>0.500000</td>\n",
              "      <td>0.625954</td>\n",
              "      <td>0.000000</td>\n",
              "      <td>0.129032</td>\n",
              "      <td>0.500000</td>\n",
              "      <td>0.000000</td>\n",
              "      <td>0.666667</td>\n",
              "    </tr>\n",
              "    <tr>\n",
              "      <th>75%</th>\n",
              "      <td>0.666667</td>\n",
              "      <td>1.000000</td>\n",
              "      <td>0.666667</td>\n",
              "      <td>0.433962</td>\n",
              "      <td>0.339041</td>\n",
              "      <td>0.000000</td>\n",
              "      <td>0.500000</td>\n",
              "      <td>0.725191</td>\n",
              "      <td>1.000000</td>\n",
              "      <td>0.258065</td>\n",
              "      <td>1.000000</td>\n",
              "      <td>0.250000</td>\n",
              "      <td>1.000000</td>\n",
              "    </tr>\n",
              "    <tr>\n",
              "      <th>max</th>\n",
              "      <td>1.000000</td>\n",
              "      <td>1.000000</td>\n",
              "      <td>1.000000</td>\n",
              "      <td>1.000000</td>\n",
              "      <td>1.000000</td>\n",
              "      <td>1.000000</td>\n",
              "      <td>1.000000</td>\n",
              "      <td>1.000000</td>\n",
              "      <td>1.000000</td>\n",
              "      <td>1.000000</td>\n",
              "      <td>1.000000</td>\n",
              "      <td>1.000000</td>\n",
              "      <td>1.000000</td>\n",
              "    </tr>\n",
              "  </tbody>\n",
              "</table>\n",
              "</div>"
            ],
            "text/plain": [
              "              age         sex          cp  ...       slope          ca        thal\n",
              "count  303.000000  303.000000  303.000000  ...  303.000000  303.000000  303.000000\n",
              "mean     0.528465    0.683168    0.322332  ...    0.699670    0.182343    0.771177\n",
              "std      0.189210    0.466011    0.344017  ...    0.308113    0.255652    0.204092\n",
              "min      0.000000    0.000000    0.000000  ...    0.000000    0.000000    0.000000\n",
              "25%      0.385417    0.000000    0.000000  ...    0.500000    0.000000    0.666667\n",
              "50%      0.541667    1.000000    0.333333  ...    0.500000    0.000000    0.666667\n",
              "75%      0.666667    1.000000    0.666667  ...    1.000000    0.250000    1.000000\n",
              "max      1.000000    1.000000    1.000000  ...    1.000000    1.000000    1.000000\n",
              "\n",
              "[8 rows x 13 columns]"
            ]
          },
          "metadata": {
            "tags": []
          },
          "execution_count": 931
        }
      ]
    },
    {
      "cell_type": "markdown",
      "metadata": {
        "id": "-X9zl98OJbbE"
      },
      "source": [
        "# **Distribution Visualization**"
      ]
    },
    {
      "cell_type": "markdown",
      "metadata": {
        "id": "yTmw24dbRgBS"
      },
      "source": [
        "## **Visualizing Distributions for the Positive Class**"
      ]
    },
    {
      "cell_type": "code",
      "metadata": {
        "colab": {
          "base_uri": "https://localhost:8080/"
        },
        "id": "tPQZKIr5NZZf",
        "outputId": "5255f828-9dc2-4d93-b6ab-455a1caf2c5a"
      },
      "source": [
        "# 165 positive patients\n",
        "positive.shape"
      ],
      "execution_count": 932,
      "outputs": [
        {
          "output_type": "execute_result",
          "data": {
            "text/plain": [
              "(165, 14)"
            ]
          },
          "metadata": {
            "tags": []
          },
          "execution_count": 932
        }
      ]
    },
    {
      "cell_type": "code",
      "metadata": {
        "colab": {
          "base_uri": "https://localhost:8080/",
          "height": 0
        },
        "id": "XJIZF-bpQhyQ",
        "outputId": "260067a1-46ef-48d4-c2ca-5a84a89e77a7"
      },
      "source": [
        "# Plot distribution of age and sex of positive \n",
        "%matplotlib inline\n",
        "positive.hist([\"age\", \"sex\"], bins=5, figsize=(10,10))\n",
        "plt.show()"
      ],
      "execution_count": 933,
      "outputs": [
        {
          "output_type": "display_data",
          "data": {
            "image/png": "[encoded data removed]",
            "text/plain": [
              "<Figure size 720x720 with 2 Axes>"
            ]
          },
          "metadata": {
            "tags": [],
            "needs_background": "light"
          }
        }
      ]
    },
    {
      "cell_type": "code",
      "metadata": {
        "colab": {
          "base_uri": "https://localhost:8080/",
          "height": 0
        },
        "id": "ei9QEq1GQ8KQ",
        "outputId": "2b8bc1b3-5fbf-4523-e62a-e80c716eb93a"
      },
      "source": [
        "positive.describe()"
      ],
      "execution_count": 934,
      "outputs": [
        {
          "output_type": "execute_result",
          "data": {
            "text/html": [
              "<div>\n",
              "<style scoped>\n",
              "    .dataframe tbody tr th:only-of-type {\n",
              "        vertical-align: middle;\n",
              "    }\n",
              "\n",
              "    .dataframe tbody tr th {\n",
              "        vertical-align: top;\n",
              "    }\n",
              "\n",
              "    .dataframe thead th {\n",
              "        text-align: right;\n",
              "    }\n",
              "</style>\n",
              "<table border=\"1\" class=\"dataframe\">\n",
              "  <thead>\n",
              "    <tr style=\"text-align: right;\">\n",
              "      <th></th>\n",
              "      <th>age</th>\n",
              "      <th>sex</th>\n",
              "      <th>cp</th>\n",
              "      <th>trestbps</th>\n",
              "      <th>chol</th>\n",
              "      <th>fbs</th>\n",
              "      <th>restecg</th>\n",
              "      <th>thalach</th>\n",
              "      <th>exang</th>\n",
              "      <th>oldpeak</th>\n",
              "      <th>slope</th>\n",
              "      <th>ca</th>\n",
              "      <th>thal</th>\n",
              "      <th>target</th>\n",
              "    </tr>\n",
              "  </thead>\n",
              "  <tbody>\n",
              "    <tr>\n",
              "      <th>count</th>\n",
              "      <td>165.000000</td>\n",
              "      <td>165.000000</td>\n",
              "      <td>165.000000</td>\n",
              "      <td>165.000000</td>\n",
              "      <td>165.000000</td>\n",
              "      <td>165.000000</td>\n",
              "      <td>165.000000</td>\n",
              "      <td>165.000000</td>\n",
              "      <td>165.000000</td>\n",
              "      <td>165.000000</td>\n",
              "      <td>165.000000</td>\n",
              "      <td>165.000000</td>\n",
              "      <td>165.000000</td>\n",
              "      <td>165.0</td>\n",
              "    </tr>\n",
              "    <tr>\n",
              "      <th>mean</th>\n",
              "      <td>52.496970</td>\n",
              "      <td>0.563636</td>\n",
              "      <td>1.375758</td>\n",
              "      <td>129.303030</td>\n",
              "      <td>242.230303</td>\n",
              "      <td>0.139394</td>\n",
              "      <td>0.593939</td>\n",
              "      <td>158.466667</td>\n",
              "      <td>0.139394</td>\n",
              "      <td>0.583030</td>\n",
              "      <td>1.593939</td>\n",
              "      <td>0.363636</td>\n",
              "      <td>2.121212</td>\n",
              "      <td>1.0</td>\n",
              "    </tr>\n",
              "    <tr>\n",
              "      <th>std</th>\n",
              "      <td>9.550651</td>\n",
              "      <td>0.497444</td>\n",
              "      <td>0.952222</td>\n",
              "      <td>16.169613</td>\n",
              "      <td>53.552872</td>\n",
              "      <td>0.347412</td>\n",
              "      <td>0.504818</td>\n",
              "      <td>19.174276</td>\n",
              "      <td>0.347412</td>\n",
              "      <td>0.780683</td>\n",
              "      <td>0.593635</td>\n",
              "      <td>0.848894</td>\n",
              "      <td>0.465752</td>\n",
              "      <td>0.0</td>\n",
              "    </tr>\n",
              "    <tr>\n",
              "      <th>min</th>\n",
              "      <td>29.000000</td>\n",
              "      <td>0.000000</td>\n",
              "      <td>0.000000</td>\n",
              "      <td>94.000000</td>\n",
              "      <td>126.000000</td>\n",
              "      <td>0.000000</td>\n",
              "      <td>0.000000</td>\n",
              "      <td>96.000000</td>\n",
              "      <td>0.000000</td>\n",
              "      <td>0.000000</td>\n",
              "      <td>0.000000</td>\n",
              "      <td>0.000000</td>\n",
              "      <td>0.000000</td>\n",
              "      <td>1.0</td>\n",
              "    </tr>\n",
              "    <tr>\n",
              "      <th>25%</th>\n",
              "      <td>44.000000</td>\n",
              "      <td>0.000000</td>\n",
              "      <td>1.000000</td>\n",
              "      <td>120.000000</td>\n",
              "      <td>208.000000</td>\n",
              "      <td>0.000000</td>\n",
              "      <td>0.000000</td>\n",
              "      <td>149.000000</td>\n",
              "      <td>0.000000</td>\n",
              "      <td>0.000000</td>\n",
              "      <td>1.000000</td>\n",
              "      <td>0.000000</td>\n",
              "      <td>2.000000</td>\n",
              "      <td>1.0</td>\n",
              "    </tr>\n",
              "    <tr>\n",
              "      <th>50%</th>\n",
              "      <td>52.000000</td>\n",
              "      <td>1.000000</td>\n",
              "      <td>2.000000</td>\n",
              "      <td>130.000000</td>\n",
              "      <td>234.000000</td>\n",
              "      <td>0.000000</td>\n",
              "      <td>1.000000</td>\n",
              "      <td>161.000000</td>\n",
              "      <td>0.000000</td>\n",
              "      <td>0.200000</td>\n",
              "      <td>2.000000</td>\n",
              "      <td>0.000000</td>\n",
              "      <td>2.000000</td>\n",
              "      <td>1.0</td>\n",
              "    </tr>\n",
              "    <tr>\n",
              "      <th>75%</th>\n",
              "      <td>59.000000</td>\n",
              "      <td>1.000000</td>\n",
              "      <td>2.000000</td>\n",
              "      <td>140.000000</td>\n",
              "      <td>267.000000</td>\n",
              "      <td>0.000000</td>\n",
              "      <td>1.000000</td>\n",
              "      <td>172.000000</td>\n",
              "      <td>0.000000</td>\n",
              "      <td>1.000000</td>\n",
              "      <td>2.000000</td>\n",
              "      <td>0.000000</td>\n",
              "      <td>2.000000</td>\n",
              "      <td>1.0</td>\n",
              "    </tr>\n",
              "    <tr>\n",
              "      <th>max</th>\n",
              "      <td>76.000000</td>\n",
              "      <td>1.000000</td>\n",
              "      <td>3.000000</td>\n",
              "      <td>180.000000</td>\n",
              "      <td>564.000000</td>\n",
              "      <td>1.000000</td>\n",
              "      <td>2.000000</td>\n",
              "      <td>202.000000</td>\n",
              "      <td>1.000000</td>\n",
              "      <td>4.200000</td>\n",
              "      <td>2.000000</td>\n",
              "      <td>4.000000</td>\n",
              "      <td>3.000000</td>\n",
              "      <td>1.0</td>\n",
              "    </tr>\n",
              "  </tbody>\n",
              "</table>\n",
              "</div>"
            ],
            "text/plain": [
              "              age         sex          cp  ...          ca        thal  target\n",
              "count  165.000000  165.000000  165.000000  ...  165.000000  165.000000   165.0\n",
              "mean    52.496970    0.563636    1.375758  ...    0.363636    2.121212     1.0\n",
              "std      9.550651    0.497444    0.952222  ...    0.848894    0.465752     0.0\n",
              "min     29.000000    0.000000    0.000000  ...    0.000000    0.000000     1.0\n",
              "25%     44.000000    0.000000    1.000000  ...    0.000000    2.000000     1.0\n",
              "50%     52.000000    1.000000    2.000000  ...    0.000000    2.000000     1.0\n",
              "75%     59.000000    1.000000    2.000000  ...    0.000000    2.000000     1.0\n",
              "max     76.000000    1.000000    3.000000  ...    4.000000    3.000000     1.0\n",
              "\n",
              "[8 rows x 14 columns]"
            ]
          },
          "metadata": {
            "tags": []
          },
          "execution_count": 934
        }
      ]
    },
    {
      "cell_type": "markdown",
      "metadata": {
        "id": "eiN76ZrzQLRS"
      },
      "source": [
        "Positive patients ages fall on a relatively normal distribution between 29 and 76. The distribution is slightly skewed to the left.\n",
        "\n",
        "More than half of positive patients are male."
      ]
    },
    {
      "cell_type": "markdown",
      "metadata": {
        "id": "9bAOlI1zRxfK"
      },
      "source": [
        "## **Visualizing Distributions for the Negative Class**"
      ]
    },
    {
      "cell_type": "code",
      "metadata": {
        "colab": {
          "base_uri": "https://localhost:8080/"
        },
        "id": "3U5_7NmpORwN",
        "outputId": "6fb2c847-9f57-4d2e-e7ec-0b5102398ae6"
      },
      "source": [
        "# 138 negative patients\n",
        "negative.shape"
      ],
      "execution_count": 935,
      "outputs": [
        {
          "output_type": "execute_result",
          "data": {
            "text/plain": [
              "(138, 14)"
            ]
          },
          "metadata": {
            "tags": []
          },
          "execution_count": 935
        }
      ]
    },
    {
      "cell_type": "code",
      "metadata": {
        "colab": {
          "base_uri": "https://localhost:8080/",
          "height": 0
        },
        "id": "UC3rexSiRxfV",
        "outputId": "ab6ba7bb-4010-46dd-ad68-089408f6d2f8"
      },
      "source": [
        "# Plot distribution of age and sex of positive \n",
        "%matplotlib inline\n",
        "negative.hist([\"age\", \"sex\"], bins=5, figsize=(10,10))\n",
        "plt.show()"
      ],
      "execution_count": 936,
      "outputs": [
        {
          "output_type": "display_data",
          "data": {
            "image/png": "[encoded data removed]",
            "text/plain": [
              "<Figure size 720x720 with 2 Axes>"
            ]
          },
          "metadata": {
            "tags": [],
            "needs_background": "light"
          }
        }
      ]
    },
    {
      "cell_type": "code",
      "metadata": {
        "colab": {
          "base_uri": "https://localhost:8080/",
          "height": 0
        },
        "id": "1xHwogUwRxfW",
        "outputId": "9ce890f4-197a-4174-e914-3d28c413971b"
      },
      "source": [
        "negative.describe()"
      ],
      "execution_count": 937,
      "outputs": [
        {
          "output_type": "execute_result",
          "data": {
            "text/html": [
              "<div>\n",
              "<style scoped>\n",
              "    .dataframe tbody tr th:only-of-type {\n",
              "        vertical-align: middle;\n",
              "    }\n",
              "\n",
              "    .dataframe tbody tr th {\n",
              "        vertical-align: top;\n",
              "    }\n",
              "\n",
              "    .dataframe thead th {\n",
              "        text-align: right;\n",
              "    }\n",
              "</style>\n",
              "<table border=\"1\" class=\"dataframe\">\n",
              "  <thead>\n",
              "    <tr style=\"text-align: right;\">\n",
              "      <th></th>\n",
              "      <th>age</th>\n",
              "      <th>sex</th>\n",
              "      <th>cp</th>\n",
              "      <th>trestbps</th>\n",
              "      <th>chol</th>\n",
              "      <th>fbs</th>\n",
              "      <th>restecg</th>\n",
              "      <th>thalach</th>\n",
              "      <th>exang</th>\n",
              "      <th>oldpeak</th>\n",
              "      <th>slope</th>\n",
              "      <th>ca</th>\n",
              "      <th>thal</th>\n",
              "      <th>target</th>\n",
              "    </tr>\n",
              "  </thead>\n",
              "  <tbody>\n",
              "    <tr>\n",
              "      <th>count</th>\n",
              "      <td>138.000000</td>\n",
              "      <td>138.000000</td>\n",
              "      <td>138.000000</td>\n",
              "      <td>138.000000</td>\n",
              "      <td>138.000000</td>\n",
              "      <td>138.000000</td>\n",
              "      <td>138.000000</td>\n",
              "      <td>138.000000</td>\n",
              "      <td>138.000000</td>\n",
              "      <td>138.000000</td>\n",
              "      <td>138.000000</td>\n",
              "      <td>138.000000</td>\n",
              "      <td>138.000000</td>\n",
              "      <td>138.0</td>\n",
              "    </tr>\n",
              "    <tr>\n",
              "      <th>mean</th>\n",
              "      <td>56.601449</td>\n",
              "      <td>0.826087</td>\n",
              "      <td>0.478261</td>\n",
              "      <td>134.398551</td>\n",
              "      <td>251.086957</td>\n",
              "      <td>0.159420</td>\n",
              "      <td>0.449275</td>\n",
              "      <td>139.101449</td>\n",
              "      <td>0.550725</td>\n",
              "      <td>1.585507</td>\n",
              "      <td>1.166667</td>\n",
              "      <td>1.166667</td>\n",
              "      <td>2.543478</td>\n",
              "      <td>0.0</td>\n",
              "    </tr>\n",
              "    <tr>\n",
              "      <th>std</th>\n",
              "      <td>7.962082</td>\n",
              "      <td>0.380416</td>\n",
              "      <td>0.905920</td>\n",
              "      <td>18.729944</td>\n",
              "      <td>49.454614</td>\n",
              "      <td>0.367401</td>\n",
              "      <td>0.541321</td>\n",
              "      <td>22.598782</td>\n",
              "      <td>0.499232</td>\n",
              "      <td>1.300340</td>\n",
              "      <td>0.561324</td>\n",
              "      <td>1.043460</td>\n",
              "      <td>0.684762</td>\n",
              "      <td>0.0</td>\n",
              "    </tr>\n",
              "    <tr>\n",
              "      <th>min</th>\n",
              "      <td>35.000000</td>\n",
              "      <td>0.000000</td>\n",
              "      <td>0.000000</td>\n",
              "      <td>100.000000</td>\n",
              "      <td>131.000000</td>\n",
              "      <td>0.000000</td>\n",
              "      <td>0.000000</td>\n",
              "      <td>71.000000</td>\n",
              "      <td>0.000000</td>\n",
              "      <td>0.000000</td>\n",
              "      <td>0.000000</td>\n",
              "      <td>0.000000</td>\n",
              "      <td>0.000000</td>\n",
              "      <td>0.0</td>\n",
              "    </tr>\n",
              "    <tr>\n",
              "      <th>25%</th>\n",
              "      <td>52.000000</td>\n",
              "      <td>1.000000</td>\n",
              "      <td>0.000000</td>\n",
              "      <td>120.000000</td>\n",
              "      <td>217.250000</td>\n",
              "      <td>0.000000</td>\n",
              "      <td>0.000000</td>\n",
              "      <td>125.000000</td>\n",
              "      <td>0.000000</td>\n",
              "      <td>0.600000</td>\n",
              "      <td>1.000000</td>\n",
              "      <td>0.000000</td>\n",
              "      <td>2.000000</td>\n",
              "      <td>0.0</td>\n",
              "    </tr>\n",
              "    <tr>\n",
              "      <th>50%</th>\n",
              "      <td>58.000000</td>\n",
              "      <td>1.000000</td>\n",
              "      <td>0.000000</td>\n",
              "      <td>130.000000</td>\n",
              "      <td>249.000000</td>\n",
              "      <td>0.000000</td>\n",
              "      <td>0.000000</td>\n",
              "      <td>142.000000</td>\n",
              "      <td>1.000000</td>\n",
              "      <td>1.400000</td>\n",
              "      <td>1.000000</td>\n",
              "      <td>1.000000</td>\n",
              "      <td>3.000000</td>\n",
              "      <td>0.0</td>\n",
              "    </tr>\n",
              "    <tr>\n",
              "      <th>75%</th>\n",
              "      <td>62.000000</td>\n",
              "      <td>1.000000</td>\n",
              "      <td>0.000000</td>\n",
              "      <td>144.750000</td>\n",
              "      <td>283.000000</td>\n",
              "      <td>0.000000</td>\n",
              "      <td>1.000000</td>\n",
              "      <td>156.000000</td>\n",
              "      <td>1.000000</td>\n",
              "      <td>2.500000</td>\n",
              "      <td>1.750000</td>\n",
              "      <td>2.000000</td>\n",
              "      <td>3.000000</td>\n",
              "      <td>0.0</td>\n",
              "    </tr>\n",
              "    <tr>\n",
              "      <th>max</th>\n",
              "      <td>77.000000</td>\n",
              "      <td>1.000000</td>\n",
              "      <td>3.000000</td>\n",
              "      <td>200.000000</td>\n",
              "      <td>409.000000</td>\n",
              "      <td>1.000000</td>\n",
              "      <td>2.000000</td>\n",
              "      <td>195.000000</td>\n",
              "      <td>1.000000</td>\n",
              "      <td>6.200000</td>\n",
              "      <td>2.000000</td>\n",
              "      <td>4.000000</td>\n",
              "      <td>3.000000</td>\n",
              "      <td>0.0</td>\n",
              "    </tr>\n",
              "  </tbody>\n",
              "</table>\n",
              "</div>"
            ],
            "text/plain": [
              "              age         sex          cp  ...          ca        thal  target\n",
              "count  138.000000  138.000000  138.000000  ...  138.000000  138.000000   138.0\n",
              "mean    56.601449    0.826087    0.478261  ...    1.166667    2.543478     0.0\n",
              "std      7.962082    0.380416    0.905920  ...    1.043460    0.684762     0.0\n",
              "min     35.000000    0.000000    0.000000  ...    0.000000    0.000000     0.0\n",
              "25%     52.000000    1.000000    0.000000  ...    0.000000    2.000000     0.0\n",
              "50%     58.000000    1.000000    0.000000  ...    1.000000    3.000000     0.0\n",
              "75%     62.000000    1.000000    0.000000  ...    2.000000    3.000000     0.0\n",
              "max     77.000000    1.000000    3.000000  ...    4.000000    3.000000     0.0\n",
              "\n",
              "[8 rows x 14 columns]"
            ]
          },
          "metadata": {
            "tags": []
          },
          "execution_count": 937
        }
      ]
    },
    {
      "cell_type": "markdown",
      "metadata": {
        "id": "3zvMasgkRxfW"
      },
      "source": [
        "Negative patients ages fall on a relatively normal distribution between 35 and 77. The distribution is slightly skewed to the right.\n",
        "\n",
        "There appears to be around 5 times as many male negative patients as female. "
      ]
    },
    {
      "cell_type": "markdown",
      "metadata": {
        "id": "OF36fRE1Tqz8"
      },
      "source": [
        "# **Feature Correlations**"
      ]
    },
    {
      "cell_type": "markdown",
      "metadata": {
        "id": "MA8DasJbnRxx"
      },
      "source": [
        "##**Correlation heatmap**"
      ]
    },
    {
      "cell_type": "code",
      "metadata": {
        "colab": {
          "base_uri": "https://localhost:8080/",
          "height": 0
        },
        "id": "v0say-0OY2VV",
        "outputId": "f3a2b036-bf44-4077-c99d-be6abeaf65b4"
      },
      "source": [
        "\n",
        "from sklearn.model_selection import train_test_split, cross_val_score, GridSearchCV\n",
        "\n",
        "# use the 80-20 rule for validation.\n",
        "# let's used the grouped data \n",
        "X_train, X_test, y_train, y_test = train_test_split(groupedX, y, stratify=y, test_size=0.2)\n",
        "\n",
        "# produce a heatmap of feature correlations\n",
        "X_comb = pd.concat([X_train, y_train.astype(float)], axis=1)\n",
        "fig, ax = plt.subplots(figsize=(10,10))\n",
        "g = sbn.heatmap(X_comb[['sex', 'age', 'cp', 'trestbps', 'chol', 'fbs', 'restecg', 'thalach',\t'exang',\t'oldpeak',\t'slope',\t'ca',\t'thal', 'target' ]].corr(),\n",
        "                annot=True, \n",
        "                ax=ax,\n",
        "                linewidths=.5,\n",
        "                cmap = \"cool\")\n",
        "\n"
      ],
      "execution_count": 938,
      "outputs": [
        {
          "output_type": "display_data",
          "data": {
            "image/png": "[encoded data removed]",
            "text/plain": [
              "<Figure size 720x720 with 2 Axes>"
            ]
          },
          "metadata": {
            "tags": [],
            "needs_background": "light"
          }
        }
      ]
    },
    {
      "cell_type": "markdown",
      "metadata": {
        "id": "ENi2zV1OnaBE"
      },
      "source": [
        "The target class (diagnosis) has the highest positive correlation with the classes cp (chest pain), thalach (maximum heart rate achieved), slope (the slope of the peak exercise ST segment).\n",
        "\n",
        "The target class has the highest negative correlation with exercise induced angina, ca (number of major vessels (0-3) colored by flourosopy), and oldpeak (ST depression induced by exercise relative to rest). "
      ]
    },
    {
      "cell_type": "markdown",
      "metadata": {
        "id": "edd0sbJSERKx"
      },
      "source": [
        "##**Cross tabulation**"
      ]
    },
    {
      "cell_type": "code",
      "metadata": {
        "colab": {
          "base_uri": "https://localhost:8080/",
          "height": 0
        },
        "id": "ehK8RJ9skrXF",
        "outputId": "3a9ee5b2-34ec-4e76-a210-ec767f58b7a3"
      },
      "source": [
        "# let's cross tabulate and compute impact of sex, age, and chest pain (cp), on \n",
        "# the target variable\n",
        "figure, axes = plt.subplots(5, 3, figsize=(20, 20))\n",
        "\n",
        "# function to help display subplots \n",
        "\n",
        "classIndex = 0;\n",
        "\n",
        "for row in range(5):\n",
        "  for col in range(3):\n",
        "    if classIndex == 13: \n",
        "      break\n",
        "    ct1 = pd.crosstab(y[:], groupedX[groupedX.columns[classIndex]])\n",
        "    ct1.plot.bar(ax = axes[row][col])\n",
        "    classIndex += 1\n",
        "    \n",
        "\n",
        "plt.show()\n"
      ],
      "execution_count": 939,
      "outputs": [
        {
          "output_type": "display_data",
          "data": {
            "image/png": "[encoded data removed]",
            "text/plain": [
              "<Figure size 1440x1440 with 15 Axes>"
            ]
          },
          "metadata": {
            "tags": [],
            "needs_background": "light"
          }
        }
      ]
    },
    {
      "cell_type": "markdown",
      "metadata": {
        "id": "s0U_T-8_-Kca"
      },
      "source": [
        "Chest pain has a strong correlation to the diagnosis, and the cross tabulated graph demonstrates that. The clear majority of negative patients had pain rated at the 25th percentile or less.\n",
        "\n",
        "The correlation between diagnosis and thalach is nicely represented in it's cross tabulated graph. The thalach increases with each quartile in the positive population.  \n",
        "\n",
        "The ca value (number of major vessels (0-3) colored by flourosopy) has a strong inverse relationship to diagnosis. The cross tabulated graph also demonstrates this. Among positive patients, a clear majority had a number of major vessels at or below the 25th percentile. \n",
        "\n",
        "The negative correlations between diagnosis and exercise induced angina and diagnosis and oldspeak are also clearly demonstrated by their respective cross tabulated graphs. "
      ]
    },
    {
      "cell_type": "code",
      "metadata": {
        "colab": {
          "base_uri": "https://localhost:8080/"
        },
        "id": "OMGx2ulCHBHh",
        "outputId": "52c558c0-480d-413c-f8a4-834420b7f9dc"
      },
      "source": [
        "# Create the correlation matrix from entire dataframe\n",
        "corr_matrix= df.corr()\n",
        "\n",
        "# Create the correlation matrix from our prepared data \n",
        "corr_matrix[\"target\"].sort_values(ascending=False)\n"
      ],
      "execution_count": 940,
      "outputs": [
        {
          "output_type": "execute_result",
          "data": {
            "text/plain": [
              "target      1.000000\n",
              "cp          0.433798\n",
              "thalach     0.421741\n",
              "slope       0.345877\n",
              "restecg     0.137230\n",
              "fbs        -0.028046\n",
              "chol       -0.085239\n",
              "trestbps   -0.144931\n",
              "age        -0.225439\n",
              "sex        -0.280937\n",
              "thal       -0.344029\n",
              "ca         -0.391724\n",
              "oldpeak    -0.430696\n",
              "exang      -0.436757\n",
              "Name: target, dtype: float64"
            ]
          },
          "metadata": {
            "tags": []
          },
          "execution_count": 940
        }
      ]
    },
    {
      "cell_type": "markdown",
      "metadata": {
        "id": "YkaPQhTEg7iC"
      },
      "source": [
        "# **Check for Missing Values**"
      ]
    },
    {
      "cell_type": "code",
      "metadata": {
        "colab": {
          "base_uri": "https://localhost:8080/"
        },
        "id": "rCgFYKnUg4wO",
        "outputId": "296b35e7-2acc-4332-95e0-ebea1a9a4d38"
      },
      "source": [
        "# Show how many null values per column \n",
        "df.isnull().sum()"
      ],
      "execution_count": 941,
      "outputs": [
        {
          "output_type": "execute_result",
          "data": {
            "text/plain": [
              "age         0\n",
              "sex         0\n",
              "cp          0\n",
              "trestbps    0\n",
              "chol        0\n",
              "fbs         0\n",
              "restecg     0\n",
              "thalach     0\n",
              "exang       0\n",
              "oldpeak     0\n",
              "slope       0\n",
              "ca          0\n",
              "thal        0\n",
              "target      0\n",
              "dtype: int64"
            ]
          },
          "metadata": {
            "tags": []
          },
          "execution_count": 941
        }
      ]
    },
    {
      "cell_type": "markdown",
      "metadata": {
        "id": "5ZalmnhRhOXY"
      },
      "source": [
        "There appears to be no missing values."
      ]
    },
    {
      "cell_type": "markdown",
      "metadata": {
        "id": "K60acTLEDRl6"
      },
      "source": [
        "# **Logistic Regression**"
      ]
    },
    {
      "cell_type": "markdown",
      "metadata": {
        "id": "R2Noo7cNGPJw"
      },
      "source": [
        "## **Using grouped data**"
      ]
    },
    {
      "cell_type": "markdown",
      "metadata": {
        "id": "ccTPUVCPJrHV"
      },
      "source": [
        "### **Running the model**"
      ]
    },
    {
      "cell_type": "code",
      "metadata": {
        "id": "Ifel_7tUE-e9"
      },
      "source": [
        "# use the 80-20 rule for validation.\n",
        "\n",
        "# First, let's used the grouped data\n",
        "X_train, X_test, y_train, y_test = train_test_split(groupedX, y, stratify=y, test_size=0.2,  random_state = 54)"
      ],
      "execution_count": 942,
      "outputs": []
    },
    {
      "cell_type": "code",
      "metadata": {
        "colab": {
          "base_uri": "https://localhost:8080/"
        },
        "id": "muG-rUWaE_zv",
        "outputId": "c096a8e9-9215-4259-e18c-a25d92df4c76"
      },
      "source": [
        "# 242 training cases \n",
        "X_train.shape"
      ],
      "execution_count": 943,
      "outputs": [
        {
          "output_type": "execute_result",
          "data": {
            "text/plain": [
              "(242, 13)"
            ]
          },
          "metadata": {
            "tags": []
          },
          "execution_count": 943
        }
      ]
    },
    {
      "cell_type": "code",
      "metadata": {
        "colab": {
          "base_uri": "https://localhost:8080/"
        },
        "id": "d6Z3PSPVFG6B",
        "outputId": "2cd5a3df-7063-42c9-84a8-5be4b0c7772e"
      },
      "source": [
        "# 61 training cases \n",
        "X_test.shape"
      ],
      "execution_count": 944,
      "outputs": [
        {
          "output_type": "execute_result",
          "data": {
            "text/plain": [
              "(61, 13)"
            ]
          },
          "metadata": {
            "tags": []
          },
          "execution_count": 944
        }
      ]
    },
    {
      "cell_type": "code",
      "metadata": {
        "colab": {
          "base_uri": "https://localhost:8080/"
        },
        "id": "LjH8N3s7Ds7k",
        "outputId": "b4747c77-7e92-4209-bb20-6e81570a8848"
      },
      "source": [
        "from sklearn.linear_model import LogisticRegression\n",
        "lr_classifier = LogisticRegression(fit_intercept=True,\n",
        "                        multi_class='auto',\n",
        "                        penalty='l1', #lasso regression\n",
        "                        solver='saga',\n",
        "                        max_iter=1000,\n",
        "                        C=50,\n",
        "                        verbose=2, # output progress\n",
        "                        n_jobs=5, # parallelize over 5 processes\n",
        "                        tol=0.01\n",
        "                        )\n",
        "\n",
        "\n",
        "# Fit the model \n",
        "# let's try first with the \n",
        "lr_classifier.fit(X_train, y_train)\n",
        "\n",
        "# Let's see what the classifier has learned\n",
        "lr_classifier.classes_"
      ],
      "execution_count": 945,
      "outputs": [
        {
          "output_type": "stream",
          "text": [
            "convergence after 19 epochs took 0 seconds\n"
          ],
          "name": "stdout"
        },
        {
          "output_type": "stream",
          "text": [
            "[Parallel(n_jobs=5)]: Using backend ThreadingBackend with 5 concurrent workers.\n",
            "[Parallel(n_jobs=5)]: Done   1 out of   1 | elapsed:    0.0s finished\n"
          ],
          "name": "stderr"
        },
        {
          "output_type": "execute_result",
          "data": {
            "text/plain": [
              "array([0, 1])"
            ]
          },
          "metadata": {
            "tags": []
          },
          "execution_count": 945
        }
      ]
    },
    {
      "cell_type": "markdown",
      "metadata": {
        "id": "ftO6di25Jdj-"
      },
      "source": [
        "### **The confusion matrix and classification report**"
      ]
    },
    {
      "cell_type": "code",
      "metadata": {
        "colab": {
          "base_uri": "https://localhost:8080/",
          "height": 111
        },
        "id": "yjd0cXr_E3zx",
        "outputId": "41305dda-694e-4594-d85c-74316f03ea43"
      },
      "source": [
        "# The confusion matrix\n",
        "from sklearn.metrics import confusion_matrix, classification_report\n",
        "\n",
        "lr_predictions = lr_classifier.predict(X_test)\n",
        "\n",
        "labels = lr_classifier.classes_\n",
        "\n",
        "# compute TP, TN, FP, FN values\n",
        "lr_cm = confusion_matrix(y_true=y_test, \n",
        "                      y_pred = lr_predictions, \n",
        "                      labels = labels)\n",
        "# print confusion matrix\n",
        "pd.DataFrame(lr_cm, index=labels, columns=labels)"
      ],
      "execution_count": 946,
      "outputs": [
        {
          "output_type": "execute_result",
          "data": {
            "text/html": [
              "<div>\n",
              "<style scoped>\n",
              "    .dataframe tbody tr th:only-of-type {\n",
              "        vertical-align: middle;\n",
              "    }\n",
              "\n",
              "    .dataframe tbody tr th {\n",
              "        vertical-align: top;\n",
              "    }\n",
              "\n",
              "    .dataframe thead th {\n",
              "        text-align: right;\n",
              "    }\n",
              "</style>\n",
              "<table border=\"1\" class=\"dataframe\">\n",
              "  <thead>\n",
              "    <tr style=\"text-align: right;\">\n",
              "      <th></th>\n",
              "      <th>0</th>\n",
              "      <th>1</th>\n",
              "    </tr>\n",
              "  </thead>\n",
              "  <tbody>\n",
              "    <tr>\n",
              "      <th>0</th>\n",
              "      <td>25</td>\n",
              "      <td>3</td>\n",
              "    </tr>\n",
              "    <tr>\n",
              "      <th>1</th>\n",
              "      <td>2</td>\n",
              "      <td>31</td>\n",
              "    </tr>\n",
              "  </tbody>\n",
              "</table>\n",
              "</div>"
            ],
            "text/plain": [
              "    0   1\n",
              "0  25   3\n",
              "1   2  31"
            ]
          },
          "metadata": {
            "tags": []
          },
          "execution_count": 946
        }
      ]
    },
    {
      "cell_type": "code",
      "metadata": {
        "colab": {
          "base_uri": "https://localhost:8080/"
        },
        "id": "8gPk5TIZEw9l",
        "outputId": "b5064658-2202-4138-ad37-bfe9199c66fc"
      },
      "source": [
        "# Accuracy scores on the training and testing sets\n",
        "\n",
        "lr_train_grouped = round(lr_classifier.score(X_train, y_train), 2) # training score\n",
        "lr_test_grouped = round(lr_classifier.score(X_test, y_test), 2)   # testing score\n",
        "\n",
        "print (\"Training and Testing scores: %.2f, %.2f\" %  (lr_train_grouped, lr_test_grouped))"
      ],
      "execution_count": 947,
      "outputs": [
        {
          "output_type": "stream",
          "text": [
            "Training and Testing scores: 0.86, 0.92\n"
          ],
          "name": "stdout"
        }
      ]
    },
    {
      "cell_type": "code",
      "metadata": {
        "colab": {
          "base_uri": "https://localhost:8080/"
        },
        "id": "Rv5JMPmqKhDd",
        "outputId": "aa531af8-dfee-4af0-b39f-60d414572044"
      },
      "source": [
        "# compute recall, precision, f1-scores\n",
        "lr_cr = classification_report(y_true=y_test, \n",
        "                      y_pred = lr_predictions, \n",
        "                      labels = labels)\n",
        "\n",
        "print(lr_cr)"
      ],
      "execution_count": 948,
      "outputs": [
        {
          "output_type": "stream",
          "text": [
            "              precision    recall  f1-score   support\n",
            "\n",
            "           0       0.93      0.89      0.91        28\n",
            "           1       0.91      0.94      0.93        33\n",
            "\n",
            "    accuracy                           0.92        61\n",
            "   macro avg       0.92      0.92      0.92        61\n",
            "weighted avg       0.92      0.92      0.92        61\n",
            "\n"
          ],
          "name": "stdout"
        }
      ]
    },
    {
      "cell_type": "markdown",
      "metadata": {
        "id": "1ImyIBdZJ1Mq"
      },
      "source": [
        "### **The ROC curve**"
      ]
    },
    {
      "cell_type": "code",
      "metadata": {
        "colab": {
          "base_uri": "https://localhost:8080/",
          "height": 0
        },
        "id": "9W6fipOoKCdA",
        "outputId": "2ceee162-e167-4d20-a767-54254147f3fb"
      },
      "source": [
        "from sklearn.metrics import roc_curve, roc_auc_score\n",
        "\n",
        "# calculate receiver operating characteristic(ROC) curve \n",
        "\n",
        "# calculate false positive rate (1 - specificity)\n",
        "# calculate true positive rate (recall/sensitivity)\n",
        "fpr, tpr, threshold = roc_curve(y_test, lr_predictions)\n",
        "\n",
        "# calculate the area under the curve score (correctly classified instances)\n",
        "roc_auc = roc_auc_score(y_test, lr_predictions)\n",
        "\n",
        "# plot roc_auc score\n",
        "import matplotlib.pyplot as plt\n",
        "plt.title('ROC Logisitc Regression')\n",
        "plt.plot(fpr, tpr, 'b', label = 'AUC = %0.2f' % roc_auc)\n",
        "plt.legend(loc = 'lower right')\n",
        "plt.plot([0, 1], [0, 1],'r--')\n",
        "plt.xlim([0, 1])\n",
        "plt.ylim([0, 1])\n",
        "plt.ylabel('True Positive Rate')\n",
        "plt.xlabel('False Positive Rate')\n",
        "plt.show()"
      ],
      "execution_count": 949,
      "outputs": [
        {
          "output_type": "display_data",
          "data": {
            "image/png": "[encoded data removed]",
            "text/plain": [
              "<Figure size 432x288 with 1 Axes>"
            ]
          },
          "metadata": {
            "tags": [],
            "needs_background": "light"
          }
        }
      ]
    },
    {
      "cell_type": "markdown",
      "metadata": {
        "id": "24VWtg5gMvQ-"
      },
      "source": [
        "### **Summary**"
      ]
    },
    {
      "cell_type": "markdown",
      "metadata": {
        "id": "pAZMFIpBD9bs"
      },
      "source": [
        "Using the grouped data, my logistic regression model performed very well. \n",
        "\n",
        "The model had an overalll testing set accuracy score of 92%. It's precision was 91%, and it's recall was 94%. The f1 score was 0.93. It was least successful at predicting what was \"not\" a positive diagnosis- it's specificity is ~89%.\n",
        "\n",
        "As demonstrated by the ROC curve graph, the AUC was 0.92, which suggests when data is grouped, the logistic regression model performed very well on it's testing set.\n",
        "\n",
        "Out of curiousity, does logistic regression perform as well when the data is not grouped?\n",
        "\n"
      ]
    },
    {
      "cell_type": "markdown",
      "metadata": {
        "id": "wukgXQfnNR22"
      },
      "source": [
        "## **Using ungrouped data**"
      ]
    },
    {
      "cell_type": "markdown",
      "metadata": {
        "id": "pwt4aTKPNR3B"
      },
      "source": [
        "### **Running the model**"
      ]
    },
    {
      "cell_type": "code",
      "metadata": {
        "id": "tlf734q1NR3B"
      },
      "source": [
        "# use the 80-20 rule for validation.\n",
        "\n",
        "# now let's used the ungrouped data\n",
        "X_train, X_test, y_train, y_test = train_test_split(X, y, stratify=y, test_size=0.2,  random_state = 54)\n"
      ],
      "execution_count": 950,
      "outputs": []
    },
    {
      "cell_type": "code",
      "metadata": {
        "colab": {
          "base_uri": "https://localhost:8080/"
        },
        "id": "1auo_YGsNR3C",
        "outputId": "52fd3b2a-3199-4bf2-f41e-2aca53f2c94a"
      },
      "source": [
        "# 242 training cases \n",
        "X_train.shape"
      ],
      "execution_count": 951,
      "outputs": [
        {
          "output_type": "execute_result",
          "data": {
            "text/plain": [
              "(242, 13)"
            ]
          },
          "metadata": {
            "tags": []
          },
          "execution_count": 951
        }
      ]
    },
    {
      "cell_type": "code",
      "metadata": {
        "colab": {
          "base_uri": "https://localhost:8080/"
        },
        "id": "aISKG-45NR3D",
        "outputId": "6000767f-404e-411c-edb7-6654c1c13cdb"
      },
      "source": [
        "# 61 training cases \n",
        "X_test.shape"
      ],
      "execution_count": 952,
      "outputs": [
        {
          "output_type": "execute_result",
          "data": {
            "text/plain": [
              "(61, 13)"
            ]
          },
          "metadata": {
            "tags": []
          },
          "execution_count": 952
        }
      ]
    },
    {
      "cell_type": "code",
      "metadata": {
        "colab": {
          "base_uri": "https://localhost:8080/"
        },
        "id": "CnnZdGBDNR3D",
        "outputId": "a48fd902-60b9-4862-9e48-0ad8de1894b6"
      },
      "source": [
        "from sklearn.linear_model import LogisticRegression\n",
        "lr_classifier = LogisticRegression(fit_intercept=True,\n",
        "                        multi_class='auto',\n",
        "                        penalty='l1', #lasso regression\n",
        "                        solver='saga',\n",
        "                        max_iter=1000,\n",
        "                        C=50,\n",
        "                        verbose=2, # output progress\n",
        "                        n_jobs=5, # parallelize over 5 processes\n",
        "                        tol=0.01\n",
        "                        )\n",
        "\n",
        "\n",
        "# Fit the model \n",
        "# let's try first with the \n",
        "lr_classifier.fit(X_train, y_train)\n",
        "\n",
        "# Let's see what the classifier has learned\n",
        "lr_classifier.classes_"
      ],
      "execution_count": 953,
      "outputs": [
        {
          "output_type": "stream",
          "text": [
            "convergence after 84 epochs took 0 seconds\n"
          ],
          "name": "stdout"
        },
        {
          "output_type": "stream",
          "text": [
            "[Parallel(n_jobs=5)]: Using backend ThreadingBackend with 5 concurrent workers.\n",
            "[Parallel(n_jobs=5)]: Done   1 out of   1 | elapsed:    0.0s finished\n"
          ],
          "name": "stderr"
        },
        {
          "output_type": "execute_result",
          "data": {
            "text/plain": [
              "array([0, 1])"
            ]
          },
          "metadata": {
            "tags": []
          },
          "execution_count": 953
        }
      ]
    },
    {
      "cell_type": "markdown",
      "metadata": {
        "id": "kUESZaYPNR3D"
      },
      "source": [
        "### **The confusion matrix and classification report**"
      ]
    },
    {
      "cell_type": "code",
      "metadata": {
        "colab": {
          "base_uri": "https://localhost:8080/",
          "height": 111
        },
        "id": "DnqXBl0INR3E",
        "outputId": "0f800b95-811d-43dd-84ce-c73997277b34"
      },
      "source": [
        "# The confusion matrix\n",
        "from sklearn.metrics import confusion_matrix, classification_report\n",
        "\n",
        "lr_predictions = lr_classifier.predict(X_test)\n",
        "\n",
        "labels = lr_classifier.classes_\n",
        "\n",
        "# compute TP, TN, FP, FN values\n",
        "lr_cm = confusion_matrix(y_true=y_test, \n",
        "                      y_pred = lr_predictions, \n",
        "                      labels = labels)\n",
        "# print confusion matrix\n",
        "pd.DataFrame(lr_cm, index=labels, columns=labels)"
      ],
      "execution_count": 954,
      "outputs": [
        {
          "output_type": "execute_result",
          "data": {
            "text/html": [
              "<div>\n",
              "<style scoped>\n",
              "    .dataframe tbody tr th:only-of-type {\n",
              "        vertical-align: middle;\n",
              "    }\n",
              "\n",
              "    .dataframe tbody tr th {\n",
              "        vertical-align: top;\n",
              "    }\n",
              "\n",
              "    .dataframe thead th {\n",
              "        text-align: right;\n",
              "    }\n",
              "</style>\n",
              "<table border=\"1\" class=\"dataframe\">\n",
              "  <thead>\n",
              "    <tr style=\"text-align: right;\">\n",
              "      <th></th>\n",
              "      <th>0</th>\n",
              "      <th>1</th>\n",
              "    </tr>\n",
              "  </thead>\n",
              "  <tbody>\n",
              "    <tr>\n",
              "      <th>0</th>\n",
              "      <td>19</td>\n",
              "      <td>9</td>\n",
              "    </tr>\n",
              "    <tr>\n",
              "      <th>1</th>\n",
              "      <td>8</td>\n",
              "      <td>25</td>\n",
              "    </tr>\n",
              "  </tbody>\n",
              "</table>\n",
              "</div>"
            ],
            "text/plain": [
              "    0   1\n",
              "0  19   9\n",
              "1   8  25"
            ]
          },
          "metadata": {
            "tags": []
          },
          "execution_count": 954
        }
      ]
    },
    {
      "cell_type": "code",
      "metadata": {
        "colab": {
          "base_uri": "https://localhost:8080/"
        },
        "id": "9rNJ2ez-NR3E",
        "outputId": "79255f24-ce6b-4653-8261-0d499cfd3364"
      },
      "source": [
        "# Accuracy scores on the training and testing sets\n",
        "\n",
        "lr_train = round(lr_classifier.score(X_train, y_train), 2) # training score\n",
        "lr_test = round(lr_classifier.score(X_test, y_test), 2)   # testing score\n",
        "\n",
        "print (\"Training and Testing scores: %.2f, %.2f\" %  (lr_train, lr_test))"
      ],
      "execution_count": 955,
      "outputs": [
        {
          "output_type": "stream",
          "text": [
            "Training and Testing scores: 0.71, 0.72\n"
          ],
          "name": "stdout"
        }
      ]
    },
    {
      "cell_type": "code",
      "metadata": {
        "colab": {
          "base_uri": "https://localhost:8080/"
        },
        "id": "GJbFzR4YNR3E",
        "outputId": "fcfe7654-a447-4cf5-b0e4-02a928471505"
      },
      "source": [
        "# compute recall, precision, f1-scores\n",
        "lr_cr = classification_report(y_true=y_test, \n",
        "                      y_pred = lr_predictions, \n",
        "                      labels = labels)\n",
        "\n",
        "print(lr_cr)"
      ],
      "execution_count": 956,
      "outputs": [
        {
          "output_type": "stream",
          "text": [
            "              precision    recall  f1-score   support\n",
            "\n",
            "           0       0.70      0.68      0.69        28\n",
            "           1       0.74      0.76      0.75        33\n",
            "\n",
            "    accuracy                           0.72        61\n",
            "   macro avg       0.72      0.72      0.72        61\n",
            "weighted avg       0.72      0.72      0.72        61\n",
            "\n"
          ],
          "name": "stdout"
        }
      ]
    },
    {
      "cell_type": "markdown",
      "metadata": {
        "id": "DGnQ2eJ0NR3F"
      },
      "source": [
        "### **The ROC curve**"
      ]
    },
    {
      "cell_type": "code",
      "metadata": {
        "colab": {
          "base_uri": "https://localhost:8080/",
          "height": 0
        },
        "id": "9KITVOMWNR3F",
        "outputId": "3f0ce122-9eb1-478b-cc7a-dce1f35a5d22"
      },
      "source": [
        "from sklearn.metrics import roc_curve, roc_auc_score\n",
        "\n",
        "# calculate receiver operating characteristic(ROC) curve \n",
        "\n",
        "# calculate false positive rate (1 - specificity)\n",
        "# calculate true positive rate (recall/sensitivity)\n",
        "fpr, tpr, threshold = roc_curve(y_test, lr_predictions)\n",
        "\n",
        "# calculate the area under the curve score (correctly classified instances)\n",
        "roc_auc = roc_auc_score(y_test, lr_predictions)\n",
        "\n",
        "# plot roc_auc score\n",
        "import matplotlib.pyplot as plt\n",
        "plt.title('ROC Logisitc Regression')\n",
        "plt.plot(fpr, tpr, 'b', label = 'AUC = %0.2f' % roc_auc)\n",
        "plt.legend(loc = 'lower right')\n",
        "plt.plot([0, 1], [0, 1],'r--')\n",
        "plt.xlim([0, 1])\n",
        "plt.ylim([0, 1])\n",
        "plt.ylabel('True Positive Rate')\n",
        "plt.xlabel('False Positive Rate')\n",
        "plt.show()"
      ],
      "execution_count": 957,
      "outputs": [
        {
          "output_type": "display_data",
          "data": {
            "image/png": "[encoded data removed]",
            "text/plain": [
              "<Figure size 432x288 with 1 Axes>"
            ]
          },
          "metadata": {
            "tags": [],
            "needs_background": "light"
          }
        }
      ]
    },
    {
      "cell_type": "markdown",
      "metadata": {
        "id": "35MO3ctsNR3F"
      },
      "source": [
        "### **Summary**"
      ]
    },
    {
      "cell_type": "markdown",
      "metadata": {
        "id": "MXYrT_F2NR3F"
      },
      "source": [
        "Logistic Regression performed significantly better on the grouped dataset. \n",
        "\n",
        "On the ungrouped testing set, the model had an overalll  accuracy score of 72% (20% lower). It's precision was 74%, and it's recall was 76%. The f1 score was 0.75. It was again least successful at predicting what was \"not\" a positive diagnosis- it's specificity is ~69%.\n",
        "\n",
        "As demonstrated by the ROC curve graph, the AUC was 0.72. Logisitic regression performs around 20% better when the dimensionality of the dataset is reduced to \"categories\" rather than continous values.\n",
        "\n",
        "\n",
        "\n"
      ]
    },
    {
      "cell_type": "markdown",
      "metadata": {
        "id": "YiBjNujtlyBa"
      },
      "source": [
        "## **Using standard scaled (ungrouped) data**"
      ]
    },
    {
      "cell_type": "markdown",
      "metadata": {
        "id": "yz5aUN_clyBl"
      },
      "source": [
        "### **Running the model**"
      ]
    },
    {
      "cell_type": "code",
      "metadata": {
        "id": "QJ_UGZIZlyBm"
      },
      "source": [
        "# use the 80-20 rule for validation.\n",
        "\n",
        "# now let's used the ungrouped, scaled data\n",
        "X_train, X_test, y_train, y_test = train_test_split(standard_scaled, y, stratify=y, test_size=0.2,  random_state = 54)\n"
      ],
      "execution_count": 958,
      "outputs": []
    },
    {
      "cell_type": "code",
      "metadata": {
        "colab": {
          "base_uri": "https://localhost:8080/"
        },
        "id": "91qvBNd9lyBm",
        "outputId": "0a7f82ae-2022-4758-91a1-4caa50df6cb4"
      },
      "source": [
        "# 242 training cases \n",
        "X_train.shape"
      ],
      "execution_count": 959,
      "outputs": [
        {
          "output_type": "execute_result",
          "data": {
            "text/plain": [
              "(242, 13)"
            ]
          },
          "metadata": {
            "tags": []
          },
          "execution_count": 959
        }
      ]
    },
    {
      "cell_type": "code",
      "metadata": {
        "colab": {
          "base_uri": "https://localhost:8080/"
        },
        "id": "wONy5RmTlyBn",
        "outputId": "9c4d05de-8d8d-4afa-a110-d670a776f927"
      },
      "source": [
        "# 61 training cases \n",
        "X_test.shape"
      ],
      "execution_count": 960,
      "outputs": [
        {
          "output_type": "execute_result",
          "data": {
            "text/plain": [
              "(61, 13)"
            ]
          },
          "metadata": {
            "tags": []
          },
          "execution_count": 960
        }
      ]
    },
    {
      "cell_type": "code",
      "metadata": {
        "colab": {
          "base_uri": "https://localhost:8080/"
        },
        "id": "pNR8uTZ2lyBn",
        "outputId": "e1667569-1a5e-4619-e48c-4693808e8032"
      },
      "source": [
        "from sklearn.linear_model import LogisticRegression\n",
        "lr_classifier = LogisticRegression(fit_intercept=True,\n",
        "                        multi_class='auto',\n",
        "                        penalty='l1', #lasso regression\n",
        "                        solver='saga',\n",
        "                        max_iter=1000,\n",
        "                        C=50,\n",
        "                        verbose=2, # output progress\n",
        "                        n_jobs=5, # parallelize over 5 processes\n",
        "                        tol=0.01\n",
        "                        )\n",
        "\n",
        "\n",
        "# Fit the model \n",
        "# let's try first with the \n",
        "lr_classifier.fit(X_train, y_train)\n",
        "\n",
        "# Let's see what the classifier has learned\n",
        "lr_classifier.classes_"
      ],
      "execution_count": 961,
      "outputs": [
        {
          "output_type": "stream",
          "text": [
            "convergence after 10 epochs took 0 seconds\n"
          ],
          "name": "stdout"
        },
        {
          "output_type": "stream",
          "text": [
            "[Parallel(n_jobs=5)]: Using backend ThreadingBackend with 5 concurrent workers.\n",
            "[Parallel(n_jobs=5)]: Done   1 out of   1 | elapsed:    0.0s finished\n"
          ],
          "name": "stderr"
        },
        {
          "output_type": "execute_result",
          "data": {
            "text/plain": [
              "array([0, 1])"
            ]
          },
          "metadata": {
            "tags": []
          },
          "execution_count": 961
        }
      ]
    },
    {
      "cell_type": "markdown",
      "metadata": {
        "id": "hsNnfFzulyBn"
      },
      "source": [
        "### **The confusion matrix and classification report**"
      ]
    },
    {
      "cell_type": "code",
      "metadata": {
        "colab": {
          "base_uri": "https://localhost:8080/",
          "height": 111
        },
        "id": "a3rLo6o7lyBo",
        "outputId": "80010ec1-38b3-4230-f230-c78bc994b25d"
      },
      "source": [
        "# The confusion matrix\n",
        "from sklearn.metrics import confusion_matrix, classification_report\n",
        "\n",
        "lr_predictions = lr_classifier.predict(X_test)\n",
        "\n",
        "labels = lr_classifier.classes_\n",
        "\n",
        "# compute TP, TN, FP, FN values\n",
        "lr_cm = confusion_matrix(y_true=y_test, \n",
        "                      y_pred = lr_predictions, \n",
        "                      labels = labels)\n",
        "# print confusion matrix\n",
        "pd.DataFrame(lr_cm, index=labels, columns=labels)"
      ],
      "execution_count": 962,
      "outputs": [
        {
          "output_type": "execute_result",
          "data": {
            "text/html": [
              "<div>\n",
              "<style scoped>\n",
              "    .dataframe tbody tr th:only-of-type {\n",
              "        vertical-align: middle;\n",
              "    }\n",
              "\n",
              "    .dataframe tbody tr th {\n",
              "        vertical-align: top;\n",
              "    }\n",
              "\n",
              "    .dataframe thead th {\n",
              "        text-align: right;\n",
              "    }\n",
              "</style>\n",
              "<table border=\"1\" class=\"dataframe\">\n",
              "  <thead>\n",
              "    <tr style=\"text-align: right;\">\n",
              "      <th></th>\n",
              "      <th>0</th>\n",
              "      <th>1</th>\n",
              "    </tr>\n",
              "  </thead>\n",
              "  <tbody>\n",
              "    <tr>\n",
              "      <th>0</th>\n",
              "      <td>24</td>\n",
              "      <td>4</td>\n",
              "    </tr>\n",
              "    <tr>\n",
              "      <th>1</th>\n",
              "      <td>3</td>\n",
              "      <td>30</td>\n",
              "    </tr>\n",
              "  </tbody>\n",
              "</table>\n",
              "</div>"
            ],
            "text/plain": [
              "    0   1\n",
              "0  24   4\n",
              "1   3  30"
            ]
          },
          "metadata": {
            "tags": []
          },
          "execution_count": 962
        }
      ]
    },
    {
      "cell_type": "code",
      "metadata": {
        "colab": {
          "base_uri": "https://localhost:8080/"
        },
        "id": "YDoyqy95lyBo",
        "outputId": "6111fe8a-ddb0-4c54-caf8-9ad502d565e2"
      },
      "source": [
        "# Accuracy scores on the training and testing sets\n",
        "\n",
        "lr_train_scaled = round(lr_classifier.score(X_train, y_train), 2) # training score\n",
        "lr_test_scaled = round(lr_classifier.score(X_test, y_test), 2)   # testing score\n",
        "\n",
        "print (\"Training and Testing scores: %.2f, %.2f\" %  (lr_train_scaled, lr_test_scaled))"
      ],
      "execution_count": 963,
      "outputs": [
        {
          "output_type": "stream",
          "text": [
            "Training and Testing scores: 0.86, 0.89\n"
          ],
          "name": "stdout"
        }
      ]
    },
    {
      "cell_type": "code",
      "metadata": {
        "colab": {
          "base_uri": "https://localhost:8080/"
        },
        "id": "-kq6i0ZrlyBo",
        "outputId": "efe1ad01-9ba9-4a6a-f133-60aa2ea13175"
      },
      "source": [
        "# compute recall, precision, f1-scores\n",
        "lr_cr = classification_report(y_true=y_test, \n",
        "                      y_pred = lr_predictions, \n",
        "                      labels = labels)\n",
        "\n",
        "print(lr_cr)"
      ],
      "execution_count": 964,
      "outputs": [
        {
          "output_type": "stream",
          "text": [
            "              precision    recall  f1-score   support\n",
            "\n",
            "           0       0.89      0.86      0.87        28\n",
            "           1       0.88      0.91      0.90        33\n",
            "\n",
            "    accuracy                           0.89        61\n",
            "   macro avg       0.89      0.88      0.88        61\n",
            "weighted avg       0.89      0.89      0.89        61\n",
            "\n"
          ],
          "name": "stdout"
        }
      ]
    },
    {
      "cell_type": "markdown",
      "metadata": {
        "id": "vmPQgQRtlyBp"
      },
      "source": [
        "### **The ROC curve**"
      ]
    },
    {
      "cell_type": "code",
      "metadata": {
        "colab": {
          "base_uri": "https://localhost:8080/",
          "height": 295
        },
        "id": "1wsb-e22lyBp",
        "outputId": "e80f0811-ca55-4af7-b8de-683ed9c8da21"
      },
      "source": [
        "from sklearn.metrics import roc_curve, roc_auc_score\n",
        "\n",
        "# calculate receiver operating characteristic(ROC) curve \n",
        "\n",
        "# calculate false positive rate (1 - specificity)\n",
        "# calculate true positive rate (recall/sensitivity)\n",
        "fpr, tpr, threshold = roc_curve(y_test, lr_predictions)\n",
        "\n",
        "# calculate the area under the curve score (correctly classified instances)\n",
        "roc_auc = roc_auc_score(y_test, lr_predictions)\n",
        "\n",
        "# plot roc_auc score\n",
        "import matplotlib.pyplot as plt\n",
        "plt.title('ROC Logisitc Regression')\n",
        "plt.plot(fpr, tpr, 'b', label = 'AUC = %0.2f' % roc_auc)\n",
        "plt.legend(loc = 'lower right')\n",
        "plt.plot([0, 1], [0, 1],'r--')\n",
        "plt.xlim([0, 1])\n",
        "plt.ylim([0, 1])\n",
        "plt.ylabel('True Positive Rate')\n",
        "plt.xlabel('False Positive Rate')\n",
        "plt.show()"
      ],
      "execution_count": 965,
      "outputs": [
        {
          "output_type": "display_data",
          "data": {
            "image/png": "[encoded data removed]",
            "text/plain": [
              "<Figure size 432x288 with 1 Axes>"
            ]
          },
          "metadata": {
            "tags": [],
            "needs_background": "light"
          }
        }
      ]
    },
    {
      "cell_type": "markdown",
      "metadata": {
        "id": "iV_tTIgtlyBr"
      },
      "source": [
        "### **Summary**"
      ]
    },
    {
      "cell_type": "markdown",
      "metadata": {
        "id": "GvJgdCZalyBr"
      },
      "source": [
        "Logistic Regression performed significantly better on the scaled ungrouped dataset than the unscaled, ungrouped data set.\n",
        "\n",
        "On the scaled testing set, the model had an overalll  accuracy score of 89%. It's precision was 88%, and it's recall was 91%. The f1 score was 0.90. It was about as  successful at predicting what was \"not\" a positive diagnosis- it's specificity is ~86%.\n",
        "\n",
        "As demonstrated by the ROC curve graph, the AUC was 0.88. \n",
        "\n",
        "Logisitic regression performs best when the dimensionality of the dataset is reduced to \"categories\" rather than continous values. But, if the original dataset is scaled, regression performs nearly as well as it does on the reduced dimensionality dataset.\n",
        "\n",
        "\n",
        "\n"
      ]
    },
    {
      "cell_type": "markdown",
      "metadata": {
        "id": "zLYwoNolueBd"
      },
      "source": [
        "## **Using min-max scaled (ungrouped) data**"
      ]
    },
    {
      "cell_type": "markdown",
      "metadata": {
        "id": "iNK6GMMqueBq"
      },
      "source": [
        "### **Running the model**"
      ]
    },
    {
      "cell_type": "code",
      "metadata": {
        "id": "KCye2xm7ueBq"
      },
      "source": [
        "# use the 80-20 rule for validation.\n",
        "\n",
        "# now let's used the ungrouped, mmscaled data\n",
        "X_train, X_test, y_train, y_test = train_test_split(mm_scaled, y, stratify=y, test_size=0.2,  random_state = 54)\n"
      ],
      "execution_count": 966,
      "outputs": []
    },
    {
      "cell_type": "code",
      "metadata": {
        "colab": {
          "base_uri": "https://localhost:8080/"
        },
        "id": "jPUBdh7IueBq",
        "outputId": "5b6e4c1b-a557-4446-a8e3-281469f89945"
      },
      "source": [
        "# 242 training cases \n",
        "X_train.shape"
      ],
      "execution_count": 967,
      "outputs": [
        {
          "output_type": "execute_result",
          "data": {
            "text/plain": [
              "(242, 13)"
            ]
          },
          "metadata": {
            "tags": []
          },
          "execution_count": 967
        }
      ]
    },
    {
      "cell_type": "code",
      "metadata": {
        "colab": {
          "base_uri": "https://localhost:8080/"
        },
        "id": "FdXtmKOPueBr",
        "outputId": "27f06a2d-3b49-4af7-e10e-8d643583f480"
      },
      "source": [
        "# 61 training cases \n",
        "X_test.shape"
      ],
      "execution_count": 968,
      "outputs": [
        {
          "output_type": "execute_result",
          "data": {
            "text/plain": [
              "(61, 13)"
            ]
          },
          "metadata": {
            "tags": []
          },
          "execution_count": 968
        }
      ]
    },
    {
      "cell_type": "code",
      "metadata": {
        "colab": {
          "base_uri": "https://localhost:8080/"
        },
        "id": "CJLDMOzvueBr",
        "outputId": "8b24dec0-f0d4-4e9d-f8b3-e7341d05938e"
      },
      "source": [
        "from sklearn.linear_model import LogisticRegression\n",
        "lr_classifier = LogisticRegression(fit_intercept=True,\n",
        "                        multi_class='auto',\n",
        "                        penalty='l1', #lasso regression\n",
        "                        solver='saga',\n",
        "                        max_iter=1000,\n",
        "                        C=50,\n",
        "                        verbose=2, # output progress\n",
        "                        n_jobs=5, # parallelize over 5 processes\n",
        "                        tol=0.01\n",
        "                        )\n",
        "\n",
        "\n",
        "# Fit the model \n",
        "# let's try first with the \n",
        "lr_classifier.fit(X_train, y_train)\n",
        "\n",
        "# Let's see what the classifier has learned\n",
        "lr_classifier.classes_"
      ],
      "execution_count": 969,
      "outputs": [
        {
          "output_type": "stream",
          "text": [
            "convergence after 22 epochs took 0 seconds\n"
          ],
          "name": "stdout"
        },
        {
          "output_type": "stream",
          "text": [
            "[Parallel(n_jobs=5)]: Using backend ThreadingBackend with 5 concurrent workers.\n",
            "[Parallel(n_jobs=5)]: Done   1 out of   1 | elapsed:    0.0s finished\n"
          ],
          "name": "stderr"
        },
        {
          "output_type": "execute_result",
          "data": {
            "text/plain": [
              "array([0, 1])"
            ]
          },
          "metadata": {
            "tags": []
          },
          "execution_count": 969
        }
      ]
    },
    {
      "cell_type": "markdown",
      "metadata": {
        "id": "2Gag-GhDueBs"
      },
      "source": [
        "### **The confusion matrix and classification report**"
      ]
    },
    {
      "cell_type": "code",
      "metadata": {
        "colab": {
          "base_uri": "https://localhost:8080/",
          "height": 111
        },
        "id": "j6NgFmhgueBs",
        "outputId": "7227afa9-ccf7-4f8d-90ac-b0de400f375c"
      },
      "source": [
        "# The confusion matrix\n",
        "from sklearn.metrics import confusion_matrix, classification_report\n",
        "\n",
        "lr_predictions = lr_classifier.predict(X_test)\n",
        "\n",
        "labels = lr_classifier.classes_\n",
        "\n",
        "# compute TP, TN, FP, FN values\n",
        "lr_cm = confusion_matrix(y_true=y_test, \n",
        "                      y_pred = lr_predictions, \n",
        "                      labels = labels)\n",
        "# print confusion matrix\n",
        "pd.DataFrame(lr_cm, index=labels, columns=labels)"
      ],
      "execution_count": 970,
      "outputs": [
        {
          "output_type": "execute_result",
          "data": {
            "text/html": [
              "<div>\n",
              "<style scoped>\n",
              "    .dataframe tbody tr th:only-of-type {\n",
              "        vertical-align: middle;\n",
              "    }\n",
              "\n",
              "    .dataframe tbody tr th {\n",
              "        vertical-align: top;\n",
              "    }\n",
              "\n",
              "    .dataframe thead th {\n",
              "        text-align: right;\n",
              "    }\n",
              "</style>\n",
              "<table border=\"1\" class=\"dataframe\">\n",
              "  <thead>\n",
              "    <tr style=\"text-align: right;\">\n",
              "      <th></th>\n",
              "      <th>0</th>\n",
              "      <th>1</th>\n",
              "    </tr>\n",
              "  </thead>\n",
              "  <tbody>\n",
              "    <tr>\n",
              "      <th>0</th>\n",
              "      <td>24</td>\n",
              "      <td>4</td>\n",
              "    </tr>\n",
              "    <tr>\n",
              "      <th>1</th>\n",
              "      <td>2</td>\n",
              "      <td>31</td>\n",
              "    </tr>\n",
              "  </tbody>\n",
              "</table>\n",
              "</div>"
            ],
            "text/plain": [
              "    0   1\n",
              "0  24   4\n",
              "1   2  31"
            ]
          },
          "metadata": {
            "tags": []
          },
          "execution_count": 970
        }
      ]
    },
    {
      "cell_type": "code",
      "metadata": {
        "colab": {
          "base_uri": "https://localhost:8080/"
        },
        "id": "_TFrQZoOueBs",
        "outputId": "baa28aec-f4b5-46dc-b50d-5d161e7b5eb4"
      },
      "source": [
        "# Accuracy scores on the training and testing sets\n",
        "\n",
        "lr_train_mmscaled = round(lr_classifier.score(X_train, y_train), 2) # training score\n",
        "lr_test_mmscaled = round(lr_classifier.score(X_test, y_test), 2)   # testing score\n",
        "\n",
        "print (\"Training and Testing scores: %.2f, %.2f\" %  (lr_train_mmscaled, lr_test_mmscaled))"
      ],
      "execution_count": 971,
      "outputs": [
        {
          "output_type": "stream",
          "text": [
            "Training and Testing scores: 0.86, 0.90\n"
          ],
          "name": "stdout"
        }
      ]
    },
    {
      "cell_type": "code",
      "metadata": {
        "colab": {
          "base_uri": "https://localhost:8080/"
        },
        "id": "hPaLX0K3ueBt",
        "outputId": "39e68c84-b42a-46d2-e858-d67942f371f1"
      },
      "source": [
        "# compute recall, precision, f1-scores\n",
        "lr_cr = classification_report(y_true=y_test, \n",
        "                      y_pred = lr_predictions, \n",
        "                      labels = labels)\n",
        "\n",
        "print(lr_cr)"
      ],
      "execution_count": 972,
      "outputs": [
        {
          "output_type": "stream",
          "text": [
            "              precision    recall  f1-score   support\n",
            "\n",
            "           0       0.92      0.86      0.89        28\n",
            "           1       0.89      0.94      0.91        33\n",
            "\n",
            "    accuracy                           0.90        61\n",
            "   macro avg       0.90      0.90      0.90        61\n",
            "weighted avg       0.90      0.90      0.90        61\n",
            "\n"
          ],
          "name": "stdout"
        }
      ]
    },
    {
      "cell_type": "markdown",
      "metadata": {
        "id": "YsYoe6k0ueBt"
      },
      "source": [
        "### **The ROC curve**"
      ]
    },
    {
      "cell_type": "code",
      "metadata": {
        "colab": {
          "base_uri": "https://localhost:8080/",
          "height": 295
        },
        "id": "Eq1rO7e8ueBt",
        "outputId": "86b6300f-ace8-48a4-bd80-c9dde112ab2a"
      },
      "source": [
        "from sklearn.metrics import roc_curve, roc_auc_score\n",
        "\n",
        "# calculate receiver operating characteristic(ROC) curve \n",
        "\n",
        "# calculate false positive rate (1 - specificity)\n",
        "# calculate true positive rate (recall/sensitivity)\n",
        "fpr, tpr, threshold = roc_curve(y_test, lr_predictions)\n",
        "\n",
        "# calculate the area under the curve score (correctly classified instances)\n",
        "roc_auc = roc_auc_score(y_test, lr_predictions)\n",
        "\n",
        "# plot roc_auc score\n",
        "import matplotlib.pyplot as plt\n",
        "plt.title('ROC Logisitc Regression')\n",
        "plt.plot(fpr, tpr, 'b', label = 'AUC = %0.2f' % roc_auc)\n",
        "plt.legend(loc = 'lower right')\n",
        "plt.plot([0, 1], [0, 1],'r--')\n",
        "plt.xlim([0, 1])\n",
        "plt.ylim([0, 1])\n",
        "plt.ylabel('True Positive Rate')\n",
        "plt.xlabel('False Positive Rate')\n",
        "plt.show()"
      ],
      "execution_count": 973,
      "outputs": [
        {
          "output_type": "display_data",
          "data": {
            "image/png": "[encoded data removed]",
            "text/plain": [
              "<Figure size 432x288 with 1 Axes>"
            ]
          },
          "metadata": {
            "tags": [],
            "needs_background": "light"
          }
        }
      ]
    },
    {
      "cell_type": "markdown",
      "metadata": {
        "id": "Kc-O0v-VueBt"
      },
      "source": [
        "### **Summary**"
      ]
    },
    {
      "cell_type": "markdown",
      "metadata": {
        "id": "GnFK0rnTueBu"
      },
      "source": [
        "Logistic Regression performed about the same on the min-max scaled dataset as it did the standard scaled data set.\n",
        "\n",
        "On the mm scaled testing set, the model had an overalll  accuracy score of 90%. It's precision was 89%, and it's recall was 94%. The f1 score was 0.91. It was about as  successful at predicting what was \"not\" a positive diagnosis- it's specificity is ~86%.\n",
        "\n",
        "As demonstrated by the ROC curve graph, the AUC was 0.90. \n",
        "\n",
        "Logisitic regression performs best when the dimensionality of the dataset is reduced to \"categories\" rather than continous values. But, if the original dataset is scaled (either standard or minmax), regression performs nearly as well as it does on the reduced dimensionality dataset.\n",
        "\n",
        "\n",
        "\n"
      ]
    },
    {
      "cell_type": "markdown",
      "metadata": {
        "id": "WKaqJsfuPinP"
      },
      "source": [
        "# **Random Forrest**"
      ]
    },
    {
      "cell_type": "markdown",
      "metadata": {
        "id": "urUXLT-BPinQ"
      },
      "source": [
        "## **Using grouped data**"
      ]
    },
    {
      "cell_type": "markdown",
      "metadata": {
        "id": "1I9omCeYPinR"
      },
      "source": [
        "### **Running the model**"
      ]
    },
    {
      "cell_type": "code",
      "metadata": {
        "id": "cGatbOrjPinR"
      },
      "source": [
        "# use the 80-20 rule for validation.\n",
        "\n",
        "# First, let's used the grouped data\n",
        "X_train, X_test, y_train, y_test = train_test_split(groupedX, y, stratify=y, test_size=0.2,  random_state = 54)"
      ],
      "execution_count": 974,
      "outputs": []
    },
    {
      "cell_type": "code",
      "metadata": {
        "colab": {
          "base_uri": "https://localhost:8080/"
        },
        "id": "TGHScEd-Pina",
        "outputId": "0534f7db-f818-467f-813d-93212ff20911"
      },
      "source": [
        "# 242 training cases \n",
        "X_train.shape"
      ],
      "execution_count": 975,
      "outputs": [
        {
          "output_type": "execute_result",
          "data": {
            "text/plain": [
              "(242, 13)"
            ]
          },
          "metadata": {
            "tags": []
          },
          "execution_count": 975
        }
      ]
    },
    {
      "cell_type": "code",
      "metadata": {
        "colab": {
          "base_uri": "https://localhost:8080/"
        },
        "id": "pNKGZXX9Pinb",
        "outputId": "af8282b7-728d-402e-9238-52cd01f2baf8"
      },
      "source": [
        "# 61 training cases \n",
        "X_test.shape"
      ],
      "execution_count": 976,
      "outputs": [
        {
          "output_type": "execute_result",
          "data": {
            "text/plain": [
              "(61, 13)"
            ]
          },
          "metadata": {
            "tags": []
          },
          "execution_count": 976
        }
      ]
    },
    {
      "cell_type": "code",
      "metadata": {
        "colab": {
          "base_uri": "https://localhost:8080/"
        },
        "id": "gCIFRPNePinb",
        "outputId": "31087fba-1454-49ba-8983-4f285bf25583"
      },
      "source": [
        "# Let's try random forrest classifier \n",
        "from sklearn.ensemble import RandomForestClassifier \n",
        "\n",
        "rf_classifier = RandomForestClassifier(random_state= 54,\n",
        "                                       n_estimators=100,\n",
        "                                       n_jobs=5)\n",
        "rf_classifier.fit(X_train, y_train)"
      ],
      "execution_count": 977,
      "outputs": [
        {
          "output_type": "execute_result",
          "data": {
            "text/plain": [
              "RandomForestClassifier(bootstrap=True, ccp_alpha=0.0, class_weight=None,\n",
              "                       criterion='gini', max_depth=None, max_features='auto',\n",
              "                       max_leaf_nodes=None, max_samples=None,\n",
              "                       min_impurity_decrease=0.0, min_impurity_split=None,\n",
              "                       min_samples_leaf=1, min_samples_split=2,\n",
              "                       min_weight_fraction_leaf=0.0, n_estimators=100, n_jobs=5,\n",
              "                       oob_score=False, random_state=54, verbose=0,\n",
              "                       warm_start=False)"
            ]
          },
          "metadata": {
            "tags": []
          },
          "execution_count": 977
        }
      ]
    },
    {
      "cell_type": "markdown",
      "metadata": {
        "id": "XhBx6B07Pinb"
      },
      "source": [
        "### **The confusion matrix and classification report**"
      ]
    },
    {
      "cell_type": "code",
      "metadata": {
        "colab": {
          "base_uri": "https://localhost:8080/",
          "height": 111
        },
        "id": "AwL-cMO1Pinb",
        "outputId": "0978b737-60e8-41d6-ce08-8ccba04a4e65"
      },
      "source": [
        "# The confusion matrix\n",
        "\n",
        "rf_predictions = rf_classifier.predict(X_test)\n",
        "\n",
        "labels = rf_classifier.classes_\n",
        "\n",
        "# compute TP, TN, FP, FN values\n",
        "rf_cm = confusion_matrix(y_true=y_test, \n",
        "                      y_pred = rf_predictions, \n",
        "                      labels = labels)\n",
        "# print confusion matrix\n",
        "pd.DataFrame(rf_cm, index=labels, columns=labels)"
      ],
      "execution_count": 978,
      "outputs": [
        {
          "output_type": "execute_result",
          "data": {
            "text/html": [
              "<div>\n",
              "<style scoped>\n",
              "    .dataframe tbody tr th:only-of-type {\n",
              "        vertical-align: middle;\n",
              "    }\n",
              "\n",
              "    .dataframe tbody tr th {\n",
              "        vertical-align: top;\n",
              "    }\n",
              "\n",
              "    .dataframe thead th {\n",
              "        text-align: right;\n",
              "    }\n",
              "</style>\n",
              "<table border=\"1\" class=\"dataframe\">\n",
              "  <thead>\n",
              "    <tr style=\"text-align: right;\">\n",
              "      <th></th>\n",
              "      <th>0</th>\n",
              "      <th>1</th>\n",
              "    </tr>\n",
              "  </thead>\n",
              "  <tbody>\n",
              "    <tr>\n",
              "      <th>0</th>\n",
              "      <td>24</td>\n",
              "      <td>4</td>\n",
              "    </tr>\n",
              "    <tr>\n",
              "      <th>1</th>\n",
              "      <td>4</td>\n",
              "      <td>29</td>\n",
              "    </tr>\n",
              "  </tbody>\n",
              "</table>\n",
              "</div>"
            ],
            "text/plain": [
              "    0   1\n",
              "0  24   4\n",
              "1   4  29"
            ]
          },
          "metadata": {
            "tags": []
          },
          "execution_count": 978
        }
      ]
    },
    {
      "cell_type": "code",
      "metadata": {
        "colab": {
          "base_uri": "https://localhost:8080/"
        },
        "id": "PKpyQNCdPinc",
        "outputId": "2a0d0933-2b3a-4a16-9402-0c46ce213d00"
      },
      "source": [
        "# Accuracy scores on the training and testing sets\n",
        "\n",
        "rf_train_grouped = round(rf_classifier.score(X_train, y_train), 2) # training score\n",
        "rf_test_grouped = round(rf_classifier.score(X_test, y_test), 2)   # testing score\n",
        "\n",
        "print (\"Training and Testing scores: %.2f, %.2f\" %  (rf_train_grouped, rf_test_grouped))"
      ],
      "execution_count": 979,
      "outputs": [
        {
          "output_type": "stream",
          "text": [
            "Training and Testing scores: 1.00, 0.87\n"
          ],
          "name": "stdout"
        }
      ]
    },
    {
      "cell_type": "code",
      "metadata": {
        "colab": {
          "base_uri": "https://localhost:8080/"
        },
        "id": "Pwqxc32hPinc",
        "outputId": "5fba43b0-e8bd-441b-c6f4-c87feb8f41bb"
      },
      "source": [
        "# compute recall, precision, f1-scores\n",
        "rf_cr = classification_report(y_true=y_test, \n",
        "                      y_pred = rf_predictions, \n",
        "                      labels = labels)\n",
        "\n",
        "print(rf_cr)"
      ],
      "execution_count": 980,
      "outputs": [
        {
          "output_type": "stream",
          "text": [
            "              precision    recall  f1-score   support\n",
            "\n",
            "           0       0.86      0.86      0.86        28\n",
            "           1       0.88      0.88      0.88        33\n",
            "\n",
            "    accuracy                           0.87        61\n",
            "   macro avg       0.87      0.87      0.87        61\n",
            "weighted avg       0.87      0.87      0.87        61\n",
            "\n"
          ],
          "name": "stdout"
        }
      ]
    },
    {
      "cell_type": "markdown",
      "metadata": {
        "id": "AXJerxbTPind"
      },
      "source": [
        "### **The ROC curve**"
      ]
    },
    {
      "cell_type": "code",
      "metadata": {
        "colab": {
          "base_uri": "https://localhost:8080/",
          "height": 0
        },
        "id": "_h4fyrsvPind",
        "outputId": "dc45d1db-7fa8-49fb-8741-4ec76acf231d"
      },
      "source": [
        "from sklearn.metrics import roc_curve, roc_auc_score\n",
        "\n",
        "# calculate receiver operating characteristic(ROC) curve \n",
        "\n",
        "# calculate false positive rate (1 - specificity)\n",
        "# calculate true positive rate (recall/sensitivity)\n",
        "fpr, tpr, threshold = roc_curve(y_test, rf_predictions)\n",
        "\n",
        "# calculate the area under the curve score (correctly classified instances)\n",
        "roc_auc = roc_auc_score(y_test, rf_predictions)\n",
        "\n",
        "# plot roc_auc score\n",
        "import matplotlib.pyplot as plt\n",
        "plt.title('ROC Random Forest')\n",
        "plt.plot(fpr, tpr, 'b', label = 'AUC = %0.2f' % roc_auc)\n",
        "plt.legend(loc = 'lower right')\n",
        "plt.plot([0, 1], [0, 1],'r--')\n",
        "plt.xlim([0, 1])\n",
        "plt.ylim([0, 1])\n",
        "plt.ylabel('True Positive Rate')\n",
        "plt.xlabel('False Positive Rate')\n",
        "plt.show()"
      ],
      "execution_count": 981,
      "outputs": [
        {
          "output_type": "display_data",
          "data": {
            "image/png": "[encoded data removed]",
            "text/plain": [
              "<Figure size 432x288 with 1 Axes>"
            ]
          },
          "metadata": {
            "tags": [],
            "needs_background": "light"
          }
        }
      ]
    },
    {
      "cell_type": "markdown",
      "metadata": {
        "id": "NFRoANTdPind"
      },
      "source": [
        "### **Summary**"
      ]
    },
    {
      "cell_type": "markdown",
      "metadata": {
        "id": "LW9btMdMPind"
      },
      "source": [
        "Using the grouped data, my the randomed forest model performed well (but not as impressively as logistic regression).  \n",
        "\n",
        "The model had an overalll testing set accuracy score of 87%. It's precision and recall were 88% and the f1 score was 0.88. It was about as successful at predicting what was \"not\" a positive diagnosis: it's specificity is 86%.\n",
        "\n",
        "As demonstrated by the ROC curve graph, the AUC was 0.87, which suggests when data is grouped, the random forest model performed well on it's testing set.\n",
        "\n",
        "Out of curiousity, does the random forest model perform better when the data is not grouped?\n",
        "\n"
      ]
    },
    {
      "cell_type": "markdown",
      "metadata": {
        "id": "AlhbCm-KVC4r"
      },
      "source": [
        "## **Using ungrouped data**"
      ]
    },
    {
      "cell_type": "markdown",
      "metadata": {
        "id": "U1eO7XBYVC43"
      },
      "source": [
        "### **Running the model**"
      ]
    },
    {
      "cell_type": "code",
      "metadata": {
        "id": "eIMa-UnjVC43"
      },
      "source": [
        "# use the 80-20 rule for validation.\n",
        "\n",
        "# First, let's used the grouped data\n",
        "X_train, X_test, y_train, y_test = train_test_split(X, y, stratify=y, test_size=0.2,  random_state = 54)"
      ],
      "execution_count": 982,
      "outputs": []
    },
    {
      "cell_type": "code",
      "metadata": {
        "colab": {
          "base_uri": "https://localhost:8080/"
        },
        "id": "shIz89ljVC44",
        "outputId": "bf3c1484-8fab-47e1-8fa8-b26265689975"
      },
      "source": [
        "# 242 training cases \n",
        "X_train.shape"
      ],
      "execution_count": 983,
      "outputs": [
        {
          "output_type": "execute_result",
          "data": {
            "text/plain": [
              "(242, 13)"
            ]
          },
          "metadata": {
            "tags": []
          },
          "execution_count": 983
        }
      ]
    },
    {
      "cell_type": "code",
      "metadata": {
        "colab": {
          "base_uri": "https://localhost:8080/"
        },
        "id": "qKeZSTkbVC45",
        "outputId": "443942ae-f202-4d2f-a0b5-cdd9b063eb25"
      },
      "source": [
        "# 61 training cases \n",
        "X_test.shape"
      ],
      "execution_count": 984,
      "outputs": [
        {
          "output_type": "execute_result",
          "data": {
            "text/plain": [
              "(61, 13)"
            ]
          },
          "metadata": {
            "tags": []
          },
          "execution_count": 984
        }
      ]
    },
    {
      "cell_type": "code",
      "metadata": {
        "colab": {
          "base_uri": "https://localhost:8080/"
        },
        "id": "bUEsZ6oJVC45",
        "outputId": "a5dcbc53-fb00-45ad-a95d-4745a27d40e6"
      },
      "source": [
        "# Let's try random forrest classifier \n",
        "from sklearn.ensemble import RandomForestClassifier \n",
        "\n",
        "rf_classifier = RandomForestClassifier(random_state= 54,\n",
        "                                       n_estimators=100,\n",
        "                                       n_jobs=5)\n",
        "rf_classifier.fit(X_train, y_train)"
      ],
      "execution_count": 985,
      "outputs": [
        {
          "output_type": "execute_result",
          "data": {
            "text/plain": [
              "RandomForestClassifier(bootstrap=True, ccp_alpha=0.0, class_weight=None,\n",
              "                       criterion='gini', max_depth=None, max_features='auto',\n",
              "                       max_leaf_nodes=None, max_samples=None,\n",
              "                       min_impurity_decrease=0.0, min_impurity_split=None,\n",
              "                       min_samples_leaf=1, min_samples_split=2,\n",
              "                       min_weight_fraction_leaf=0.0, n_estimators=100, n_jobs=5,\n",
              "                       oob_score=False, random_state=54, verbose=0,\n",
              "                       warm_start=False)"
            ]
          },
          "metadata": {
            "tags": []
          },
          "execution_count": 985
        }
      ]
    },
    {
      "cell_type": "markdown",
      "metadata": {
        "id": "MMC201luVC45"
      },
      "source": [
        "### **The confusion matrix and classification report**"
      ]
    },
    {
      "cell_type": "code",
      "metadata": {
        "colab": {
          "base_uri": "https://localhost:8080/",
          "height": 111
        },
        "id": "m1BULDyZVC45",
        "outputId": "c95481af-1c95-412c-e2bb-403ddf09015d"
      },
      "source": [
        "# The confusion matrix\n",
        "\n",
        "rf_predictions = rf_classifier.predict(X_test)\n",
        "\n",
        "labels = rf_classifier.classes_\n",
        "\n",
        "# compute TP, TN, FP, FN values\n",
        "rf_cm = confusion_matrix(y_true=y_test, \n",
        "                      y_pred = rf_predictions, \n",
        "                      labels = labels)\n",
        "# print confusion matrix\n",
        "pd.DataFrame(rf_cm, index=labels, columns=labels)"
      ],
      "execution_count": 986,
      "outputs": [
        {
          "output_type": "execute_result",
          "data": {
            "text/html": [
              "<div>\n",
              "<style scoped>\n",
              "    .dataframe tbody tr th:only-of-type {\n",
              "        vertical-align: middle;\n",
              "    }\n",
              "\n",
              "    .dataframe tbody tr th {\n",
              "        vertical-align: top;\n",
              "    }\n",
              "\n",
              "    .dataframe thead th {\n",
              "        text-align: right;\n",
              "    }\n",
              "</style>\n",
              "<table border=\"1\" class=\"dataframe\">\n",
              "  <thead>\n",
              "    <tr style=\"text-align: right;\">\n",
              "      <th></th>\n",
              "      <th>0</th>\n",
              "      <th>1</th>\n",
              "    </tr>\n",
              "  </thead>\n",
              "  <tbody>\n",
              "    <tr>\n",
              "      <th>0</th>\n",
              "      <td>23</td>\n",
              "      <td>5</td>\n",
              "    </tr>\n",
              "    <tr>\n",
              "      <th>1</th>\n",
              "      <td>4</td>\n",
              "      <td>29</td>\n",
              "    </tr>\n",
              "  </tbody>\n",
              "</table>\n",
              "</div>"
            ],
            "text/plain": [
              "    0   1\n",
              "0  23   5\n",
              "1   4  29"
            ]
          },
          "metadata": {
            "tags": []
          },
          "execution_count": 986
        }
      ]
    },
    {
      "cell_type": "code",
      "metadata": {
        "colab": {
          "base_uri": "https://localhost:8080/"
        },
        "id": "4i_IudUsVC46",
        "outputId": "110ccd30-65b1-4bba-89ba-2c8c962edb2e"
      },
      "source": [
        "# Accuracy scores on the training and testing sets\n",
        "\n",
        "rf_train = round(rf_classifier.score(X_train, y_train), 2) # training score\n",
        "rf_test = round(rf_classifier.score(X_test, y_test), 2)   # testing score\n",
        "\n",
        "print (\"Training and Testing scores: %.2f, %.2f\" %  (rf_train, rf_test))"
      ],
      "execution_count": 987,
      "outputs": [
        {
          "output_type": "stream",
          "text": [
            "Training and Testing scores: 1.00, 0.85\n"
          ],
          "name": "stdout"
        }
      ]
    },
    {
      "cell_type": "code",
      "metadata": {
        "colab": {
          "base_uri": "https://localhost:8080/"
        },
        "id": "t5uRntdHVC46",
        "outputId": "f9a8fb1a-480c-4ba5-d5ab-3b408ef527ae"
      },
      "source": [
        "# compute recall, precision, f1-scores\n",
        "rf_cr = classification_report(y_true=y_test, \n",
        "                      y_pred = rf_predictions, \n",
        "                      labels = labels)\n",
        "\n",
        "print(rf_cr)"
      ],
      "execution_count": 988,
      "outputs": [
        {
          "output_type": "stream",
          "text": [
            "              precision    recall  f1-score   support\n",
            "\n",
            "           0       0.85      0.82      0.84        28\n",
            "           1       0.85      0.88      0.87        33\n",
            "\n",
            "    accuracy                           0.85        61\n",
            "   macro avg       0.85      0.85      0.85        61\n",
            "weighted avg       0.85      0.85      0.85        61\n",
            "\n"
          ],
          "name": "stdout"
        }
      ]
    },
    {
      "cell_type": "markdown",
      "metadata": {
        "id": "BlO5wJgAVC46"
      },
      "source": [
        "### **The ROC curve**"
      ]
    },
    {
      "cell_type": "code",
      "metadata": {
        "colab": {
          "base_uri": "https://localhost:8080/",
          "height": 0
        },
        "id": "lj_Pzz3FVC47",
        "outputId": "484b96c5-a96d-4496-8f43-11bf725e50ac"
      },
      "source": [
        "from sklearn.metrics import roc_curve, roc_auc_score\n",
        "\n",
        "# calculate receiver operating characteristic(ROC) curve \n",
        "\n",
        "# calculate false positive rate (1 - specificity)\n",
        "# calculate true positive rate (recall/sensitivity)\n",
        "fpr, tpr, threshold = roc_curve(y_test, rf_predictions)\n",
        "\n",
        "# calculate the area under the curve score (correctly classified instances)\n",
        "roc_auc = roc_auc_score(y_test, rf_predictions)\n",
        "\n",
        "# plot roc_auc score\n",
        "import matplotlib.pyplot as plt\n",
        "plt.title('ROC Random Forest')\n",
        "plt.plot(fpr, tpr, 'b', label = 'AUC = %0.2f' % roc_auc)\n",
        "plt.legend(loc = 'lower right')\n",
        "plt.plot([0, 1], [0, 1],'r--')\n",
        "plt.xlim([0, 1])\n",
        "plt.ylim([0, 1])\n",
        "plt.ylabel('True Positive Rate')\n",
        "plt.xlabel('False Positive Rate')\n",
        "plt.show()"
      ],
      "execution_count": 989,
      "outputs": [
        {
          "output_type": "display_data",
          "data": {
            "image/png": "[encoded data removed]",
            "text/plain": [
              "<Figure size 432x288 with 1 Axes>"
            ]
          },
          "metadata": {
            "tags": [],
            "needs_background": "light"
          }
        }
      ]
    },
    {
      "cell_type": "markdown",
      "metadata": {
        "id": "5NS5gIl6VC47"
      },
      "source": [
        "### **Summary**"
      ]
    },
    {
      "cell_type": "markdown",
      "metadata": {
        "id": "8jZHmylAVC47"
      },
      "source": [
        "Using the ungrouped data, the random forest model performed similarily to how it did using the grouped data.  \n",
        "\n",
        "The model had an overalll testing set accuracy score of 85%. It's precision was 85%, and it's recall was 88%. The f1 score was 0.87. It was about as successful at predicting what was \"not\" a positive diagnosis: it's specificity is 82%.\n",
        "\n",
        "As demonstrated by the ROC curve graph, the AUC was 0.85. \n"
      ]
    },
    {
      "cell_type": "markdown",
      "metadata": {
        "id": "ErZQN081nG4R"
      },
      "source": [
        "## **Using standard scaler (ungrouped) data**"
      ]
    },
    {
      "cell_type": "markdown",
      "metadata": {
        "id": "GsGsPUHcnG4W"
      },
      "source": [
        "### **Running the model**"
      ]
    },
    {
      "cell_type": "code",
      "metadata": {
        "id": "a7bC5tHXnG4W"
      },
      "source": [
        "# use the 80-20 rule for validation.\n",
        "\n",
        "# First, let's used the grouped data\n",
        "X_train, X_test, y_train, y_test = train_test_split(standard_scaled, y, stratify=y, test_size=0.2,  random_state = 54)"
      ],
      "execution_count": 990,
      "outputs": []
    },
    {
      "cell_type": "code",
      "metadata": {
        "colab": {
          "base_uri": "https://localhost:8080/"
        },
        "id": "0RY43D2DnG4X",
        "outputId": "09230597-21aa-4c8d-b8f0-67930306a4f3"
      },
      "source": [
        "# 242 training cases \n",
        "X_train.shape"
      ],
      "execution_count": 991,
      "outputs": [
        {
          "output_type": "execute_result",
          "data": {
            "text/plain": [
              "(242, 13)"
            ]
          },
          "metadata": {
            "tags": []
          },
          "execution_count": 991
        }
      ]
    },
    {
      "cell_type": "code",
      "metadata": {
        "colab": {
          "base_uri": "https://localhost:8080/"
        },
        "id": "XoQ7-oAtnG4X",
        "outputId": "aff1d8d0-f596-421d-a34a-78dab7892c63"
      },
      "source": [
        "# 61 training cases \n",
        "X_test.shape"
      ],
      "execution_count": 992,
      "outputs": [
        {
          "output_type": "execute_result",
          "data": {
            "text/plain": [
              "(61, 13)"
            ]
          },
          "metadata": {
            "tags": []
          },
          "execution_count": 992
        }
      ]
    },
    {
      "cell_type": "code",
      "metadata": {
        "colab": {
          "base_uri": "https://localhost:8080/"
        },
        "id": "qA-lKMw1nG4X",
        "outputId": "9ff65050-06e3-4fdd-fc98-ea95bce7141d"
      },
      "source": [
        "# Let's try random forrest classifier \n",
        "from sklearn.ensemble import RandomForestClassifier \n",
        "\n",
        "rf_classifier = RandomForestClassifier(random_state=54,\n",
        "                                       n_estimators=100,\n",
        "                                       n_jobs=5)\n",
        "rf_classifier.fit(X_train, y_train)"
      ],
      "execution_count": 993,
      "outputs": [
        {
          "output_type": "execute_result",
          "data": {
            "text/plain": [
              "RandomForestClassifier(bootstrap=True, ccp_alpha=0.0, class_weight=None,\n",
              "                       criterion='gini', max_depth=None, max_features='auto',\n",
              "                       max_leaf_nodes=None, max_samples=None,\n",
              "                       min_impurity_decrease=0.0, min_impurity_split=None,\n",
              "                       min_samples_leaf=1, min_samples_split=2,\n",
              "                       min_weight_fraction_leaf=0.0, n_estimators=100, n_jobs=5,\n",
              "                       oob_score=False, random_state=54, verbose=0,\n",
              "                       warm_start=False)"
            ]
          },
          "metadata": {
            "tags": []
          },
          "execution_count": 993
        }
      ]
    },
    {
      "cell_type": "markdown",
      "metadata": {
        "id": "B_8pEaqnnG4Y"
      },
      "source": [
        "### **The confusion matrix and classification report**"
      ]
    },
    {
      "cell_type": "code",
      "metadata": {
        "colab": {
          "base_uri": "https://localhost:8080/",
          "height": 111
        },
        "id": "LCJlYfBDnG4Y",
        "outputId": "3ce0a107-61b6-4176-cb09-0abe40bd18c4"
      },
      "source": [
        "# The confusion matrix\n",
        "\n",
        "rf_predictions = rf_classifier.predict(X_test)\n",
        "\n",
        "labels = rf_classifier.classes_\n",
        "\n",
        "# compute TP, TN, FP, FN values\n",
        "rf_cm = confusion_matrix(y_true=y_test, \n",
        "                      y_pred = rf_predictions, \n",
        "                      labels = labels)\n",
        "# print confusion matrix\n",
        "pd.DataFrame(rf_cm, index=labels, columns=labels)"
      ],
      "execution_count": 994,
      "outputs": [
        {
          "output_type": "execute_result",
          "data": {
            "text/html": [
              "<div>\n",
              "<style scoped>\n",
              "    .dataframe tbody tr th:only-of-type {\n",
              "        vertical-align: middle;\n",
              "    }\n",
              "\n",
              "    .dataframe tbody tr th {\n",
              "        vertical-align: top;\n",
              "    }\n",
              "\n",
              "    .dataframe thead th {\n",
              "        text-align: right;\n",
              "    }\n",
              "</style>\n",
              "<table border=\"1\" class=\"dataframe\">\n",
              "  <thead>\n",
              "    <tr style=\"text-align: right;\">\n",
              "      <th></th>\n",
              "      <th>0</th>\n",
              "      <th>1</th>\n",
              "    </tr>\n",
              "  </thead>\n",
              "  <tbody>\n",
              "    <tr>\n",
              "      <th>0</th>\n",
              "      <td>23</td>\n",
              "      <td>5</td>\n",
              "    </tr>\n",
              "    <tr>\n",
              "      <th>1</th>\n",
              "      <td>4</td>\n",
              "      <td>29</td>\n",
              "    </tr>\n",
              "  </tbody>\n",
              "</table>\n",
              "</div>"
            ],
            "text/plain": [
              "    0   1\n",
              "0  23   5\n",
              "1   4  29"
            ]
          },
          "metadata": {
            "tags": []
          },
          "execution_count": 994
        }
      ]
    },
    {
      "cell_type": "code",
      "metadata": {
        "colab": {
          "base_uri": "https://localhost:8080/"
        },
        "id": "Dgagonk8nG4Y",
        "outputId": "f9c93012-0e1a-4514-e3f4-f696bf5f5d9a"
      },
      "source": [
        "# Accuracy scores on the training and testing sets\n",
        "\n",
        "rf_train_scaled = round(rf_classifier.score(X_train, y_train), 2) # training score\n",
        "rf_test_scaled = round(rf_classifier.score(X_test, y_test), 2)   # testing score\n",
        "\n",
        "print (\"Training and Testing scores: %.2f, %.2f\" %  (rf_train_scaled, rf_test_scaled))"
      ],
      "execution_count": 995,
      "outputs": [
        {
          "output_type": "stream",
          "text": [
            "Training and Testing scores: 1.00, 0.85\n"
          ],
          "name": "stdout"
        }
      ]
    },
    {
      "cell_type": "code",
      "metadata": {
        "colab": {
          "base_uri": "https://localhost:8080/"
        },
        "id": "WYWlg3j5nG4Z",
        "outputId": "c41a34d3-c876-4558-ac78-b1da49f0157e"
      },
      "source": [
        "# compute recall, precision, f1-scores\n",
        "rf_cr = classification_report(y_true=y_test, \n",
        "                      y_pred = rf_predictions, \n",
        "                      labels = labels)\n",
        "\n",
        "print(rf_cr)"
      ],
      "execution_count": 996,
      "outputs": [
        {
          "output_type": "stream",
          "text": [
            "              precision    recall  f1-score   support\n",
            "\n",
            "           0       0.85      0.82      0.84        28\n",
            "           1       0.85      0.88      0.87        33\n",
            "\n",
            "    accuracy                           0.85        61\n",
            "   macro avg       0.85      0.85      0.85        61\n",
            "weighted avg       0.85      0.85      0.85        61\n",
            "\n"
          ],
          "name": "stdout"
        }
      ]
    },
    {
      "cell_type": "markdown",
      "metadata": {
        "id": "X7Puv99anG4Z"
      },
      "source": [
        "### **The ROC curve**"
      ]
    },
    {
      "cell_type": "code",
      "metadata": {
        "colab": {
          "base_uri": "https://localhost:8080/",
          "height": 295
        },
        "id": "QnXjD9ynnG4Z",
        "outputId": "7ba59662-d431-4bdc-b591-d65cf01121b5"
      },
      "source": [
        "from sklearn.metrics import roc_curve, roc_auc_score\n",
        "\n",
        "# calculate receiver operating characteristic(ROC) curve \n",
        "\n",
        "# calculate false positive rate (1 - specificity)\n",
        "# calculate true positive rate (recall/sensitivity)\n",
        "fpr, tpr, threshold = roc_curve(y_test, rf_predictions)\n",
        "\n",
        "# calculate the area under the curve score (correctly classified instances)\n",
        "roc_auc = roc_auc_score(y_test, rf_predictions)\n",
        "\n",
        "# plot roc_auc score\n",
        "import matplotlib.pyplot as plt\n",
        "plt.title('ROC Random Forest')\n",
        "plt.plot(fpr, tpr, 'b', label = 'AUC = %0.2f' % roc_auc)\n",
        "plt.legend(loc = 'lower right')\n",
        "plt.plot([0, 1], [0, 1],'r--')\n",
        "plt.xlim([0, 1])\n",
        "plt.ylim([0, 1])\n",
        "plt.ylabel('True Positive Rate')\n",
        "plt.xlabel('False Positive Rate')\n",
        "plt.show()"
      ],
      "execution_count": 997,
      "outputs": [
        {
          "output_type": "display_data",
          "data": {
            "image/png": "[encoded data removed]",
            "text/plain": [
              "<Figure size 432x288 with 1 Axes>"
            ]
          },
          "metadata": {
            "tags": [],
            "needs_background": "light"
          }
        }
      ]
    },
    {
      "cell_type": "markdown",
      "metadata": {
        "id": "GcNsHFopnG4a"
      },
      "source": [
        "### **Summary**"
      ]
    },
    {
      "cell_type": "markdown",
      "metadata": {
        "id": "B_9jATc1nG4a"
      },
      "source": [
        "Using the scaled ungrouped data, the random forest model performed identically to how it did using the unscaled ungrouped data. "
      ]
    },
    {
      "cell_type": "markdown",
      "metadata": {
        "id": "TC17PIp2vYOl"
      },
      "source": [
        "## **Using min max scaler (ungrouped) data**"
      ]
    },
    {
      "cell_type": "markdown",
      "metadata": {
        "id": "S-Utv8i8vYOx"
      },
      "source": [
        "### **Running the model**"
      ]
    },
    {
      "cell_type": "code",
      "metadata": {
        "id": "nmoz7EcmvYOx"
      },
      "source": [
        "# use the 80-20 rule for validation.\n",
        "\n",
        "# First, let's used the grouped data\n",
        "X_train, X_test, y_train, y_test = train_test_split(mm_scaled, y, stratify=y, test_size=0.2,  random_state = 54)"
      ],
      "execution_count": 998,
      "outputs": []
    },
    {
      "cell_type": "code",
      "metadata": {
        "colab": {
          "base_uri": "https://localhost:8080/"
        },
        "id": "xw4vQKBZvYOy",
        "outputId": "9cd3b601-8a68-4073-e5de-ca48e28a3f74"
      },
      "source": [
        "# 242 training cases \n",
        "X_train.shape"
      ],
      "execution_count": 999,
      "outputs": [
        {
          "output_type": "execute_result",
          "data": {
            "text/plain": [
              "(242, 13)"
            ]
          },
          "metadata": {
            "tags": []
          },
          "execution_count": 999
        }
      ]
    },
    {
      "cell_type": "code",
      "metadata": {
        "colab": {
          "base_uri": "https://localhost:8080/"
        },
        "id": "HKjhLeMMvYOz",
        "outputId": "47638735-e819-4896-cb5e-f6788c7a1fe2"
      },
      "source": [
        "# 61 training cases \n",
        "X_test.shape"
      ],
      "execution_count": 1000,
      "outputs": [
        {
          "output_type": "execute_result",
          "data": {
            "text/plain": [
              "(61, 13)"
            ]
          },
          "metadata": {
            "tags": []
          },
          "execution_count": 1000
        }
      ]
    },
    {
      "cell_type": "code",
      "metadata": {
        "colab": {
          "base_uri": "https://localhost:8080/"
        },
        "id": "Jtr07hdavYOz",
        "outputId": "416a3329-b95c-4947-822c-9c78e93f4a9d"
      },
      "source": [
        "# Let's try random forrest classifier \n",
        "from sklearn.ensemble import RandomForestClassifier \n",
        "\n",
        "rf_classifier = RandomForestClassifier(random_state=54,\n",
        "                                       n_estimators=100,\n",
        "                                       n_jobs=5)\n",
        "rf_classifier.fit(X_train, y_train)"
      ],
      "execution_count": 1001,
      "outputs": [
        {
          "output_type": "execute_result",
          "data": {
            "text/plain": [
              "RandomForestClassifier(bootstrap=True, ccp_alpha=0.0, class_weight=None,\n",
              "                       criterion='gini', max_depth=None, max_features='auto',\n",
              "                       max_leaf_nodes=None, max_samples=None,\n",
              "                       min_impurity_decrease=0.0, min_impurity_split=None,\n",
              "                       min_samples_leaf=1, min_samples_split=2,\n",
              "                       min_weight_fraction_leaf=0.0, n_estimators=100, n_jobs=5,\n",
              "                       oob_score=False, random_state=54, verbose=0,\n",
              "                       warm_start=False)"
            ]
          },
          "metadata": {
            "tags": []
          },
          "execution_count": 1001
        }
      ]
    },
    {
      "cell_type": "markdown",
      "metadata": {
        "id": "8Vmok1fwvYOz"
      },
      "source": [
        "### **The confusion matrix and classification report**"
      ]
    },
    {
      "cell_type": "code",
      "metadata": {
        "colab": {
          "base_uri": "https://localhost:8080/",
          "height": 0
        },
        "id": "mMhP_K3bvYO0",
        "outputId": "5cd80075-b586-4fef-d1df-7e5b3226c9b1"
      },
      "source": [
        "# The confusion matrix\n",
        "\n",
        "rf_predictions = rf_classifier.predict(X_test)\n",
        "\n",
        "labels = rf_classifier.classes_\n",
        "\n",
        "# compute TP, TN, FP, FN values\n",
        "rf_cm = confusion_matrix(y_true=y_test, \n",
        "                      y_pred = rf_predictions, \n",
        "                      labels = labels)\n",
        "# print confusion matrix\n",
        "pd.DataFrame(rf_cm, index=labels, columns=labels)"
      ],
      "execution_count": 1002,
      "outputs": [
        {
          "output_type": "execute_result",
          "data": {
            "text/html": [
              "<div>\n",
              "<style scoped>\n",
              "    .dataframe tbody tr th:only-of-type {\n",
              "        vertical-align: middle;\n",
              "    }\n",
              "\n",
              "    .dataframe tbody tr th {\n",
              "        vertical-align: top;\n",
              "    }\n",
              "\n",
              "    .dataframe thead th {\n",
              "        text-align: right;\n",
              "    }\n",
              "</style>\n",
              "<table border=\"1\" class=\"dataframe\">\n",
              "  <thead>\n",
              "    <tr style=\"text-align: right;\">\n",
              "      <th></th>\n",
              "      <th>0</th>\n",
              "      <th>1</th>\n",
              "    </tr>\n",
              "  </thead>\n",
              "  <tbody>\n",
              "    <tr>\n",
              "      <th>0</th>\n",
              "      <td>23</td>\n",
              "      <td>5</td>\n",
              "    </tr>\n",
              "    <tr>\n",
              "      <th>1</th>\n",
              "      <td>4</td>\n",
              "      <td>29</td>\n",
              "    </tr>\n",
              "  </tbody>\n",
              "</table>\n",
              "</div>"
            ],
            "text/plain": [
              "    0   1\n",
              "0  23   5\n",
              "1   4  29"
            ]
          },
          "metadata": {
            "tags": []
          },
          "execution_count": 1002
        }
      ]
    },
    {
      "cell_type": "code",
      "metadata": {
        "colab": {
          "base_uri": "https://localhost:8080/"
        },
        "id": "3bYxA240vYO0",
        "outputId": "e85f8cc9-a0ef-486b-ca50-60b5f11fe5a4"
      },
      "source": [
        "# Accuracy scores on the training and testing sets\n",
        "\n",
        "rf_train_mmscaled = round(rf_classifier.score(X_train, y_train), 2) # training score\n",
        "rf_test_mmscaled = round(rf_classifier.score(X_test, y_test), 2)   # testing score\n",
        "\n",
        "print (\"Training and Testing scores: %.2f, %.2f\" %  (rf_train_mmscaled, rf_test_mmscaled))"
      ],
      "execution_count": 1003,
      "outputs": [
        {
          "output_type": "stream",
          "text": [
            "Training and Testing scores: 1.00, 0.85\n"
          ],
          "name": "stdout"
        }
      ]
    },
    {
      "cell_type": "code",
      "metadata": {
        "colab": {
          "base_uri": "https://localhost:8080/"
        },
        "id": "olm5Hpc0vYO0",
        "outputId": "99fa4821-907e-4f77-de2c-3f580461c48a"
      },
      "source": [
        "# compute recall, precision, f1-scores\n",
        "rf_cr = classification_report(y_true=y_test, \n",
        "                      y_pred = rf_predictions, \n",
        "                      labels = labels)\n",
        "\n",
        "print(rf_cr)"
      ],
      "execution_count": 1004,
      "outputs": [
        {
          "output_type": "stream",
          "text": [
            "              precision    recall  f1-score   support\n",
            "\n",
            "           0       0.85      0.82      0.84        28\n",
            "           1       0.85      0.88      0.87        33\n",
            "\n",
            "    accuracy                           0.85        61\n",
            "   macro avg       0.85      0.85      0.85        61\n",
            "weighted avg       0.85      0.85      0.85        61\n",
            "\n"
          ],
          "name": "stdout"
        }
      ]
    },
    {
      "cell_type": "markdown",
      "metadata": {
        "id": "yCoCHx3hvYO0"
      },
      "source": [
        "### **The ROC curve**"
      ]
    },
    {
      "cell_type": "code",
      "metadata": {
        "colab": {
          "base_uri": "https://localhost:8080/",
          "height": 0
        },
        "id": "XvR_eJOqvYO1",
        "outputId": "43a547da-b1c5-4424-e724-de09de080f59"
      },
      "source": [
        "from sklearn.metrics import roc_curve, roc_auc_score\n",
        "\n",
        "# calculate receiver operating characteristic(ROC) curve \n",
        "\n",
        "# calculate false positive rate (1 - specificity)\n",
        "# calculate true positive rate (recall/sensitivity)\n",
        "fpr, tpr, threshold = roc_curve(y_test, rf_predictions)\n",
        "\n",
        "# calculate the area under the curve score (correctly classified instances)\n",
        "roc_auc = roc_auc_score(y_test, rf_predictions)\n",
        "\n",
        "# plot roc_auc score\n",
        "import matplotlib.pyplot as plt\n",
        "plt.title('ROC Random Forest')\n",
        "plt.plot(fpr, tpr, 'b', label = 'AUC = %0.2f' % roc_auc)\n",
        "plt.legend(loc = 'lower right')\n",
        "plt.plot([0, 1], [0, 1],'r--')\n",
        "plt.xlim([0, 1])\n",
        "plt.ylim([0, 1])\n",
        "plt.ylabel('True Positive Rate')\n",
        "plt.xlabel('False Positive Rate')\n",
        "plt.show()"
      ],
      "execution_count": 1005,
      "outputs": [
        {
          "output_type": "display_data",
          "data": {
            "image/png": "[encoded data removed]",
            "text/plain": [
              "<Figure size 432x288 with 1 Axes>"
            ]
          },
          "metadata": {
            "tags": [],
            "needs_background": "light"
          }
        }
      ]
    },
    {
      "cell_type": "markdown",
      "metadata": {
        "id": "KkqH4z-BvYO3"
      },
      "source": [
        "### **Summary**"
      ]
    },
    {
      "cell_type": "markdown",
      "metadata": {
        "id": "I56NNbPXvYO3"
      },
      "source": [
        "Using the scaled ungrouped data, the random forest model performed identically to how it did using the unscaled ungrouped data. "
      ]
    },
    {
      "cell_type": "markdown",
      "metadata": {
        "id": "70D7pxRaXzdt"
      },
      "source": [
        "# **SGD Classifier**"
      ]
    },
    {
      "cell_type": "markdown",
      "metadata": {
        "id": "kaSZtoHJXzdx"
      },
      "source": [
        "## **Using grouped data**"
      ]
    },
    {
      "cell_type": "markdown",
      "metadata": {
        "id": "TAzVqgXDXzdx"
      },
      "source": [
        "### **Running the model**"
      ]
    },
    {
      "cell_type": "code",
      "metadata": {
        "id": "KGhVYBCMXzdx"
      },
      "source": [
        "# use the 80-20 rule for validation.\n",
        "\n",
        "# First, let's used the grouped data\n",
        "X_train, X_test, y_train, y_test = train_test_split(groupedX, y, stratify=y, test_size=0.2,  random_state = 54)"
      ],
      "execution_count": 1006,
      "outputs": []
    },
    {
      "cell_type": "code",
      "metadata": {
        "colab": {
          "base_uri": "https://localhost:8080/"
        },
        "id": "XRPWDjdiXzdy",
        "outputId": "87035f2b-fe54-4d3a-f4cd-afe7a6cd53ff"
      },
      "source": [
        "# 242 training cases \n",
        "X_train.shape"
      ],
      "execution_count": 1007,
      "outputs": [
        {
          "output_type": "execute_result",
          "data": {
            "text/plain": [
              "(242, 13)"
            ]
          },
          "metadata": {
            "tags": []
          },
          "execution_count": 1007
        }
      ]
    },
    {
      "cell_type": "code",
      "metadata": {
        "colab": {
          "base_uri": "https://localhost:8080/"
        },
        "id": "5s2DrbncXzdz",
        "outputId": "6f1ecfd8-ff21-4cf4-b16a-d9ac53ac0ed8"
      },
      "source": [
        "# 61 training cases \n",
        "X_test.shape"
      ],
      "execution_count": 1008,
      "outputs": [
        {
          "output_type": "execute_result",
          "data": {
            "text/plain": [
              "(61, 13)"
            ]
          },
          "metadata": {
            "tags": []
          },
          "execution_count": 1008
        }
      ]
    },
    {
      "cell_type": "code",
      "metadata": {
        "colab": {
          "base_uri": "https://localhost:8080/"
        },
        "id": "dPDealOgXzdz",
        "outputId": "a22a11e9-6c4d-41cf-80ed-e75826513b51"
      },
      "source": [
        "# Let's use SGD classifier this time \n",
        "\n",
        "from sklearn.linear_model import SGDClassifier\n",
        "sgd_classifier = SGDClassifier(max_iter=1000, \n",
        "                        tol=1e-3, \n",
        "                        random_state=32,\n",
        "                        n_jobs=5, # parallelize over 5 workers\n",
        "                        )\n",
        "\n",
        "# Fit the model\n",
        "sgd_classifier.fit(X_train, y_train)\n"
      ],
      "execution_count": 1009,
      "outputs": [
        {
          "output_type": "execute_result",
          "data": {
            "text/plain": [
              "SGDClassifier(alpha=0.0001, average=False, class_weight=None,\n",
              "              early_stopping=False, epsilon=0.1, eta0=0.0, fit_intercept=True,\n",
              "              l1_ratio=0.15, learning_rate='optimal', loss='hinge',\n",
              "              max_iter=1000, n_iter_no_change=5, n_jobs=5, penalty='l2',\n",
              "              power_t=0.5, random_state=32, shuffle=True, tol=0.001,\n",
              "              validation_fraction=0.1, verbose=0, warm_start=False)"
            ]
          },
          "metadata": {
            "tags": []
          },
          "execution_count": 1009
        }
      ]
    },
    {
      "cell_type": "markdown",
      "metadata": {
        "id": "I79x3D2LXzdz"
      },
      "source": [
        "### **The confusion matrix and classification report**"
      ]
    },
    {
      "cell_type": "code",
      "metadata": {
        "colab": {
          "base_uri": "https://localhost:8080/",
          "height": 111
        },
        "id": "W6mLN4xpXzd0",
        "outputId": "f8ce3a9b-851f-4c64-9585-58128d721082"
      },
      "source": [
        "# The confusion matrix\n",
        "\n",
        "sgd_predictions = sgd_classifier.predict(X_test)\n",
        "\n",
        "labels = sgd_classifier.classes_\n",
        "\n",
        "# compute TP, TN, FP, FN values\n",
        "sgd_cm = confusion_matrix(y_true=y_test, \n",
        "                      y_pred = sgd_predictions, \n",
        "                      labels = labels)\n",
        "# print confusion matrix\n",
        "pd.DataFrame(sgd_cm, index=labels, columns=labels)"
      ],
      "execution_count": 1010,
      "outputs": [
        {
          "output_type": "execute_result",
          "data": {
            "text/html": [
              "<div>\n",
              "<style scoped>\n",
              "    .dataframe tbody tr th:only-of-type {\n",
              "        vertical-align: middle;\n",
              "    }\n",
              "\n",
              "    .dataframe tbody tr th {\n",
              "        vertical-align: top;\n",
              "    }\n",
              "\n",
              "    .dataframe thead th {\n",
              "        text-align: right;\n",
              "    }\n",
              "</style>\n",
              "<table border=\"1\" class=\"dataframe\">\n",
              "  <thead>\n",
              "    <tr style=\"text-align: right;\">\n",
              "      <th></th>\n",
              "      <th>0</th>\n",
              "      <th>1</th>\n",
              "    </tr>\n",
              "  </thead>\n",
              "  <tbody>\n",
              "    <tr>\n",
              "      <th>0</th>\n",
              "      <td>21</td>\n",
              "      <td>7</td>\n",
              "    </tr>\n",
              "    <tr>\n",
              "      <th>1</th>\n",
              "      <td>2</td>\n",
              "      <td>31</td>\n",
              "    </tr>\n",
              "  </tbody>\n",
              "</table>\n",
              "</div>"
            ],
            "text/plain": [
              "    0   1\n",
              "0  21   7\n",
              "1   2  31"
            ]
          },
          "metadata": {
            "tags": []
          },
          "execution_count": 1010
        }
      ]
    },
    {
      "cell_type": "code",
      "metadata": {
        "colab": {
          "base_uri": "https://localhost:8080/"
        },
        "id": "ZURZnkhWXzd0",
        "outputId": "d6e6b992-2ab1-4301-f8e1-9ece66233d5a"
      },
      "source": [
        "# Accuracy scores on the training and testing sets\n",
        "\n",
        "sgd_train_grouped = round(sgd_classifier.score(X_train, y_train), 2) # training score\n",
        "sgd_test_grouped = round(sgd_classifier.score(X_test, y_test), 2)   # testing score\n",
        "\n",
        "print (\"Training and Testing scores: %.2f, %.2f\" %  (sgd_train_grouped, sgd_test_grouped))"
      ],
      "execution_count": 1011,
      "outputs": [
        {
          "output_type": "stream",
          "text": [
            "Training and Testing scores: 0.79, 0.85\n"
          ],
          "name": "stdout"
        }
      ]
    },
    {
      "cell_type": "code",
      "metadata": {
        "colab": {
          "base_uri": "https://localhost:8080/"
        },
        "id": "lysFbFcLXzd0",
        "outputId": "085e7c3d-5248-4a09-8172-f83c97c34940"
      },
      "source": [
        "# compute recall, precision, f1-scores\n",
        "sgd_cr = classification_report(y_true=y_test, \n",
        "                      y_pred = sgd_predictions, \n",
        "                      labels = labels)\n",
        "\n",
        "print(sgd_cr)"
      ],
      "execution_count": 1012,
      "outputs": [
        {
          "output_type": "stream",
          "text": [
            "              precision    recall  f1-score   support\n",
            "\n",
            "           0       0.91      0.75      0.82        28\n",
            "           1       0.82      0.94      0.87        33\n",
            "\n",
            "    accuracy                           0.85        61\n",
            "   macro avg       0.86      0.84      0.85        61\n",
            "weighted avg       0.86      0.85      0.85        61\n",
            "\n"
          ],
          "name": "stdout"
        }
      ]
    },
    {
      "cell_type": "markdown",
      "metadata": {
        "id": "FEWD5_wrXzd1"
      },
      "source": [
        "### **The ROC curve**"
      ]
    },
    {
      "cell_type": "code",
      "metadata": {
        "colab": {
          "base_uri": "https://localhost:8080/",
          "height": 0
        },
        "id": "lz-MIS8GXzd1",
        "outputId": "33d5a149-fe6b-44f6-9685-22bfead8c7d2"
      },
      "source": [
        "from sklearn.metrics import roc_curve, roc_auc_score\n",
        "\n",
        "# calculate receiver operating characteristic(ROC) curve \n",
        "\n",
        "# calculate false positive rate (1 - specificity)\n",
        "# calculate true positive rate (recall/sensitivity)\n",
        "fpr, tpr, threshold = roc_curve(y_test, sgd_predictions)\n",
        "\n",
        "# calculate the area under the curve score (correctly classified instances)\n",
        "roc_auc = roc_auc_score(y_test, sgd_predictions)\n",
        "\n",
        "# plot roc_auc score\n",
        "import matplotlib.pyplot as plt\n",
        "plt.title('ROC SGD')\n",
        "plt.plot(fpr, tpr, 'b', label = 'AUC = %0.2f' % roc_auc)\n",
        "plt.legend(loc = 'lower right')\n",
        "plt.plot([0, 1], [0, 1],'r--')\n",
        "plt.xlim([0, 1])\n",
        "plt.ylim([0, 1])\n",
        "plt.ylabel('True Positive Rate')\n",
        "plt.xlabel('False Positive Rate')\n",
        "plt.show()"
      ],
      "execution_count": 1013,
      "outputs": [
        {
          "output_type": "display_data",
          "data": {
            "image/png": "[encoded data removed]",
            "text/plain": [
              "<Figure size 432x288 with 1 Axes>"
            ]
          },
          "metadata": {
            "tags": [],
            "needs_background": "light"
          }
        }
      ]
    },
    {
      "cell_type": "markdown",
      "metadata": {
        "id": "N1oJIoUQXzd1"
      },
      "source": [
        "### **Summary**"
      ]
    },
    {
      "cell_type": "markdown",
      "metadata": {
        "id": "hA-ROxmOXzd1"
      },
      "source": [
        "Using the grouped data, my the SGD model performed about as well as the random forest model (but not as impressively as logistic regression).  \n",
        "\n",
        "The model had an overalll testing set accuracy score of 85%. It's precision was 82%, and it's recall was 94%. The f1 score was 0.87. It was not as successful at predicting what was \"not\" a positive diagnosis: it's specificity is 75%.\n",
        "\n",
        "As demonstrated by the ROC curve graph, the AUC was 0.84, which suggests when data is grouped, the SGD model performed well on it's testing set.\n",
        "\n",
        "Out of curiousity, does the SGD perform better when the data is not grouped?\n",
        "\n"
      ]
    },
    {
      "cell_type": "markdown",
      "metadata": {
        "id": "VIGeR94KZMG5"
      },
      "source": [
        "## **Using ungrouped data**"
      ]
    },
    {
      "cell_type": "markdown",
      "metadata": {
        "id": "OTxeeMl6ZMHE"
      },
      "source": [
        "### **Running the model**"
      ]
    },
    {
      "cell_type": "code",
      "metadata": {
        "id": "Muqq2iTkZMHE"
      },
      "source": [
        "# use the 80-20 rule for validation.\n",
        "\n",
        "# First, let's used the grouped data\n",
        "X_train, X_test, y_train, y_test = train_test_split(X, y, stratify=y, test_size=0.2,  random_state = 54)"
      ],
      "execution_count": 1014,
      "outputs": []
    },
    {
      "cell_type": "code",
      "metadata": {
        "colab": {
          "base_uri": "https://localhost:8080/"
        },
        "id": "5in1-XPoZMHF",
        "outputId": "b0ac36df-4d1d-4f3a-b0ec-70a76ef5bbd6"
      },
      "source": [
        "# 242 training cases \n",
        "X_train.shape"
      ],
      "execution_count": 1015,
      "outputs": [
        {
          "output_type": "execute_result",
          "data": {
            "text/plain": [
              "(242, 13)"
            ]
          },
          "metadata": {
            "tags": []
          },
          "execution_count": 1015
        }
      ]
    },
    {
      "cell_type": "code",
      "metadata": {
        "colab": {
          "base_uri": "https://localhost:8080/"
        },
        "id": "BbFMCYpkZMHF",
        "outputId": "38dbc423-c7ad-44ac-ee3d-a18ee09c93b4"
      },
      "source": [
        "# 61 training cases \n",
        "X_test.shape"
      ],
      "execution_count": 1016,
      "outputs": [
        {
          "output_type": "execute_result",
          "data": {
            "text/plain": [
              "(61, 13)"
            ]
          },
          "metadata": {
            "tags": []
          },
          "execution_count": 1016
        }
      ]
    },
    {
      "cell_type": "code",
      "metadata": {
        "colab": {
          "base_uri": "https://localhost:8080/"
        },
        "id": "X_wtT5H4ZMHG",
        "outputId": "ac089e02-207a-462c-d232-52b041a9beed"
      },
      "source": [
        "# Let's use SGD classifier this time \n",
        "\n",
        "from sklearn.linear_model import SGDClassifier\n",
        "sgd_classifier = SGDClassifier(max_iter=1000, \n",
        "                        tol=1e-3, \n",
        "                        random_state=32,\n",
        "                        n_jobs=5, # parallelize over 5 workers\n",
        "                        )\n",
        "\n",
        "# Fit the model\n",
        "sgd_classifier.fit(X_train, y_train)\n"
      ],
      "execution_count": 1017,
      "outputs": [
        {
          "output_type": "execute_result",
          "data": {
            "text/plain": [
              "SGDClassifier(alpha=0.0001, average=False, class_weight=None,\n",
              "              early_stopping=False, epsilon=0.1, eta0=0.0, fit_intercept=True,\n",
              "              l1_ratio=0.15, learning_rate='optimal', loss='hinge',\n",
              "              max_iter=1000, n_iter_no_change=5, n_jobs=5, penalty='l2',\n",
              "              power_t=0.5, random_state=32, shuffle=True, tol=0.001,\n",
              "              validation_fraction=0.1, verbose=0, warm_start=False)"
            ]
          },
          "metadata": {
            "tags": []
          },
          "execution_count": 1017
        }
      ]
    },
    {
      "cell_type": "markdown",
      "metadata": {
        "id": "wVd1QVs7ZMHG"
      },
      "source": [
        "### **The confusion matrix and classification report**"
      ]
    },
    {
      "cell_type": "code",
      "metadata": {
        "colab": {
          "base_uri": "https://localhost:8080/",
          "height": 111
        },
        "id": "GMZgvHBJZMHH",
        "outputId": "09dbae46-8444-4a63-80da-52075b190837"
      },
      "source": [
        "# The confusion matrix\n",
        "\n",
        "sgd_predictions = sgd_classifier.predict(X_test)\n",
        "\n",
        "labels = sgd_classifier.classes_\n",
        "\n",
        "# compute TP, TN, FP, FN values\n",
        "sgd_cm = confusion_matrix(y_true=y_test, \n",
        "                      y_pred = sgd_predictions, \n",
        "                      labels = labels)\n",
        "# print confusion matrix\n",
        "pd.DataFrame(sgd_cm, index=labels, columns=labels)"
      ],
      "execution_count": 1018,
      "outputs": [
        {
          "output_type": "execute_result",
          "data": {
            "text/html": [
              "<div>\n",
              "<style scoped>\n",
              "    .dataframe tbody tr th:only-of-type {\n",
              "        vertical-align: middle;\n",
              "    }\n",
              "\n",
              "    .dataframe tbody tr th {\n",
              "        vertical-align: top;\n",
              "    }\n",
              "\n",
              "    .dataframe thead th {\n",
              "        text-align: right;\n",
              "    }\n",
              "</style>\n",
              "<table border=\"1\" class=\"dataframe\">\n",
              "  <thead>\n",
              "    <tr style=\"text-align: right;\">\n",
              "      <th></th>\n",
              "      <th>0</th>\n",
              "      <th>1</th>\n",
              "    </tr>\n",
              "  </thead>\n",
              "  <tbody>\n",
              "    <tr>\n",
              "      <th>0</th>\n",
              "      <td>17</td>\n",
              "      <td>11</td>\n",
              "    </tr>\n",
              "    <tr>\n",
              "      <th>1</th>\n",
              "      <td>6</td>\n",
              "      <td>27</td>\n",
              "    </tr>\n",
              "  </tbody>\n",
              "</table>\n",
              "</div>"
            ],
            "text/plain": [
              "    0   1\n",
              "0  17  11\n",
              "1   6  27"
            ]
          },
          "metadata": {
            "tags": []
          },
          "execution_count": 1018
        }
      ]
    },
    {
      "cell_type": "code",
      "metadata": {
        "colab": {
          "base_uri": "https://localhost:8080/"
        },
        "id": "dqm07-5xZMHH",
        "outputId": "ae8bb50e-650f-4a37-e773-38fd23c61aac"
      },
      "source": [
        "# Accuracy scores on the training and testing sets\n",
        "\n",
        "sgd_train = round(sgd_classifier.score(X_train, y_train), 2) # training score\n",
        "sgd_test = round(sgd_classifier.score(X_test, y_test), 2)   # testing score\n",
        "\n",
        "print (\"Training and Testing scores: %.2f, %.2f\" %  (sgd_train, sgd_test))"
      ],
      "execution_count": 1019,
      "outputs": [
        {
          "output_type": "stream",
          "text": [
            "Training and Testing scores: 0.68, 0.72\n"
          ],
          "name": "stdout"
        }
      ]
    },
    {
      "cell_type": "code",
      "metadata": {
        "colab": {
          "base_uri": "https://localhost:8080/"
        },
        "id": "NWu5OgbjZMHH",
        "outputId": "0ba80d3e-27de-4d0c-ca53-61b3c089e244"
      },
      "source": [
        "# compute recall, precision, f1-scores\n",
        "sgd_cr = classification_report(y_true=y_test, \n",
        "                      y_pred = sgd_predictions, \n",
        "                      labels = labels)\n",
        "\n",
        "print(sgd_cr)"
      ],
      "execution_count": 1020,
      "outputs": [
        {
          "output_type": "stream",
          "text": [
            "              precision    recall  f1-score   support\n",
            "\n",
            "           0       0.74      0.61      0.67        28\n",
            "           1       0.71      0.82      0.76        33\n",
            "\n",
            "    accuracy                           0.72        61\n",
            "   macro avg       0.72      0.71      0.71        61\n",
            "weighted avg       0.72      0.72      0.72        61\n",
            "\n"
          ],
          "name": "stdout"
        }
      ]
    },
    {
      "cell_type": "markdown",
      "metadata": {
        "id": "CK9fHGzqZMHI"
      },
      "source": [
        "### **The ROC curve**"
      ]
    },
    {
      "cell_type": "code",
      "metadata": {
        "colab": {
          "base_uri": "https://localhost:8080/",
          "height": 0
        },
        "id": "AOMqHd8bZMHI",
        "outputId": "090cc86d-704e-4df0-822d-265303781374"
      },
      "source": [
        "from sklearn.metrics import roc_curve, roc_auc_score\n",
        "\n",
        "# calculate receiver operating characteristic(ROC) curve \n",
        "\n",
        "# calculate false positive rate (1 - specificity)\n",
        "# calculate true positive rate (recall/sensitivity)\n",
        "fpr, tpr, threshold = roc_curve(y_test, sgd_predictions)\n",
        "\n",
        "# calculate the area under the curve score (correctly classified instances)\n",
        "roc_auc = roc_auc_score(y_test, sgd_predictions)\n",
        "\n",
        "# plot roc_auc score\n",
        "import matplotlib.pyplot as plt\n",
        "plt.title('ROC SGD')\n",
        "plt.plot(fpr, tpr, 'b', label = 'AUC = %0.2f' % roc_auc)\n",
        "plt.legend(loc = 'lower right')\n",
        "plt.plot([0, 1], [0, 1],'r--')\n",
        "plt.xlim([0, 1])\n",
        "plt.ylim([0, 1])\n",
        "plt.ylabel('True Positive Rate')\n",
        "plt.xlabel('False Positive Rate')\n",
        "plt.show()"
      ],
      "execution_count": 1021,
      "outputs": [
        {
          "output_type": "display_data",
          "data": {
            "image/png": "[encoded data removed]",
            "text/plain": [
              "<Figure size 432x288 with 1 Axes>"
            ]
          },
          "metadata": {
            "tags": [],
            "needs_background": "light"
          }
        }
      ]
    },
    {
      "cell_type": "markdown",
      "metadata": {
        "id": "PpQsUizVZMHI"
      },
      "source": [
        "### **Summary**"
      ]
    },
    {
      "cell_type": "markdown",
      "metadata": {
        "id": "nYZb38c4ZMHI"
      },
      "source": [
        "My SGD performed worse on an ungrouped dataset than on a grouped dataset. \n",
        "\n",
        "The model had an overalll testing set accuracy score of 72% (lowest accuracy so far). It's precision was 71%, and it's recall was 82%. The f1 score was 0.76. It was poor at predicting what was \"not\" a positive diagnosis: it's specificity is 61%.\n",
        "\n",
        "As demonstrated by the ROC curve graph, the AUC was 0.71, which suggests when data is grouped, the SGD model performed fair on it's testing set."
      ]
    },
    {
      "cell_type": "markdown",
      "metadata": {
        "id": "2Iy9d2yxqgJl"
      },
      "source": [
        "## **Using standard scaled (ungrouped) data**"
      ]
    },
    {
      "cell_type": "markdown",
      "metadata": {
        "id": "M_kIlp-pqgJw"
      },
      "source": [
        "### **Running the model**"
      ]
    },
    {
      "cell_type": "code",
      "metadata": {
        "id": "EIaeMCIyqgJw"
      },
      "source": [
        "# use the 80-20 rule for validation.\n",
        "\n",
        "# First, let's used the grouped data\n",
        "X_train, X_test, y_train, y_test = train_test_split(standard_scaled, y, stratify=y, test_size=0.2,  random_state = 54)"
      ],
      "execution_count": 1022,
      "outputs": []
    },
    {
      "cell_type": "code",
      "metadata": {
        "colab": {
          "base_uri": "https://localhost:8080/"
        },
        "id": "8ZREJO8yqgJx",
        "outputId": "8377888b-5b2f-49e5-fe1d-c3eae4aafb3f"
      },
      "source": [
        "# 242 training cases \n",
        "X_train.shape"
      ],
      "execution_count": 1023,
      "outputs": [
        {
          "output_type": "execute_result",
          "data": {
            "text/plain": [
              "(242, 13)"
            ]
          },
          "metadata": {
            "tags": []
          },
          "execution_count": 1023
        }
      ]
    },
    {
      "cell_type": "code",
      "metadata": {
        "colab": {
          "base_uri": "https://localhost:8080/"
        },
        "id": "FV3ESUF9qgJx",
        "outputId": "a1d3ecb6-789e-46b6-88e8-1ef73a9f5b4d"
      },
      "source": [
        "# 61 training cases \n",
        "X_test.shape"
      ],
      "execution_count": 1024,
      "outputs": [
        {
          "output_type": "execute_result",
          "data": {
            "text/plain": [
              "(61, 13)"
            ]
          },
          "metadata": {
            "tags": []
          },
          "execution_count": 1024
        }
      ]
    },
    {
      "cell_type": "code",
      "metadata": {
        "colab": {
          "base_uri": "https://localhost:8080/"
        },
        "id": "9fSyjK1lqgJy",
        "outputId": "f73ae4dc-3153-4db2-bc47-839994d0db70"
      },
      "source": [
        "# Let's use SGD classifier this time \n",
        "\n",
        "from sklearn.linear_model import SGDClassifier\n",
        "sgd_classifier = SGDClassifier(max_iter=1000, \n",
        "                        tol=1e-3, \n",
        "                        random_state=32,\n",
        "                        n_jobs=5, # parallelize over 5 workers\n",
        "                        )\n",
        "\n",
        "# Fit the model\n",
        "sgd_classifier.fit(X_train, y_train)\n"
      ],
      "execution_count": 1025,
      "outputs": [
        {
          "output_type": "execute_result",
          "data": {
            "text/plain": [
              "SGDClassifier(alpha=0.0001, average=False, class_weight=None,\n",
              "              early_stopping=False, epsilon=0.1, eta0=0.0, fit_intercept=True,\n",
              "              l1_ratio=0.15, learning_rate='optimal', loss='hinge',\n",
              "              max_iter=1000, n_iter_no_change=5, n_jobs=5, penalty='l2',\n",
              "              power_t=0.5, random_state=32, shuffle=True, tol=0.001,\n",
              "              validation_fraction=0.1, verbose=0, warm_start=False)"
            ]
          },
          "metadata": {
            "tags": []
          },
          "execution_count": 1025
        }
      ]
    },
    {
      "cell_type": "markdown",
      "metadata": {
        "id": "RlHNEAETqgJy"
      },
      "source": [
        "### **The confusion matrix and classification report**"
      ]
    },
    {
      "cell_type": "code",
      "metadata": {
        "colab": {
          "base_uri": "https://localhost:8080/",
          "height": 111
        },
        "id": "IC-1vUVqqgJy",
        "outputId": "61ef861f-9970-4cb2-d9a6-b62041c215cd"
      },
      "source": [
        "# The confusion matrix\n",
        "\n",
        "sgd_predictions = sgd_classifier.predict(X_test)\n",
        "\n",
        "labels = sgd_classifier.classes_\n",
        "\n",
        "# compute TP, TN, FP, FN values\n",
        "sgd_cm = confusion_matrix(y_true=y_test, \n",
        "                      y_pred = sgd_predictions, \n",
        "                      labels = labels)\n",
        "# print confusion matrix\n",
        "pd.DataFrame(sgd_cm, index=labels, columns=labels)"
      ],
      "execution_count": 1026,
      "outputs": [
        {
          "output_type": "execute_result",
          "data": {
            "text/html": [
              "<div>\n",
              "<style scoped>\n",
              "    .dataframe tbody tr th:only-of-type {\n",
              "        vertical-align: middle;\n",
              "    }\n",
              "\n",
              "    .dataframe tbody tr th {\n",
              "        vertical-align: top;\n",
              "    }\n",
              "\n",
              "    .dataframe thead th {\n",
              "        text-align: right;\n",
              "    }\n",
              "</style>\n",
              "<table border=\"1\" class=\"dataframe\">\n",
              "  <thead>\n",
              "    <tr style=\"text-align: right;\">\n",
              "      <th></th>\n",
              "      <th>0</th>\n",
              "      <th>1</th>\n",
              "    </tr>\n",
              "  </thead>\n",
              "  <tbody>\n",
              "    <tr>\n",
              "      <th>0</th>\n",
              "      <td>23</td>\n",
              "      <td>5</td>\n",
              "    </tr>\n",
              "    <tr>\n",
              "      <th>1</th>\n",
              "      <td>6</td>\n",
              "      <td>27</td>\n",
              "    </tr>\n",
              "  </tbody>\n",
              "</table>\n",
              "</div>"
            ],
            "text/plain": [
              "    0   1\n",
              "0  23   5\n",
              "1   6  27"
            ]
          },
          "metadata": {
            "tags": []
          },
          "execution_count": 1026
        }
      ]
    },
    {
      "cell_type": "code",
      "metadata": {
        "colab": {
          "base_uri": "https://localhost:8080/"
        },
        "id": "dTBD79iXqgJy",
        "outputId": "48160202-15a9-4fea-b31e-e4860d11ccf8"
      },
      "source": [
        "# Accuracy scores on the training and testing sets\n",
        "\n",
        "sgd_train_scaled = round(sgd_classifier.score(X_train, y_train), 2) # training score\n",
        "sgd_test_scaled = round(sgd_classifier.score(X_test, y_test), 2)   # testing score\n",
        "\n",
        "print (\"Training and Testing scores: %.2f, %.2f\" %  (sgd_train_scaled, sgd_test_scaled))"
      ],
      "execution_count": 1027,
      "outputs": [
        {
          "output_type": "stream",
          "text": [
            "Training and Testing scores: 0.78, 0.82\n"
          ],
          "name": "stdout"
        }
      ]
    },
    {
      "cell_type": "code",
      "metadata": {
        "colab": {
          "base_uri": "https://localhost:8080/"
        },
        "id": "4iTaQb6NqgJz",
        "outputId": "91ab4624-d055-416b-a0ba-b488926036a5"
      },
      "source": [
        "# compute recall, precision, f1-scores\n",
        "sgd_cr = classification_report(y_true=y_test, \n",
        "                      y_pred = sgd_predictions, \n",
        "                      labels = labels)\n",
        "\n",
        "print(sgd_cr)"
      ],
      "execution_count": 1028,
      "outputs": [
        {
          "output_type": "stream",
          "text": [
            "              precision    recall  f1-score   support\n",
            "\n",
            "           0       0.79      0.82      0.81        28\n",
            "           1       0.84      0.82      0.83        33\n",
            "\n",
            "    accuracy                           0.82        61\n",
            "   macro avg       0.82      0.82      0.82        61\n",
            "weighted avg       0.82      0.82      0.82        61\n",
            "\n"
          ],
          "name": "stdout"
        }
      ]
    },
    {
      "cell_type": "markdown",
      "metadata": {
        "id": "JLyvdGw1qgJz"
      },
      "source": [
        "### **The ROC curve**"
      ]
    },
    {
      "cell_type": "code",
      "metadata": {
        "colab": {
          "base_uri": "https://localhost:8080/",
          "height": 0
        },
        "id": "BMlgL6tjqgJz",
        "outputId": "37ed2d28-2ffb-4c2a-9999-46c287e397f4"
      },
      "source": [
        "from sklearn.metrics import roc_curve, roc_auc_score\n",
        "\n",
        "# calculate receiver operating characteristic(ROC) curve \n",
        "\n",
        "# calculate false positive rate (1 - specificity)\n",
        "# calculate true positive rate (recall/sensitivity)\n",
        "fpr, tpr, threshold = roc_curve(y_test, sgd_predictions)\n",
        "\n",
        "# calculate the area under the curve score (correctly classified instances)\n",
        "roc_auc = roc_auc_score(y_test, sgd_predictions)\n",
        "\n",
        "# plot roc_auc score\n",
        "import matplotlib.pyplot as plt\n",
        "plt.title('ROC SGD')\n",
        "plt.plot(fpr, tpr, 'b', label = 'AUC = %0.2f' % roc_auc)\n",
        "plt.legend(loc = 'lower right')\n",
        "plt.plot([0, 1], [0, 1],'r--')\n",
        "plt.xlim([0, 1])\n",
        "plt.ylim([0, 1])\n",
        "plt.ylabel('True Positive Rate')\n",
        "plt.xlabel('False Positive Rate')\n",
        "plt.show()"
      ],
      "execution_count": 1029,
      "outputs": [
        {
          "output_type": "display_data",
          "data": {
            "image/png": "[encoded data removed]",
            "text/plain": [
              "<Figure size 432x288 with 1 Axes>"
            ]
          },
          "metadata": {
            "tags": [],
            "needs_background": "light"
          }
        }
      ]
    },
    {
      "cell_type": "markdown",
      "metadata": {
        "id": "OUs0VHTrqgJz"
      },
      "source": [
        "### **Summary**"
      ]
    },
    {
      "cell_type": "markdown",
      "metadata": {
        "id": "rsaumKoSqgJ0"
      },
      "source": [
        "My SGD performed better on an scaled, ungrouped dataset than on a unscaled, ungrouped dataset. \n",
        "\n",
        "The model had an overalll testing set accuracy score of 82%. It's precision was 84%, and it's recall was 82%. The f1 score was 0.83. It was less successful (but not as bad as unscaled) at predicting what was \"not\" a positive diagnosis: it's specificity is 79%.\n",
        "\n",
        "As demonstrated by the ROC curve graph, the AUC was 0.82, which suggests when data is scaled, the SGD model performed better on it's testing set."
      ]
    },
    {
      "cell_type": "markdown",
      "metadata": {
        "id": "zQW1kAWZvq-b"
      },
      "source": [
        "## **Using min max scaled (ungrouped) data**"
      ]
    },
    {
      "cell_type": "markdown",
      "metadata": {
        "id": "Zhtsb36yvq-g"
      },
      "source": [
        "### **Running the model**"
      ]
    },
    {
      "cell_type": "code",
      "metadata": {
        "id": "b9lXmarYvq-g"
      },
      "source": [
        "# use the 80-20 rule for validation.\n",
        "\n",
        "# First, let's used the grouped data\n",
        "X_train, X_test, y_train, y_test = train_test_split(mm_scaled, y, stratify=y, test_size=0.2,  random_state = 54)"
      ],
      "execution_count": 1030,
      "outputs": []
    },
    {
      "cell_type": "code",
      "metadata": {
        "colab": {
          "base_uri": "https://localhost:8080/"
        },
        "id": "p7YcXkt6vq-h",
        "outputId": "d7d3e0f2-de6a-42c5-93bd-505d342ed64a"
      },
      "source": [
        "# 242 training cases \n",
        "X_train.shape"
      ],
      "execution_count": 1031,
      "outputs": [
        {
          "output_type": "execute_result",
          "data": {
            "text/plain": [
              "(242, 13)"
            ]
          },
          "metadata": {
            "tags": []
          },
          "execution_count": 1031
        }
      ]
    },
    {
      "cell_type": "code",
      "metadata": {
        "colab": {
          "base_uri": "https://localhost:8080/"
        },
        "id": "Eh9yWZB-vq-h",
        "outputId": "891cfe3a-3099-407f-ebcf-45317b5ed776"
      },
      "source": [
        "# 61 training cases \n",
        "X_test.shape"
      ],
      "execution_count": 1032,
      "outputs": [
        {
          "output_type": "execute_result",
          "data": {
            "text/plain": [
              "(61, 13)"
            ]
          },
          "metadata": {
            "tags": []
          },
          "execution_count": 1032
        }
      ]
    },
    {
      "cell_type": "code",
      "metadata": {
        "colab": {
          "base_uri": "https://localhost:8080/"
        },
        "id": "s4YBQVaIvq-i",
        "outputId": "cdc9889d-3fa2-46e8-8696-879cbbb0f7bc"
      },
      "source": [
        "# Let's use SGD classifier this time \n",
        "\n",
        "from sklearn.linear_model import SGDClassifier\n",
        "sgd_classifier = SGDClassifier(max_iter=1000, \n",
        "                        tol=1e-3, \n",
        "                        random_state=32,\n",
        "                        n_jobs=5, # parallelize over 5 workers\n",
        "                        )\n",
        "\n",
        "# Fit the model\n",
        "sgd_classifier.fit(X_train, y_train)\n"
      ],
      "execution_count": 1033,
      "outputs": [
        {
          "output_type": "execute_result",
          "data": {
            "text/plain": [
              "SGDClassifier(alpha=0.0001, average=False, class_weight=None,\n",
              "              early_stopping=False, epsilon=0.1, eta0=0.0, fit_intercept=True,\n",
              "              l1_ratio=0.15, learning_rate='optimal', loss='hinge',\n",
              "              max_iter=1000, n_iter_no_change=5, n_jobs=5, penalty='l2',\n",
              "              power_t=0.5, random_state=32, shuffle=True, tol=0.001,\n",
              "              validation_fraction=0.1, verbose=0, warm_start=False)"
            ]
          },
          "metadata": {
            "tags": []
          },
          "execution_count": 1033
        }
      ]
    },
    {
      "cell_type": "markdown",
      "metadata": {
        "id": "16sgPMoUvq-k"
      },
      "source": [
        "### **The confusion matrix and classification report**"
      ]
    },
    {
      "cell_type": "code",
      "metadata": {
        "colab": {
          "base_uri": "https://localhost:8080/",
          "height": 0
        },
        "id": "Iz-dPWBLvq-k",
        "outputId": "f7001855-e29b-481c-fa71-3ec64c064074"
      },
      "source": [
        "# The confusion matrix\n",
        "\n",
        "sgd_predictions = sgd_classifier.predict(X_test)\n",
        "\n",
        "labels = sgd_classifier.classes_\n",
        "\n",
        "# compute TP, TN, FP, FN values\n",
        "sgd_cm = confusion_matrix(y_true=y_test, \n",
        "                      y_pred = sgd_predictions, \n",
        "                      labels = labels)\n",
        "# print confusion matrix\n",
        "pd.DataFrame(sgd_cm, index=labels, columns=labels)"
      ],
      "execution_count": 1034,
      "outputs": [
        {
          "output_type": "execute_result",
          "data": {
            "text/html": [
              "<div>\n",
              "<style scoped>\n",
              "    .dataframe tbody tr th:only-of-type {\n",
              "        vertical-align: middle;\n",
              "    }\n",
              "\n",
              "    .dataframe tbody tr th {\n",
              "        vertical-align: top;\n",
              "    }\n",
              "\n",
              "    .dataframe thead th {\n",
              "        text-align: right;\n",
              "    }\n",
              "</style>\n",
              "<table border=\"1\" class=\"dataframe\">\n",
              "  <thead>\n",
              "    <tr style=\"text-align: right;\">\n",
              "      <th></th>\n",
              "      <th>0</th>\n",
              "      <th>1</th>\n",
              "    </tr>\n",
              "  </thead>\n",
              "  <tbody>\n",
              "    <tr>\n",
              "      <th>0</th>\n",
              "      <td>12</td>\n",
              "      <td>16</td>\n",
              "    </tr>\n",
              "    <tr>\n",
              "      <th>1</th>\n",
              "      <td>0</td>\n",
              "      <td>33</td>\n",
              "    </tr>\n",
              "  </tbody>\n",
              "</table>\n",
              "</div>"
            ],
            "text/plain": [
              "    0   1\n",
              "0  12  16\n",
              "1   0  33"
            ]
          },
          "metadata": {
            "tags": []
          },
          "execution_count": 1034
        }
      ]
    },
    {
      "cell_type": "code",
      "metadata": {
        "colab": {
          "base_uri": "https://localhost:8080/"
        },
        "id": "pWP6t2Oyvq-k",
        "outputId": "2c1ab5ed-69c7-409a-c6ca-b98938e583ff"
      },
      "source": [
        "# Accuracy scores on the training and testing sets\n",
        "\n",
        "sgd_train_mmscaled = round(sgd_classifier.score(X_train, y_train), 2) # training score\n",
        "sgd_test_mmscaled = round(sgd_classifier.score(X_test, y_test), 2)   # testing score\n",
        "\n",
        "print (\"Training and Testing scores: %.2f, %.2f\" %  (sgd_train_mmscaled, sgd_test_mmscaled))"
      ],
      "execution_count": 1035,
      "outputs": [
        {
          "output_type": "stream",
          "text": [
            "Training and Testing scores: 0.68, 0.74\n"
          ],
          "name": "stdout"
        }
      ]
    },
    {
      "cell_type": "code",
      "metadata": {
        "colab": {
          "base_uri": "https://localhost:8080/"
        },
        "id": "P6UrifWqvq-l",
        "outputId": "09703562-c5ee-4f94-ccc4-78aa0a3b50e6"
      },
      "source": [
        "# compute recall, precision, f1-scores\n",
        "sgd_cr = classification_report(y_true=y_test, \n",
        "                      y_pred = sgd_predictions, \n",
        "                      labels = labels)\n",
        "\n",
        "print(sgd_cr)"
      ],
      "execution_count": 1036,
      "outputs": [
        {
          "output_type": "stream",
          "text": [
            "              precision    recall  f1-score   support\n",
            "\n",
            "           0       1.00      0.43      0.60        28\n",
            "           1       0.67      1.00      0.80        33\n",
            "\n",
            "    accuracy                           0.74        61\n",
            "   macro avg       0.84      0.71      0.70        61\n",
            "weighted avg       0.82      0.74      0.71        61\n",
            "\n"
          ],
          "name": "stdout"
        }
      ]
    },
    {
      "cell_type": "markdown",
      "metadata": {
        "id": "z_MDsKDhvq-l"
      },
      "source": [
        "### **The ROC curve**"
      ]
    },
    {
      "cell_type": "code",
      "metadata": {
        "colab": {
          "base_uri": "https://localhost:8080/",
          "height": 0
        },
        "id": "VOd5l75zvq-l",
        "outputId": "7008ac8d-5d25-4d4c-89e0-cff181ae89cf"
      },
      "source": [
        "from sklearn.metrics import roc_curve, roc_auc_score\n",
        "\n",
        "# calculate receiver operating characteristic(ROC) curve \n",
        "\n",
        "# calculate false positive rate (1 - specificity)\n",
        "# calculate true positive rate (recall/sensitivity)\n",
        "fpr, tpr, threshold = roc_curve(y_test, sgd_predictions)\n",
        "\n",
        "# calculate the area under the curve score (correctly classified instances)\n",
        "roc_auc = roc_auc_score(y_test, sgd_predictions)\n",
        "\n",
        "# plot roc_auc score\n",
        "import matplotlib.pyplot as plt\n",
        "plt.title('ROC SGD')\n",
        "plt.plot(fpr, tpr, 'b', label = 'AUC = %0.2f' % roc_auc)\n",
        "plt.legend(loc = 'lower right')\n",
        "plt.plot([0, 1], [0, 1],'r--')\n",
        "plt.xlim([0, 1])\n",
        "plt.ylim([0, 1])\n",
        "plt.ylabel('True Positive Rate')\n",
        "plt.xlabel('False Positive Rate')\n",
        "plt.show()"
      ],
      "execution_count": 1037,
      "outputs": [
        {
          "output_type": "display_data",
          "data": {
            "image/png": "[encoded data removed]",
            "text/plain": [
              "<Figure size 432x288 with 1 Axes>"
            ]
          },
          "metadata": {
            "tags": [],
            "needs_background": "light"
          }
        }
      ]
    },
    {
      "cell_type": "markdown",
      "metadata": {
        "id": "U6q5H6mqvq-m"
      },
      "source": [
        "### **Summary**"
      ]
    },
    {
      "cell_type": "markdown",
      "metadata": {
        "id": "isMFnfR0vq-m"
      },
      "source": [
        "The min max scaler did not improve SGD model performance overall (accuracy for ungrouped, non scaled is 72%).\n",
        "\n",
        "Interestingly, the SGD model with the min max scaled dataset had perfect recall. But it's very poor specifity and precision scores suggest it over diagnosises patients. \n"
      ]
    },
    {
      "cell_type": "markdown",
      "metadata": {
        "id": "zH8CiIHSgITi"
      },
      "source": [
        "# **Plotted Accuracies**"
      ]
    },
    {
      "cell_type": "markdown",
      "metadata": {
        "id": "bgOzm4TyiDsz"
      },
      "source": [
        "## **Reduced Dimensionality Datasets**"
      ]
    },
    {
      "cell_type": "code",
      "metadata": {
        "colab": {
          "base_uri": "https://localhost:8080/",
          "height": 303
        },
        "id": "EZGj_Y1HgXhr",
        "outputId": "505d7478-1a25-4a00-f177-7fd429cb726b"
      },
      "source": [
        "# Plot for training and testing accuracies for all 3 models on grouped datasets\n",
        "labels = ['Logistic Regression', 'SGD Classifier', 'Random Forest']\n",
        "training_scores = [lr_train_grouped, sgd_train_grouped, rf_train_grouped]\n",
        "testing_scores =  [lr_test_grouped, sgd_test_grouped, rf_test_grouped]\n",
        "\n",
        "x = np.arange(len(labels))  # the label locations\n",
        "width = 0.35  # the width of the bars\n",
        "\n",
        "fig, ax = plt.subplots()\n",
        "rects1 = ax.bar(x - width/2, training_scores, width, label='Training', color='navy')\n",
        "rects2 = ax.bar(x + width/2, testing_scores, width, label='Testing', color='orange')\n",
        "\n",
        "# Add some text for labels, title and custom x-axis tick labels, etc.\n",
        "ax.set_ylabel('Model Accuracy')\n",
        "ax.set_xticks(x)\n",
        "ax.set_ylim(0,1)\n",
        "ax.set_xticklabels(labels)\n",
        "ax.legend(bbox_to_anchor = (2.3, 1.0), loc='lower left')\n",
        "\n",
        "plt.title('Model Comparisons (Reduced Dimensionality)')\n",
        "plt.show()"
      ],
      "execution_count": 1038,
      "outputs": [
        {
          "output_type": "display_data",
          "data": {
            "image/png": "[encoded data removed]",
            "text/plain": [
              "<Figure size 432x288 with 1 Axes>"
            ]
          },
          "metadata": {
            "tags": [],
            "needs_background": "light"
          }
        }
      ]
    },
    {
      "cell_type": "markdown",
      "metadata": {
        "id": "KhkeffNoiOPG"
      },
      "source": [
        "## **Full Dimensionality Datasets**"
      ]
    },
    {
      "cell_type": "code",
      "metadata": {
        "colab": {
          "base_uri": "https://localhost:8080/",
          "height": 303
        },
        "id": "kP5YqAfIiOPH",
        "outputId": "749edda7-4ca6-49b7-c57d-2c969fd4eee1"
      },
      "source": [
        "# Plot for training and testing accuracies for all 3 models on ungrouped datasets\n",
        "labels = ['Logistic Regression', 'SGD Classifier', 'Random Forest']\n",
        "training_scores = [lr_train, sgd_train, rf_train]\n",
        "testing_scores =  [lr_test, sgd_test, rf_test]\n",
        "\n",
        "x = np.arange(len(labels))  # the label locations\n",
        "width = 0.35  # the width of the bars\n",
        "\n",
        "fig, ax = plt.subplots()\n",
        "rects1 = ax.bar(x - width/2, training_scores, width, label='Training', color='navy')\n",
        "rects2 = ax.bar(x + width/2, testing_scores, width, label='Testing', color='orange')\n",
        "\n",
        "# Add some text for labels, title and custom x-axis tick labels, etc.\n",
        "ax.set_ylabel('Model Accuracy')\n",
        "ax.set_xticks(x)\n",
        "ax.set_ylim(0,1)\n",
        "ax.set_xticklabels(labels)\n",
        "ax.legend(bbox_to_anchor = (2.3, 1.0), loc='lower left')\n",
        "\n",
        "plt.title('Model Comparisons (Full Dimensionality)')\n",
        "plt.show()"
      ],
      "execution_count": 1039,
      "outputs": [
        {
          "output_type": "display_data",
          "data": {
            "image/png": "[encoded data removed]",
            "text/plain": [
              "<Figure size 432x288 with 1 Axes>"
            ]
          },
          "metadata": {
            "tags": [],
            "needs_background": "light"
          }
        }
      ]
    },
    {
      "cell_type": "markdown",
      "metadata": {
        "id": "CX4kiA9rr9dp"
      },
      "source": [
        "## **Standard Scaled, Full Dimensionality Datasets**"
      ]
    },
    {
      "cell_type": "code",
      "metadata": {
        "colab": {
          "base_uri": "https://localhost:8080/",
          "height": 303
        },
        "id": "_Av4Xt29r9du",
        "outputId": "212af775-7072-4641-ae28-14835f3e9061"
      },
      "source": [
        "# Plot for training and testing accuracies for all 3 models on scaled, ungrouped datasets\n",
        "labels = ['Logistic Regression', 'SGD Classifier', 'Random Forest']\n",
        "training_scores = [lr_train_scaled, sgd_train_scaled, rf_train_scaled]\n",
        "testing_scores =  [lr_test_scaled, sgd_test_scaled, rf_test_scaled]\n",
        "\n",
        "x = np.arange(len(labels))  # the label locations\n",
        "width = 0.35  # the width of the bars\n",
        "\n",
        "fig, ax = plt.subplots()\n",
        "rects1 = ax.bar(x - width/2, training_scores, width, label='Training', color='navy')\n",
        "rects2 = ax.bar(x + width/2, testing_scores, width, label='Testing', color='orange')\n",
        "\n",
        "# Add some text for labels, title and custom x-axis tick labels, etc.\n",
        "ax.set_ylabel('Model Accuracy')\n",
        "ax.set_xticks(x)\n",
        "ax.set_ylim(0,1)\n",
        "ax.set_xticklabels(labels)\n",
        "ax.legend(bbox_to_anchor = (2.3, 1.0), loc='lower left')\n",
        "\n",
        "plt.title('Model Comparisons (Scaled)')\n",
        "plt.show()"
      ],
      "execution_count": 1043,
      "outputs": [
        {
          "output_type": "display_data",
          "data": {
            "image/png": "[encoded data removed]",
            "text/plain": [
              "<Figure size 432x288 with 1 Axes>"
            ]
          },
          "metadata": {
            "tags": [],
            "needs_background": "light"
          }
        }
      ]
    },
    {
      "cell_type": "markdown",
      "metadata": {
        "id": "GeB7IFvGxxlp"
      },
      "source": [
        "## **Min-max Scaled, Full Dimensionality Datasets**"
      ]
    },
    {
      "cell_type": "code",
      "metadata": {
        "colab": {
          "base_uri": "https://localhost:8080/",
          "height": 303
        },
        "id": "hDbncVOaxxlt",
        "outputId": "27886bc6-40c5-4511-b730-5e94a940c295"
      },
      "source": [
        "# Plot for training and testing accuracies for all 3 models on min max scaled, ungrouped datasets\n",
        "labels = ['Logistic Regression', 'SGD Classifier', 'Random Forest']\n",
        "training_scores = [lr_train_mmscaled, sgd_train_mmscaled, rf_train_mmscaled]\n",
        "testing_scores =  [lr_test_mmscaled, sgd_test_mmscaled, rf_test_mmscaled]\n",
        "\n",
        "x = np.arange(len(labels))  # the label locations\n",
        "width = 0.35  # the width of the bars\n",
        "\n",
        "fig, ax = plt.subplots()\n",
        "rects1 = ax.bar(x - width/2, training_scores, width, label='Training', color='navy')\n",
        "rects2 = ax.bar(x + width/2, testing_scores, width, label='Testing', color='orange')\n",
        "\n",
        "# Add some text for labels, title and custom x-axis tick labels, etc.\n",
        "ax.set_ylabel('Model Accuracy')\n",
        "ax.set_xticks(x)\n",
        "ax.set_ylim(0,1)\n",
        "ax.set_xticklabels(labels)\n",
        "ax.legend(bbox_to_anchor = (2.3, 1.0), loc='lower left')\n",
        "\n",
        "plt.title('Model Comparisons (MinMax Scaled)')\n",
        "plt.show()"
      ],
      "execution_count": 1042,
      "outputs": [
        {
          "output_type": "display_data",
          "data": {
            "image/png": "[encoded data removed]",
            "text/plain": [
              "<Figure size 432x288 with 1 Axes>"
            ]
          },
          "metadata": {
            "tags": [],
            "needs_background": "light"
          }
        }
      ]
    },
    {
      "cell_type": "markdown",
      "metadata": {
        "id": "Iv5Xk3foz7ts"
      },
      "source": [
        "# **Summary**\n",
        "\n",
        "The \"best performing\" model depends on how the datasets were prepared. \n",
        "\n",
        "**Full Dimensionality, No Scaling:**\n",
        "\n",
        "With no data preparation, the clear winner was the random forest model with a testing accuracy rate of 85% (recall: 88%, specifity: 82%).\n",
        "\n",
        "In comparsion, logistic regression and sgd both had a testing accuracy rate of 72%. Both had very poor specifity (68% and 61% respectively). SGD did have a slightly better recall: 82% vs 76%.\n",
        "\n",
        "**Full Dimensionality, Standard Scaling:**\n",
        "\n",
        "When the data was scaled (standard scaler), the logistic regression model received a significant performance boost. It's testing accuracy rate jumped to 89% (with a recall rate of 91% and specifity at 89%).  \n",
        "\n",
        "Standard scaling also increased the SGD model's performance (though less impressively) to 82% for accuracy, specifity and recall. \n",
        "\n",
        "**Full Dimensionality, MinMax Scaling:**\n",
        "\n",
        "Min-max scaling provided a similar performance boost to the logistic regression model (testing accuracy to 90%, recall to 94%, specifity to 89%). \n",
        "\n",
        "On the other hand, min-max scaling the dataset seemed to actually slightly decrease the performance of the SGD model (testing accuracy to 71%). Based on the model's perfect recall and low specifity and precision, it appears min-max scaling the data confused the SGD model into over-classifying patients as heart disease positive.  \n",
        "\n",
        "**Full Dimensionality, Any Scaling:**\n",
        "\n",
        "Interestingly, neither standard scaling nor min max scaling had any impact on the performance of the random forest model. \n",
        "\n",
        "\n",
        "**Reduced Dimensionality:**\n",
        "\n",
        "When the models were run on the reduced dimensionality datasets (intially created to aid visualization), the performance of the logistic regression model and SGD model improved. \n",
        "\n",
        "The logistic regression model recieved greatest boost in peformance from the reduced dimensionality (the logistic regression model also received a greater boost from reduced dimensionality than it did from any kind of scaling). With the reduced dataset, the logistic regression model had a 92% testing accuracy rate, with 94% recall, 91% precision, and 89% specifity. \n",
        "\n",
        "Simply reducing the dimensionality also provided the SGD model with a significant performance boost. It's overall testing accuracy rate jumped to 85%, with a 94% recall rate. It's precision and specifity however, were not as improved as the logistic regression model's (82% and 75% respectively). \n",
        "\n",
        "The random forest model performed about the same regardless of dimensionality (85% vs 87% testing accuracy).\n",
        "\n",
        "\n",
        "**Conclusion**\n",
        "\n",
        "In terms of model alone, random forest outperformed. However, its performance was consistent across all datasets (all data preparation). When the dataset was scaled or dimensionality was reduced, the logistic regression model outperformed random forest by 4% to 7%. \n",
        "\n",
        "The SGD Classifier model performed comparably to random forest when dimensionality was reduced (85% each). When the dataset was standardized, it performed nearly as well as random forest (82%). Its performance on full dimensionality datasets or min-max scaled datasets, however, was clearly worse than random forest. \n",
        "\n"
      ]
    }
  ]
}